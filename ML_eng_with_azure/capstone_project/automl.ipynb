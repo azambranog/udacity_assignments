{
  "cells": [
    {
      "cell_type": "markdown",
      "source": [
        "# Automated ML\n"
      ],
      "metadata": {}
    },
    {
      "cell_type": "code",
      "source": [
        "from azureml.core.experiment import Experiment\r\n",
        "from azureml.core.workspace import Workspace\r\n",
        "from azureml.train.automl import AutoMLConfig\r\n",
        "from azureml.core.dataset import Dataset\r\n",
        "from azureml.core.compute import ComputeTarget\r\n",
        "from azureml.pipeline.steps import AutoMLStep\r\n",
        "from azureml.widgets import RunDetails\r\n",
        "from azureml.core.model import Model, InferenceConfig\r\n",
        "from azureml.core import Environment\r\n",
        "from azureml.core.webservice import AciWebservice, Webservice"
      ],
      "outputs": [],
      "execution_count": 21,
      "metadata": {
        "gather": {
          "logged": 1619891823777
        },
        "jupyter": {
          "outputs_hidden": false,
          "source_hidden": false
        },
        "nteract": {
          "transient": {
            "deleting": false
          }
        }
      }
    },
    {
      "cell_type": "markdown",
      "source": [
        "## Dataset\n",
        "\n",
        "### Overview\n",
        "In this project we will be using a dataset from an HR department in a company. The dataset contains entreis for employees, including personal information, curring position and work performance metrics. \n",
        "The objective is to determine if a given employee will receive a promotion. The datase is highly imbalanced, wth only around 5% of employees having received a promotion.\n",
        "\n",
        "The given dataset is available in Kaggle [https://www.kaggle.com/shivan118/hranalysis]. We have manually downloaded the dataset and registered in our workspaces's default store with the name \"hr-data\""
      ],
      "metadata": {}
    },
    {
      "cell_type": "code",
      "source": [
        "ws = Workspace.from_config()\n",
        "\n",
        "# choose a name for experiment\n",
        "experiment_name = 'hr-automl'\n",
        "\n",
        "experiment=Experiment(ws, experiment_name)"
      ],
      "outputs": [
        {
          "output_type": "stream",
          "name": "stdout",
          "text": [
            "Performing interactive authentication. Please follow the instructions on the terminal.\n",
            "To sign in, use a web browser to open the page https://microsoft.com/devicelogin and enter the code FTDKVS7Z3 to authenticate.\n",
            "You have logged in. Now let us find all the subscriptions to which you have access...\n",
            "Interactive authentication successfully completed.\n"
          ]
        }
      ],
      "execution_count": 2,
      "metadata": {
        "gather": {
          "logged": 1619886119217
        },
        "jupyter": {
          "outputs_hidden": false,
          "source_hidden": false
        },
        "nteract": {
          "transient": {
            "deleting": false
          }
        }
      }
    },
    {
      "cell_type": "code",
      "source": [
        "# get dataset by name\r\n",
        "dataset = Dataset.get_by_name(ws, 'hr-data', version='latest')"
      ],
      "outputs": [],
      "execution_count": 3,
      "metadata": {
        "collapsed": true,
        "jupyter": {
          "source_hidden": false,
          "outputs_hidden": false
        },
        "nteract": {
          "transient": {
            "deleting": false
          }
        },
        "gather": {
          "logged": 1619886127213
        }
      }
    },
    {
      "cell_type": "code",
      "source": [
        "# view first rows\r\n",
        "dataset.take(5).to_pandas_dataframe()"
      ],
      "outputs": [
        {
          "output_type": "execute_result",
          "execution_count": 4,
          "data": {
            "text/plain": "          department     region         education gender recruitment_channel  \\\n0  Sales & Marketing   region_7  Master's & above      f            sourcing   \n1         Operations  region_22        Bachelor's      m               other   \n2  Sales & Marketing  region_19        Bachelor's      m            sourcing   \n3  Sales & Marketing  region_23        Bachelor's      m               other   \n4         Technology  region_26        Bachelor's      m               other   \n\n   no_of_trainings  age  previous_year_rating  length_of_service  \\\n0                1   35                     5                  8   \n1                1   30                     5                  4   \n2                1   34                     3                  7   \n3                2   39                     1                 10   \n4                1   45                     3                  2   \n\n   KPIs_met >80%  awards_won?  avg_training_score  is_promoted  \n0              1            0                  49            0  \n1              0            0                  60            0  \n2              0            0                  50            0  \n3              0            0                  50            0  \n4              0            0                  73            0  ",
            "text/html": "<div>\n<style scoped>\n    .dataframe tbody tr th:only-of-type {\n        vertical-align: middle;\n    }\n\n    .dataframe tbody tr th {\n        vertical-align: top;\n    }\n\n    .dataframe thead th {\n        text-align: right;\n    }\n</style>\n<table border=\"1\" class=\"dataframe\">\n  <thead>\n    <tr style=\"text-align: right;\">\n      <th></th>\n      <th>department</th>\n      <th>region</th>\n      <th>education</th>\n      <th>gender</th>\n      <th>recruitment_channel</th>\n      <th>no_of_trainings</th>\n      <th>age</th>\n      <th>previous_year_rating</th>\n      <th>length_of_service</th>\n      <th>KPIs_met &gt;80%</th>\n      <th>awards_won?</th>\n      <th>avg_training_score</th>\n      <th>is_promoted</th>\n    </tr>\n  </thead>\n  <tbody>\n    <tr>\n      <th>0</th>\n      <td>Sales &amp; Marketing</td>\n      <td>region_7</td>\n      <td>Master's &amp; above</td>\n      <td>f</td>\n      <td>sourcing</td>\n      <td>1</td>\n      <td>35</td>\n      <td>5</td>\n      <td>8</td>\n      <td>1</td>\n      <td>0</td>\n      <td>49</td>\n      <td>0</td>\n    </tr>\n    <tr>\n      <th>1</th>\n      <td>Operations</td>\n      <td>region_22</td>\n      <td>Bachelor's</td>\n      <td>m</td>\n      <td>other</td>\n      <td>1</td>\n      <td>30</td>\n      <td>5</td>\n      <td>4</td>\n      <td>0</td>\n      <td>0</td>\n      <td>60</td>\n      <td>0</td>\n    </tr>\n    <tr>\n      <th>2</th>\n      <td>Sales &amp; Marketing</td>\n      <td>region_19</td>\n      <td>Bachelor's</td>\n      <td>m</td>\n      <td>sourcing</td>\n      <td>1</td>\n      <td>34</td>\n      <td>3</td>\n      <td>7</td>\n      <td>0</td>\n      <td>0</td>\n      <td>50</td>\n      <td>0</td>\n    </tr>\n    <tr>\n      <th>3</th>\n      <td>Sales &amp; Marketing</td>\n      <td>region_23</td>\n      <td>Bachelor's</td>\n      <td>m</td>\n      <td>other</td>\n      <td>2</td>\n      <td>39</td>\n      <td>1</td>\n      <td>10</td>\n      <td>0</td>\n      <td>0</td>\n      <td>50</td>\n      <td>0</td>\n    </tr>\n    <tr>\n      <th>4</th>\n      <td>Technology</td>\n      <td>region_26</td>\n      <td>Bachelor's</td>\n      <td>m</td>\n      <td>other</td>\n      <td>1</td>\n      <td>45</td>\n      <td>3</td>\n      <td>2</td>\n      <td>0</td>\n      <td>0</td>\n      <td>73</td>\n      <td>0</td>\n    </tr>\n  </tbody>\n</table>\n</div>"
          },
          "metadata": {}
        }
      ],
      "execution_count": 4,
      "metadata": {
        "collapsed": true,
        "jupyter": {
          "source_hidden": false,
          "outputs_hidden": false
        },
        "nteract": {
          "transient": {
            "deleting": false
          }
        },
        "gather": {
          "logged": 1619886138898
        }
      }
    },
    {
      "cell_type": "markdown",
      "source": [
        "## AutoML Configuration\n",
        "\n",
        "We must ensure that we specify the target column is set to the same name it has in our dataset. \n",
        "The problem type is classificaton, and as metric we used the wheighted AUC since it is a good metric for inbalanced problems. \n",
        "\n",
        "\n",
        "We previously created a cluster with 4 nodes. For optimization of running time we allowed core minus 1 parallel runs. \n",
        "Additionally we allow AutoMl to stop early if a best score is found.\n",
        "We also set the maximum duration of the experiment to be 30 minutes given Lab limitations. \n",
        "\n",
        "\n"
      ],
      "metadata": {}
    },
    {
      "cell_type": "code",
      "source": [
        "# get previously created compute target\n",
        "cluster = ComputeTarget(workspace=ws, name='cluster-1')\n",
        "\n",
        "# automl settings here\n",
        "automl_settings = {\n",
        "    \"experiment_timeout_minutes\": 30,\n",
        "    \"max_concurrent_iterations\": 3,\n",
        "    \"primary_metric\": \"AUC_weighted\"\n",
        "}\n",
        "\n",
        "# TAutoml config here\n",
        "automl_config = AutoMLConfig(compute_target=cluster,\n",
        "                            training_data=dataset,\n",
        "                            task=\"classification\",\n",
        "                            label_column_name='is_promoted', \n",
        "                            enable_early_stopping=True,\n",
        "                            featurization='auto',\n",
        "                            debug_log='automl_errors.log',\n",
        "                            **automl_settings\n",
        "                            )"
      ],
      "outputs": [],
      "execution_count": 5,
      "metadata": {
        "gather": {
          "logged": 1619886146008
        },
        "jupyter": {
          "outputs_hidden": false,
          "source_hidden": false
        },
        "nteract": {
          "transient": {
            "deleting": false
          }
        }
      }
    },
    {
      "cell_type": "code",
      "source": [
        "# Submit your experiment\n",
        "remote_run = experiment.submit(automl_config)"
      ],
      "outputs": [
        {
          "output_type": "stream",
          "name": "stdout",
          "text": [
            "Submitting remote run.\n"
          ]
        },
        {
          "output_type": "display_data",
          "data": {
            "text/plain": "<IPython.core.display.HTML object>",
            "text/html": "<table style=\"width:100%\"><tr><th>Experiment</th><th>Id</th><th>Type</th><th>Status</th><th>Details Page</th><th>Docs Page</th></tr><tr><td>hr-automl</td><td>AutoML_3ac66915-f932-48f2-9dae-5928a6205a96</td><td>automl</td><td>NotStarted</td><td><a href=\"https://ml.azure.com/runs/AutoML_3ac66915-f932-48f2-9dae-5928a6205a96?wsid=/subscriptions/610d6e37-4747-4a20-80eb-3aad70a55f43/resourcegroups/aml-quickstarts-143784/workspaces/quick-starts-ws-143784&amp;tid=660b3398-b80e-49d2-bc5b-ac1dc93b5254\" target=\"_blank\" rel=\"noopener\">Link to Azure Machine Learning studio</a></td><td><a href=\"https://docs.microsoft.com/en-us/python/api/overview/azure/ml/intro?view=azure-ml-py\" target=\"_blank\" rel=\"noopener\">Link to Documentation</a></td></tr></table>"
          },
          "metadata": {}
        }
      ],
      "execution_count": 6,
      "metadata": {
        "gather": {
          "logged": 1619886154763
        },
        "jupyter": {
          "outputs_hidden": false,
          "source_hidden": false
        },
        "nteract": {
          "transient": {
            "deleting": false
          }
        }
      }
    },
    {
      "cell_type": "markdown",
      "source": [
        "## Run Details"
      ],
      "metadata": {}
    },
    {
      "cell_type": "code",
      "source": [
        "RunDetails(remote_run).show()"
      ],
      "outputs": [
        {
          "output_type": "display_data",
          "data": {
            "text/plain": "_AutoMLWidget(widget_settings={'childWidgetDisplay': 'popup', 'send_telemetry': False, 'log_level': 'INFO', 's…",
            "application/vnd.jupyter.widget-view+json": {
              "version_major": 2,
              "version_minor": 0,
              "model_id": "0a6597fc4d6d40c2a206720ba5090e86"
            }
          },
          "metadata": {}
        },
        {
          "output_type": "display_data",
          "data": {
            "application/aml.mini.widget.v1": "{\"status\": \"Completed\", \"workbench_run_details_uri\": \"https://ml.azure.com/runs/AutoML_3ac66915-f932-48f2-9dae-5928a6205a96?wsid=/subscriptions/610d6e37-4747-4a20-80eb-3aad70a55f43/resourcegroups/aml-quickstarts-143784/workspaces/quick-starts-ws-143784&tid=660b3398-b80e-49d2-bc5b-ac1dc93b5254\", \"run_id\": \"AutoML_3ac66915-f932-48f2-9dae-5928a6205a96\", \"run_properties\": {\"run_id\": \"AutoML_3ac66915-f932-48f2-9dae-5928a6205a96\", \"created_utc\": \"2021-05-01T16:22:33.462596Z\", \"properties\": {\"num_iterations\": \"1000\", \"training_type\": \"TrainFull\", \"acquisition_function\": \"EI\", \"primary_metric\": \"AUC_weighted\", \"train_split\": \"0\", \"acquisition_parameter\": \"0\", \"num_cross_validation\": null, \"target\": \"cluster-1\", \"AMLSettingsJsonString\": \"{\\\"path\\\":null,\\\"name\\\":\\\"hr-automl\\\",\\\"subscription_id\\\":\\\"610d6e37-4747-4a20-80eb-3aad70a55f43\\\",\\\"resource_group\\\":\\\"aml-quickstarts-143784\\\",\\\"workspace_name\\\":\\\"quick-starts-ws-143784\\\",\\\"region\\\":\\\"southcentralus\\\",\\\"compute_target\\\":\\\"cluster-1\\\",\\\"spark_service\\\":null,\\\"azure_service\\\":\\\"remote\\\",\\\"many_models\\\":false,\\\"pipeline_fetch_max_batch_size\\\":1,\\\"enable_batch_run\\\":false,\\\"enable_run_restructure\\\":false,\\\"iterations\\\":1000,\\\"primary_metric\\\":\\\"AUC_weighted\\\",\\\"task_type\\\":\\\"classification\\\",\\\"data_script\\\":null,\\\"test_size\\\":0.0,\\\"validation_size\\\":0.0,\\\"n_cross_validations\\\":null,\\\"y_min\\\":null,\\\"y_max\\\":null,\\\"num_classes\\\":null,\\\"featurization\\\":\\\"auto\\\",\\\"_ignore_package_version_incompatibilities\\\":false,\\\"is_timeseries\\\":false,\\\"max_cores_per_iteration\\\":1,\\\"max_concurrent_iterations\\\":3,\\\"iteration_timeout_minutes\\\":null,\\\"mem_in_mb\\\":null,\\\"enforce_time_on_windows\\\":false,\\\"experiment_timeout_minutes\\\":30,\\\"experiment_exit_score\\\":null,\\\"whitelist_models\\\":null,\\\"blacklist_algos\\\":[\\\"TensorFlowLinearClassifier\\\",\\\"TensorFlowDNN\\\"],\\\"supported_models\\\":[\\\"MultinomialNaiveBayes\\\",\\\"LogisticRegression\\\",\\\"KNN\\\",\\\"TensorFlowLinearClassifier\\\",\\\"SGD\\\",\\\"SVM\\\",\\\"AveragedPerceptronClassifier\\\",\\\"BernoulliNaiveBayes\\\",\\\"ExtremeRandomTrees\\\",\\\"LightGBM\\\",\\\"DecisionTree\\\",\\\"RandomForest\\\",\\\"GradientBoosting\\\",\\\"XGBoostClassifier\\\",\\\"LinearSVM\\\",\\\"TensorFlowDNN\\\"],\\\"private_models\\\":[],\\\"auto_blacklist\\\":true,\\\"blacklist_samples_reached\\\":false,\\\"exclude_nan_labels\\\":true,\\\"verbosity\\\":20,\\\"_debug_log\\\":\\\"azureml_automl.log\\\",\\\"show_warnings\\\":false,\\\"model_explainability\\\":true,\\\"service_url\\\":null,\\\"sdk_url\\\":null,\\\"sdk_packages\\\":null,\\\"enable_onnx_compatible_models\\\":false,\\\"enable_split_onnx_featurizer_estimator_models\\\":false,\\\"vm_type\\\":\\\"STANDARD_DS3_V2\\\",\\\"telemetry_verbosity\\\":20,\\\"send_telemetry\\\":true,\\\"enable_dnn\\\":false,\\\"scenario\\\":\\\"SDK-1.13.0\\\",\\\"environment_label\\\":null,\\\"save_mlflow\\\":false,\\\"force_text_dnn\\\":false,\\\"enable_feature_sweeping\\\":true,\\\"enable_early_stopping\\\":true,\\\"early_stopping_n_iters\\\":10,\\\"metrics\\\":null,\\\"enable_metric_confidence\\\":false,\\\"enable_ensembling\\\":true,\\\"enable_stack_ensembling\\\":true,\\\"ensemble_iterations\\\":15,\\\"enable_tf\\\":false,\\\"enable_subsampling\\\":null,\\\"subsample_seed\\\":null,\\\"enable_nimbusml\\\":false,\\\"enable_streaming\\\":false,\\\"force_streaming\\\":false,\\\"track_child_runs\\\":true,\\\"allowed_private_models\\\":[],\\\"label_column_name\\\":\\\"is_promoted\\\",\\\"weight_column_name\\\":null,\\\"cv_split_column_names\\\":null,\\\"enable_local_managed\\\":false,\\\"_local_managed_run_id\\\":null,\\\"cost_mode\\\":1,\\\"lag_length\\\":0,\\\"metric_operation\\\":\\\"maximize\\\",\\\"preprocess\\\":true}\", \"DataPrepJsonString\": \"{\\\\\\\"training_data\\\\\\\": {\\\\\\\"datasetId\\\\\\\": \\\\\\\"08651307-90ec-4299-8816-5afc21cfa03a\\\\\\\"}, \\\\\\\"datasets\\\\\\\": 0}\", \"EnableSubsampling\": null, \"runTemplate\": \"AutoML\", \"azureml.runsource\": \"automl\", \"display_task_type\": \"classification\", \"dependencies_versions\": \"{\\\"azureml-widgets\\\": \\\"1.26.0\\\", \\\"azureml-train\\\": \\\"1.26.0\\\", \\\"azureml-train-restclients-hyperdrive\\\": \\\"1.26.0\\\", \\\"azureml-train-core\\\": \\\"1.26.0\\\", \\\"azureml-train-automl\\\": \\\"1.26.0\\\", \\\"azureml-train-automl-runtime\\\": \\\"1.26.0\\\", \\\"azureml-train-automl-client\\\": \\\"1.26.0\\\", \\\"azureml-tensorboard\\\": \\\"1.26.0\\\", \\\"azureml-telemetry\\\": \\\"1.26.0\\\", \\\"azureml-sdk\\\": \\\"1.26.0\\\", \\\"azureml-samples\\\": \\\"0+unknown\\\", \\\"azureml-pipeline\\\": \\\"1.26.0\\\", \\\"azureml-pipeline-steps\\\": \\\"1.26.0\\\", \\\"azureml-pipeline-core\\\": \\\"1.26.0\\\", \\\"azureml-opendatasets\\\": \\\"1.26.0\\\", \\\"azureml-model-management-sdk\\\": \\\"1.0.1b6.post1\\\", \\\"azureml-mlflow\\\": \\\"1.26.0\\\", \\\"azureml-interpret\\\": \\\"1.26.0\\\", \\\"azureml-explain-model\\\": \\\"1.26.0\\\", \\\"azureml-defaults\\\": \\\"1.26.0\\\", \\\"azureml-dataset-runtime\\\": \\\"1.26.0\\\", \\\"azureml-dataprep\\\": \\\"2.13.2\\\", \\\"azureml-dataprep-rslex\\\": \\\"1.11.2\\\", \\\"azureml-dataprep-native\\\": \\\"32.0.0\\\", \\\"azureml-datadrift\\\": \\\"1.26.0\\\", \\\"azureml-core\\\": \\\"1.26.0\\\", \\\"azureml-contrib-services\\\": \\\"1.26.0\\\", \\\"azureml-contrib-server\\\": \\\"1.26.0\\\", \\\"azureml-contrib-reinforcementlearning\\\": \\\"1.26.0\\\", \\\"azureml-contrib-pipeline-steps\\\": \\\"1.26.0\\\", \\\"azureml-contrib-notebook\\\": \\\"1.26.0\\\", \\\"azureml-contrib-gbdt\\\": \\\"1.26.0\\\", \\\"azureml-contrib-fairness\\\": \\\"1.26.0\\\", \\\"azureml-contrib-dataset\\\": \\\"1.26.0\\\", \\\"azureml-cli-common\\\": \\\"1.26.0\\\", \\\"azureml-automl-runtime\\\": \\\"1.26.0\\\", \\\"azureml-automl-dnn-nlp\\\": \\\"1.26.0\\\", \\\"azureml-automl-core\\\": \\\"1.26.0\\\", \\\"azureml-accel-models\\\": \\\"1.26.0\\\"}\", \"_aml_system_scenario_identification\": \"Remote.Parent\", \"ClientType\": \"SDK\", \"environment_cpu_name\": \"AzureML-AutoML\", \"environment_cpu_label\": \"prod\", \"environment_gpu_name\": \"AzureML-AutoML-GPU\", \"environment_gpu_label\": \"prod\", \"root_attribution\": \"automl\", \"attribution\": \"AutoML\", \"Orchestrator\": \"AutoML\", \"CancelUri\": \"https://southcentralus.api.azureml.ms/jasmine/v1.0/subscriptions/610d6e37-4747-4a20-80eb-3aad70a55f43/resourceGroups/aml-quickstarts-143784/providers/Microsoft.MachineLearningServices/workspaces/quick-starts-ws-143784/experimentids/526f6add-562d-4803-bb0f-31628f3ab398/cancel/AutoML_3ac66915-f932-48f2-9dae-5928a6205a96\", \"ClientSdkVersion\": \"1.27.0.post1\", \"snapshotId\": \"00000000-0000-0000-0000-000000000000\", \"SetupRunId\": \"AutoML_3ac66915-f932-48f2-9dae-5928a6205a96_setup\", \"SetupRunContainerId\": \"dcid.AutoML_3ac66915-f932-48f2-9dae-5928a6205a96_setup\", \"FeaturizationRunJsonPath\": \"featurizer_container.json\", \"FeaturizationRunId\": \"AutoML_3ac66915-f932-48f2-9dae-5928a6205a96_featurize\", \"ProblemInfoJsonString\": \"{\\\"dataset_num_categorical\\\": 0, \\\"is_sparse\\\": true, \\\"subsampling\\\": false, \\\"dataset_classes\\\": 2, \\\"dataset_features\\\": 141, \\\"dataset_samples\\\": 49327, \\\"single_frequency_class_detected\\\": false}\", \"ModelExplainRunId\": \"AutoML_3ac66915-f932-48f2-9dae-5928a6205a96_ModelExplain\"}, \"tags\": {\"model_explain_run\": \"best_run\", \"_aml_system_azureml.automlComponent\": \"AutoML\", \"pipeline_id\": \"\", \"score\": \"\", \"predicted_cost\": \"\", \"fit_time\": \"\", \"training_percent\": \"\", \"iteration\": \"\", \"run_preprocessor\": \"\", \"run_algorithm\": \"\", \"dynamic_whitelisting_iterations\": \"<25>;<30>;\", \"automl_best_child_run_id\": \"AutoML_3ac66915-f932-48f2-9dae-5928a6205a96_34\", \"model_explain_best_run_child_id\": \"AutoML_3ac66915-f932-48f2-9dae-5928a6205a96_34\"}, \"end_time_utc\": \"2021-05-01T16:40:45.684056Z\", \"status\": \"Completed\", \"log_files\": {}, \"log_groups\": [], \"run_duration\": \"0:18:12\", \"run_number\": \"1\", \"run_queued_details\": {\"status\": \"Completed\", \"details\": null}}, \"child_runs\": [{\"run_id\": \"AutoML_3ac66915-f932-48f2-9dae-5928a6205a96_0\", \"run_number\": 5, \"metric\": null, \"status\": \"Completed\", \"run_type\": \"azureml.scriptrun\", \"training_percent\": \"100\", \"start_time\": \"2021-05-01T16:26:54.354797Z\", \"end_time\": \"2021-05-01T16:27:38.202395Z\", \"created_time\": \"2021-05-01T16:26:38.268132Z\", \"created_time_dt\": \"2021-05-01T16:26:38.268132Z\", \"duration\": \"0:00:59\", \"iteration\": \"0\", \"goal\": \"AUC_weighted_max\", \"run_name\": \"MaxAbsScaler, LightGBM\", \"run_properties\": \"copy=True\", \"primary_metric\": 0.90492424, \"best_metric\": 0.90492424}, {\"run_id\": \"AutoML_3ac66915-f932-48f2-9dae-5928a6205a96_2\", \"run_number\": 6, \"metric\": null, \"status\": \"Completed\", \"run_type\": \"azureml.scriptrun\", \"training_percent\": \"100\", \"start_time\": \"2021-05-01T16:28:03.291157Z\", \"end_time\": \"2021-05-01T16:29:54.453268Z\", \"created_time\": \"2021-05-01T16:26:38.316313Z\", \"created_time_dt\": \"2021-05-01T16:26:38.316313Z\", \"duration\": \"0:03:16\", \"iteration\": \"2\", \"goal\": \"AUC_weighted_max\", \"run_name\": \"MaxAbsScaler, RandomForest\", \"run_properties\": \"copy=True\", \"primary_metric\": 0.80988564, \"best_metric\": 0.90492424}, {\"run_id\": \"AutoML_3ac66915-f932-48f2-9dae-5928a6205a96_1\", \"run_number\": 7, \"metric\": null, \"status\": \"Completed\", \"run_type\": \"azureml.scriptrun\", \"training_percent\": \"100\", \"start_time\": \"2021-05-01T16:27:53.529615Z\", \"end_time\": \"2021-05-01T16:28:39.230302Z\", \"created_time\": \"2021-05-01T16:26:38.345401Z\", \"created_time_dt\": \"2021-05-01T16:26:38.345401Z\", \"duration\": \"0:02:00\", \"iteration\": \"1\", \"goal\": \"AUC_weighted_max\", \"run_name\": \"MaxAbsScaler, XGBoostClassifier\", \"run_properties\": \"copy=True\", \"primary_metric\": 0.89721264, \"best_metric\": 0.90492424}, {\"run_id\": \"AutoML_3ac66915-f932-48f2-9dae-5928a6205a96_3\", \"run_number\": 8, \"metric\": null, \"status\": \"Completed\", \"run_type\": \"azureml.scriptrun\", \"training_percent\": \"100\", \"start_time\": \"2021-05-01T16:28:03.55982Z\", \"end_time\": \"2021-05-01T16:29:26.455169Z\", \"created_time\": \"2021-05-01T16:27:39.457848Z\", \"created_time_dt\": \"2021-05-01T16:27:39.457848Z\", \"duration\": \"0:01:46\", \"iteration\": \"3\", \"goal\": \"AUC_weighted_max\", \"run_name\": \"MaxAbsScaler, RandomForest\", \"run_properties\": \"copy=True\", \"primary_metric\": 0.8038789, \"best_metric\": 0.90492424}, {\"run_id\": \"AutoML_3ac66915-f932-48f2-9dae-5928a6205a96_4\", \"run_number\": 9, \"metric\": null, \"status\": \"Completed\", \"run_type\": \"azureml.scriptrun\", \"training_percent\": \"100\", \"start_time\": \"2021-05-01T16:28:54.691791Z\", \"end_time\": \"2021-05-01T16:29:37.973026Z\", \"created_time\": \"2021-05-01T16:28:40.61771Z\", \"created_time_dt\": \"2021-05-01T16:28:40.61771Z\", \"duration\": \"0:00:57\", \"iteration\": \"4\", \"goal\": \"AUC_weighted_max\", \"run_name\": \"MaxAbsScaler, RandomForest\", \"run_properties\": \"copy=True\", \"primary_metric\": 0.77505298, \"best_metric\": 0.90492424}, {\"run_id\": \"AutoML_3ac66915-f932-48f2-9dae-5928a6205a96_5\", \"run_number\": 10, \"metric\": null, \"status\": \"Completed\", \"run_type\": \"azureml.scriptrun\", \"training_percent\": \"100\", \"start_time\": \"2021-05-01T16:29:42.850664Z\", \"end_time\": \"2021-05-01T16:30:29.007246Z\", \"created_time\": \"2021-05-01T16:29:29.228098Z\", \"created_time_dt\": \"2021-05-01T16:29:29.228098Z\", \"duration\": \"0:00:59\", \"iteration\": \"5\", \"goal\": \"AUC_weighted_max\", \"run_name\": \"MaxAbsScaler, ExtremeRandomTrees\", \"run_properties\": \"copy=True\", \"primary_metric\": 0.79857384, \"best_metric\": 0.90492424}, {\"run_id\": \"AutoML_3ac66915-f932-48f2-9dae-5928a6205a96_6\", \"run_number\": 11, \"metric\": null, \"status\": \"Completed\", \"run_type\": \"azureml.scriptrun\", \"training_percent\": \"100\", \"start_time\": \"2021-05-01T16:29:54.03507Z\", \"end_time\": \"2021-05-01T16:30:37.249335Z\", \"created_time\": \"2021-05-01T16:29:40.429108Z\", \"created_time_dt\": \"2021-05-01T16:29:40.429108Z\", \"duration\": \"0:00:56\", \"iteration\": \"6\", \"goal\": \"AUC_weighted_max\", \"run_name\": \"MaxAbsScaler, ExtremeRandomTrees\", \"run_properties\": \"copy=True\", \"primary_metric\": 0.82328388, \"best_metric\": 0.90492424}, {\"run_id\": \"AutoML_3ac66915-f932-48f2-9dae-5928a6205a96_7\", \"run_number\": 12, \"metric\": null, \"status\": \"Completed\", \"run_type\": \"azureml.scriptrun\", \"training_percent\": \"100\", \"start_time\": \"2021-05-01T16:30:11.444446Z\", \"end_time\": \"2021-05-01T16:30:51.977185Z\", \"created_time\": \"2021-05-01T16:29:56.919443Z\", \"created_time_dt\": \"2021-05-01T16:29:56.919443Z\", \"duration\": \"0:00:55\", \"iteration\": \"7\", \"goal\": \"AUC_weighted_max\", \"run_name\": \"MaxAbsScaler, ExtremeRandomTrees\", \"run_properties\": \"copy=True\", \"primary_metric\": 0.80512552, \"best_metric\": 0.90492424}, {\"run_id\": \"AutoML_3ac66915-f932-48f2-9dae-5928a6205a96_8\", \"run_number\": 13, \"metric\": null, \"status\": \"Completed\", \"run_type\": \"azureml.scriptrun\", \"training_percent\": \"100\", \"start_time\": \"2021-05-01T16:30:45.195691Z\", \"end_time\": \"2021-05-01T16:31:25.554717Z\", \"created_time\": \"2021-05-01T16:30:31.518727Z\", \"created_time_dt\": \"2021-05-01T16:30:31.518727Z\", \"duration\": \"0:00:54\", \"iteration\": \"8\", \"goal\": \"AUC_weighted_max\", \"run_name\": \"MaxAbsScaler, RandomForest\", \"run_properties\": \"copy=True\", \"primary_metric\": 0.80182406, \"best_metric\": 0.90492424}, {\"run_id\": \"AutoML_3ac66915-f932-48f2-9dae-5928a6205a96_9\", \"run_number\": 14, \"metric\": null, \"status\": \"Completed\", \"run_type\": \"azureml.scriptrun\", \"training_percent\": \"100\", \"start_time\": \"2021-05-01T16:30:49.604059Z\", \"end_time\": \"2021-05-01T16:31:31.602322Z\", \"created_time\": \"2021-05-01T16:30:39.843561Z\", \"created_time_dt\": \"2021-05-01T16:30:39.843561Z\", \"duration\": \"0:00:51\", \"iteration\": \"9\", \"goal\": \"AUC_weighted_max\", \"run_name\": \"MaxAbsScaler, ExtremeRandomTrees\", \"run_properties\": \"copy=True\", \"primary_metric\": 0.79340993, \"best_metric\": 0.90492424}, {\"run_id\": \"AutoML_3ac66915-f932-48f2-9dae-5928a6205a96_10\", \"run_number\": 15, \"metric\": null, \"status\": \"Completed\", \"run_type\": \"azureml.scriptrun\", \"training_percent\": \"100\", \"start_time\": \"2021-05-01T16:31:08.123399Z\", \"end_time\": \"2021-05-01T16:31:48.467477Z\", \"created_time\": \"2021-05-01T16:30:54.580642Z\", \"created_time_dt\": \"2021-05-01T16:30:54.580642Z\", \"duration\": \"0:00:53\", \"iteration\": \"10\", \"goal\": \"AUC_weighted_max\", \"run_name\": \"MaxAbsScaler, RandomForest\", \"run_properties\": \"copy=True\", \"primary_metric\": 0.7908868, \"best_metric\": 0.90492424}, {\"run_id\": \"AutoML_3ac66915-f932-48f2-9dae-5928a6205a96_11\", \"run_number\": 16, \"metric\": null, \"status\": \"Completed\", \"run_type\": \"azureml.scriptrun\", \"training_percent\": \"100\", \"start_time\": \"2021-05-01T16:31:41.864179Z\", \"end_time\": \"2021-05-01T16:32:25.102454Z\", \"created_time\": \"2021-05-01T16:31:28.2851Z\", \"created_time_dt\": \"2021-05-01T16:31:28.2851Z\", \"duration\": \"0:00:56\", \"iteration\": \"11\", \"goal\": \"AUC_weighted_max\", \"run_name\": \"MaxAbsScaler, RandomForest\", \"run_properties\": \"copy=True\", \"primary_metric\": 0.78047591, \"best_metric\": 0.90492424}, {\"run_id\": \"AutoML_3ac66915-f932-48f2-9dae-5928a6205a96_12\", \"run_number\": 17, \"metric\": null, \"status\": \"Completed\", \"run_type\": \"azureml.scriptrun\", \"training_percent\": \"100\", \"start_time\": \"2021-05-01T16:31:47.742588Z\", \"end_time\": \"2021-05-01T16:32:46.033042Z\", \"created_time\": \"2021-05-01T16:31:34.186924Z\", \"created_time_dt\": \"2021-05-01T16:31:34.186924Z\", \"duration\": \"0:01:11\", \"iteration\": \"12\", \"goal\": \"AUC_weighted_max\", \"run_name\": \"MaxAbsScaler, RandomForest\", \"run_properties\": \"copy=True\", \"primary_metric\": 0.77919876, \"best_metric\": 0.90492424}, {\"run_id\": \"AutoML_3ac66915-f932-48f2-9dae-5928a6205a96_13\", \"run_number\": 18, \"metric\": null, \"status\": \"Completed\", \"run_type\": \"azureml.scriptrun\", \"training_percent\": \"100\", \"start_time\": \"2021-05-01T16:32:02.053403Z\", \"end_time\": \"2021-05-01T16:32:44.572906Z\", \"created_time\": \"2021-05-01T16:31:50.840226Z\", \"created_time_dt\": \"2021-05-01T16:31:50.840226Z\", \"duration\": \"0:00:53\", \"iteration\": \"13\", \"goal\": \"AUC_weighted_max\", \"run_name\": \"StandardScalerWrapper, XGBoostClassifier\", \"run_properties\": \"<azureml.automl.runtime.shared.model_wrappers.StandardScalerWrapper object at 0x7f1d46f64ba8\", \"primary_metric\": 0.86686891, \"best_metric\": 0.90492424}, {\"run_id\": \"AutoML_3ac66915-f932-48f2-9dae-5928a6205a96_14\", \"run_number\": 19, \"metric\": null, \"status\": \"Completed\", \"run_type\": \"azureml.scriptrun\", \"training_percent\": \"100\", \"start_time\": \"2021-05-01T16:32:38.89862Z\", \"end_time\": \"2021-05-01T16:33:18.616052Z\", \"created_time\": \"2021-05-01T16:32:27.583111Z\", \"created_time_dt\": \"2021-05-01T16:32:27.583111Z\", \"duration\": \"0:00:51\", \"iteration\": \"14\", \"goal\": \"AUC_weighted_max\", \"run_name\": \"MaxAbsScaler, RandomForest\", \"run_properties\": \"copy=True\", \"primary_metric\": 0.80413579, \"best_metric\": 0.90492424}, {\"run_id\": \"AutoML_3ac66915-f932-48f2-9dae-5928a6205a96_15\", \"run_number\": 20, \"metric\": null, \"status\": \"Completed\", \"run_type\": \"azureml.scriptrun\", \"training_percent\": \"100\", \"start_time\": \"2021-05-01T16:33:01.159967Z\", \"end_time\": \"2021-05-01T16:34:05.709387Z\", \"created_time\": \"2021-05-01T16:32:47.197417Z\", \"created_time_dt\": \"2021-05-01T16:32:47.197417Z\", \"duration\": \"0:01:18\", \"iteration\": \"15\", \"goal\": \"AUC_weighted_max\", \"run_name\": \"StandardScalerWrapper, ExtremeRandomTrees\", \"run_properties\": \"<azureml.automl.runtime.shared.model_wrappers.StandardScalerWrapper object at 0x7f5cdab6a7f0\", \"primary_metric\": 0.77885924, \"best_metric\": 0.90492424}, {\"run_id\": \"AutoML_3ac66915-f932-48f2-9dae-5928a6205a96_16\", \"run_number\": 21, \"metric\": null, \"status\": \"Completed\", \"run_type\": \"azureml.scriptrun\", \"training_percent\": \"100\", \"start_time\": \"2021-05-01T16:33:01.54026Z\", \"end_time\": \"2021-05-01T16:33:43.484689Z\", \"created_time\": \"2021-05-01T16:32:51.609853Z\", \"created_time_dt\": \"2021-05-01T16:32:51.609853Z\", \"duration\": \"0:00:51\", \"iteration\": \"16\", \"goal\": \"AUC_weighted_max\", \"run_name\": \"MaxAbsScaler, ExtremeRandomTrees\", \"run_properties\": \"copy=True\", \"primary_metric\": 0.80499484, \"best_metric\": 0.90492424}, {\"run_id\": \"AutoML_3ac66915-f932-48f2-9dae-5928a6205a96_17\", \"run_number\": 22, \"metric\": null, \"status\": \"Completed\", \"run_type\": \"azureml.scriptrun\", \"training_percent\": \"100\", \"start_time\": \"2021-05-01T16:33:35.142646Z\", \"end_time\": \"2021-05-01T16:34:15.48026Z\", \"created_time\": \"2021-05-01T16:33:21.371358Z\", \"created_time_dt\": \"2021-05-01T16:33:21.371358Z\", \"duration\": \"0:00:54\", \"iteration\": \"17\", \"goal\": \"AUC_weighted_max\", \"run_name\": \"MaxAbsScaler, ExtremeRandomTrees\", \"run_properties\": \"copy=True\", \"primary_metric\": 0.80305295, \"best_metric\": 0.90492424}, {\"run_id\": \"AutoML_3ac66915-f932-48f2-9dae-5928a6205a96_18\", \"run_number\": 23, \"metric\": null, \"status\": \"Completed\", \"run_type\": \"azureml.scriptrun\", \"training_percent\": \"100\", \"start_time\": \"2021-05-01T16:33:59.802405Z\", \"end_time\": \"2021-05-01T16:34:42.96358Z\", \"created_time\": \"2021-05-01T16:33:46.034848Z\", \"created_time_dt\": \"2021-05-01T16:33:46.034848Z\", \"duration\": \"0:00:56\", \"iteration\": \"18\", \"goal\": \"AUC_weighted_max\", \"run_name\": \"MaxAbsScaler, RandomForest\", \"run_properties\": \"copy=True\", \"primary_metric\": 0.73476642, \"best_metric\": 0.90492424}, {\"run_id\": \"AutoML_3ac66915-f932-48f2-9dae-5928a6205a96_19\", \"run_number\": 24, \"metric\": null, \"status\": \"Completed\", \"run_type\": \"azureml.scriptrun\", \"training_percent\": \"100\", \"start_time\": \"2021-05-01T16:34:15.459554Z\", \"end_time\": \"2021-05-01T16:35:43.111253Z\", \"created_time\": \"2021-05-01T16:34:08.29493Z\", \"created_time_dt\": \"2021-05-01T16:34:08.29493Z\", \"duration\": \"0:01:34\", \"iteration\": \"19\", \"goal\": \"AUC_weighted_max\", \"run_name\": \"MaxAbsScaler, LightGBM\", \"run_properties\": \"copy=True\", \"primary_metric\": 0.84085802, \"best_metric\": 0.90492424}, {\"run_id\": \"AutoML_3ac66915-f932-48f2-9dae-5928a6205a96_20\", \"run_number\": 25, \"metric\": null, \"status\": \"Completed\", \"run_type\": \"azureml.scriptrun\", \"training_percent\": \"100\", \"start_time\": \"2021-05-01T16:34:24.656278Z\", \"end_time\": \"2021-05-01T16:35:03.135657Z\", \"created_time\": \"2021-05-01T16:34:17.595046Z\", \"created_time_dt\": \"2021-05-01T16:34:17.595046Z\", \"duration\": \"0:00:45\", \"iteration\": \"20\", \"goal\": \"AUC_weighted_max\", \"run_name\": \"MaxAbsScaler, LightGBM\", \"run_properties\": \"copy=True\", \"primary_metric\": 0.82664407, \"best_metric\": 0.90492424}, {\"run_id\": \"AutoML_3ac66915-f932-48f2-9dae-5928a6205a96_21\", \"run_number\": 26, \"metric\": null, \"status\": \"Completed\", \"run_type\": \"azureml.scriptrun\", \"training_percent\": \"100\", \"start_time\": \"2021-05-01T16:34:54.050523Z\", \"end_time\": \"2021-05-01T16:35:38.762076Z\", \"created_time\": \"2021-05-01T16:34:44.730624Z\", \"created_time_dt\": \"2021-05-01T16:34:44.730624Z\", \"duration\": \"0:00:54\", \"iteration\": \"21\", \"goal\": \"AUC_weighted_max\", \"run_name\": \"StandardScalerWrapper, LogisticRegression\", \"run_properties\": \"<azureml.automl.runtime.shared.model_wrappers.StandardScalerWrapper object at 0x7f4dd9bf0e48\", \"primary_metric\": 0.87829837, \"best_metric\": 0.90492424}, {\"run_id\": \"AutoML_3ac66915-f932-48f2-9dae-5928a6205a96_22\", \"run_number\": 27, \"metric\": null, \"status\": \"Completed\", \"run_type\": \"azureml.scriptrun\", \"training_percent\": \"100\", \"start_time\": \"2021-05-01T16:35:12.005357Z\", \"end_time\": \"2021-05-01T16:35:55.989742Z\", \"created_time\": \"2021-05-01T16:35:04.857497Z\", \"created_time_dt\": \"2021-05-01T16:35:04.857497Z\", \"duration\": \"0:00:51\", \"iteration\": \"22\", \"goal\": \"AUC_weighted_max\", \"run_name\": \"StandardScalerWrapper, LogisticRegression\", \"run_properties\": \"<azureml.automl.runtime.shared.model_wrappers.StandardScalerWrapper object at 0x7fea60aedd68\", \"primary_metric\": 0.87826505, \"best_metric\": 0.90492424}, {\"run_id\": \"AutoML_3ac66915-f932-48f2-9dae-5928a6205a96_23\", \"run_number\": 28, \"metric\": null, \"status\": \"Completed\", \"run_type\": \"azureml.scriptrun\", \"training_percent\": \"100\", \"start_time\": \"2021-05-01T16:35:48.966878Z\", \"end_time\": \"2021-05-01T16:36:35.790032Z\", \"created_time\": \"2021-05-01T16:35:41.113743Z\", \"created_time_dt\": \"2021-05-01T16:35:41.113743Z\", \"duration\": \"0:00:54\", \"iteration\": \"23\", \"goal\": \"AUC_weighted_max\", \"run_name\": \"StandardScalerWrapper, XGBoostClassifier\", \"run_properties\": \"<azureml.automl.runtime.shared.model_wrappers.StandardScalerWrapper object at 0x7f8a142e85f8\", \"primary_metric\": 0.89883401, \"best_metric\": 0.90492424}, {\"run_id\": \"AutoML_3ac66915-f932-48f2-9dae-5928a6205a96_24\", \"run_number\": 29, \"metric\": null, \"status\": \"Completed\", \"run_type\": \"azureml.scriptrun\", \"training_percent\": \"100\", \"start_time\": \"2021-05-01T16:35:54.343674Z\", \"end_time\": \"2021-05-01T16:37:06.36331Z\", \"created_time\": \"2021-05-01T16:35:45.048006Z\", \"created_time_dt\": \"2021-05-01T16:35:45.048006Z\", \"duration\": \"0:01:21\", \"iteration\": \"24\", \"goal\": \"AUC_weighted_max\", \"run_name\": \"StandardScalerWrapper, XGBoostClassifier\", \"run_properties\": \"<azureml.automl.runtime.shared.model_wrappers.StandardScalerWrapper object at 0x7f1b64e7d6a0\", \"primary_metric\": 0.89565106, \"best_metric\": 0.90492424}, {\"run_id\": \"AutoML_3ac66915-f932-48f2-9dae-5928a6205a96_25\", \"run_number\": 30, \"metric\": null, \"status\": \"Completed\", \"run_type\": \"azureml.scriptrun\", \"training_percent\": \"100\", \"start_time\": \"2021-05-01T16:36:07.032837Z\", \"end_time\": \"2021-05-01T16:36:48.264067Z\", \"created_time\": \"2021-05-01T16:35:58.847918Z\", \"created_time_dt\": \"2021-05-01T16:35:58.847918Z\", \"duration\": \"0:00:49\", \"iteration\": \"25\", \"goal\": \"AUC_weighted_max\", \"run_name\": \"SparseNormalizer, LightGBM\", \"run_properties\": \"<azureml.automl.runtime.shared.model_wrappers.SparseNormalizer object at 0x7f01c9857a90\", \"primary_metric\": 0.83882452, \"best_metric\": 0.90492424}, {\"run_id\": \"AutoML_3ac66915-f932-48f2-9dae-5928a6205a96_26\", \"run_number\": 31, \"metric\": null, \"status\": \"Completed\", \"run_type\": \"azureml.scriptrun\", \"training_percent\": \"100\", \"start_time\": \"2021-05-01T16:36:46.91969Z\", \"end_time\": \"2021-05-01T16:37:31.622566Z\", \"created_time\": \"2021-05-01T16:36:37.679911Z\", \"created_time_dt\": \"2021-05-01T16:36:37.679911Z\", \"duration\": \"0:00:53\", \"iteration\": \"26\", \"goal\": \"AUC_weighted_max\", \"run_name\": \"MaxAbsScaler, LightGBM\", \"run_properties\": \"copy=True\", \"primary_metric\": 0.88491047, \"best_metric\": 0.90492424}, {\"run_id\": \"AutoML_3ac66915-f932-48f2-9dae-5928a6205a96_27\", \"run_number\": 32, \"metric\": null, \"status\": \"Completed\", \"run_type\": \"azureml.scriptrun\", \"training_percent\": \"100\", \"start_time\": \"2021-05-01T16:36:57.082471Z\", \"end_time\": \"2021-05-01T16:37:41.040404Z\", \"created_time\": \"2021-05-01T16:36:50.145586Z\", \"created_time_dt\": \"2021-05-01T16:36:50.145586Z\", \"duration\": \"0:00:50\", \"iteration\": \"27\", \"goal\": \"AUC_weighted_max\", \"run_name\": \"StandardScalerWrapper, XGBoostClassifier\", \"run_properties\": \"<azureml.automl.runtime.shared.model_wrappers.StandardScalerWrapper object at 0x7ff1b40c6390\", \"primary_metric\": 0.89973257, \"best_metric\": 0.90492424}, {\"run_id\": \"AutoML_3ac66915-f932-48f2-9dae-5928a6205a96_28\", \"run_number\": 33, \"metric\": null, \"status\": \"Completed\", \"run_type\": \"azureml.scriptrun\", \"training_percent\": \"100\", \"start_time\": \"2021-05-01T16:37:15.707058Z\", \"end_time\": \"2021-05-01T16:37:59.689388Z\", \"created_time\": \"2021-05-01T16:37:08.235189Z\", \"created_time_dt\": \"2021-05-01T16:37:08.235189Z\", \"duration\": \"0:00:51\", \"iteration\": \"28\", \"goal\": \"AUC_weighted_max\", \"run_name\": \"StandardScalerWrapper, XGBoostClassifier\", \"run_properties\": \"<azureml.automl.runtime.shared.model_wrappers.StandardScalerWrapper object at 0x7f63a7077be0\", \"primary_metric\": 0.89775972, \"best_metric\": 0.90492424}, {\"run_id\": \"AutoML_3ac66915-f932-48f2-9dae-5928a6205a96_29\", \"run_number\": 34, \"metric\": null, \"status\": \"Completed\", \"run_type\": \"azureml.scriptrun\", \"training_percent\": \"100\", \"start_time\": \"2021-05-01T16:37:41.62967Z\", \"end_time\": \"2021-05-01T16:38:20.147743Z\", \"created_time\": \"2021-05-01T16:37:33.430458Z\", \"created_time_dt\": \"2021-05-01T16:37:33.430458Z\", \"duration\": \"0:00:46\", \"iteration\": \"29\", \"goal\": \"AUC_weighted_max\", \"run_name\": \"StandardScalerWrapper, XGBoostClassifier\", \"run_properties\": \"<azureml.automl.runtime.shared.model_wrappers.StandardScalerWrapper object at 0x7fdecbcf6668\", \"primary_metric\": 0.89991194, \"best_metric\": 0.90492424}, {\"run_id\": \"AutoML_3ac66915-f932-48f2-9dae-5928a6205a96_30\", \"run_number\": 35, \"metric\": null, \"status\": \"Completed\", \"run_type\": \"azureml.scriptrun\", \"training_percent\": \"100\", \"start_time\": \"2021-05-01T16:37:52.049733Z\", \"end_time\": \"2021-05-01T16:38:36.108233Z\", \"created_time\": \"2021-05-01T16:37:44.138594Z\", \"created_time_dt\": \"2021-05-01T16:37:44.138594Z\", \"duration\": \"0:00:51\", \"iteration\": \"30\", \"goal\": \"AUC_weighted_max\", \"run_name\": \"MaxAbsScaler, LightGBM\", \"run_properties\": \"copy=True\", \"primary_metric\": 0.81632521, \"best_metric\": 0.90492424}, {\"run_id\": \"AutoML_3ac66915-f932-48f2-9dae-5928a6205a96_31\", \"run_number\": 36, \"metric\": null, \"status\": \"Completed\", \"run_type\": \"azureml.scriptrun\", \"training_percent\": \"100\", \"start_time\": \"2021-05-01T16:38:08.647042Z\", \"end_time\": \"2021-05-01T16:39:04.179763Z\", \"created_time\": \"2021-05-01T16:38:01.701036Z\", \"created_time_dt\": \"2021-05-01T16:38:01.701036Z\", \"duration\": \"0:01:02\", \"iteration\": \"31\", \"goal\": \"AUC_weighted_max\", \"run_name\": \"StandardScalerWrapper, XGBoostClassifier\", \"run_properties\": \"<azureml.automl.runtime.shared.model_wrappers.StandardScalerWrapper object at 0x7f0e048c9b38\", \"primary_metric\": 0.90101358, \"best_metric\": 0.90492424}, {\"run_id\": \"AutoML_3ac66915-f932-48f2-9dae-5928a6205a96_32\", \"run_number\": 37, \"metric\": null, \"status\": \"Canceled\", \"run_type\": \"azureml.scriptrun\", \"training_percent\": \"100\", \"start_time\": \"2021-05-01T16:38:28.879839Z\", \"end_time\": \"2021-05-01T16:39:10.177113Z\", \"created_time\": \"2021-05-01T16:38:21.903119Z\", \"created_time_dt\": \"2021-05-01T16:38:21.903119Z\", \"duration\": \"0:00:48\", \"iteration\": \"32\", \"goal\": null, \"run_name\": \"StandardScalerWrapper, XGBoostClassifier\", \"run_properties\": null}, {\"run_id\": \"AutoML_3ac66915-f932-48f2-9dae-5928a6205a96_33\", \"run_number\": 38, \"metric\": null, \"status\": \"Canceled\", \"run_type\": \"azureml.scriptrun\", \"training_percent\": \"100\", \"start_time\": \"2021-05-01T16:38:44.925068Z\", \"end_time\": \"2021-05-01T16:39:10.136384Z\", \"created_time\": \"2021-05-01T16:38:37.962613Z\", \"created_time_dt\": \"2021-05-01T16:38:37.962613Z\", \"duration\": \"0:00:32\", \"iteration\": \"33\", \"goal\": \"AUC_weighted_max\", \"run_name\": \"StandardScalerWrapper, XGBoostClassifier\", \"run_properties\": \"<azureml.automl.runtime.shared.model_wrappers.StandardScalerWrapper object at 0x7fe4b5c82390\", \"primary_metric\": 0.89780777, \"best_metric\": 0.90492424}, {\"run_id\": \"AutoML_3ac66915-f932-48f2-9dae-5928a6205a96_34\", \"run_number\": 39, \"metric\": null, \"status\": \"Completed\", \"run_type\": \"azureml.scriptrun\", \"training_percent\": \"100\", \"start_time\": \"2021-05-01T16:39:18.458451Z\", \"end_time\": \"2021-05-01T16:40:13.968663Z\", \"created_time\": \"2021-05-01T16:39:10.846599Z\", \"created_time_dt\": \"2021-05-01T16:39:10.846599Z\", \"duration\": \"0:01:03\", \"iteration\": \"34\", \"goal\": \"AUC_weighted_max\", \"run_name\": \"VotingEnsemble\", \"run_properties\": \"classification_labels=None,\\n                              estimators=[('0',\\n                                           Pipeline(memory=None,\\n                                                    steps=[('maxabsscaler',\\n                                                            MaxAbsScaler(copy=True\", \"primary_metric\": 0.90543139, \"best_metric\": 0.90543139}, {\"run_id\": \"AutoML_3ac66915-f932-48f2-9dae-5928a6205a96_35\", \"run_number\": 40, \"metric\": null, \"status\": \"Completed\", \"run_type\": \"azureml.scriptrun\", \"training_percent\": \"100\", \"start_time\": \"2021-05-01T16:39:18.849811Z\", \"end_time\": \"2021-05-01T16:40:43.227744Z\", \"created_time\": \"2021-05-01T16:39:10.876885Z\", \"created_time_dt\": \"2021-05-01T16:39:10.876885Z\", \"duration\": \"0:01:32\", \"iteration\": \"35\", \"goal\": \"AUC_weighted_max\", \"run_name\": \"StackEnsemble\", \"run_properties\": \"base_learners=[('0',\\n                                        Pipeline(memory=None,\\n                                                 steps=[('maxabsscaler',\\n                                                         MaxAbsScaler(copy=True\", \"primary_metric\": 0.90442009, \"best_metric\": 0.90543139}], \"children_metrics\": {\"categories\": [0], \"series\": {\"AUC_macro\": [{\"categories\": [\"0\", \"1\", \"2\", \"3\", \"4\", \"5\", \"6\", \"7\", \"8\", \"9\", \"10\", \"11\", \"12\", \"13\", \"14\", \"15\", \"16\", \"17\", \"18\", \"19\", \"20\", \"21\", \"22\", \"23\", \"24\", \"25\", \"26\", \"27\", \"28\", \"29\", \"30\", \"31\", \"33\", \"34\", \"35\"], \"mode\": \"markers\", \"name\": \"AUC_macro\", \"stepped\": false, \"type\": \"scatter\", \"data\": [0.9049242421007048, 0.8972126439972359, 0.8098856392678657, 0.8038789035240941, 0.77505297799993, 0.7985738433456984, 0.823283884352934, 0.8051255200641629, 0.8018240575211677, 0.793409929712864, 0.7908868017516691, 0.7804759094236352, 0.7791987573979153, 0.8668689126548448, 0.8041357859663179, 0.778859236963056, 0.8049948367269717, 0.8030529506674673, 0.7347664227529085, 0.8408580172519087, 0.8266440689837193, 0.8782983662874573, 0.8782650548485653, 0.8988340142248386, 0.8956510635317472, 0.8388245247354515, 0.8849104733726294, 0.8997325689354604, 0.8977597203205756, 0.8999119382218013, 0.8163252101823673, 0.9010136713561769, 0.8978077656651313, 0.9054313874043469, 0.9044200862851681]}, {\"categories\": [\"0\", \"1\", \"2\", \"3\", \"4\", \"5\", \"6\", \"7\", \"8\", \"9\", \"10\", \"11\", \"12\", \"13\", \"14\", \"15\", \"16\", \"17\", \"18\", \"19\", \"20\", \"21\", \"22\", \"23\", \"24\", \"25\", \"26\", \"27\", \"28\", \"29\", \"30\", \"31\", \"33\", \"34\", \"35\"], \"mode\": \"lines\", \"name\": \"AUC_macro_max\", \"stepped\": true, \"type\": \"scatter\", \"data\": [0.9049242421007048, 0.9049242421007048, 0.9049242421007048, 0.9049242421007048, 0.9049242421007048, 0.9049242421007048, 0.9049242421007048, 0.9049242421007048, 0.9049242421007048, 0.9049242421007048, 0.9049242421007048, 0.9049242421007048, 0.9049242421007048, 0.9049242421007048, 0.9049242421007048, 0.9049242421007048, 0.9049242421007048, 0.9049242421007048, 0.9049242421007048, 0.9049242421007048, 0.9049242421007048, 0.9049242421007048, 0.9049242421007048, 0.9049242421007048, 0.9049242421007048, 0.9049242421007048, 0.9049242421007048, 0.9049242421007048, 0.9049242421007048, 0.9049242421007048, 0.9049242421007048, 0.9049242421007048, 0.9049242421007048, 0.9054313874043469, 0.9054313874043469]}], \"f1_score_micro\": [{\"categories\": [\"0\", \"1\", \"2\", \"3\", \"4\", \"5\", \"6\", \"7\", \"8\", \"9\", \"10\", \"11\", \"12\", \"13\", \"14\", \"15\", \"16\", \"17\", \"18\", \"19\", \"20\", \"21\", \"22\", \"23\", \"24\", \"25\", \"26\", \"27\", \"28\", \"29\", \"30\", \"31\", \"33\", \"34\", \"35\"], \"mode\": \"markers\", \"name\": \"f1_score_micro\", \"stepped\": false, \"type\": \"scatter\", \"data\": [0.9417989417989417, 0.9374201787994891, 0.9147965699689837, 0.678890713373472, 0.9147965699689837, 0.9147965699689837, 0.9147965699689837, 0.9147965699689837, 0.9147965699689837, 0.6863711001642037, 0.6774311257069878, 0.6943988323298668, 0.6803503010399562, 0.9244663382594417, 0.9147965699689837, 0.9147965699689837, 0.6566320014595877, 0.6865535486225142, 0.6827221309979931, 0.9224594052180259, 0.9147965699689837, 0.7664659733625251, 0.929757343550447, 0.9425287356321839, 0.9386973180076629, 0.9166210545520891, 0.9339536580915891, 0.9421638387155629, 0.9423462871738734, 0.9383324210910418, 0.9147965699689837, 0.9421638387155629, 0.9414340448823207, 0.9417989417989417, 0.9147965699689837]}, {\"categories\": [\"0\", \"1\", \"2\", \"3\", \"4\", \"5\", \"6\", \"7\", \"8\", \"9\", \"10\", \"11\", \"12\", \"13\", \"14\", \"15\", \"16\", \"17\", \"18\", \"19\", \"20\", \"21\", \"22\", \"23\", \"24\", \"25\", \"26\", \"27\", \"28\", \"29\", \"30\", \"31\", \"33\", \"34\", \"35\"], \"mode\": \"lines\", \"name\": \"f1_score_micro_max\", \"stepped\": true, \"type\": \"scatter\", \"data\": [0.9417989417989417, 0.9417989417989417, 0.9417989417989417, 0.9417989417989417, 0.9417989417989417, 0.9417989417989417, 0.9417989417989417, 0.9417989417989417, 0.9417989417989417, 0.9417989417989417, 0.9417989417989417, 0.9417989417989417, 0.9417989417989417, 0.9417989417989417, 0.9417989417989417, 0.9417989417989417, 0.9417989417989417, 0.9417989417989417, 0.9417989417989417, 0.9417989417989417, 0.9417989417989417, 0.9417989417989417, 0.9417989417989417, 0.9425287356321839, 0.9425287356321839, 0.9425287356321839, 0.9425287356321839, 0.9425287356321839, 0.9425287356321839, 0.9425287356321839, 0.9425287356321839, 0.9425287356321839, 0.9425287356321839, 0.9425287356321839, 0.9425287356321839]}], \"average_precision_score_weighted\": [{\"categories\": [\"0\", \"1\", \"2\", \"3\", \"4\", \"5\", \"6\", \"7\", \"8\", \"9\", \"10\", \"11\", \"12\", \"13\", \"14\", \"15\", \"16\", \"17\", \"18\", \"19\", \"20\", \"21\", \"22\", \"23\", \"24\", \"25\", \"26\", \"27\", \"28\", \"29\", \"30\", \"31\", \"33\", \"34\", \"35\"], \"mode\": \"markers\", \"name\": \"average_precision_score_weighted\", \"stepped\": false, \"type\": \"scatter\", \"data\": [0.9577516090320707, 0.9546555003373869, 0.9220314889434803, 0.919423592805197, 0.9094572472806969, 0.9160253130489118, 0.9228394273797755, 0.9166098856736141, 0.9210532026759641, 0.9134922856654705, 0.9177543203129713, 0.9087234013217691, 0.9097627023125202, 0.9425617129918642, 0.9210737923461902, 0.9082572065136199, 0.9189887727057546, 0.916960725721222, 0.9000382117832463, 0.9321290701753473, 0.9261852845439681, 0.9428562306954149, 0.9462475631114157, 0.9560129459059624, 0.9549266087004972, 0.9290878324999173, 0.9501111496468885, 0.9559181740469195, 0.9554018258736353, 0.9556709580009224, 0.9221838216415537, 0.9567499205429586, 0.9552832314167002, 0.9578449697777097, 0.9574915728684139]}, {\"categories\": [\"0\", \"1\", \"2\", \"3\", \"4\", \"5\", \"6\", \"7\", \"8\", \"9\", \"10\", \"11\", \"12\", \"13\", \"14\", \"15\", \"16\", \"17\", \"18\", \"19\", \"20\", \"21\", \"22\", \"23\", \"24\", \"25\", \"26\", \"27\", \"28\", \"29\", \"30\", \"31\", \"33\", \"34\", \"35\"], \"mode\": \"lines\", \"name\": \"average_precision_score_weighted_max\", \"stepped\": true, \"type\": \"scatter\", \"data\": [0.9577516090320707, 0.9577516090320707, 0.9577516090320707, 0.9577516090320707, 0.9577516090320707, 0.9577516090320707, 0.9577516090320707, 0.9577516090320707, 0.9577516090320707, 0.9577516090320707, 0.9577516090320707, 0.9577516090320707, 0.9577516090320707, 0.9577516090320707, 0.9577516090320707, 0.9577516090320707, 0.9577516090320707, 0.9577516090320707, 0.9577516090320707, 0.9577516090320707, 0.9577516090320707, 0.9577516090320707, 0.9577516090320707, 0.9577516090320707, 0.9577516090320707, 0.9577516090320707, 0.9577516090320707, 0.9577516090320707, 0.9577516090320707, 0.9577516090320707, 0.9577516090320707, 0.9577516090320707, 0.9577516090320707, 0.9578449697777097, 0.9578449697777097]}], \"AUC_weighted\": [{\"categories\": [\"0\", \"1\", \"2\", \"3\", \"4\", \"5\", \"6\", \"7\", \"8\", \"9\", \"10\", \"11\", \"12\", \"13\", \"14\", \"15\", \"16\", \"17\", \"18\", \"19\", \"20\", \"21\", \"22\", \"23\", \"24\", \"25\", \"26\", \"27\", \"28\", \"29\", \"30\", \"31\", \"33\", \"34\", \"35\"], \"mode\": \"markers\", \"name\": \"AUC_weighted\", \"stepped\": false, \"type\": \"scatter\", \"data\": [0.9049242421007049, 0.897212643997236, 0.8098856392678657, 0.803878903524094, 0.7750529779999298, 0.7985738433456986, 0.823283884352934, 0.8051255200641629, 0.8018240575211677, 0.793409929712864, 0.790886801751669, 0.7804759094236351, 0.7791987573979152, 0.8668689126548448, 0.804135785966318, 0.778859236963056, 0.8049948367269717, 0.8030529506674672, 0.7347664227529085, 0.8408580172519087, 0.8266440689837194, 0.8782983662874573, 0.8782650548485652, 0.8988340142248386, 0.8956510635317472, 0.8388245247354515, 0.8849104733726294, 0.8997325689354604, 0.8977597203205757, 0.8999119382218012, 0.8163252101823673, 0.9010135827826475, 0.8978077656651313, 0.9054313874043469, 0.9044200862851681]}, {\"categories\": [\"0\", \"1\", \"2\", \"3\", \"4\", \"5\", \"6\", \"7\", \"8\", \"9\", \"10\", \"11\", \"12\", \"13\", \"14\", \"15\", \"16\", \"17\", \"18\", \"19\", \"20\", \"21\", \"22\", \"23\", \"24\", \"25\", \"26\", \"27\", \"28\", \"29\", \"30\", \"31\", \"33\", \"34\", \"35\"], \"mode\": \"lines\", \"name\": \"AUC_weighted_max\", \"stepped\": true, \"type\": \"scatter\", \"data\": [0.9049242421007049, 0.9049242421007049, 0.9049242421007049, 0.9049242421007049, 0.9049242421007049, 0.9049242421007049, 0.9049242421007049, 0.9049242421007049, 0.9049242421007049, 0.9049242421007049, 0.9049242421007049, 0.9049242421007049, 0.9049242421007049, 0.9049242421007049, 0.9049242421007049, 0.9049242421007049, 0.9049242421007049, 0.9049242421007049, 0.9049242421007049, 0.9049242421007049, 0.9049242421007049, 0.9049242421007049, 0.9049242421007049, 0.9049242421007049, 0.9049242421007049, 0.9049242421007049, 0.9049242421007049, 0.9049242421007049, 0.9049242421007049, 0.9049242421007049, 0.9049242421007049, 0.9049242421007049, 0.9049242421007049, 0.9054313874043469, 0.9054313874043469]}], \"precision_score_macro\": [{\"categories\": [\"0\", \"1\", \"2\", \"3\", \"4\", \"5\", \"6\", \"7\", \"8\", \"9\", \"10\", \"11\", \"12\", \"13\", \"14\", \"15\", \"16\", \"17\", \"18\", \"19\", \"20\", \"21\", \"22\", \"23\", \"24\", \"25\", \"26\", \"27\", \"28\", \"29\", \"30\", \"31\", \"33\", \"34\", \"35\"], \"mode\": \"markers\", \"name\": \"precision_score_macro\", \"stepped\": false, \"type\": \"scatter\", \"data\": [0.9490662405214012, 0.9497367752596657, 0.45739828498449187, 0.5798578765400663, 0.45739828498449187, 0.45739828498449187, 0.45739828498449187, 0.45739828498449187, 0.45739828498449187, 0.5757365177173409, 0.580344062653311, 0.5768272246589543, 0.5746790378752088, 0.9444767893184288, 0.45739828498449187, 0.45739828498449187, 0.5762458598082648, 0.5819443349760753, 0.5588304301709316, 0.8620218074293107, 0.45739828498449187, 0.610801099596166, 0.9018263062575109, 0.942205425626514, 0.8875721938079519, 0.9582343264485469, 0.953060043283507, 0.9495067592673294, 0.9581090950344955, 0.9541514598540146, 0.45739828498449187, 0.9468349408924503, 0.9486192679947378, 0.9518382352941177, 0.45739828498449187]}, {\"categories\": [\"0\", \"1\", \"2\", \"3\", \"4\", \"5\", \"6\", \"7\", \"8\", \"9\", \"10\", \"11\", \"12\", \"13\", \"14\", \"15\", \"16\", \"17\", \"18\", \"19\", \"20\", \"21\", \"22\", \"23\", \"24\", \"25\", \"26\", \"27\", \"28\", \"29\", \"30\", \"31\", \"33\", \"34\", \"35\"], \"mode\": \"lines\", \"name\": \"precision_score_macro_max\", \"stepped\": true, \"type\": \"scatter\", \"data\": [0.9490662405214012, 0.9497367752596657, 0.9497367752596657, 0.9497367752596657, 0.9497367752596657, 0.9497367752596657, 0.9497367752596657, 0.9497367752596657, 0.9497367752596657, 0.9497367752596657, 0.9497367752596657, 0.9497367752596657, 0.9497367752596657, 0.9497367752596657, 0.9497367752596657, 0.9497367752596657, 0.9497367752596657, 0.9497367752596657, 0.9497367752596657, 0.9497367752596657, 0.9497367752596657, 0.9497367752596657, 0.9497367752596657, 0.9497367752596657, 0.9497367752596657, 0.9582343264485469, 0.9582343264485469, 0.9582343264485469, 0.9582343264485469, 0.9582343264485469, 0.9582343264485469, 0.9582343264485469, 0.9582343264485469, 0.9582343264485469, 0.9582343264485469]}], \"average_precision_score_macro\": [{\"categories\": [\"0\", \"1\", \"2\", \"3\", \"4\", \"5\", \"6\", \"7\", \"8\", \"9\", \"10\", \"11\", \"12\", \"13\", \"14\", \"15\", \"16\", \"17\", \"18\", \"19\", \"20\", \"21\", \"22\", \"23\", \"24\", \"25\", \"26\", \"27\", \"28\", \"29\", \"30\", \"31\", \"33\", \"34\", \"35\"], \"mode\": \"markers\", \"name\": \"average_precision_score_macro\", \"stepped\": false, \"type\": \"scatter\", \"data\": [0.7996648402344646, 0.7858334013727626, 0.6466183865131819, 0.6383608948565034, 0.6005239162934909, 0.6147454456317589, 0.6391051443519801, 0.6172984693827281, 0.6554276698465302, 0.602962284744769, 0.636574228692159, 0.582996992438225, 0.5944109872443729, 0.7353922753060977, 0.6537020222249603, 0.5828705861093608, 0.6284838691084876, 0.6211781607305487, 0.5712268676121584, 0.6835325130353993, 0.6594133289728399, 0.725953344945831, 0.748762715026271, 0.7927135466102815, 0.7881791494218559, 0.6670115433027451, 0.7655848575807533, 0.7916903587065665, 0.7899478153475753, 0.7903446876312806, 0.6433019437087928, 0.7958343801770031, 0.7896704922870401, 0.7997979628149862, 0.798235040971466]}, {\"categories\": [\"0\", \"1\", \"2\", \"3\", \"4\", \"5\", \"6\", \"7\", \"8\", \"9\", \"10\", \"11\", \"12\", \"13\", \"14\", \"15\", \"16\", \"17\", \"18\", \"19\", \"20\", \"21\", \"22\", \"23\", \"24\", \"25\", \"26\", \"27\", \"28\", \"29\", \"30\", \"31\", \"33\", \"34\", \"35\"], \"mode\": \"lines\", \"name\": \"average_precision_score_macro_max\", \"stepped\": true, \"type\": \"scatter\", \"data\": [0.7996648402344646, 0.7996648402344646, 0.7996648402344646, 0.7996648402344646, 0.7996648402344646, 0.7996648402344646, 0.7996648402344646, 0.7996648402344646, 0.7996648402344646, 0.7996648402344646, 0.7996648402344646, 0.7996648402344646, 0.7996648402344646, 0.7996648402344646, 0.7996648402344646, 0.7996648402344646, 0.7996648402344646, 0.7996648402344646, 0.7996648402344646, 0.7996648402344646, 0.7996648402344646, 0.7996648402344646, 0.7996648402344646, 0.7996648402344646, 0.7996648402344646, 0.7996648402344646, 0.7996648402344646, 0.7996648402344646, 0.7996648402344646, 0.7996648402344646, 0.7996648402344646, 0.7996648402344646, 0.7996648402344646, 0.7997979628149862, 0.7997979628149862]}], \"balanced_accuracy\": [{\"categories\": [\"0\", \"1\", \"2\", \"3\", \"4\", \"5\", \"6\", \"7\", \"8\", \"9\", \"10\", \"11\", \"12\", \"13\", \"14\", \"15\", \"16\", \"17\", \"18\", \"19\", \"20\", \"21\", \"22\", \"23\", \"24\", \"25\", \"26\", \"27\", \"28\", \"29\", \"30\", \"31\", \"33\", \"34\", \"35\"], \"mode\": \"markers\", \"name\": \"balanced_accuracy\", \"stepped\": false, \"type\": \"scatter\", \"data\": [0.6652548453196148, 0.6376170277825941, 0.5, 0.7400193804243194, 0.5, 0.5, 0.5, 0.5, 0.5, 0.7237181288537704, 0.7421344432590886, 0.7242220711344424, 0.7223692291135142, 0.5586870680723525, 0.5, 0.5, 0.7346500462516516, 0.7442076532603785, 0.6702637326406832, 0.5585610825021844, 0.5, 0.7917691278125745, 0.6013876349647111, 0.6724503296551241, 0.6722980792965991, 0.5107066381156317, 0.6153325293033894, 0.6673961729427411, 0.6655540076650475, 0.6419994038106578, 0.5, 0.6683671159724933, 0.6631135176964884, 0.6642839022898624, 0.5]}, {\"categories\": [\"0\", \"1\", \"2\", \"3\", \"4\", \"5\", \"6\", \"7\", \"8\", \"9\", \"10\", \"11\", \"12\", \"13\", \"14\", \"15\", \"16\", \"17\", \"18\", \"19\", \"20\", \"21\", \"22\", \"23\", \"24\", \"25\", \"26\", \"27\", \"28\", \"29\", \"30\", \"31\", \"33\", \"34\", \"35\"], \"mode\": \"lines\", \"name\": \"balanced_accuracy_max\", \"stepped\": true, \"type\": \"scatter\", \"data\": [0.6652548453196148, 0.6652548453196148, 0.6652548453196148, 0.7400193804243194, 0.7400193804243194, 0.7400193804243194, 0.7400193804243194, 0.7400193804243194, 0.7400193804243194, 0.7400193804243194, 0.7421344432590886, 0.7421344432590886, 0.7421344432590886, 0.7421344432590886, 0.7421344432590886, 0.7421344432590886, 0.7421344432590886, 0.7442076532603785, 0.7442076532603785, 0.7442076532603785, 0.7442076532603785, 0.7917691278125745, 0.7917691278125745, 0.7917691278125745, 0.7917691278125745, 0.7917691278125745, 0.7917691278125745, 0.7917691278125745, 0.7917691278125745, 0.7917691278125745, 0.7917691278125745, 0.7917691278125745, 0.7917691278125745, 0.7917691278125745, 0.7917691278125745]}], \"accuracy\": [{\"categories\": [\"0\", \"1\", \"2\", \"3\", \"4\", \"5\", \"6\", \"7\", \"8\", \"9\", \"10\", \"11\", \"12\", \"13\", \"14\", \"15\", \"16\", \"17\", \"18\", \"19\", \"20\", \"21\", \"22\", \"23\", \"24\", \"25\", \"26\", \"27\", \"28\", \"29\", \"30\", \"31\", \"33\", \"34\", \"35\"], \"mode\": \"markers\", \"name\": \"accuracy\", \"stepped\": false, \"type\": \"scatter\", \"data\": [0.9417989417989417, 0.9374201787994891, 0.9147965699689837, 0.678890713373472, 0.9147965699689837, 0.9147965699689837, 0.9147965699689837, 0.9147965699689837, 0.9147965699689837, 0.6863711001642037, 0.6774311257069878, 0.6943988323298668, 0.6803503010399562, 0.9244663382594417, 0.9147965699689837, 0.9147965699689837, 0.6566320014595877, 0.6865535486225142, 0.6827221309979931, 0.9224594052180259, 0.9147965699689837, 0.7664659733625251, 0.929757343550447, 0.9425287356321839, 0.9386973180076629, 0.9166210545520891, 0.9339536580915891, 0.9421638387155629, 0.9423462871738734, 0.9383324210910418, 0.9147965699689837, 0.9421638387155629, 0.9414340448823207, 0.9417989417989417, 0.9147965699689837]}, {\"categories\": [\"0\", \"1\", \"2\", \"3\", \"4\", \"5\", \"6\", \"7\", \"8\", \"9\", \"10\", \"11\", \"12\", \"13\", \"14\", \"15\", \"16\", \"17\", \"18\", \"19\", \"20\", \"21\", \"22\", \"23\", \"24\", \"25\", \"26\", \"27\", \"28\", \"29\", \"30\", \"31\", \"33\", \"34\", \"35\"], \"mode\": \"lines\", \"name\": \"accuracy_max\", \"stepped\": true, \"type\": \"scatter\", \"data\": [0.9417989417989417, 0.9417989417989417, 0.9417989417989417, 0.9417989417989417, 0.9417989417989417, 0.9417989417989417, 0.9417989417989417, 0.9417989417989417, 0.9417989417989417, 0.9417989417989417, 0.9417989417989417, 0.9417989417989417, 0.9417989417989417, 0.9417989417989417, 0.9417989417989417, 0.9417989417989417, 0.9417989417989417, 0.9417989417989417, 0.9417989417989417, 0.9417989417989417, 0.9417989417989417, 0.9417989417989417, 0.9417989417989417, 0.9425287356321839, 0.9425287356321839, 0.9425287356321839, 0.9425287356321839, 0.9425287356321839, 0.9425287356321839, 0.9425287356321839, 0.9425287356321839, 0.9425287356321839, 0.9425287356321839, 0.9425287356321839, 0.9425287356321839]}], \"recall_score_macro\": [{\"categories\": [\"0\", \"1\", \"2\", \"3\", \"4\", \"5\", \"6\", \"7\", \"8\", \"9\", \"10\", \"11\", \"12\", \"13\", \"14\", \"15\", \"16\", \"17\", \"18\", \"19\", \"20\", \"21\", \"22\", \"23\", \"24\", \"25\", \"26\", \"27\", \"28\", \"29\", \"30\", \"31\", \"33\", \"34\", \"35\"], \"mode\": \"markers\", \"name\": \"recall_score_macro\", \"stepped\": false, \"type\": \"scatter\", \"data\": [0.6652548453196148, 0.6376170277825941, 0.5, 0.7400193804243194, 0.5, 0.5, 0.5, 0.5, 0.5, 0.7237181288537704, 0.7421344432590886, 0.7242220711344424, 0.7223692291135142, 0.5586870680723525, 0.5, 0.5, 0.7346500462516516, 0.7442076532603785, 0.6702637326406832, 0.5585610825021844, 0.5, 0.7917691278125745, 0.6013876349647111, 0.6724503296551241, 0.6722980792965991, 0.5107066381156317, 0.6153325293033894, 0.6673961729427411, 0.6655540076650475, 0.6419994038106578, 0.5, 0.6683671159724933, 0.6631135176964884, 0.6642839022898624, 0.5]}, {\"categories\": [\"0\", \"1\", \"2\", \"3\", \"4\", \"5\", \"6\", \"7\", \"8\", \"9\", \"10\", \"11\", \"12\", \"13\", \"14\", \"15\", \"16\", \"17\", \"18\", \"19\", \"20\", \"21\", \"22\", \"23\", \"24\", \"25\", \"26\", \"27\", \"28\", \"29\", \"30\", \"31\", \"33\", \"34\", \"35\"], \"mode\": \"lines\", \"name\": \"recall_score_macro_max\", \"stepped\": true, \"type\": \"scatter\", \"data\": [0.6652548453196148, 0.6652548453196148, 0.6652548453196148, 0.7400193804243194, 0.7400193804243194, 0.7400193804243194, 0.7400193804243194, 0.7400193804243194, 0.7400193804243194, 0.7400193804243194, 0.7421344432590886, 0.7421344432590886, 0.7421344432590886, 0.7421344432590886, 0.7421344432590886, 0.7421344432590886, 0.7421344432590886, 0.7442076532603785, 0.7442076532603785, 0.7442076532603785, 0.7442076532603785, 0.7917691278125745, 0.7917691278125745, 0.7917691278125745, 0.7917691278125745, 0.7917691278125745, 0.7917691278125745, 0.7917691278125745, 0.7917691278125745, 0.7917691278125745, 0.7917691278125745, 0.7917691278125745, 0.7917691278125745, 0.7917691278125745, 0.7917691278125745]}], \"f1_score_macro\": [{\"categories\": [\"0\", \"1\", \"2\", \"3\", \"4\", \"5\", \"6\", \"7\", \"8\", \"9\", \"10\", \"11\", \"12\", \"13\", \"14\", \"15\", \"16\", \"17\", \"18\", \"19\", \"20\", \"21\", \"22\", \"23\", \"24\", \"25\", \"26\", \"27\", \"28\", \"29\", \"30\", \"31\", \"33\", \"34\", \"35\"], \"mode\": \"markers\", \"name\": \"f1_score_macro\", \"stepped\": false, \"type\": \"scatter\", \"data\": [0.7309869116758523, 0.6980898065685652, 0.47775131014768935, 0.5465529495380241, 0.47775131014768935, 0.47775131014768935, 0.47775131014768935, 0.47775131014768935, 0.47775131014768935, 0.5464911548139207, 0.5462559686601095, 0.551202095996093, 0.5427130184074602, 0.5851304467382099, 0.47775131014768935, 0.47775131014768935, 0.5324162348889901, 0.5521000647280224, 0.5291818833803478, 0.5838993609581609, 0.47775131014768935, 0.6157028270136864, 0.6478414657856244, 0.7382639340840158, 0.7306741044582291, 0.4991713229141361, 0.6694205485148831, 0.7334692364202887, 0.7323174561568364, 0.703882784398021, 0.47775131014768935, 0.7342599105541432, 0.7284893854903786, 0.7301810404094417, 0.47775131014768935]}, {\"categories\": [\"0\", \"1\", \"2\", \"3\", \"4\", \"5\", \"6\", \"7\", \"8\", \"9\", \"10\", \"11\", \"12\", \"13\", \"14\", \"15\", \"16\", \"17\", \"18\", \"19\", \"20\", \"21\", \"22\", \"23\", \"24\", \"25\", \"26\", \"27\", \"28\", \"29\", \"30\", \"31\", \"33\", \"34\", \"35\"], \"mode\": \"lines\", \"name\": \"f1_score_macro_max\", \"stepped\": true, \"type\": \"scatter\", \"data\": [0.7309869116758523, 0.7309869116758523, 0.7309869116758523, 0.7309869116758523, 0.7309869116758523, 0.7309869116758523, 0.7309869116758523, 0.7309869116758523, 0.7309869116758523, 0.7309869116758523, 0.7309869116758523, 0.7309869116758523, 0.7309869116758523, 0.7309869116758523, 0.7309869116758523, 0.7309869116758523, 0.7309869116758523, 0.7309869116758523, 0.7309869116758523, 0.7309869116758523, 0.7309869116758523, 0.7309869116758523, 0.7309869116758523, 0.7382639340840158, 0.7382639340840158, 0.7382639340840158, 0.7382639340840158, 0.7382639340840158, 0.7382639340840158, 0.7382639340840158, 0.7382639340840158, 0.7382639340840158, 0.7382639340840158, 0.7382639340840158, 0.7382639340840158]}], \"recall_score_micro\": [{\"categories\": [\"0\", \"1\", \"2\", \"3\", \"4\", \"5\", \"6\", \"7\", \"8\", \"9\", \"10\", \"11\", \"12\", \"13\", \"14\", \"15\", \"16\", \"17\", \"18\", \"19\", \"20\", \"21\", \"22\", \"23\", \"24\", \"25\", \"26\", \"27\", \"28\", \"29\", \"30\", \"31\", \"33\", \"34\", \"35\"], \"mode\": \"markers\", \"name\": \"recall_score_micro\", \"stepped\": false, \"type\": \"scatter\", \"data\": [0.9417989417989417, 0.9374201787994891, 0.9147965699689837, 0.678890713373472, 0.9147965699689837, 0.9147965699689837, 0.9147965699689837, 0.9147965699689837, 0.9147965699689837, 0.6863711001642037, 0.6774311257069878, 0.6943988323298668, 0.6803503010399562, 0.9244663382594417, 0.9147965699689837, 0.9147965699689837, 0.6566320014595877, 0.6865535486225142, 0.6827221309979931, 0.9224594052180259, 0.9147965699689837, 0.7664659733625251, 0.929757343550447, 0.9425287356321839, 0.9386973180076629, 0.9166210545520891, 0.9339536580915891, 0.9421638387155629, 0.9423462871738734, 0.9383324210910418, 0.9147965699689837, 0.9421638387155629, 0.9414340448823207, 0.9417989417989417, 0.9147965699689837]}, {\"categories\": [\"0\", \"1\", \"2\", \"3\", \"4\", \"5\", \"6\", \"7\", \"8\", \"9\", \"10\", \"11\", \"12\", \"13\", \"14\", \"15\", \"16\", \"17\", \"18\", \"19\", \"20\", \"21\", \"22\", \"23\", \"24\", \"25\", \"26\", \"27\", \"28\", \"29\", \"30\", \"31\", \"33\", \"34\", \"35\"], \"mode\": \"lines\", \"name\": \"recall_score_micro_max\", \"stepped\": true, \"type\": \"scatter\", \"data\": [0.9417989417989417, 0.9417989417989417, 0.9417989417989417, 0.9417989417989417, 0.9417989417989417, 0.9417989417989417, 0.9417989417989417, 0.9417989417989417, 0.9417989417989417, 0.9417989417989417, 0.9417989417989417, 0.9417989417989417, 0.9417989417989417, 0.9417989417989417, 0.9417989417989417, 0.9417989417989417, 0.9417989417989417, 0.9417989417989417, 0.9417989417989417, 0.9417989417989417, 0.9417989417989417, 0.9417989417989417, 0.9417989417989417, 0.9425287356321839, 0.9425287356321839, 0.9425287356321839, 0.9425287356321839, 0.9425287356321839, 0.9425287356321839, 0.9425287356321839, 0.9425287356321839, 0.9425287356321839, 0.9425287356321839, 0.9425287356321839, 0.9425287356321839]}], \"AUC_micro\": [{\"categories\": [\"0\", \"1\", \"2\", \"3\", \"4\", \"5\", \"6\", \"7\", \"8\", \"9\", \"10\", \"11\", \"12\", \"13\", \"14\", \"15\", \"16\", \"17\", \"18\", \"19\", \"20\", \"21\", \"22\", \"23\", \"24\", \"25\", \"26\", \"27\", \"28\", \"29\", \"30\", \"31\", \"33\", \"34\", \"35\"], \"mode\": \"markers\", \"name\": \"AUC_micro\", \"stepped\": false, \"type\": \"scatter\", \"data\": [0.9814193504748338, 0.9789913646056183, 0.9631039019836686, 0.8030249028997055, 0.9576739216309141, 0.9613405331402928, 0.9651925224026968, 0.9623618583725283, 0.9618472012636179, 0.7810579221094545, 0.7807537747707236, 0.7473517594625623, 0.755572958229156, 0.9723364397505159, 0.9622075710884072, 0.9582672702478426, 0.7784037813732873, 0.7749452829384128, 0.724997279583971, 0.9683263018609577, 0.9657163335575909, 0.869998499735082, 0.9752363749431991, 0.9804962564778607, 0.9800341269491751, 0.9676207079965519, 0.9767623377649235, 0.9803661691625757, 0.9799593300716303, 0.9794651114508428, 0.9641077513099356, 0.9809224522151311, 0.9800649844059994, 0.9806236807979505, 0.9778406510943363]}, {\"categories\": [\"0\", \"1\", \"2\", \"3\", \"4\", \"5\", \"6\", \"7\", \"8\", \"9\", \"10\", \"11\", \"12\", \"13\", \"14\", \"15\", \"16\", \"17\", \"18\", \"19\", \"20\", \"21\", \"22\", \"23\", \"24\", \"25\", \"26\", \"27\", \"28\", \"29\", \"30\", \"31\", \"33\", \"34\", \"35\"], \"mode\": \"lines\", \"name\": \"AUC_micro_max\", \"stepped\": true, \"type\": \"scatter\", \"data\": [0.9814193504748338, 0.9814193504748338, 0.9814193504748338, 0.9814193504748338, 0.9814193504748338, 0.9814193504748338, 0.9814193504748338, 0.9814193504748338, 0.9814193504748338, 0.9814193504748338, 0.9814193504748338, 0.9814193504748338, 0.9814193504748338, 0.9814193504748338, 0.9814193504748338, 0.9814193504748338, 0.9814193504748338, 0.9814193504748338, 0.9814193504748338, 0.9814193504748338, 0.9814193504748338, 0.9814193504748338, 0.9814193504748338, 0.9814193504748338, 0.9814193504748338, 0.9814193504748338, 0.9814193504748338, 0.9814193504748338, 0.9814193504748338, 0.9814193504748338, 0.9814193504748338, 0.9814193504748338, 0.9814193504748338, 0.9814193504748338, 0.9814193504748338]}], \"norm_macro_recall\": [{\"categories\": [\"0\", \"1\", \"2\", \"3\", \"4\", \"5\", \"6\", \"7\", \"8\", \"9\", \"10\", \"11\", \"12\", \"13\", \"14\", \"15\", \"16\", \"17\", \"18\", \"19\", \"20\", \"21\", \"22\", \"23\", \"24\", \"25\", \"26\", \"27\", \"28\", \"29\", \"30\", \"31\", \"33\", \"34\", \"35\"], \"mode\": \"markers\", \"name\": \"norm_macro_recall\", \"stepped\": false, \"type\": \"scatter\", \"data\": [0.3305096906392295, 0.2752340555651882, 0.0, 0.4800387608486387, 0.0, 0.0, 0.0, 0.0, 0.0, 0.4474362577075408, 0.48426888651817723, 0.44844414226888474, 0.4447384582270284, 0.11737413614470493, 0.0, 0.0, 0.4693000925033033, 0.48841530652075704, 0.34052746528136635, 0.11712216500436878, 0.0, 0.5835382556251489, 0.2027752699294223, 0.34490065931024816, 0.34459615859319825, 0.021413276231263323, 0.23066505860677888, 0.33479234588548223, 0.33110801533009493, 0.2839988076213156, 0.0, 0.33673423194498664, 0.3262270353929768, 0.3285678045797249, 0.0]}, {\"categories\": [\"0\", \"1\", \"2\", \"3\", \"4\", \"5\", \"6\", \"7\", \"8\", \"9\", \"10\", \"11\", \"12\", \"13\", \"14\", \"15\", \"16\", \"17\", \"18\", \"19\", \"20\", \"21\", \"22\", \"23\", \"24\", \"25\", \"26\", \"27\", \"28\", \"29\", \"30\", \"31\", \"33\", \"34\", \"35\"], \"mode\": \"lines\", \"name\": \"norm_macro_recall_max\", \"stepped\": true, \"type\": \"scatter\", \"data\": [0.3305096906392295, 0.3305096906392295, 0.3305096906392295, 0.4800387608486387, 0.4800387608486387, 0.4800387608486387, 0.4800387608486387, 0.4800387608486387, 0.4800387608486387, 0.4800387608486387, 0.48426888651817723, 0.48426888651817723, 0.48426888651817723, 0.48426888651817723, 0.48426888651817723, 0.48426888651817723, 0.48426888651817723, 0.48841530652075704, 0.48841530652075704, 0.48841530652075704, 0.48841530652075704, 0.5835382556251489, 0.5835382556251489, 0.5835382556251489, 0.5835382556251489, 0.5835382556251489, 0.5835382556251489, 0.5835382556251489, 0.5835382556251489, 0.5835382556251489, 0.5835382556251489, 0.5835382556251489, 0.5835382556251489, 0.5835382556251489, 0.5835382556251489]}], \"precision_score_micro\": [{\"categories\": [\"0\", \"1\", \"2\", \"3\", \"4\", \"5\", \"6\", \"7\", \"8\", \"9\", \"10\", \"11\", \"12\", \"13\", \"14\", \"15\", \"16\", \"17\", \"18\", \"19\", \"20\", \"21\", \"22\", \"23\", \"24\", \"25\", \"26\", \"27\", \"28\", \"29\", \"30\", \"31\", \"33\", \"34\", \"35\"], \"mode\": \"markers\", \"name\": \"precision_score_micro\", \"stepped\": false, \"type\": \"scatter\", \"data\": [0.9417989417989417, 0.9374201787994891, 0.9147965699689837, 0.678890713373472, 0.9147965699689837, 0.9147965699689837, 0.9147965699689837, 0.9147965699689837, 0.9147965699689837, 0.6863711001642037, 0.6774311257069878, 0.6943988323298668, 0.6803503010399562, 0.9244663382594417, 0.9147965699689837, 0.9147965699689837, 0.6566320014595877, 0.6865535486225142, 0.6827221309979931, 0.9224594052180259, 0.9147965699689837, 0.7664659733625251, 0.929757343550447, 0.9425287356321839, 0.9386973180076629, 0.9166210545520891, 0.9339536580915891, 0.9421638387155629, 0.9423462871738734, 0.9383324210910418, 0.9147965699689837, 0.9421638387155629, 0.9414340448823207, 0.9417989417989417, 0.9147965699689837]}, {\"categories\": [\"0\", \"1\", \"2\", \"3\", \"4\", \"5\", \"6\", \"7\", \"8\", \"9\", \"10\", \"11\", \"12\", \"13\", \"14\", \"15\", \"16\", \"17\", \"18\", \"19\", \"20\", \"21\", \"22\", \"23\", \"24\", \"25\", \"26\", \"27\", \"28\", \"29\", \"30\", \"31\", \"33\", \"34\", \"35\"], \"mode\": \"lines\", \"name\": \"precision_score_micro_max\", \"stepped\": true, \"type\": \"scatter\", \"data\": [0.9417989417989417, 0.9417989417989417, 0.9417989417989417, 0.9417989417989417, 0.9417989417989417, 0.9417989417989417, 0.9417989417989417, 0.9417989417989417, 0.9417989417989417, 0.9417989417989417, 0.9417989417989417, 0.9417989417989417, 0.9417989417989417, 0.9417989417989417, 0.9417989417989417, 0.9417989417989417, 0.9417989417989417, 0.9417989417989417, 0.9417989417989417, 0.9417989417989417, 0.9417989417989417, 0.9417989417989417, 0.9417989417989417, 0.9425287356321839, 0.9425287356321839, 0.9425287356321839, 0.9425287356321839, 0.9425287356321839, 0.9425287356321839, 0.9425287356321839, 0.9425287356321839, 0.9425287356321839, 0.9425287356321839, 0.9425287356321839, 0.9425287356321839]}], \"average_precision_score_micro\": [{\"categories\": [\"0\", \"1\", \"2\", \"3\", \"4\", \"5\", \"6\", \"7\", \"8\", \"9\", \"10\", \"11\", \"12\", \"13\", \"14\", \"15\", \"16\", \"17\", \"18\", \"19\", \"20\", \"21\", \"22\", \"23\", \"24\", \"25\", \"26\", \"27\", \"28\", \"29\", \"30\", \"31\", \"33\", \"34\", \"35\"], \"mode\": \"markers\", \"name\": \"average_precision_score_micro\", \"stepped\": false, \"type\": \"scatter\", \"data\": [0.9820579327658705, 0.9796490797056334, 0.9634189250795919, 0.8140768788773097, 0.9566285241326506, 0.9617928719962541, 0.9662068534383704, 0.9626663936072892, 0.9604913680867617, 0.7965570241185692, 0.8002485037110137, 0.7634725786536, 0.7728804374766852, 0.9724028197457868, 0.96095908075663, 0.9578800871363062, 0.8069413507307375, 0.7862076199901176, 0.725764079204009, 0.9693238976392824, 0.9663380794790497, 0.8738604749500664, 0.975731040736021, 0.981165758058774, 0.9807004627681699, 0.9685852547722028, 0.9774964949842988, 0.9810292828541652, 0.9805909202373078, 0.9801137872252786, 0.9643729516851431, 0.9815838108094791, 0.9805927910687133, 0.9812876869641739, 0.9786689225796076]}, {\"categories\": [\"0\", \"1\", \"2\", \"3\", \"4\", \"5\", \"6\", \"7\", \"8\", \"9\", \"10\", \"11\", \"12\", \"13\", \"14\", \"15\", \"16\", \"17\", \"18\", \"19\", \"20\", \"21\", \"22\", \"23\", \"24\", \"25\", \"26\", \"27\", \"28\", \"29\", \"30\", \"31\", \"33\", \"34\", \"35\"], \"mode\": \"lines\", \"name\": \"average_precision_score_micro_max\", \"stepped\": true, \"type\": \"scatter\", \"data\": [0.9820579327658705, 0.9820579327658705, 0.9820579327658705, 0.9820579327658705, 0.9820579327658705, 0.9820579327658705, 0.9820579327658705, 0.9820579327658705, 0.9820579327658705, 0.9820579327658705, 0.9820579327658705, 0.9820579327658705, 0.9820579327658705, 0.9820579327658705, 0.9820579327658705, 0.9820579327658705, 0.9820579327658705, 0.9820579327658705, 0.9820579327658705, 0.9820579327658705, 0.9820579327658705, 0.9820579327658705, 0.9820579327658705, 0.9820579327658705, 0.9820579327658705, 0.9820579327658705, 0.9820579327658705, 0.9820579327658705, 0.9820579327658705, 0.9820579327658705, 0.9820579327658705, 0.9820579327658705, 0.9820579327658705, 0.9820579327658705, 0.9820579327658705]}], \"log_loss\": [{\"categories\": [\"0\", \"1\", \"2\", \"3\", \"4\", \"5\", \"6\", \"7\", \"8\", \"9\", \"10\", \"11\", \"12\", \"13\", \"14\", \"15\", \"16\", \"17\", \"18\", \"19\", \"20\", \"21\", \"22\", \"23\", \"24\", \"25\", \"26\", \"27\", \"28\", \"29\", \"30\", \"31\", \"33\", \"34\", \"35\"], \"mode\": \"markers\", \"name\": \"log_loss\", \"stepped\": false, \"type\": \"scatter\", \"data\": [0.16553463368413412, 0.18048291614757236, 0.24827342793037885, 0.6099984753619851, 0.26974069322074845, 0.24312516515907887, 0.23977828030158194, 0.25622198569393995, 0.26354956022436665, 0.6047406988086158, 0.5982727565236122, 0.6041657231183014, 0.6585226111540633, 0.33571178207509905, 0.2573034644940243, 0.2484593355873116, 0.5531931719917987, 0.6272180766778518, 0.6614431598285146, 0.2251844528122292, 0.25245541792240606, 0.45278073696017906, 0.1998742172281418, 0.16889564540008692, 0.17869827077062944, 0.2372435822942889, 0.1895672548542006, 0.16916387038025185, 0.17144823506972243, 0.17810481050990248, 0.27661114011122084, 0.16747901773278587, 0.19295373805131394, 0.20588742993815792, 0.26357414587530803]}, {\"categories\": [\"0\", \"1\", \"2\", \"3\", \"4\", \"5\", \"6\", \"7\", \"8\", \"9\", \"10\", \"11\", \"12\", \"13\", \"14\", \"15\", \"16\", \"17\", \"18\", \"19\", \"20\", \"21\", \"22\", \"23\", \"24\", \"25\", \"26\", \"27\", \"28\", \"29\", \"30\", \"31\", \"33\", \"34\", \"35\"], \"mode\": \"lines\", \"name\": \"log_loss_min\", \"stepped\": true, \"type\": \"scatter\", \"data\": [0.16553463368413412, 0.16553463368413412, 0.16553463368413412, 0.16553463368413412, 0.16553463368413412, 0.16553463368413412, 0.16553463368413412, 0.16553463368413412, 0.16553463368413412, 0.16553463368413412, 0.16553463368413412, 0.16553463368413412, 0.16553463368413412, 0.16553463368413412, 0.16553463368413412, 0.16553463368413412, 0.16553463368413412, 0.16553463368413412, 0.16553463368413412, 0.16553463368413412, 0.16553463368413412, 0.16553463368413412, 0.16553463368413412, 0.16553463368413412, 0.16553463368413412, 0.16553463368413412, 0.16553463368413412, 0.16553463368413412, 0.16553463368413412, 0.16553463368413412, 0.16553463368413412, 0.16553463368413412, 0.16553463368413412, 0.16553463368413412, 0.16553463368413412]}], \"weighted_accuracy\": [{\"categories\": [\"0\", \"1\", \"2\", \"3\", \"4\", \"5\", \"6\", \"7\", \"8\", \"9\", \"10\", \"11\", \"12\", \"13\", \"14\", \"15\", \"16\", \"17\", \"18\", \"19\", \"20\", \"21\", \"22\", \"23\", \"24\", \"25\", \"26\", \"27\", \"28\", \"29\", \"30\", \"31\", \"33\", \"34\", \"35\"], \"mode\": \"markers\", \"name\": \"weighted_accuracy\", \"stepped\": false, \"type\": \"scatter\", \"data\": [0.9928701014283892, 0.9927867361692638, 0.9913996944193979, 0.6676016930955702, 0.9913996944193979, 0.9913996944193979, 0.9913996944193979, 0.9913996944193979, 0.9913996944193979, 0.6794739865097343, 0.6654819519537698, 0.6888911848731095, 0.6725903979705252, 0.9920171257638282, 0.9913996944193979, 0.9913996944193979, 0.642223912224348, 0.6759061979151981, 0.6850229027712246, 0.9896628261729845, 0.9913996944193979, 0.7617930786723156, 0.9903994690492673, 0.992405835016051, 0.9878949621395925, 0.9915838551384686, 0.9927954512696738, 0.9929069335722033, 0.9934632803440769, 0.9930581267621212, 0.9913996944193979, 0.9927276233388811, 0.992833269284575, 0.9930494116617113, 0.9913996944193979]}, {\"categories\": [\"0\", \"1\", \"2\", \"3\", \"4\", \"5\", \"6\", \"7\", \"8\", \"9\", \"10\", \"11\", \"12\", \"13\", \"14\", \"15\", \"16\", \"17\", \"18\", \"19\", \"20\", \"21\", \"22\", \"23\", \"24\", \"25\", \"26\", \"27\", \"28\", \"29\", \"30\", \"31\", \"33\", \"34\", \"35\"], \"mode\": \"lines\", \"name\": \"weighted_accuracy_max\", \"stepped\": true, \"type\": \"scatter\", \"data\": [0.9928701014283892, 0.9928701014283892, 0.9928701014283892, 0.9928701014283892, 0.9928701014283892, 0.9928701014283892, 0.9928701014283892, 0.9928701014283892, 0.9928701014283892, 0.9928701014283892, 0.9928701014283892, 0.9928701014283892, 0.9928701014283892, 0.9928701014283892, 0.9928701014283892, 0.9928701014283892, 0.9928701014283892, 0.9928701014283892, 0.9928701014283892, 0.9928701014283892, 0.9928701014283892, 0.9928701014283892, 0.9928701014283892, 0.9928701014283892, 0.9928701014283892, 0.9928701014283892, 0.9928701014283892, 0.9929069335722033, 0.9934632803440769, 0.9934632803440769, 0.9934632803440769, 0.9934632803440769, 0.9934632803440769, 0.9934632803440769, 0.9934632803440769]}], \"matthews_correlation\": [{\"categories\": [\"0\", \"1\", \"2\", \"3\", \"4\", \"5\", \"6\", \"7\", \"8\", \"9\", \"10\", \"11\", \"12\", \"13\", \"14\", \"15\", \"16\", \"17\", \"18\", \"19\", \"20\", \"21\", \"22\", \"23\", \"24\", \"25\", \"26\", \"27\", \"28\", \"29\", \"30\", \"31\", \"33\", \"34\", \"35\"], \"mode\": \"markers\", \"name\": \"matthews_correlation\", \"stepped\": false, \"type\": \"scatter\", \"data\": [0.5448316147788235, 0.4975597986001833, 0.0, 0.27689303385349734, 0.0, 0.0, 0.0, 0.0, 0.0, 0.2603354146452144, 0.2789556586967383, 0.2624984528148067, 0.25773102322575847, 0.3230172725493873, 0.0, 0.0, 0.2675151923200347, 0.28292354969135897, 0.20016681676801348, 0.2912070667580565, 0.0, 0.3596016695725845, 0.40368412828871425, 0.5522987286770695, 0.5168285773131334, 0.1400878168213757, 0.4571763804843377, 0.548619034351689, 0.5507877871949189, 0.5078946211135139, 0.0, 0.5485701789700252, 0.5410207645148024, 0.544902738102435, 0.0]}, {\"categories\": [\"0\", \"1\", \"2\", \"3\", \"4\", \"5\", \"6\", \"7\", \"8\", \"9\", \"10\", \"11\", \"12\", \"13\", \"14\", \"15\", \"16\", \"17\", \"18\", \"19\", \"20\", \"21\", \"22\", \"23\", \"24\", \"25\", \"26\", \"27\", \"28\", \"29\", \"30\", \"31\", \"33\", \"34\", \"35\"], \"mode\": \"lines\", \"name\": \"matthews_correlation_max\", \"stepped\": true, \"type\": \"scatter\", \"data\": [0.5448316147788235, 0.5448316147788235, 0.5448316147788235, 0.5448316147788235, 0.5448316147788235, 0.5448316147788235, 0.5448316147788235, 0.5448316147788235, 0.5448316147788235, 0.5448316147788235, 0.5448316147788235, 0.5448316147788235, 0.5448316147788235, 0.5448316147788235, 0.5448316147788235, 0.5448316147788235, 0.5448316147788235, 0.5448316147788235, 0.5448316147788235, 0.5448316147788235, 0.5448316147788235, 0.5448316147788235, 0.5448316147788235, 0.5522987286770695, 0.5522987286770695, 0.5522987286770695, 0.5522987286770695, 0.5522987286770695, 0.5522987286770695, 0.5522987286770695, 0.5522987286770695, 0.5522987286770695, 0.5522987286770695, 0.5522987286770695, 0.5522987286770695]}], \"recall_score_weighted\": [{\"categories\": [\"0\", \"1\", \"2\", \"3\", \"4\", \"5\", \"6\", \"7\", \"8\", \"9\", \"10\", \"11\", \"12\", \"13\", \"14\", \"15\", \"16\", \"17\", \"18\", \"19\", \"20\", \"21\", \"22\", \"23\", \"24\", \"25\", \"26\", \"27\", \"28\", \"29\", \"30\", \"31\", \"33\", \"34\", \"35\"], \"mode\": \"markers\", \"name\": \"recall_score_weighted\", \"stepped\": false, \"type\": \"scatter\", \"data\": [0.9417989417989417, 0.9374201787994891, 0.9147965699689837, 0.678890713373472, 0.9147965699689837, 0.9147965699689837, 0.9147965699689837, 0.9147965699689837, 0.9147965699689837, 0.6863711001642036, 0.6774311257069878, 0.6943988323298668, 0.6803503010399562, 0.9244663382594417, 0.9147965699689837, 0.9147965699689837, 0.6566320014595877, 0.6865535486225142, 0.6827221309979932, 0.9224594052180259, 0.9147965699689837, 0.7664659733625251, 0.929757343550447, 0.9425287356321839, 0.9386973180076629, 0.9166210545520891, 0.9339536580915891, 0.9421638387155629, 0.9423462871738734, 0.9383324210910418, 0.9147965699689837, 0.9421638387155629, 0.9414340448823207, 0.9417989417989417, 0.9147965699689837]}, {\"categories\": [\"0\", \"1\", \"2\", \"3\", \"4\", \"5\", \"6\", \"7\", \"8\", \"9\", \"10\", \"11\", \"12\", \"13\", \"14\", \"15\", \"16\", \"17\", \"18\", \"19\", \"20\", \"21\", \"22\", \"23\", \"24\", \"25\", \"26\", \"27\", \"28\", \"29\", \"30\", \"31\", \"33\", \"34\", \"35\"], \"mode\": \"lines\", \"name\": \"recall_score_weighted_max\", \"stepped\": true, \"type\": \"scatter\", \"data\": [0.9417989417989417, 0.9417989417989417, 0.9417989417989417, 0.9417989417989417, 0.9417989417989417, 0.9417989417989417, 0.9417989417989417, 0.9417989417989417, 0.9417989417989417, 0.9417989417989417, 0.9417989417989417, 0.9417989417989417, 0.9417989417989417, 0.9417989417989417, 0.9417989417989417, 0.9417989417989417, 0.9417989417989417, 0.9417989417989417, 0.9417989417989417, 0.9417989417989417, 0.9417989417989417, 0.9417989417989417, 0.9417989417989417, 0.9425287356321839, 0.9425287356321839, 0.9425287356321839, 0.9425287356321839, 0.9425287356321839, 0.9425287356321839, 0.9425287356321839, 0.9425287356321839, 0.9425287356321839, 0.9425287356321839, 0.9425287356321839, 0.9425287356321839]}], \"f1_score_weighted\": [{\"categories\": [\"0\", \"1\", \"2\", \"3\", \"4\", \"5\", \"6\", \"7\", \"8\", \"9\", \"10\", \"11\", \"12\", \"13\", \"14\", \"15\", \"16\", \"17\", \"18\", \"19\", \"20\", \"21\", \"22\", \"23\", \"24\", \"25\", \"26\", \"27\", \"28\", \"29\", \"30\", \"31\", \"33\", \"34\", \"35\"], \"mode\": \"markers\", \"name\": \"f1_score_weighted\", \"stepped\": false, \"type\": \"scatter\", \"data\": [0.9285471550743866, 0.9210888234812723, 0.8740905196425887, 0.7497747705984028, 0.8740905196425887, 0.8740905196425887, 0.8740905196425887, 0.8740905196425887, 0.8740905196425887, 0.7554379719978025, 0.7486493989594497, 0.7615107394423686, 0.7508396310213478, 0.8963994196546998, 0.8740905196425887, 0.8740905196425887, 0.7323486563390812, 0.7556831454034317, 0.7522322047597193, 0.8952732527966736, 0.8740905196425887, 0.8153882410679159, 0.9092345115027225, 0.9300838540839167, 0.927037308113881, 0.8784966486051378, 0.9147462775063743, 0.9291258047989714, 0.9290221100465309, 0.9224684924240956, 0.8740905196425887, 0.9292556121527356, 0.9279659751597565, 0.9284147852833718, 0.8740905196425887]}, {\"categories\": [\"0\", \"1\", \"2\", \"3\", \"4\", \"5\", \"6\", \"7\", \"8\", \"9\", \"10\", \"11\", \"12\", \"13\", \"14\", \"15\", \"16\", \"17\", \"18\", \"19\", \"20\", \"21\", \"22\", \"23\", \"24\", \"25\", \"26\", \"27\", \"28\", \"29\", \"30\", \"31\", \"33\", \"34\", \"35\"], \"mode\": \"lines\", \"name\": \"f1_score_weighted_max\", \"stepped\": true, \"type\": \"scatter\", \"data\": [0.9285471550743866, 0.9285471550743866, 0.9285471550743866, 0.9285471550743866, 0.9285471550743866, 0.9285471550743866, 0.9285471550743866, 0.9285471550743866, 0.9285471550743866, 0.9285471550743866, 0.9285471550743866, 0.9285471550743866, 0.9285471550743866, 0.9285471550743866, 0.9285471550743866, 0.9285471550743866, 0.9285471550743866, 0.9285471550743866, 0.9285471550743866, 0.9285471550743866, 0.9285471550743866, 0.9285471550743866, 0.9285471550743866, 0.9300838540839167, 0.9300838540839167, 0.9300838540839167, 0.9300838540839167, 0.9300838540839167, 0.9300838540839167, 0.9300838540839167, 0.9300838540839167, 0.9300838540839167, 0.9300838540839167, 0.9300838540839167, 0.9300838540839167]}], \"precision_score_weighted\": [{\"categories\": [\"0\", \"1\", \"2\", \"3\", \"4\", \"5\", \"6\", \"7\", \"8\", \"9\", \"10\", \"11\", \"12\", \"13\", \"14\", \"15\", \"16\", \"17\", \"18\", \"19\", \"20\", \"21\", \"22\", \"23\", \"24\", \"25\", \"26\", \"27\", \"28\", \"29\", \"30\", \"31\", \"33\", \"34\", \"35\"], \"mode\": \"markers\", \"name\": \"precision_score_weighted\", \"stepped\": false, \"type\": \"scatter\", \"data\": [0.9426585602245185, 0.9389937167320572, 0.8368527644270178, 0.9073504649629722, 0.8368527644270178, 0.8368527644270178, 0.8368527644270178, 0.8368527644270178, 0.8368527644270178, 0.9021839196549691, 0.9080759674083729, 0.9018108721237806, 0.9022095311336318, 0.9275236458555605, 0.8368527644270178, 0.8368527644270178, 0.9076291654189312, 0.9079608493354702, 0.8876894865986308, 0.9134746733992205, 0.8368527644270178, 0.9160223936951891, 0.9259666648530215, 0.9424916024993544, 0.9332702358240883, 0.9235858101853727, 0.936540413417059, 0.9430273764323046, 0.9442269553207151, 0.9403375229891717, 0.8368527644270178, 0.9427099648585976, 0.9422888650704673, 0.9429933084344849, 0.8368527644270178]}, {\"categories\": [\"0\", \"1\", \"2\", \"3\", \"4\", \"5\", \"6\", \"7\", \"8\", \"9\", \"10\", \"11\", \"12\", \"13\", \"14\", \"15\", \"16\", \"17\", \"18\", \"19\", \"20\", \"21\", \"22\", \"23\", \"24\", \"25\", \"26\", \"27\", \"28\", \"29\", \"30\", \"31\", \"33\", \"34\", \"35\"], \"mode\": \"lines\", \"name\": \"precision_score_weighted_max\", \"stepped\": true, \"type\": \"scatter\", \"data\": [0.9426585602245185, 0.9426585602245185, 0.9426585602245185, 0.9426585602245185, 0.9426585602245185, 0.9426585602245185, 0.9426585602245185, 0.9426585602245185, 0.9426585602245185, 0.9426585602245185, 0.9426585602245185, 0.9426585602245185, 0.9426585602245185, 0.9426585602245185, 0.9426585602245185, 0.9426585602245185, 0.9426585602245185, 0.9426585602245185, 0.9426585602245185, 0.9426585602245185, 0.9426585602245185, 0.9426585602245185, 0.9426585602245185, 0.9426585602245185, 0.9426585602245185, 0.9426585602245185, 0.9426585602245185, 0.9430273764323046, 0.9442269553207151, 0.9442269553207151, 0.9442269553207151, 0.9442269553207151, 0.9442269553207151, 0.9442269553207151, 0.9442269553207151]}]}, \"metricName\": null, \"primaryMetricName\": \"AUC_weighted\", \"showLegend\": false}, \"run_metrics\": [{\"name\": \"experiment_status\", \"run_id\": \"AutoML_3ac66915-f932-48f2-9dae-5928a6205a96\", \"categories\": [0, 1, 2, 3, 4, 5, 6, 7, 8, 9, 10, 11, 12, 13], \"series\": [{\"data\": [\"DatasetEvaluation\", \"FeaturesGeneration\", \"DatasetFeaturization\", \"DatasetFeaturizationCompleted\", \"DatasetBalancing\", \"ModelSelection\", \"BestRunExplainModel\", \"ModelExplanationDataSetSetup\", \"PickSurrogateModel\", \"EngineeredFeatureExplanations\", \"EngineeredFeatureExplanations\", \"RawFeaturesExplanations\", \"RawFeaturesExplanations\", \"BestRunExplainModel\"]}]}, {\"name\": \"experiment_status_description\", \"run_id\": \"AutoML_3ac66915-f932-48f2-9dae-5928a6205a96\", \"categories\": [0, 1, 2, 3, 4, 5, 6, 7, 8, 9, 10, 11, 12, 13], \"series\": [{\"data\": [\"Gathering dataset statistics.\", \"Generating features for the dataset.\", \"Beginning to fit featurizers and featurize the dataset.\", \"Completed fit featurizers and featurizing the dataset.\", \"Performing class balancing sweeping\", \"Beginning model selection.\", \"Best run model explanations started\", \"Model explanations data setup completed\", \"Choosing LightGBM as the surrogate model for explanations\", \"Computation of engineered features started\", \"Computation of engineered features completed\", \"Computation of raw features started\", \"Computation of raw features completed\", \"Best run model explanations completed\"]}]}, {\"name\": \"AUC_micro\", \"run_id\": \"AutoML_3ac66915-f932-48f2-9dae-5928a6205a96\", \"categories\": [0], \"series\": [{\"data\": [0.9806236807979505]}]}, {\"name\": \"f1_score_weighted\", \"run_id\": \"AutoML_3ac66915-f932-48f2-9dae-5928a6205a96\", \"categories\": [0], \"series\": [{\"data\": [0.9284147852833718]}]}, {\"name\": \"precision_score_micro\", \"run_id\": \"AutoML_3ac66915-f932-48f2-9dae-5928a6205a96\", \"categories\": [0], \"series\": [{\"data\": [0.9417989417989417]}]}, {\"name\": \"recall_score_micro\", \"run_id\": \"AutoML_3ac66915-f932-48f2-9dae-5928a6205a96\", \"categories\": [0], \"series\": [{\"data\": [0.9417989417989417]}]}, {\"name\": \"f1_score_micro\", \"run_id\": \"AutoML_3ac66915-f932-48f2-9dae-5928a6205a96\", \"categories\": [0], \"series\": [{\"data\": [0.9417989417989417]}]}, {\"name\": \"matthews_correlation\", \"run_id\": \"AutoML_3ac66915-f932-48f2-9dae-5928a6205a96\", \"categories\": [0], \"series\": [{\"data\": [0.544902738102435]}]}, {\"name\": \"norm_macro_recall\", \"run_id\": \"AutoML_3ac66915-f932-48f2-9dae-5928a6205a96\", \"categories\": [0], \"series\": [{\"data\": [0.3285678045797249]}]}, {\"name\": \"average_precision_score_weighted\", \"run_id\": \"AutoML_3ac66915-f932-48f2-9dae-5928a6205a96\", \"categories\": [0], \"series\": [{\"data\": [0.9578449697777097]}]}, {\"name\": \"precision_score_weighted\", \"run_id\": \"AutoML_3ac66915-f932-48f2-9dae-5928a6205a96\", \"categories\": [0], \"series\": [{\"data\": [0.9429933084344849]}]}, {\"name\": \"log_loss\", \"run_id\": \"AutoML_3ac66915-f932-48f2-9dae-5928a6205a96\", \"categories\": [0], \"series\": [{\"data\": [0.20588742993815792]}]}, {\"name\": \"accuracy\", \"run_id\": \"AutoML_3ac66915-f932-48f2-9dae-5928a6205a96\", \"categories\": [0], \"series\": [{\"data\": [0.9417989417989417]}]}, {\"name\": \"f1_score_macro\", \"run_id\": \"AutoML_3ac66915-f932-48f2-9dae-5928a6205a96\", \"categories\": [0], \"series\": [{\"data\": [0.7301810404094417]}]}, {\"name\": \"average_precision_score_micro\", \"run_id\": \"AutoML_3ac66915-f932-48f2-9dae-5928a6205a96\", \"categories\": [0], \"series\": [{\"data\": [0.9812876869641739]}]}, {\"name\": \"AUC_macro\", \"run_id\": \"AutoML_3ac66915-f932-48f2-9dae-5928a6205a96\", \"categories\": [0], \"series\": [{\"data\": [0.9054313874043469]}]}, {\"name\": \"average_precision_score_macro\", \"run_id\": \"AutoML_3ac66915-f932-48f2-9dae-5928a6205a96\", \"categories\": [0], \"series\": [{\"data\": [0.7997979628149862]}]}, {\"name\": \"balanced_accuracy\", \"run_id\": \"AutoML_3ac66915-f932-48f2-9dae-5928a6205a96\", \"categories\": [0], \"series\": [{\"data\": [0.6642839022898624]}]}, {\"name\": \"recall_score_macro\", \"run_id\": \"AutoML_3ac66915-f932-48f2-9dae-5928a6205a96\", \"categories\": [0], \"series\": [{\"data\": [0.6642839022898624]}]}, {\"name\": \"AUC_weighted\", \"run_id\": \"AutoML_3ac66915-f932-48f2-9dae-5928a6205a96\", \"categories\": [0], \"series\": [{\"data\": [0.9054313874043469]}]}, {\"name\": \"weighted_accuracy\", \"run_id\": \"AutoML_3ac66915-f932-48f2-9dae-5928a6205a96\", \"categories\": [0], \"series\": [{\"data\": [0.9930494116617113]}]}, {\"name\": \"recall_score_weighted\", \"run_id\": \"AutoML_3ac66915-f932-48f2-9dae-5928a6205a96\", \"categories\": [0], \"series\": [{\"data\": [0.9417989417989417]}]}, {\"name\": \"precision_score_macro\", \"run_id\": \"AutoML_3ac66915-f932-48f2-9dae-5928a6205a96\", \"categories\": [0], \"series\": [{\"data\": [0.9518382352941177]}]}], \"run_logs\": \"\\nRun is completed.\", \"graph\": {}, \"widget_settings\": {\"childWidgetDisplay\": \"popup\", \"send_telemetry\": false, \"log_level\": \"INFO\", \"sdk_version\": \"1.26.0\"}, \"loading\": false}"
          },
          "metadata": {}
        }
      ],
      "execution_count": 7,
      "metadata": {
        "gather": {
          "logged": 1619886335878
        },
        "jupyter": {
          "outputs_hidden": false,
          "source_hidden": false
        },
        "nteract": {
          "transient": {
            "deleting": false
          }
        }
      }
    },
    {
      "cell_type": "markdown",
      "source": [
        "## Best Model\n",
        "\n",
        "In this section we get the best run, then register the best model in case we want to deploy it. Additionally we download it to our local share\n"
      ],
      "metadata": {}
    },
    {
      "cell_type": "code",
      "source": [
        "best_run = remote_run.get_best_child()\r\n",
        "best_run"
      ],
      "outputs": [
        {
          "output_type": "execute_result",
          "execution_count": 8,
          "data": {
            "text/plain": "Run(Experiment: hr-automl,\nId: AutoML_3ac66915-f932-48f2-9dae-5928a6205a96_34,\nType: azureml.scriptrun,\nStatus: Completed)",
            "text/html": "<table style=\"width:100%\"><tr><th>Experiment</th><th>Id</th><th>Type</th><th>Status</th><th>Details Page</th><th>Docs Page</th></tr><tr><td>hr-automl</td><td>AutoML_3ac66915-f932-48f2-9dae-5928a6205a96_34</td><td>azureml.scriptrun</td><td>Completed</td><td><a href=\"https://ml.azure.com/runs/AutoML_3ac66915-f932-48f2-9dae-5928a6205a96_34?wsid=/subscriptions/610d6e37-4747-4a20-80eb-3aad70a55f43/resourcegroups/aml-quickstarts-143784/workspaces/quick-starts-ws-143784&amp;tid=660b3398-b80e-49d2-bc5b-ac1dc93b5254\" target=\"_blank\" rel=\"noopener\">Link to Azure Machine Learning studio</a></td><td><a href=\"https://docs.microsoft.com/en-us/python/api/azureml-core/azureml.core.run.Run?view=azure-ml-py\" target=\"_blank\" rel=\"noopener\">Link to Documentation</a></td></tr></table>"
          },
          "metadata": {}
        }
      ],
      "execution_count": 8,
      "metadata": {
        "gather": {
          "logged": 1619887555795
        },
        "jupyter": {
          "outputs_hidden": false,
          "source_hidden": false
        },
        "nteract": {
          "transient": {
            "deleting": false
          }
        }
      }
    },
    {
      "cell_type": "code",
      "source": [
        "best_run.get_metrics()['AUC_weighted']"
      ],
      "outputs": [
        {
          "output_type": "execute_result",
          "execution_count": 9,
          "data": {
            "text/plain": "0.9054313874043469"
          },
          "metadata": {}
        }
      ],
      "execution_count": 9,
      "metadata": {
        "collapsed": true,
        "jupyter": {
          "source_hidden": false,
          "outputs_hidden": false
        },
        "nteract": {
          "transient": {
            "deleting": false
          }
        },
        "gather": {
          "logged": 1619887566220
        }
      }
    },
    {
      "cell_type": "code",
      "source": [
        "best_run.download_file('outputs/model.pkl', output_file_path='outputs/model.pkl')"
      ],
      "outputs": [],
      "execution_count": 16,
      "metadata": {
        "gather": {
          "logged": 1619891513681
        },
        "jupyter": {
          "outputs_hidden": false,
          "source_hidden": false
        },
        "nteract": {
          "transient": {
            "deleting": false
          }
        }
      }
    },
    {
      "cell_type": "markdown",
      "source": [
        "## Model Deployment\n",
        "\n",
        "The  best model od autoML had better performance, therefore we proceed to deploy it.\n",
        "\n",
        "We fisrt have to registed the model"
      ],
      "metadata": {}
    },
    {
      "cell_type": "code",
      "source": [
        "# register model\r\n",
        "model = best_run.register_model('hr-auto-ml-model', \r\n",
        "                        description='best model found by automl for HR data', \r\n",
        "                        model_path='outputs/model.pkl')"
      ],
      "outputs": [],
      "execution_count": 11,
      "metadata": {
        "gather": {
          "logged": 1619890372082
        },
        "jupyter": {
          "outputs_hidden": false,
          "source_hidden": false
        },
        "nteract": {
          "transient": {
            "deleting": false
          }
        }
      }
    },
    {
      "cell_type": "markdown",
      "source": [
        "To deploy an automl Model, the easies way is to do it from the Azure web interface. Howver, we will do it manually in this section.\r\n",
        "\r\n",
        "To deploy our model we need o specify an inference configuration.\r\n",
        "This must include an evironment and an scoring script used as entrypoint in our REST API. \r\n",
        "Automl stores for each run information about the evionment and a scoring script. \r\n",
        "We first will download tose files."
      ],
      "metadata": {
        "nteract": {
          "transient": {
            "deleting": false
          }
        }
      }
    },
    {
      "cell_type": "code",
      "source": [
        "best_run.download_file('outputs/conda_env_v_1_0_0.yml', output_file_path='outputs/conda_env_v_1_0_0.yml')\r\n",
        "best_run.download_file('outputs/scoring_file_v_1_0_0.py', output_file_path='outputs/scoring_file_v_1_0_0.py')"
      ],
      "outputs": [],
      "execution_count": 17,
      "metadata": {
        "collapsed": true,
        "jupyter": {
          "source_hidden": false,
          "outputs_hidden": false
        },
        "nteract": {
          "transient": {
            "deleting": false
          }
        },
        "gather": {
          "logged": 1619891532641
        }
      }
    },
    {
      "cell_type": "markdown",
      "source": [
        "We the must create an environment with the conda information we downloaded from the best run and then use it in put inference configuration. We also need a deployment configuration to specify that the mdoel will run in ACI."
      ],
      "metadata": {
        "nteract": {
          "transient": {
            "deleting": false
          }
        }
      }
    },
    {
      "cell_type": "code",
      "source": [
        "env = Environment.from_conda_specification(name='auto-ml-env', file_path='./conda_env_v_1_0_0.yml')\r\n",
        "inf_config = InferenceConfig(environment=env, \r\n",
        "                            source_directory='./outputs',\r\n",
        "                            entry_script='scoring_file_v_1_0_0.py')\r\n",
        "deployment_config = AciWebservice.deploy_configuration(cpu_cores=1, memory_gb=1)"
      ],
      "outputs": [],
      "execution_count": 22,
      "metadata": {
        "collapsed": true,
        "jupyter": {
          "source_hidden": false,
          "outputs_hidden": false
        },
        "nteract": {
          "transient": {
            "deleting": false
          }
        },
        "gather": {
          "logged": 1619891911903
        }
      }
    },
    {
      "cell_type": "markdown",
      "source": [
        "Now we are able to deploy the model"
      ],
      "metadata": {
        "nteract": {
          "transient": {
            "deleting": false
          }
        }
      }
    },
    {
      "cell_type": "code",
      "source": [
        "service = Model.deploy(ws, 'hr-automl-model-service', [model], inference_config=inf_config, deployment_config=deployment_config)\r\n",
        "service.wait_for_deployment(show_output=True)"
      ],
      "outputs": [
        {
          "output_type": "stream",
          "name": "stdout",
          "text": [
            "Tips: You can try get_logs(): https://aka.ms/debugimage#dockerlog or local deployment: https://aka.ms/debugimage#debug-locally to debug if deployment takes longer than 10 minutes.\n",
            "Running\n",
            "2021-05-01 18:02:20+00:00 Creating Container Registry if not exists.\n",
            "2021-05-01 18:02:21+00:00 Registering the environment.\n",
            "2021-05-01 18:02:21+00:00 Building image..\n",
            "2021-05-01 18:16:21+00:00 Generating deployment configuration.\n",
            "2021-05-01 18:16:22+00:00 Submitting deployment to compute..\n",
            "2021-05-01 18:16:25+00:00 Checking the status of deployment hr-automl-model-service..\n",
            "2021-05-01 18:20:34+00:00 Checking the status of inference endpoint hr-automl-model-service.\n",
            "Succeeded\n",
            "ACI service creation operation finished, operation \"Succeeded\"\n"
          ]
        }
      ],
      "execution_count": 25,
      "metadata": {
        "collapsed": true,
        "jupyter": {
          "source_hidden": false,
          "outputs_hidden": false
        },
        "nteract": {
          "transient": {
            "deleting": false
          }
        },
        "gather": {
          "logged": 1619893237396
        }
      }
    },
    {
      "cell_type": "markdown",
      "source": [
        "Now we test the servcice with the data of a ficticious employee"
      ],
      "metadata": {
        "collapsed": true,
        "gather": {
          "logged": 1598431657736
        },
        "jupyter": {
          "outputs_hidden": false,
          "source_hidden": false
        },
        "nteract": {
          "transient": {
            "deleting": false
          }
        }
      }
    },
    {
      "cell_type": "code",
      "source": [
        "import requests\r\n",
        "import json\r\n",
        "\r\n",
        "uri = service.scoring_uri\r\n",
        "headers = {\"Content-Type\": \"application/json\"}\r\n",
        "data = {\"data\": \r\n",
        "            [{\"department\": 'Finance',  \"region\": \"region_2\",  \"education\": \"Bachelor's\",  \"gender\": 'f', \r\n",
        "            \"recruitment_channel\": \"other\",  \"no_of_trainings\": 1,  \"age\": 35,  \"previous_year_rating\": 4, \r\n",
        "            \"length_of_service\": 7,  \"KPIs_met >80%\": 1, \"awards_won?\": 0,  \"avg_training_score\": 86}\r\n",
        "            ]\r\n",
        "}\r\n",
        "        \r\n",
        "        \r\n",
        "\r\n",
        "data = json.dumps(data)\r\n",
        "\r\n",
        "response = requests.post(uri, data=data,  headers=headers)\r\n",
        "\r\n",
        "print(f'Response Code: {response.status_code}')\r\n",
        "print(f'Prediction: {response.json()}')\r\n"
      ],
      "outputs": [
        {
          "output_type": "stream",
          "name": "stdout",
          "text": [
            "Response Code: 200\n",
            "Prediction: {\"result\": [0]}\n"
          ]
        }
      ],
      "execution_count": 58,
      "metadata": {
        "collapsed": true,
        "jupyter": {
          "source_hidden": false,
          "outputs_hidden": false
        },
        "nteract": {
          "transient": {
            "deleting": false
          }
        },
        "gather": {
          "logged": 1619898111351
        }
      }
    },
    {
      "cell_type": "markdown",
      "source": [
        "We can see the logs of the service"
      ],
      "metadata": {
        "collapsed": true,
        "gather": {
          "logged": 1598432765711
        },
        "jupyter": {
          "outputs_hidden": false,
          "source_hidden": false
        },
        "nteract": {
          "transient": {
            "deleting": false
          }
        }
      }
    },
    {
      "cell_type": "code",
      "source": [
        "print(service.get_logs())"
      ],
      "outputs": [
        {
          "output_type": "stream",
          "name": "stdout",
          "text": [
            "2021-05-01T18:20:26,026250500+00:00 - iot-server/run \n",
            "2021-05-01T18:20:26,026403300+00:00 - gunicorn/run \n",
            "2021-05-01T18:20:26,028269200+00:00 - rsyslog/run \n",
            "2021-05-01T18:20:26,096276300+00:00 - nginx/run \n",
            "/usr/sbin/nginx: /azureml-envs/azureml_f8f5ff2f983718fa04a09abf22f98303/lib/libcrypto.so.1.0.0: no version information available (required by /usr/sbin/nginx)\n",
            "/usr/sbin/nginx: /azureml-envs/azureml_f8f5ff2f983718fa04a09abf22f98303/lib/libcrypto.so.1.0.0: no version information available (required by /usr/sbin/nginx)\n",
            "/usr/sbin/nginx: /azureml-envs/azureml_f8f5ff2f983718fa04a09abf22f98303/lib/libssl.so.1.0.0: no version information available (required by /usr/sbin/nginx)\n",
            "/usr/sbin/nginx: /azureml-envs/azureml_f8f5ff2f983718fa04a09abf22f98303/lib/libssl.so.1.0.0: no version information available (required by /usr/sbin/nginx)\n",
            "/usr/sbin/nginx: /azureml-envs/azureml_f8f5ff2f983718fa04a09abf22f98303/lib/libssl.so.1.0.0: no version information available (required by /usr/sbin/nginx)\n",
            "rsyslogd: /azureml-envs/azureml_f8f5ff2f983718fa04a09abf22f98303/lib/libuuid.so.1: no version information available (required by rsyslogd)\n",
            "EdgeHubConnectionString and IOTEDGE_IOTHUBHOSTNAME are not set. Exiting...\n",
            "2021-05-01T18:20:26,278728700+00:00 - iot-server/finish 1 0\n",
            "2021-05-01T18:20:26,281006700+00:00 - Exit code 1 is normal. Not restarting iot-server.\n",
            "Starting gunicorn 19.9.0\n",
            "Listening at: http://127.0.0.1:31311 (65)\n",
            "Using worker: sync\n",
            "worker timeout is set to 300\n",
            "Booting worker with pid: 94\n",
            "SPARK_HOME not set. Skipping PySpark Initialization.\n",
            "Generating new fontManager, this may take some time...\n",
            "Initializing logger\n",
            "2021-05-01 18:20:28,449 | root | INFO | Starting up app insights client\n",
            "2021-05-01 18:20:28,449 | root | INFO | Starting up request id generator\n",
            "2021-05-01 18:20:28,449 | root | INFO | Starting up app insight hooks\n",
            "2021-05-01 18:20:28,450 | root | INFO | Invoking user's init function\n",
            "2021-05-01 18:20:32,308 | azureml.core | WARNING | Failure while loading azureml_run_type_providers. Failed to load entrypoint automl = azureml.train.automl.run:AutoMLRun._from_run_dto with exception cannot import name 'RunType'.\n",
            "Failure while loading azureml_run_type_providers. Failed to load entrypoint automl = azureml.train.automl.run:AutoMLRun._from_run_dto with exception cannot import name 'RunType'.\n",
            "2021-05-01 18:20:32,521 | root | INFO | Users's init has completed successfully\n",
            "2021-05-01 18:20:32,542 | root | INFO | Skipping middleware: dbg_model_info as it's not enabled.\n",
            "2021-05-01 18:20:32,542 | root | INFO | Skipping middleware: dbg_resource_usage as it's not enabled.\n",
            "2021-05-01 18:20:32,550 | root | INFO | Scoring timeout is found from os.environ: 60000 ms\n",
            "2021-05-01 18:20:34,145 | root | INFO | 200\n",
            "127.0.0.1 - - [01/May/2021:18:20:34 +0000] \"GET /swagger.json HTTP/1.0\" 200 3069 \"-\" \"Go-http-client/1.1\"\n",
            "2021-05-01 18:20:37,115 | root | INFO | 200\n",
            "127.0.0.1 - - [01/May/2021:18:20:37 +0000] \"GET /swagger.json HTTP/1.0\" 200 3069 \"-\" \"Go-http-client/1.1\"\n",
            "2021-05-01 18:21:36,185 | root | INFO | 200\n",
            "127.0.0.1 - - [01/May/2021:18:21:36 +0000] \"GET /swagger.json HTTP/1.0\" 200 3069 \"-\" \"Go-http-client/1.1\"\n",
            "2021-05-01 18:33:24,168 | root | INFO | Scoring Timer is set to 60.0 seconds\n",
            "2021-05-01 18:33:24,171 | root | ERROR | Encountered Exception: Traceback (most recent call last):\n",
            "  File \"/var/azureml-server/synchronous/routes.py\", line 64, in run_scoring\n",
            "    response = invoke_user_with_timer(service_input, request_headers)\n",
            "  File \"/var/azureml-server/synchronous/routes.py\", line 97, in invoke_user_with_timer\n",
            "    result = user_main.run(**params)\n",
            "  File \"/azureml-envs/azureml_f8f5ff2f983718fa04a09abf22f98303/lib/python3.6/site-packages/wrapt/wrappers.py\", line 567, in __call__\n",
            "    args, kwargs)\n",
            "  File \"/azureml-envs/azureml_f8f5ff2f983718fa04a09abf22f98303/lib/python3.6/site-packages/inference_schema/schema_decorators.py\", line 55, in decorator_input\n",
            "    args[param_position] = _deserialize_input_argument(args[param_position], param_type, param_name)\n",
            "IndexError: list index out of range\n",
            "\n",
            "During handling of the above exception, another exception occurred:\n",
            "\n",
            "Traceback (most recent call last):\n",
            "  File \"/azureml-envs/azureml_f8f5ff2f983718fa04a09abf22f98303/lib/python3.6/site-packages/flask/app.py\", line 1832, in full_dispatch_request\n",
            "    rv = self.dispatch_request()\n",
            "  File \"/azureml-envs/azureml_f8f5ff2f983718fa04a09abf22f98303/lib/python3.6/site-packages/flask/app.py\", line 1818, in dispatch_request\n",
            "    return self.view_functions[rule.endpoint](**req.view_args)\n",
            "  File \"/var/azureml-server/synchronous/routes.py\", line 20, in get_prediction_realtime\n",
            "    return run_scoring(service_input, request.headers, request.environ.get('REQUEST_ID', '00000000-0000-0000-0000-000000000000'))\n",
            "  File \"/var/azureml-server/synchronous/routes.py\", line 77, in run_scoring\n",
            "    raise RunFunctionException(str(exc))\n",
            "run_function_exception.RunFunctionException\n",
            "\n",
            "2021-05-01 18:33:24,172 | root | INFO | 500\n",
            "127.0.0.1 - - [01/May/2021:18:33:24 +0000] \"GET /score HTTP/1.0\" 500 23 \"-\" \"python-requests/2.25.1\"\n",
            "Exception in worker process\n",
            "Traceback (most recent call last):\n",
            "  File \"/azureml-envs/azureml_f8f5ff2f983718fa04a09abf22f98303/lib/python3.6/site-packages/gunicorn/arbiter.py\", line 583, in spawn_worker\n",
            "    worker.init_process()\n",
            "  File \"/azureml-envs/azureml_f8f5ff2f983718fa04a09abf22f98303/lib/python3.6/site-packages/gunicorn/workers/base.py\", line 134, in init_process\n",
            "    self.run()\n",
            "  File \"/azureml-envs/azureml_f8f5ff2f983718fa04a09abf22f98303/lib/python3.6/site-packages/gunicorn/workers/sync.py\", line 124, in run\n",
            "    self.run_for_one(timeout)\n",
            "  File \"/azureml-envs/azureml_f8f5ff2f983718fa04a09abf22f98303/lib/python3.6/site-packages/gunicorn/workers/sync.py\", line 83, in run_for_one\n",
            "    self.wait(timeout)\n",
            "  File \"/azureml-envs/azureml_f8f5ff2f983718fa04a09abf22f98303/lib/python3.6/site-packages/gunicorn/workers/sync.py\", line 35, in wait\n",
            "    ret = select.select(self.wait_fds, [], [], timeout)\n",
            "  File \"/var/azureml-server/routes_common.py\", line 162, in alarm_handler\n",
            "    raise TimeoutException(error_message)\n",
            "timeout_exception.TimeoutException\n",
            "Worker exiting (pid: 94)\n",
            "worker timeout is set to 300\n",
            "Booting worker with pid: 304\n",
            "SPARK_HOME not set. Skipping PySpark Initialization.\n",
            "Initializing logger\n",
            "2021-05-01 18:34:26,013 | root | INFO | Starting up app insights client\n",
            "2021-05-01 18:34:26,014 | root | INFO | Starting up request id generator\n",
            "2021-05-01 18:34:26,014 | root | INFO | Starting up app insight hooks\n",
            "2021-05-01 18:34:26,014 | root | INFO | Invoking user's init function\n",
            "2021-05-01 18:34:29,706 | azureml.core | WARNING | Failure while loading azureml_run_type_providers. Failed to load entrypoint automl = azureml.train.automl.run:AutoMLRun._from_run_dto with exception cannot import name 'RunType'.\n",
            "Failure while loading azureml_run_type_providers. Failed to load entrypoint automl = azureml.train.automl.run:AutoMLRun._from_run_dto with exception cannot import name 'RunType'.\n",
            "2021-05-01 18:34:29,869 | root | INFO | Users's init has completed successfully\n",
            "2021-05-01 18:34:29,874 | root | INFO | Skipping middleware: dbg_model_info as it's not enabled.\n",
            "2021-05-01 18:34:29,874 | root | INFO | Skipping middleware: dbg_resource_usage as it's not enabled.\n",
            "2021-05-01 18:34:29,877 | root | INFO | Scoring timeout is found from os.environ: 60000 ms\n",
            "2021-05-01 18:35:26,266 | root | INFO | Scoring Timer is set to 60.0 seconds\n",
            "2021-05-01 18:35:26,268 | root | ERROR | Encountered Exception: Traceback (most recent call last):\n",
            "  File \"/var/azureml-server/synchronous/routes.py\", line 64, in run_scoring\n",
            "    response = invoke_user_with_timer(service_input, request_headers)\n",
            "  File \"/var/azureml-server/synchronous/routes.py\", line 97, in invoke_user_with_timer\n",
            "    result = user_main.run(**params)\n",
            "  File \"/azureml-envs/azureml_f8f5ff2f983718fa04a09abf22f98303/lib/python3.6/site-packages/wrapt/wrappers.py\", line 567, in __call__\n",
            "    args, kwargs)\n",
            "  File \"/azureml-envs/azureml_f8f5ff2f983718fa04a09abf22f98303/lib/python3.6/site-packages/inference_schema/schema_decorators.py\", line 55, in decorator_input\n",
            "    args[param_position] = _deserialize_input_argument(args[param_position], param_type, param_name)\n",
            "IndexError: list index out of range\n",
            "\n",
            "During handling of the above exception, another exception occurred:\n",
            "\n",
            "Traceback (most recent call last):\n",
            "  File \"/azureml-envs/azureml_f8f5ff2f983718fa04a09abf22f98303/lib/python3.6/site-packages/flask/app.py\", line 1832, in full_dispatch_request\n",
            "    rv = self.dispatch_request()\n",
            "  File \"/azureml-envs/azureml_f8f5ff2f983718fa04a09abf22f98303/lib/python3.6/site-packages/flask/app.py\", line 1818, in dispatch_request\n",
            "    return self.view_functions[rule.endpoint](**req.view_args)\n",
            "  File \"/var/azureml-server/synchronous/routes.py\", line 20, in get_prediction_realtime\n",
            "    return run_scoring(service_input, request.headers, request.environ.get('REQUEST_ID', '00000000-0000-0000-0000-000000000000'))\n",
            "  File \"/var/azureml-server/synchronous/routes.py\", line 77, in run_scoring\n",
            "    raise RunFunctionException(str(exc))\n",
            "run_function_exception.RunFunctionException\n",
            "\n",
            "2021-05-01 18:35:26,269 | root | INFO | 500\n",
            "127.0.0.1 - - [01/May/2021:18:35:26 +0000] \"GET /score HTTP/1.0\" 500 23 \"-\" \"python-requests/2.25.1\"\n",
            "2021-05-01 18:36:15,571 | root | INFO | 200\n",
            "127.0.0.1 - - [01/May/2021:18:36:15 +0000] \"GET /swagger.json HTTP/1.0\" 200 3069 \"-\" \"Mozilla/5.0 (Windows NT 10.0; Win64; x64) AppleWebKit/537.36 (KHTML, like Gecko) Chrome/86.0.4240.75 Safari/537.36\"\n",
            "127.0.0.1 - - [01/May/2021:18:36:15 +0000] \"GET /favicon.ico HTTP/1.0\" 404 232 \"http://814c89f9-eda9-43ef-8a3c-7961b40b3b26.southcentralus.azurecontainer.io/swagger.json\" \"Mozilla/5.0 (Windows NT 10.0; Win64; x64) AppleWebKit/537.36 (KHTML, like Gecko) Chrome/86.0.4240.75 Safari/537.36\"\n",
            "Exception in worker process\n",
            "Traceback (most recent call last):\n",
            "  File \"/azureml-envs/azureml_f8f5ff2f983718fa04a09abf22f98303/lib/python3.6/site-packages/gunicorn/arbiter.py\", line 583, in spawn_worker\n",
            "    worker.init_process()\n",
            "  File \"/azureml-envs/azureml_f8f5ff2f983718fa04a09abf22f98303/lib/python3.6/site-packages/gunicorn/workers/base.py\", line 134, in init_process\n",
            "    self.run()\n",
            "  File \"/azureml-envs/azureml_f8f5ff2f983718fa04a09abf22f98303/lib/python3.6/site-packages/gunicorn/workers/sync.py\", line 124, in run\n",
            "    self.run_for_one(timeout)\n",
            "  File \"/azureml-envs/azureml_f8f5ff2f983718fa04a09abf22f98303/lib/python3.6/site-packages/gunicorn/workers/sync.py\", line 83, in run_for_one\n",
            "    self.wait(timeout)\n",
            "  File \"/azureml-envs/azureml_f8f5ff2f983718fa04a09abf22f98303/lib/python3.6/site-packages/gunicorn/workers/sync.py\", line 35, in wait\n",
            "    ret = select.select(self.wait_fds, [], [], timeout)\n",
            "  File \"/var/azureml-server/routes_common.py\", line 162, in alarm_handler\n",
            "    raise TimeoutException(error_message)\n",
            "timeout_exception.TimeoutException\n",
            "Worker exiting (pid: 304)\n",
            "worker timeout is set to 300\n",
            "Booting worker with pid: 346\n",
            "SPARK_HOME not set. Skipping PySpark Initialization.\n",
            "Initializing logger\n",
            "2021-05-01 18:36:28,030 | root | INFO | Starting up app insights client\n",
            "2021-05-01 18:36:28,030 | root | INFO | Starting up request id generator\n",
            "2021-05-01 18:36:28,030 | root | INFO | Starting up app insight hooks\n",
            "2021-05-01 18:36:28,030 | root | INFO | Invoking user's init function\n",
            "2021-05-01 18:36:31,451 | azureml.core | WARNING | Failure while loading azureml_run_type_providers. Failed to load entrypoint automl = azureml.train.automl.run:AutoMLRun._from_run_dto with exception cannot import name 'RunType'.\n",
            "Failure while loading azureml_run_type_providers. Failed to load entrypoint automl = azureml.train.automl.run:AutoMLRun._from_run_dto with exception cannot import name 'RunType'.\n",
            "2021-05-01 18:36:31,597 | root | INFO | Users's init has completed successfully\n",
            "2021-05-01 18:36:31,599 | root | INFO | Skipping middleware: dbg_model_info as it's not enabled.\n",
            "2021-05-01 18:36:31,599 | root | INFO | Skipping middleware: dbg_resource_usage as it's not enabled.\n",
            "2021-05-01 18:36:31,601 | root | INFO | Scoring timeout is found from os.environ: 60000 ms\n",
            "2021-05-01 18:43:53,546 | root | INFO | Validation Request Content-Type\n",
            "2021-05-01 18:43:53,548 | root | INFO | 415\n",
            "127.0.0.1 - - [01/May/2021:18:43:53 +0000] \"POST /score HTTP/1.0\" 415 58 \"-\" \"python-requests/2.25.1\"\n",
            "2021-05-01 18:45:32,766 | root | INFO | Validation Request Content-Type\n",
            "2021-05-01 18:45:32,767 | root | INFO | 415\n",
            "127.0.0.1 - - [01/May/2021:18:45:32 +0000] \"POST /score HTTP/1.0\" 415 58 \"-\" \"python-requests/2.25.1\"\n",
            "2021-05-01 18:45:50,115 | root | INFO | Validation Request Content-Type\n",
            "2021-05-01 18:45:50,116 | root | INFO | 415\n",
            "127.0.0.1 - - [01/May/2021:18:45:50 +0000] \"POST /score HTTP/1.0\" 415 58 \"-\" \"python-requests/2.25.1\"\n",
            "2021-05-01 18:45:59,913 | root | INFO | Validation Request Content-Type\n",
            "2021-05-01 18:45:59,914 | root | INFO | Scoring Timer is set to 60.0 seconds\n",
            "2021-05-01 18:46:00,087 | root | INFO | 200\n",
            "127.0.0.1 - - [01/May/2021:18:46:00 +0000] \"POST /score HTTP/1.0\" 200 19 \"-\" \"python-requests/2.25.1\"\n",
            "2021-05-01 18:46:22,474 | root | INFO | Validation Request Content-Type\n",
            "2021-05-01 18:46:22,475 | root | INFO | Scoring Timer is set to 60.0 seconds\n",
            "2021-05-01 18:46:22,480 | root | ERROR | Encountered Exception: Traceback (most recent call last):\n",
            "  File \"/var/azureml-server/synchronous/routes.py\", line 64, in run_scoring\n",
            "    response = invoke_user_with_timer(service_input, request_headers)\n",
            "  File \"/var/azureml-server/synchronous/routes.py\", line 97, in invoke_user_with_timer\n",
            "    result = user_main.run(**params)\n",
            "  File \"/azureml-envs/azureml_f8f5ff2f983718fa04a09abf22f98303/lib/python3.6/site-packages/wrapt/wrappers.py\", line 567, in __call__\n",
            "    args, kwargs)\n",
            "  File \"/azureml-envs/azureml_f8f5ff2f983718fa04a09abf22f98303/lib/python3.6/site-packages/inference_schema/schema_decorators.py\", line 55, in decorator_input\n",
            "    args[param_position] = _deserialize_input_argument(args[param_position], param_type, param_name)\n",
            "IndexError: list index out of range\n",
            "\n",
            "During handling of the above exception, another exception occurred:\n",
            "\n",
            "Traceback (most recent call last):\n",
            "  File \"/azureml-envs/azureml_f8f5ff2f983718fa04a09abf22f98303/lib/python3.6/site-packages/flask/app.py\", line 1832, in full_dispatch_request\n",
            "    rv = self.dispatch_request()\n",
            "  File \"/azureml-envs/azureml_f8f5ff2f983718fa04a09abf22f98303/lib/python3.6/site-packages/flask/app.py\", line 1818, in dispatch_request\n",
            "    return self.view_functions[rule.endpoint](**req.view_args)\n",
            "  File \"/var/azureml-server/synchronous/routes.py\", line 43, in score_realtime\n",
            "    return run_scoring(service_input, request.headers, request.environ.get('REQUEST_ID', '00000000-0000-0000-0000-000000000000'))\n",
            "  File \"/var/azureml-server/synchronous/routes.py\", line 77, in run_scoring\n",
            "    raise RunFunctionException(str(exc))\n",
            "run_function_exception.RunFunctionException\n",
            "\n",
            "2021-05-01 18:46:22,481 | root | INFO | 500\n",
            "127.0.0.1 - - [01/May/2021:18:46:22 +0000] \"POST /score HTTP/1.0\" 500 23 \"-\" \"python-requests/2.25.1\"\n",
            "2021-05-01 18:46:34,810 | root | INFO | Validation Request Content-Type\n",
            "2021-05-01 18:46:34,811 | root | INFO | Scoring Timer is set to 60.0 seconds\n",
            "2021-05-01 18:46:34,812 | root | ERROR | Encountered Exception: Traceback (most recent call last):\n",
            "  File \"/var/azureml-server/synchronous/routes.py\", line 64, in run_scoring\n",
            "    response = invoke_user_with_timer(service_input, request_headers)\n",
            "  File \"/var/azureml-server/synchronous/routes.py\", line 97, in invoke_user_with_timer\n",
            "    result = user_main.run(**params)\n",
            "TypeError: FunctionWrapper object argument after ** must be a mapping, not list\n",
            "\n",
            "During handling of the above exception, another exception occurred:\n",
            "\n",
            "Traceback (most recent call last):\n",
            "  File \"/azureml-envs/azureml_f8f5ff2f983718fa04a09abf22f98303/lib/python3.6/site-packages/flask/app.py\", line 1832, in full_dispatch_request\n",
            "    rv = self.dispatch_request()\n",
            "  File \"/azureml-envs/azureml_f8f5ff2f983718fa04a09abf22f98303/lib/python3.6/site-packages/flask/app.py\", line 1818, in dispatch_request\n",
            "    return self.view_functions[rule.endpoint](**req.view_args)\n",
            "  File \"/var/azureml-server/synchronous/routes.py\", line 43, in score_realtime\n",
            "    return run_scoring(service_input, request.headers, request.environ.get('REQUEST_ID', '00000000-0000-0000-0000-000000000000'))\n",
            "  File \"/var/azureml-server/synchronous/routes.py\", line 77, in run_scoring\n",
            "    raise RunFunctionException(str(exc))\n",
            "run_function_exception.RunFunctionException\n",
            "\n",
            "2021-05-01 18:46:34,813 | root | INFO | 500\n",
            "127.0.0.1 - - [01/May/2021:18:46:34 +0000] \"POST /score HTTP/1.0\" 500 68 \"-\" \"python-requests/2.25.1\"\n",
            "2021-05-01 18:47:23,269 | root | INFO | Validation Request Content-Type\n",
            "2021-05-01 18:47:23,269 | root | INFO | Scoring Timer is set to 60.0 seconds\n",
            "2021-05-01 18:47:23,378 | root | INFO | 200\n",
            "127.0.0.1 - - [01/May/2021:18:47:23 +0000] \"POST /score HTTP/1.0\" 200 19 \"-\" \"python-requests/2.25.1\"\n",
            "2021-05-01 18:47:59,609 | root | INFO | Validation Request Content-Type\n",
            "2021-05-01 18:47:59,610 | root | INFO | Scoring Timer is set to 60.0 seconds\n",
            "2021-05-01 18:47:59,725 | root | INFO | 200\n",
            "127.0.0.1 - - [01/May/2021:18:47:59 +0000] \"POST /score HTTP/1.0\" 200 19 \"-\" \"python-requests/2.25.1\"\n",
            "2021-05-01 18:48:20,163 | root | INFO | Validation Request Content-Type\n",
            "2021-05-01 18:48:20,164 | root | INFO | Scoring Timer is set to 60.0 seconds\n",
            "2021-05-01 18:48:20,293 | root | INFO | 200\n",
            "127.0.0.1 - - [01/May/2021:18:48:20 +0000] \"POST /score HTTP/1.0\" 200 19 \"-\" \"python-requests/2.25.1\"\n",
            "2021-05-01 18:49:51,487 | root | INFO | Validation Request Content-Type\n",
            "2021-05-01 18:49:51,488 | root | INFO | Scoring Timer is set to 60.0 seconds\n",
            "2021-05-01 18:49:51,609 | root | INFO | 200\n",
            "127.0.0.1 - - [01/May/2021:18:49:51 +0000] \"POST /score HTTP/1.0\" 200 19 \"-\" \"python-requests/2.25.1\"\n",
            "2021-05-01 18:50:00,775 | root | INFO | Validation Request Content-Type\n",
            "2021-05-01 18:50:00,776 | root | INFO | Scoring Timer is set to 60.0 seconds\n",
            "2021-05-01 18:50:00,893 | root | INFO | 200\n",
            "127.0.0.1 - - [01/May/2021:18:50:00 +0000] \"POST /score HTTP/1.0\" 200 19 \"-\" \"python-requests/2.25.1\"\n",
            "2021-05-01 18:50:25,813 | root | INFO | Validation Request Content-Type\n",
            "2021-05-01 18:50:25,814 | root | INFO | Scoring Timer is set to 60.0 seconds\n",
            "2021-05-01 18:50:25,920 | root | INFO | 200\n",
            "127.0.0.1 - - [01/May/2021:18:50:25 +0000] \"POST /score HTTP/1.0\" 200 19 \"-\" \"python-requests/2.25.1\"\n",
            "2021-05-01 18:50:35,193 | root | INFO | Validation Request Content-Type\n",
            "2021-05-01 18:50:35,194 | root | INFO | Scoring Timer is set to 60.0 seconds\n",
            "2021-05-01 18:50:35,316 | root | INFO | 200\n",
            "127.0.0.1 - - [01/May/2021:18:50:35 +0000] \"POST /score HTTP/1.0\" 200 19 \"-\" \"python-requests/2.25.1\"\n",
            "2021-05-01 18:50:59,037 | root | INFO | Validation Request Content-Type\n",
            "2021-05-01 18:50:59,038 | root | INFO | Scoring Timer is set to 60.0 seconds\n",
            "2021-05-01 18:50:59,145 | root | INFO | 200\n",
            "127.0.0.1 - - [01/May/2021:18:50:59 +0000] \"POST /score HTTP/1.0\" 200 19 \"-\" \"python-requests/2.25.1\"\n",
            "2021-05-01 18:51:53,076 | root | INFO | Validation Request Content-Type\n",
            "2021-05-01 18:51:53,076 | root | INFO | Scoring Timer is set to 60.0 seconds\n",
            "2021-05-01 18:51:53,195 | root | INFO | 200\n",
            "127.0.0.1 - - [01/May/2021:18:51:53 +0000] \"POST /score HTTP/1.0\" 200 19 \"-\" \"python-requests/2.25.1\"\n",
            "2021-05-01 18:52:17,718 | root | INFO | Validation Request Content-Type\n",
            "2021-05-01 18:52:17,719 | root | INFO | Scoring Timer is set to 60.0 seconds\n",
            "2021-05-01 18:52:17,842 | root | INFO | 200\n",
            "127.0.0.1 - - [01/May/2021:18:52:17 +0000] \"POST /score HTTP/1.0\" 200 19 \"-\" \"python-requests/2.25.1\"\n",
            "2021-05-01 18:52:45,002 | root | INFO | Validation Request Content-Type\n",
            "2021-05-01 18:52:45,002 | root | INFO | Scoring Timer is set to 60.0 seconds\n",
            "2021-05-01 18:52:45,144 | root | INFO | 200\n",
            "127.0.0.1 - - [01/May/2021:18:52:45 +0000] \"POST /score HTTP/1.0\" 200 19 \"-\" \"python-requests/2.25.1\"\n",
            "\n"
          ]
        }
      ],
      "execution_count": 54,
      "metadata": {
        "jupyter": {
          "outputs_hidden": false,
          "source_hidden": false
        },
        "nteract": {
          "transient": {
            "deleting": false
          }
        },
        "gather": {
          "logged": 1619895182956
        }
      }
    }
  ],
  "metadata": {
    "kernel_info": {
      "name": "python3"
    },
    "kernelspec": {
      "name": "python3",
      "language": "python",
      "display_name": "Python 3"
    },
    "language_info": {
      "name": "python",
      "version": "3.6.9",
      "mimetype": "text/x-python",
      "codemirror_mode": {
        "name": "ipython",
        "version": 3
      },
      "pygments_lexer": "ipython3",
      "nbconvert_exporter": "python",
      "file_extension": ".py"
    },
    "nteract": {
      "version": "nteract-front-end@1.0.0"
    },
    "microsoft": {
      "host": {
        "AzureML": {
          "notebookHasBeenCompleted": true
        }
      }
    }
  },
  "nbformat": 4,
  "nbformat_minor": 2
}