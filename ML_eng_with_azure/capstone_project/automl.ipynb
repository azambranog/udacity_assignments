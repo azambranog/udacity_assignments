{
 "cells": [
  {
   "cell_type": "markdown",
   "metadata": {},
   "source": [
    "# Automated ML\n"
   ]
  },
  {
   "cell_type": "code",
   "execution_count": 1,
   "metadata": {
    "gather": {
     "logged": 1619891823777
    },
    "jupyter": {
     "outputs_hidden": false,
     "source_hidden": false
    },
    "nteract": {
     "transient": {
      "deleting": false
     }
    }
   },
   "outputs": [],
   "source": [
    "from azureml.core.experiment import Experiment\n",
    "from azureml.core.workspace import Workspace\n",
    "from azureml.train.automl import AutoMLConfig\n",
    "from azureml.core.dataset import Dataset\n",
    "from azureml.core.compute import ComputeTarget\n",
    "from azureml.pipeline.steps import AutoMLStep\n",
    "from azureml.widgets import RunDetails\n",
    "from azureml.core.model import Model, InferenceConfig\n",
    "from azureml.core import Environment\n",
    "from azureml.core.webservice import AciWebservice, Webservice"
   ]
  },
  {
   "cell_type": "markdown",
   "metadata": {},
   "source": [
    "## Dataset\n",
    "\n",
    "### Overview\n",
    "In this project we will be using a dataset from an HR department in a company. The dataset contains entreis for employees, including personal information, curring position and work performance metrics. \n",
    "The objective is to determine if a given employee will receive a promotion. The datase is highly imbalanced, wth only around 5% of employees having received a promotion.\n",
    "\n",
    "The given dataset is available in Kaggle [https://www.kaggle.com/shivan118/hranalysis]. We have manually downloaded the dataset and registered in our workspaces's default store with the name \"hr-data\""
   ]
  },
  {
   "cell_type": "code",
   "execution_count": 2,
   "metadata": {
    "gather": {
     "logged": 1619886119217
    },
    "jupyter": {
     "outputs_hidden": false,
     "source_hidden": false
    },
    "nteract": {
     "transient": {
      "deleting": false
     }
    }
   },
   "outputs": [],
   "source": [
    "ws = Workspace.from_config()\n",
    "\n",
    "# choose a name for experiment\n",
    "experiment_name = 'hr-automl'\n",
    "\n",
    "experiment=Experiment(ws, experiment_name)"
   ]
  },
  {
   "cell_type": "code",
   "execution_count": 3,
   "metadata": {
    "gather": {
     "logged": 1619886127213
    },
    "jupyter": {
     "outputs_hidden": false,
     "source_hidden": false
    },
    "nteract": {
     "transient": {
      "deleting": false
     }
    }
   },
   "outputs": [],
   "source": [
    "# get dataset by name\n",
    "dataset = Dataset.get_by_name(ws, 'hr-data', version='latest')"
   ]
  },
  {
   "cell_type": "code",
   "execution_count": 4,
   "metadata": {
    "gather": {
     "logged": 1619886138898
    },
    "jupyter": {
     "outputs_hidden": false,
     "source_hidden": false
    },
    "nteract": {
     "transient": {
      "deleting": false
     }
    }
   },
   "outputs": [
    {
     "data": {
      "text/html": [
       "<div>\n",
       "<style scoped>\n",
       "    .dataframe tbody tr th:only-of-type {\n",
       "        vertical-align: middle;\n",
       "    }\n",
       "\n",
       "    .dataframe tbody tr th {\n",
       "        vertical-align: top;\n",
       "    }\n",
       "\n",
       "    .dataframe thead th {\n",
       "        text-align: right;\n",
       "    }\n",
       "</style>\n",
       "<table border=\"1\" class=\"dataframe\">\n",
       "  <thead>\n",
       "    <tr style=\"text-align: right;\">\n",
       "      <th></th>\n",
       "      <th>department</th>\n",
       "      <th>region</th>\n",
       "      <th>education</th>\n",
       "      <th>gender</th>\n",
       "      <th>recruitment_channel</th>\n",
       "      <th>no_of_trainings</th>\n",
       "      <th>age</th>\n",
       "      <th>previous_year_rating</th>\n",
       "      <th>length_of_service</th>\n",
       "      <th>KPIs_met &gt;80%</th>\n",
       "      <th>awards_won?</th>\n",
       "      <th>avg_training_score</th>\n",
       "      <th>is_promoted</th>\n",
       "    </tr>\n",
       "  </thead>\n",
       "  <tbody>\n",
       "    <tr>\n",
       "      <th>0</th>\n",
       "      <td>Sales &amp; Marketing</td>\n",
       "      <td>region_7</td>\n",
       "      <td>Master's &amp; above</td>\n",
       "      <td>f</td>\n",
       "      <td>sourcing</td>\n",
       "      <td>1</td>\n",
       "      <td>35</td>\n",
       "      <td>5</td>\n",
       "      <td>8</td>\n",
       "      <td>1</td>\n",
       "      <td>0</td>\n",
       "      <td>49</td>\n",
       "      <td>0</td>\n",
       "    </tr>\n",
       "    <tr>\n",
       "      <th>1</th>\n",
       "      <td>Operations</td>\n",
       "      <td>region_22</td>\n",
       "      <td>Bachelor's</td>\n",
       "      <td>m</td>\n",
       "      <td>other</td>\n",
       "      <td>1</td>\n",
       "      <td>30</td>\n",
       "      <td>5</td>\n",
       "      <td>4</td>\n",
       "      <td>0</td>\n",
       "      <td>0</td>\n",
       "      <td>60</td>\n",
       "      <td>0</td>\n",
       "    </tr>\n",
       "    <tr>\n",
       "      <th>2</th>\n",
       "      <td>Sales &amp; Marketing</td>\n",
       "      <td>region_19</td>\n",
       "      <td>Bachelor's</td>\n",
       "      <td>m</td>\n",
       "      <td>sourcing</td>\n",
       "      <td>1</td>\n",
       "      <td>34</td>\n",
       "      <td>3</td>\n",
       "      <td>7</td>\n",
       "      <td>0</td>\n",
       "      <td>0</td>\n",
       "      <td>50</td>\n",
       "      <td>0</td>\n",
       "    </tr>\n",
       "    <tr>\n",
       "      <th>3</th>\n",
       "      <td>Sales &amp; Marketing</td>\n",
       "      <td>region_23</td>\n",
       "      <td>Bachelor's</td>\n",
       "      <td>m</td>\n",
       "      <td>other</td>\n",
       "      <td>2</td>\n",
       "      <td>39</td>\n",
       "      <td>1</td>\n",
       "      <td>10</td>\n",
       "      <td>0</td>\n",
       "      <td>0</td>\n",
       "      <td>50</td>\n",
       "      <td>0</td>\n",
       "    </tr>\n",
       "    <tr>\n",
       "      <th>4</th>\n",
       "      <td>Technology</td>\n",
       "      <td>region_26</td>\n",
       "      <td>Bachelor's</td>\n",
       "      <td>m</td>\n",
       "      <td>other</td>\n",
       "      <td>1</td>\n",
       "      <td>45</td>\n",
       "      <td>3</td>\n",
       "      <td>2</td>\n",
       "      <td>0</td>\n",
       "      <td>0</td>\n",
       "      <td>73</td>\n",
       "      <td>0</td>\n",
       "    </tr>\n",
       "  </tbody>\n",
       "</table>\n",
       "</div>"
      ],
      "text/plain": [
       "          department     region         education gender recruitment_channel  \\\n",
       "0  Sales & Marketing   region_7  Master's & above      f            sourcing   \n",
       "1         Operations  region_22        Bachelor's      m               other   \n",
       "2  Sales & Marketing  region_19        Bachelor's      m            sourcing   \n",
       "3  Sales & Marketing  region_23        Bachelor's      m               other   \n",
       "4         Technology  region_26        Bachelor's      m               other   \n",
       "\n",
       "   no_of_trainings  age  previous_year_rating  length_of_service  \\\n",
       "0                1   35                     5                  8   \n",
       "1                1   30                     5                  4   \n",
       "2                1   34                     3                  7   \n",
       "3                2   39                     1                 10   \n",
       "4                1   45                     3                  2   \n",
       "\n",
       "   KPIs_met >80%  awards_won?  avg_training_score  is_promoted  \n",
       "0              1            0                  49            0  \n",
       "1              0            0                  60            0  \n",
       "2              0            0                  50            0  \n",
       "3              0            0                  50            0  \n",
       "4              0            0                  73            0  "
      ]
     },
     "execution_count": 4,
     "metadata": {},
     "output_type": "execute_result"
    }
   ],
   "source": [
    "# view first rows\n",
    "dataset.take(5).to_pandas_dataframe()"
   ]
  },
  {
   "cell_type": "markdown",
   "metadata": {},
   "source": [
    "## AutoML Configuration\n",
    "\n",
    "We must ensure that we specify the target column is set to the same name it has in our dataset. \n",
    "The problem type is classificaton, and as metric we used the wheighted AUC since it is a good metric for inbalanced problems. \n",
    "\n",
    "Run configurations:\n",
    "- We previously created a cluster with 4 nodes. For optimization of running time we allowed core minus 1 parallel runs (3). \n",
    "- We activated early stopping. This setting will terminate the run if there is no improvement in ten consecutive runs. The default starts counting only after the 20th iteration.\n",
    "- Beacuse we have limited computing time we set the maximum duration of the experiment to be 30 minutes given Lab limitations. \n",
    "- We allowed automatic featurization. This means that automl will perform imputation and one hot encoding of categorical variables."
   ]
  },
  {
   "cell_type": "code",
   "execution_count": 5,
   "metadata": {
    "gather": {
     "logged": 1619886146008
    },
    "jupyter": {
     "outputs_hidden": false,
     "source_hidden": false
    },
    "nteract": {
     "transient": {
      "deleting": false
     }
    }
   },
   "outputs": [],
   "source": [
    "# get previously created compute target\n",
    "cluster = ComputeTarget(workspace=ws, name='cluster-1')\n",
    "\n",
    "# automl settings here\n",
    "automl_settings = {\n",
    "    \"experiment_timeout_minutes\": 30,\n",
    "    \"max_concurrent_iterations\": 3,\n",
    "    \"primary_metric\": \"AUC_weighted\"\n",
    "}\n",
    "\n",
    "# TAutoml config here\n",
    "automl_config = AutoMLConfig(compute_target=cluster,\n",
    "                            training_data=dataset,\n",
    "                            task=\"classification\",\n",
    "                            label_column_name='is_promoted', \n",
    "                            enable_early_stopping=True,\n",
    "                            featurization='auto',\n",
    "                            debug_log='automl_errors.log',\n",
    "                            **automl_settings\n",
    "                            )"
   ]
  },
  {
   "cell_type": "code",
   "execution_count": 6,
   "metadata": {
    "gather": {
     "logged": 1619886154763
    },
    "jupyter": {
     "outputs_hidden": false,
     "source_hidden": false
    },
    "nteract": {
     "transient": {
      "deleting": false
     }
    }
   },
   "outputs": [
    {
     "name": "stdout",
     "output_type": "stream",
     "text": [
      "Submitting remote run.\n"
     ]
    },
    {
     "data": {
      "text/html": [
       "<table style=\"width:100%\"><tr><th>Experiment</th><th>Id</th><th>Type</th><th>Status</th><th>Details Page</th><th>Docs Page</th></tr><tr><td>hr-automl</td><td>AutoML_d23e6bc6-b464-4dbb-bc48-754e8dbdad30</td><td>automl</td><td>NotStarted</td><td><a href=\"https://ml.azure.com/runs/AutoML_d23e6bc6-b464-4dbb-bc48-754e8dbdad30?wsid=/subscriptions/81cefad3-d2c9-4f77-a466-99a7f541c7bb/resourcegroups/aml-quickstarts-143962/workspaces/quick-starts-ws-143962&amp;tid=660b3398-b80e-49d2-bc5b-ac1dc93b5254\" target=\"_blank\" rel=\"noopener\">Link to Azure Machine Learning studio</a></td><td><a href=\"https://docs.microsoft.com/en-us/python/api/overview/azure/ml/intro?view=azure-ml-py\" target=\"_blank\" rel=\"noopener\">Link to Documentation</a></td></tr></table>"
      ],
      "text/plain": [
       "<IPython.core.display.HTML object>"
      ]
     },
     "metadata": {},
     "output_type": "display_data"
    }
   ],
   "source": [
    "# Submit your experiment\n",
    "remote_run = experiment.submit(automl_config)"
   ]
  },
  {
   "cell_type": "markdown",
   "metadata": {},
   "source": [
    "## Run Details"
   ]
  },
  {
   "cell_type": "code",
   "execution_count": 7,
   "metadata": {
    "gather": {
     "logged": 1619886335878
    },
    "jupyter": {
     "outputs_hidden": false,
     "source_hidden": false
    },
    "nteract": {
     "transient": {
      "deleting": false
     }
    }
   },
   "outputs": [
    {
     "data": {
      "application/vnd.jupyter.widget-view+json": {
       "model_id": "19523d5b683f4f2297adf26b3fac7a41",
       "version_major": 2,
       "version_minor": 0
      },
      "text/plain": [
       "_AutoMLWidget(widget_settings={'childWidgetDisplay': 'popup', 'send_telemetry': False, 'log_level': 'INFO', 's…"
      ]
     },
     "metadata": {},
     "output_type": "display_data"
    },
    {
     "data": {
      "application/aml.mini.widget.v1": "{\"status\": \"Completed\", \"workbench_run_details_uri\": \"https://ml.azure.com/runs/AutoML_d23e6bc6-b464-4dbb-bc48-754e8dbdad30?wsid=/subscriptions/81cefad3-d2c9-4f77-a466-99a7f541c7bb/resourcegroups/aml-quickstarts-143962/workspaces/quick-starts-ws-143962&tid=660b3398-b80e-49d2-bc5b-ac1dc93b5254\", \"run_id\": \"AutoML_d23e6bc6-b464-4dbb-bc48-754e8dbdad30\", \"run_properties\": {\"run_id\": \"AutoML_d23e6bc6-b464-4dbb-bc48-754e8dbdad30\", \"created_utc\": \"2021-05-04T14:03:47.600045Z\", \"properties\": {\"num_iterations\": \"1000\", \"training_type\": \"TrainFull\", \"acquisition_function\": \"EI\", \"primary_metric\": \"AUC_weighted\", \"train_split\": \"0\", \"acquisition_parameter\": \"0\", \"num_cross_validation\": null, \"target\": \"cluster-1\", \"AMLSettingsJsonString\": \"{\\\"path\\\":null,\\\"name\\\":\\\"hr-automl\\\",\\\"subscription_id\\\":\\\"81cefad3-d2c9-4f77-a466-99a7f541c7bb\\\",\\\"resource_group\\\":\\\"aml-quickstarts-143962\\\",\\\"workspace_name\\\":\\\"quick-starts-ws-143962\\\",\\\"region\\\":\\\"southcentralus\\\",\\\"compute_target\\\":\\\"cluster-1\\\",\\\"spark_service\\\":null,\\\"azure_service\\\":\\\"remote\\\",\\\"many_models\\\":false,\\\"pipeline_fetch_max_batch_size\\\":1,\\\"enable_batch_run\\\":false,\\\"enable_run_restructure\\\":false,\\\"iterations\\\":1000,\\\"primary_metric\\\":\\\"AUC_weighted\\\",\\\"task_type\\\":\\\"classification\\\",\\\"data_script\\\":null,\\\"test_size\\\":0.0,\\\"validation_size\\\":0.0,\\\"n_cross_validations\\\":null,\\\"y_min\\\":null,\\\"y_max\\\":null,\\\"num_classes\\\":null,\\\"featurization\\\":\\\"auto\\\",\\\"_ignore_package_version_incompatibilities\\\":false,\\\"is_timeseries\\\":false,\\\"max_cores_per_iteration\\\":1,\\\"max_concurrent_iterations\\\":3,\\\"iteration_timeout_minutes\\\":null,\\\"mem_in_mb\\\":null,\\\"enforce_time_on_windows\\\":false,\\\"experiment_timeout_minutes\\\":30,\\\"experiment_exit_score\\\":null,\\\"whitelist_models\\\":null,\\\"blacklist_algos\\\":[\\\"TensorFlowLinearClassifier\\\",\\\"TensorFlowDNN\\\"],\\\"supported_models\\\":[\\\"BernoulliNaiveBayes\\\",\\\"TensorFlowLinearClassifier\\\",\\\"SVM\\\",\\\"SGD\\\",\\\"RandomForest\\\",\\\"LightGBM\\\",\\\"TensorFlowDNN\\\",\\\"XGBoostClassifier\\\",\\\"AveragedPerceptronClassifier\\\",\\\"LinearSVM\\\",\\\"KNN\\\",\\\"ExtremeRandomTrees\\\",\\\"GradientBoosting\\\",\\\"DecisionTree\\\",\\\"MultinomialNaiveBayes\\\",\\\"LogisticRegression\\\"],\\\"private_models\\\":[],\\\"auto_blacklist\\\":true,\\\"blacklist_samples_reached\\\":false,\\\"exclude_nan_labels\\\":true,\\\"verbosity\\\":20,\\\"_debug_log\\\":\\\"azureml_automl.log\\\",\\\"show_warnings\\\":false,\\\"model_explainability\\\":true,\\\"service_url\\\":null,\\\"sdk_url\\\":null,\\\"sdk_packages\\\":null,\\\"enable_onnx_compatible_models\\\":false,\\\"enable_split_onnx_featurizer_estimator_models\\\":false,\\\"vm_type\\\":\\\"STANDARD_DS3_V2\\\",\\\"telemetry_verbosity\\\":20,\\\"send_telemetry\\\":true,\\\"enable_dnn\\\":false,\\\"scenario\\\":\\\"SDK-1.13.0\\\",\\\"environment_label\\\":null,\\\"save_mlflow\\\":false,\\\"force_text_dnn\\\":false,\\\"enable_feature_sweeping\\\":true,\\\"enable_early_stopping\\\":true,\\\"early_stopping_n_iters\\\":10,\\\"metrics\\\":null,\\\"enable_metric_confidence\\\":false,\\\"enable_ensembling\\\":true,\\\"enable_stack_ensembling\\\":true,\\\"ensemble_iterations\\\":15,\\\"enable_tf\\\":false,\\\"enable_subsampling\\\":null,\\\"subsample_seed\\\":null,\\\"enable_nimbusml\\\":false,\\\"enable_streaming\\\":false,\\\"force_streaming\\\":false,\\\"track_child_runs\\\":true,\\\"allowed_private_models\\\":[],\\\"label_column_name\\\":\\\"is_promoted\\\",\\\"weight_column_name\\\":null,\\\"cv_split_column_names\\\":null,\\\"enable_local_managed\\\":false,\\\"_local_managed_run_id\\\":null,\\\"cost_mode\\\":1,\\\"lag_length\\\":0,\\\"metric_operation\\\":\\\"maximize\\\",\\\"preprocess\\\":true}\", \"DataPrepJsonString\": \"{\\\\\\\"training_data\\\\\\\": {\\\\\\\"datasetId\\\\\\\": \\\\\\\"d44bc712-377f-431f-8b93-06e4b919eeef\\\\\\\"}, \\\\\\\"datasets\\\\\\\": 0}\", \"EnableSubsampling\": null, \"runTemplate\": \"AutoML\", \"azureml.runsource\": \"automl\", \"display_task_type\": \"classification\", \"dependencies_versions\": \"{\\\"azureml-widgets\\\": \\\"1.26.0\\\", \\\"azureml-train\\\": \\\"1.26.0\\\", \\\"azureml-train-restclients-hyperdrive\\\": \\\"1.26.0\\\", \\\"azureml-train-core\\\": \\\"1.26.0\\\", \\\"azureml-train-automl\\\": \\\"1.26.0\\\", \\\"azureml-train-automl-runtime\\\": \\\"1.26.0\\\", \\\"azureml-train-automl-client\\\": \\\"1.26.0\\\", \\\"azureml-tensorboard\\\": \\\"1.26.0\\\", \\\"azureml-telemetry\\\": \\\"1.26.0\\\", \\\"azureml-sdk\\\": \\\"1.26.0\\\", \\\"azureml-samples\\\": \\\"0+unknown\\\", \\\"azureml-pipeline\\\": \\\"1.26.0\\\", \\\"azureml-pipeline-steps\\\": \\\"1.26.0\\\", \\\"azureml-pipeline-core\\\": \\\"1.26.0\\\", \\\"azureml-opendatasets\\\": \\\"1.26.0\\\", \\\"azureml-model-management-sdk\\\": \\\"1.0.1b6.post1\\\", \\\"azureml-mlflow\\\": \\\"1.26.0\\\", \\\"azureml-interpret\\\": \\\"1.26.0\\\", \\\"azureml-explain-model\\\": \\\"1.26.0\\\", \\\"azureml-defaults\\\": \\\"1.26.0\\\", \\\"azureml-dataset-runtime\\\": \\\"1.26.0\\\", \\\"azureml-dataprep\\\": \\\"2.13.2\\\", \\\"azureml-dataprep-rslex\\\": \\\"1.11.2\\\", \\\"azureml-dataprep-native\\\": \\\"32.0.0\\\", \\\"azureml-datadrift\\\": \\\"1.26.0\\\", \\\"azureml-core\\\": \\\"1.26.0\\\", \\\"azureml-contrib-services\\\": \\\"1.26.0\\\", \\\"azureml-contrib-server\\\": \\\"1.26.0\\\", \\\"azureml-contrib-reinforcementlearning\\\": \\\"1.26.0\\\", \\\"azureml-contrib-pipeline-steps\\\": \\\"1.26.0\\\", \\\"azureml-contrib-notebook\\\": \\\"1.26.0\\\", \\\"azureml-contrib-gbdt\\\": \\\"1.26.0\\\", \\\"azureml-contrib-fairness\\\": \\\"1.26.0\\\", \\\"azureml-contrib-dataset\\\": \\\"1.26.0\\\", \\\"azureml-cli-common\\\": \\\"1.26.0\\\", \\\"azureml-automl-runtime\\\": \\\"1.26.0\\\", \\\"azureml-automl-dnn-nlp\\\": \\\"1.26.0\\\", \\\"azureml-automl-core\\\": \\\"1.26.0\\\", \\\"azureml-accel-models\\\": \\\"1.26.0\\\"}\", \"_aml_system_scenario_identification\": \"Remote.Parent\", \"ClientType\": \"SDK\", \"environment_cpu_name\": \"AzureML-AutoML\", \"environment_cpu_label\": \"prod\", \"environment_gpu_name\": \"AzureML-AutoML-GPU\", \"environment_gpu_label\": \"prod\", \"root_attribution\": \"automl\", \"attribution\": \"AutoML\", \"Orchestrator\": \"AutoML\", \"CancelUri\": \"https://southcentralus.api.azureml.ms/jasmine/v1.0/subscriptions/81cefad3-d2c9-4f77-a466-99a7f541c7bb/resourceGroups/aml-quickstarts-143962/providers/Microsoft.MachineLearningServices/workspaces/quick-starts-ws-143962/experimentids/dc64068f-5795-431f-84e1-b0fc1b1f1a38/cancel/AutoML_d23e6bc6-b464-4dbb-bc48-754e8dbdad30\", \"ClientSdkVersion\": \"1.27.0.post1\", \"snapshotId\": \"00000000-0000-0000-0000-000000000000\", \"SetupRunId\": \"AutoML_d23e6bc6-b464-4dbb-bc48-754e8dbdad30_setup\", \"SetupRunContainerId\": \"dcid.AutoML_d23e6bc6-b464-4dbb-bc48-754e8dbdad30_setup\", \"FeaturizationRunJsonPath\": \"featurizer_container.json\", \"FeaturizationRunId\": \"AutoML_d23e6bc6-b464-4dbb-bc48-754e8dbdad30_featurize\", \"ProblemInfoJsonString\": \"{\\\"dataset_num_categorical\\\": 0, \\\"is_sparse\\\": true, \\\"subsampling\\\": false, \\\"dataset_classes\\\": 2, \\\"dataset_features\\\": 141, \\\"dataset_samples\\\": 49327, \\\"single_frequency_class_detected\\\": false}\", \"ModelExplainRunId\": \"AutoML_d23e6bc6-b464-4dbb-bc48-754e8dbdad30_ModelExplain\"}, \"tags\": {\"model_explain_run\": \"best_run\", \"_aml_system_azureml.automlComponent\": \"AutoML\", \"pipeline_id\": \"\", \"score\": \"\", \"predicted_cost\": \"\", \"fit_time\": \"\", \"training_percent\": \"\", \"iteration\": \"\", \"run_preprocessor\": \"\", \"run_algorithm\": \"\", \"dynamic_whitelisting_iterations\": \"<25>;<30>;\", \"automl_best_child_run_id\": \"AutoML_d23e6bc6-b464-4dbb-bc48-754e8dbdad30_34\", \"model_explain_best_run_child_id\": \"AutoML_d23e6bc6-b464-4dbb-bc48-754e8dbdad30_34\"}, \"end_time_utc\": \"2021-05-04T14:21:36.254367Z\", \"status\": \"Completed\", \"log_files\": {}, \"log_groups\": [], \"run_duration\": \"0:17:48\", \"run_number\": \"1\", \"run_queued_details\": {\"status\": \"Completed\", \"details\": null}}, \"child_runs\": [{\"run_id\": \"AutoML_d23e6bc6-b464-4dbb-bc48-754e8dbdad30_0\", \"run_number\": 5, \"metric\": null, \"status\": \"Completed\", \"run_type\": \"azureml.scriptrun\", \"training_percent\": \"100\", \"start_time\": \"2021-05-04T14:07:25.492165Z\", \"end_time\": \"2021-05-04T14:08:08.146377Z\", \"created_time\": \"2021-05-04T14:07:13.870624Z\", \"created_time_dt\": \"2021-05-04T14:07:13.870624Z\", \"duration\": \"0:00:54\", \"iteration\": \"0\", \"goal\": \"AUC_weighted_max\", \"run_name\": \"MaxAbsScaler, LightGBM\", \"run_properties\": \"copy=True\", \"primary_metric\": 0.90492424, \"best_metric\": 0.90492424}, {\"run_id\": \"AutoML_d23e6bc6-b464-4dbb-bc48-754e8dbdad30_1\", \"run_number\": 6, \"metric\": null, \"status\": \"Completed\", \"run_type\": \"azureml.scriptrun\", \"training_percent\": \"100\", \"start_time\": \"2021-05-04T14:08:22.785571Z\", \"end_time\": \"2021-05-04T14:09:07.100973Z\", \"created_time\": \"2021-05-04T14:07:13.893623Z\", \"created_time_dt\": \"2021-05-04T14:07:13.893623Z\", \"duration\": \"0:01:53\", \"iteration\": \"1\", \"goal\": \"AUC_weighted_max\", \"run_name\": \"MaxAbsScaler, XGBoostClassifier\", \"run_properties\": \"copy=True\", \"primary_metric\": 0.89721264, \"best_metric\": 0.90492424}, {\"run_id\": \"AutoML_d23e6bc6-b464-4dbb-bc48-754e8dbdad30_2\", \"run_number\": 7, \"metric\": null, \"status\": \"Completed\", \"run_type\": \"azureml.scriptrun\", \"training_percent\": \"100\", \"start_time\": \"2021-05-04T14:09:11.602263Z\", \"end_time\": \"2021-05-04T14:10:51.549987Z\", \"created_time\": \"2021-05-04T14:07:13.89803Z\", \"created_time_dt\": \"2021-05-04T14:07:13.89803Z\", \"duration\": \"0:03:37\", \"iteration\": \"2\", \"goal\": \"AUC_weighted_max\", \"run_name\": \"MaxAbsScaler, RandomForest\", \"run_properties\": \"copy=True\", \"primary_metric\": 0.81173869, \"best_metric\": 0.90492424}, {\"run_id\": \"AutoML_d23e6bc6-b464-4dbb-bc48-754e8dbdad30_3\", \"run_number\": 8, \"metric\": null, \"status\": \"Completed\", \"run_type\": \"azureml.scriptrun\", \"training_percent\": \"100\", \"start_time\": \"2021-05-04T14:09:12.297625Z\", \"end_time\": \"2021-05-04T14:10:38.812554Z\", \"created_time\": \"2021-05-04T14:08:09.503844Z\", \"created_time_dt\": \"2021-05-04T14:08:09.503844Z\", \"duration\": \"0:02:29\", \"iteration\": \"3\", \"goal\": \"AUC_weighted_max\", \"run_name\": \"MaxAbsScaler, RandomForest\", \"run_properties\": \"copy=True\", \"primary_metric\": 0.81513838, \"best_metric\": 0.90492424}, {\"run_id\": \"AutoML_d23e6bc6-b464-4dbb-bc48-754e8dbdad30_4\", \"run_number\": 9, \"metric\": null, \"status\": \"Completed\", \"run_type\": \"azureml.scriptrun\", \"training_percent\": \"100\", \"start_time\": \"2021-05-04T14:09:21.937463Z\", \"end_time\": \"2021-05-04T14:10:07.492692Z\", \"created_time\": \"2021-05-04T14:09:08.441079Z\", \"created_time_dt\": \"2021-05-04T14:09:08.441079Z\", \"duration\": \"0:00:59\", \"iteration\": \"4\", \"goal\": \"AUC_weighted_max\", \"run_name\": \"MaxAbsScaler, RandomForest\", \"run_properties\": \"copy=True\", \"primary_metric\": 0.77248693, \"best_metric\": 0.90492424}, {\"run_id\": \"AutoML_d23e6bc6-b464-4dbb-bc48-754e8dbdad30_5\", \"run_number\": 10, \"metric\": null, \"status\": \"Completed\", \"run_type\": \"azureml.scriptrun\", \"training_percent\": \"100\", \"start_time\": \"2021-05-04T14:10:24.30283Z\", \"end_time\": \"2021-05-04T14:11:07.732024Z\", \"created_time\": \"2021-05-04T14:10:09.856795Z\", \"created_time_dt\": \"2021-05-04T14:10:09.856795Z\", \"duration\": \"0:00:57\", \"iteration\": \"5\", \"goal\": \"AUC_weighted_max\", \"run_name\": \"MaxAbsScaler, ExtremeRandomTrees\", \"run_properties\": \"copy=True\", \"primary_metric\": 0.78184723, \"best_metric\": 0.90492424}, {\"run_id\": \"AutoML_d23e6bc6-b464-4dbb-bc48-754e8dbdad30_6\", \"run_number\": 11, \"metric\": null, \"status\": \"Completed\", \"run_type\": \"azureml.scriptrun\", \"training_percent\": \"100\", \"start_time\": \"2021-05-04T14:10:55.034304Z\", \"end_time\": \"2021-05-04T14:11:38.23714Z\", \"created_time\": \"2021-05-04T14:10:41.323507Z\", \"created_time_dt\": \"2021-05-04T14:10:41.323507Z\", \"duration\": \"0:00:56\", \"iteration\": \"6\", \"goal\": \"AUC_weighted_max\", \"run_name\": \"MaxAbsScaler, ExtremeRandomTrees\", \"run_properties\": \"copy=True\", \"primary_metric\": 0.81193045, \"best_metric\": 0.90492424}, {\"run_id\": \"AutoML_d23e6bc6-b464-4dbb-bc48-754e8dbdad30_7\", \"run_number\": 12, \"metric\": null, \"status\": \"Completed\", \"run_type\": \"azureml.scriptrun\", \"training_percent\": \"100\", \"start_time\": \"2021-05-04T14:11:05.702203Z\", \"end_time\": \"2021-05-04T14:11:48.341764Z\", \"created_time\": \"2021-05-04T14:10:54.244612Z\", \"created_time_dt\": \"2021-05-04T14:10:54.244612Z\", \"duration\": \"0:00:54\", \"iteration\": \"7\", \"goal\": \"AUC_weighted_max\", \"run_name\": \"MaxAbsScaler, ExtremeRandomTrees\", \"run_properties\": \"copy=True\", \"primary_metric\": 0.79705668, \"best_metric\": 0.90492424}, {\"run_id\": \"AutoML_d23e6bc6-b464-4dbb-bc48-754e8dbdad30_8\", \"run_number\": 13, \"metric\": null, \"status\": \"Completed\", \"run_type\": \"azureml.scriptrun\", \"training_percent\": \"100\", \"start_time\": \"2021-05-04T14:11:21.687261Z\", \"end_time\": \"2021-05-04T14:12:01.436475Z\", \"created_time\": \"2021-05-04T14:11:10.160082Z\", \"created_time_dt\": \"2021-05-04T14:11:10.160082Z\", \"duration\": \"0:00:51\", \"iteration\": \"8\", \"goal\": \"AUC_weighted_max\", \"run_name\": \"MaxAbsScaler, RandomForest\", \"run_properties\": \"copy=True\", \"primary_metric\": 0.80148859, \"best_metric\": 0.90492424}, {\"run_id\": \"AutoML_d23e6bc6-b464-4dbb-bc48-754e8dbdad30_9\", \"run_number\": 14, \"metric\": null, \"status\": \"Completed\", \"run_type\": \"azureml.scriptrun\", \"training_percent\": \"100\", \"start_time\": \"2021-05-04T14:11:52.130321Z\", \"end_time\": \"2021-05-04T14:12:43.501128Z\", \"created_time\": \"2021-05-04T14:11:40.673116Z\", \"created_time_dt\": \"2021-05-04T14:11:40.673116Z\", \"duration\": \"0:01:02\", \"iteration\": \"9\", \"goal\": \"AUC_weighted_max\", \"run_name\": \"MaxAbsScaler, ExtremeRandomTrees\", \"run_properties\": \"copy=True\", \"primary_metric\": 0.78837585, \"best_metric\": 0.90492424}, {\"run_id\": \"AutoML_d23e6bc6-b464-4dbb-bc48-754e8dbdad30_10\", \"run_number\": 15, \"metric\": null, \"status\": \"Completed\", \"run_type\": \"azureml.scriptrun\", \"training_percent\": \"100\", \"start_time\": \"2021-05-04T14:12:04.435286Z\", \"end_time\": \"2021-05-04T14:12:47.683323Z\", \"created_time\": \"2021-05-04T14:11:50.749778Z\", \"created_time_dt\": \"2021-05-04T14:11:50.749778Z\", \"duration\": \"0:00:56\", \"iteration\": \"10\", \"goal\": \"AUC_weighted_max\", \"run_name\": \"MaxAbsScaler, RandomForest\", \"run_properties\": \"copy=True\", \"primary_metric\": 0.78197578, \"best_metric\": 0.90492424}, {\"run_id\": \"AutoML_d23e6bc6-b464-4dbb-bc48-754e8dbdad30_11\", \"run_number\": 16, \"metric\": null, \"status\": \"Completed\", \"run_type\": \"azureml.scriptrun\", \"training_percent\": \"100\", \"start_time\": \"2021-05-04T14:12:15.46027Z\", \"end_time\": \"2021-05-04T14:12:55.221105Z\", \"created_time\": \"2021-05-04T14:12:03.956908Z\", \"created_time_dt\": \"2021-05-04T14:12:03.956908Z\", \"duration\": \"0:00:51\", \"iteration\": \"11\", \"goal\": \"AUC_weighted_max\", \"run_name\": \"MaxAbsScaler, RandomForest\", \"run_properties\": \"copy=True\", \"primary_metric\": 0.77935442, \"best_metric\": 0.90492424}, {\"run_id\": \"AutoML_d23e6bc6-b464-4dbb-bc48-754e8dbdad30_12\", \"run_number\": 17, \"metric\": null, \"status\": \"Completed\", \"run_type\": \"azureml.scriptrun\", \"training_percent\": \"100\", \"start_time\": \"2021-05-04T14:12:57.802513Z\", \"end_time\": \"2021-05-04T14:13:40.407808Z\", \"created_time\": \"2021-05-04T14:12:46.159642Z\", \"created_time_dt\": \"2021-05-04T14:12:46.159642Z\", \"duration\": \"0:00:54\", \"iteration\": \"12\", \"goal\": \"AUC_weighted_max\", \"run_name\": \"MaxAbsScaler, RandomForest\", \"run_properties\": \"copy=True\", \"primary_metric\": 0.76999135, \"best_metric\": 0.90492424}, {\"run_id\": \"AutoML_d23e6bc6-b464-4dbb-bc48-754e8dbdad30_13\", \"run_number\": 18, \"metric\": null, \"status\": \"Completed\", \"run_type\": \"azureml.scriptrun\", \"training_percent\": \"100\", \"start_time\": \"2021-05-04T14:13:03.885253Z\", \"end_time\": \"2021-05-04T14:13:44.918799Z\", \"created_time\": \"2021-05-04T14:12:50.086948Z\", \"created_time_dt\": \"2021-05-04T14:12:50.086948Z\", \"duration\": \"0:00:54\", \"iteration\": \"13\", \"goal\": \"AUC_weighted_max\", \"run_name\": \"StandardScalerWrapper, XGBoostClassifier\", \"run_properties\": \"<azureml.automl.runtime.shared.model_wrappers.StandardScalerWrapper object at 0x7fd56d8306a0\", \"primary_metric\": 0.86686891, \"best_metric\": 0.90492424}, {\"run_id\": \"AutoML_d23e6bc6-b464-4dbb-bc48-754e8dbdad30_14\", \"run_number\": 19, \"metric\": null, \"status\": \"Completed\", \"run_type\": \"azureml.scriptrun\", \"training_percent\": \"100\", \"start_time\": \"2021-05-04T14:13:09.597313Z\", \"end_time\": \"2021-05-04T14:13:50.302492Z\", \"created_time\": \"2021-05-04T14:12:57.663171Z\", \"created_time_dt\": \"2021-05-04T14:12:57.663171Z\", \"duration\": \"0:00:52\", \"iteration\": \"14\", \"goal\": \"AUC_weighted_max\", \"run_name\": \"MaxAbsScaler, RandomForest\", \"run_properties\": \"copy=True\", \"primary_metric\": 0.7790196, \"best_metric\": 0.90492424}, {\"run_id\": \"AutoML_d23e6bc6-b464-4dbb-bc48-754e8dbdad30_15\", \"run_number\": 20, \"metric\": null, \"status\": \"Completed\", \"run_type\": \"azureml.scriptrun\", \"training_percent\": \"100\", \"start_time\": \"2021-05-04T14:13:52.622039Z\", \"end_time\": \"2021-05-04T14:14:34.61287Z\", \"created_time\": \"2021-05-04T14:13:42.930743Z\", \"created_time_dt\": \"2021-05-04T14:13:42.930743Z\", \"duration\": \"0:00:51\", \"iteration\": \"15\", \"goal\": \"AUC_weighted_max\", \"run_name\": \"StandardScalerWrapper, ExtremeRandomTrees\", \"run_properties\": \"<azureml.automl.runtime.shared.model_wrappers.StandardScalerWrapper object at 0x7fb80a906e80\", \"primary_metric\": 0.78267212, \"best_metric\": 0.90492424}, {\"run_id\": \"AutoML_d23e6bc6-b464-4dbb-bc48-754e8dbdad30_16\", \"run_number\": 21, \"metric\": null, \"status\": \"Completed\", \"run_type\": \"azureml.scriptrun\", \"training_percent\": \"100\", \"start_time\": \"2021-05-04T14:13:59.060701Z\", \"end_time\": \"2021-05-04T14:14:41.945592Z\", \"created_time\": \"2021-05-04T14:13:47.61616Z\", \"created_time_dt\": \"2021-05-04T14:13:47.61616Z\", \"duration\": \"0:00:54\", \"iteration\": \"16\", \"goal\": \"AUC_weighted_max\", \"run_name\": \"MaxAbsScaler, ExtremeRandomTrees\", \"run_properties\": \"copy=True\", \"primary_metric\": 0.78147739, \"best_metric\": 0.90492424}, {\"run_id\": \"AutoML_d23e6bc6-b464-4dbb-bc48-754e8dbdad30_17\", \"run_number\": 22, \"metric\": null, \"status\": \"Completed\", \"run_type\": \"azureml.scriptrun\", \"training_percent\": \"100\", \"start_time\": \"2021-05-04T14:14:06.679059Z\", \"end_time\": \"2021-05-04T14:14:49.907674Z\", \"created_time\": \"2021-05-04T14:13:53.060479Z\", \"created_time_dt\": \"2021-05-04T14:13:53.060479Z\", \"duration\": \"0:00:56\", \"iteration\": \"17\", \"goal\": \"AUC_weighted_max\", \"run_name\": \"MaxAbsScaler, ExtremeRandomTrees\", \"run_properties\": \"copy=True\", \"primary_metric\": 0.79509408, \"best_metric\": 0.90492424}, {\"run_id\": \"AutoML_d23e6bc6-b464-4dbb-bc48-754e8dbdad30_18\", \"run_number\": 23, \"metric\": null, \"status\": \"Completed\", \"run_type\": \"azureml.scriptrun\", \"training_percent\": \"100\", \"start_time\": \"2021-05-04T14:14:48.731763Z\", \"end_time\": \"2021-05-04T14:15:31.331992Z\", \"created_time\": \"2021-05-04T14:14:37.175245Z\", \"created_time_dt\": \"2021-05-04T14:14:37.175245Z\", \"duration\": \"0:00:54\", \"iteration\": \"18\", \"goal\": \"AUC_weighted_max\", \"run_name\": \"MaxAbsScaler, RandomForest\", \"run_properties\": \"copy=True\", \"primary_metric\": 0.76461433, \"best_metric\": 0.90492424}, {\"run_id\": \"AutoML_d23e6bc6-b464-4dbb-bc48-754e8dbdad30_19\", \"run_number\": 24, \"metric\": null, \"status\": \"Completed\", \"run_type\": \"azureml.scriptrun\", \"training_percent\": \"100\", \"start_time\": \"2021-05-04T14:14:56.034041Z\", \"end_time\": \"2021-05-04T14:15:38.62175Z\", \"created_time\": \"2021-05-04T14:14:44.428757Z\", \"created_time_dt\": \"2021-05-04T14:14:44.428757Z\", \"duration\": \"0:00:54\", \"iteration\": \"19\", \"goal\": \"AUC_weighted_max\", \"run_name\": \"MaxAbsScaler, LightGBM\", \"run_properties\": \"copy=True\", \"primary_metric\": 0.84085802, \"best_metric\": 0.90492424}, {\"run_id\": \"AutoML_d23e6bc6-b464-4dbb-bc48-754e8dbdad30_20\", \"run_number\": 25, \"metric\": null, \"status\": \"Completed\", \"run_type\": \"azureml.scriptrun\", \"training_percent\": \"100\", \"start_time\": \"2021-05-04T14:15:05.61791Z\", \"end_time\": \"2021-05-04T14:15:46.086168Z\", \"created_time\": \"2021-05-04T14:14:51.985706Z\", \"created_time_dt\": \"2021-05-04T14:14:51.985706Z\", \"duration\": \"0:00:54\", \"iteration\": \"20\", \"goal\": \"AUC_weighted_max\", \"run_name\": \"MaxAbsScaler, LightGBM\", \"run_properties\": \"copy=True\", \"primary_metric\": 0.82664407, \"best_metric\": 0.90492424}, {\"run_id\": \"AutoML_d23e6bc6-b464-4dbb-bc48-754e8dbdad30_21\", \"run_number\": 26, \"metric\": null, \"status\": \"Completed\", \"run_type\": \"azureml.scriptrun\", \"training_percent\": \"100\", \"start_time\": \"2021-05-04T14:15:51.268929Z\", \"end_time\": \"2021-05-04T14:16:35.933375Z\", \"created_time\": \"2021-05-04T14:15:33.135973Z\", \"created_time_dt\": \"2021-05-04T14:15:33.135973Z\", \"duration\": \"0:01:02\", \"iteration\": \"21\", \"goal\": \"AUC_weighted_max\", \"run_name\": \"MaxAbsScaler, LightGBM\", \"run_properties\": \"copy=True\", \"primary_metric\": 0.88491047, \"best_metric\": 0.90492424}, {\"run_id\": \"AutoML_d23e6bc6-b464-4dbb-bc48-754e8dbdad30_22\", \"run_number\": 27, \"metric\": null, \"status\": \"Completed\", \"run_type\": \"azureml.scriptrun\", \"training_percent\": \"100\", \"start_time\": \"2021-05-04T14:15:56.2815Z\", \"end_time\": \"2021-05-04T14:16:40.206264Z\", \"created_time\": \"2021-05-04T14:15:40.326559Z\", \"created_time_dt\": \"2021-05-04T14:15:40.326559Z\", \"duration\": \"0:00:59\", \"iteration\": \"22\", \"goal\": \"AUC_weighted_max\", \"run_name\": \"StandardScalerWrapper, XGBoostClassifier\", \"run_properties\": \"<azureml.automl.runtime.shared.model_wrappers.StandardScalerWrapper object at 0x7f12e30a8710\", \"primary_metric\": 0.89775972, \"best_metric\": 0.90492424}, {\"run_id\": \"AutoML_d23e6bc6-b464-4dbb-bc48-754e8dbdad30_23\", \"run_number\": 28, \"metric\": null, \"status\": \"Completed\", \"run_type\": \"azureml.scriptrun\", \"training_percent\": \"100\", \"start_time\": \"2021-05-04T14:16:01.586541Z\", \"end_time\": \"2021-05-04T14:16:48.293247Z\", \"created_time\": \"2021-05-04T14:15:47.929366Z\", \"created_time_dt\": \"2021-05-04T14:15:47.929366Z\", \"duration\": \"0:01:00\", \"iteration\": \"23\", \"goal\": \"AUC_weighted_max\", \"run_name\": \"StandardScalerWrapper, XGBoostClassifier\", \"run_properties\": \"<azureml.automl.runtime.shared.model_wrappers.StandardScalerWrapper object at 0x7fb3ca861898\", \"primary_metric\": 0.89883401, \"best_metric\": 0.90492424}, {\"run_id\": \"AutoML_d23e6bc6-b464-4dbb-bc48-754e8dbdad30_24\", \"run_number\": 29, \"metric\": null, \"status\": \"Completed\", \"run_type\": \"azureml.scriptrun\", \"training_percent\": \"100\", \"start_time\": \"2021-05-04T14:16:47.129213Z\", \"end_time\": \"2021-05-04T14:18:46.320529Z\", \"created_time\": \"2021-05-04T14:16:37.804202Z\", \"created_time_dt\": \"2021-05-04T14:16:37.804202Z\", \"duration\": \"0:02:08\", \"iteration\": \"24\", \"goal\": \"AUC_weighted_max\", \"run_name\": \"StandardScalerWrapper, XGBoostClassifier\", \"run_properties\": \"<azureml.automl.runtime.shared.model_wrappers.StandardScalerWrapper object at 0x7f751bf36898\", \"primary_metric\": 0.89565106, \"best_metric\": 0.90492424}, {\"run_id\": \"AutoML_d23e6bc6-b464-4dbb-bc48-754e8dbdad30_25\", \"run_number\": 30, \"metric\": null, \"status\": \"Completed\", \"run_type\": \"azureml.scriptrun\", \"training_percent\": \"100\", \"start_time\": \"2021-05-04T14:16:50.520408Z\", \"end_time\": \"2021-05-04T14:17:29.078464Z\", \"created_time\": \"2021-05-04T14:16:43.237911Z\", \"created_time_dt\": \"2021-05-04T14:16:43.237911Z\", \"duration\": \"0:00:45\", \"iteration\": \"25\", \"goal\": \"AUC_weighted_max\", \"run_name\": \"MaxAbsScaler, LightGBM\", \"run_properties\": \"copy=True\", \"primary_metric\": 0.82019852, \"best_metric\": 0.90492424}, {\"run_id\": \"AutoML_d23e6bc6-b464-4dbb-bc48-754e8dbdad30_26\", \"run_number\": 31, \"metric\": null, \"status\": \"Completed\", \"run_type\": \"azureml.scriptrun\", \"training_percent\": \"100\", \"start_time\": \"2021-05-04T14:16:57.169369Z\", \"end_time\": \"2021-05-04T14:17:43.962607Z\", \"created_time\": \"2021-05-04T14:16:50.074962Z\", \"created_time_dt\": \"2021-05-04T14:16:50.074962Z\", \"duration\": \"0:00:53\", \"iteration\": \"26\", \"goal\": \"AUC_weighted_max\", \"run_name\": \"StandardScalerWrapper, LogisticRegression\", \"run_properties\": \"<azureml.automl.runtime.shared.model_wrappers.StandardScalerWrapper object at 0x7f85208cc320\", \"primary_metric\": 0.87825865, \"best_metric\": 0.90492424}, {\"run_id\": \"AutoML_d23e6bc6-b464-4dbb-bc48-754e8dbdad30_27\", \"run_number\": 32, \"metric\": null, \"status\": \"Completed\", \"run_type\": \"azureml.scriptrun\", \"training_percent\": \"100\", \"start_time\": \"2021-05-04T14:17:38.495083Z\", \"end_time\": \"2021-05-04T14:18:22.671013Z\", \"created_time\": \"2021-05-04T14:17:30.86493Z\", \"created_time_dt\": \"2021-05-04T14:17:30.86493Z\", \"duration\": \"0:00:51\", \"iteration\": \"27\", \"goal\": \"AUC_weighted_max\", \"run_name\": \"SparseNormalizer, LightGBM\", \"run_properties\": \"<azureml.automl.runtime.shared.model_wrappers.SparseNormalizer object at 0x7f9ad5893518\", \"primary_metric\": 0.90001315, \"best_metric\": 0.90492424}, {\"run_id\": \"AutoML_d23e6bc6-b464-4dbb-bc48-754e8dbdad30_28\", \"run_number\": 33, \"metric\": null, \"status\": \"Completed\", \"run_type\": \"azureml.scriptrun\", \"training_percent\": \"100\", \"start_time\": \"2021-05-04T14:17:53.034914Z\", \"end_time\": \"2021-05-04T14:18:57.773698Z\", \"created_time\": \"2021-05-04T14:17:45.85375Z\", \"created_time_dt\": \"2021-05-04T14:17:45.85375Z\", \"duration\": \"0:01:11\", \"iteration\": \"28\", \"goal\": \"AUC_weighted_max\", \"run_name\": \"StandardScalerWrapper, XGBoostClassifier\", \"run_properties\": \"<azureml.automl.runtime.shared.model_wrappers.StandardScalerWrapper object at 0x7f4cea55eda0\", \"primary_metric\": 0.89664124, \"best_metric\": 0.90492424}, {\"run_id\": \"AutoML_d23e6bc6-b464-4dbb-bc48-754e8dbdad30_29\", \"run_number\": 34, \"metric\": null, \"status\": \"Completed\", \"run_type\": \"azureml.scriptrun\", \"training_percent\": \"100\", \"start_time\": \"2021-05-04T14:18:33.958271Z\", \"end_time\": \"2021-05-04T14:19:18.876329Z\", \"created_time\": \"2021-05-04T14:18:24.358287Z\", \"created_time_dt\": \"2021-05-04T14:18:24.358287Z\", \"duration\": \"0:00:54\", \"iteration\": \"29\", \"goal\": \"AUC_weighted_max\", \"run_name\": \"StandardScalerWrapper, XGBoostClassifier\", \"run_properties\": \"<azureml.automl.runtime.shared.model_wrappers.StandardScalerWrapper object at 0x7f05012b7710\", \"primary_metric\": 0.90405366, \"best_metric\": 0.90492424}, {\"run_id\": \"AutoML_d23e6bc6-b464-4dbb-bc48-754e8dbdad30_30\", \"run_number\": 35, \"metric\": null, \"status\": \"Completed\", \"run_type\": \"azureml.scriptrun\", \"training_percent\": \"100\", \"start_time\": \"2021-05-04T14:19:00.809846Z\", \"end_time\": \"2021-05-04T14:19:46.235176Z\", \"created_time\": \"2021-05-04T14:18:49.238926Z\", \"created_time_dt\": \"2021-05-04T14:18:49.238926Z\", \"duration\": \"0:00:56\", \"iteration\": \"30\", \"goal\": \"AUC_weighted_max\", \"run_name\": \"TruncatedSVDWrapper, LightGBM\", \"run_properties\": \"n_components=0.7026315789473684, random_state=None\", \"primary_metric\": 0.88281847, \"best_metric\": 0.90492424}, {\"run_id\": \"AutoML_d23e6bc6-b464-4dbb-bc48-754e8dbdad30_31\", \"run_number\": 36, \"metric\": null, \"status\": \"Completed\", \"run_type\": \"azureml.scriptrun\", \"training_percent\": \"100\", \"start_time\": \"2021-05-04T14:19:07.281034Z\", \"end_time\": \"2021-05-04T14:19:49.025804Z\", \"created_time\": \"2021-05-04T14:18:59.663092Z\", \"created_time_dt\": \"2021-05-04T14:18:59.663092Z\", \"duration\": \"0:00:49\", \"iteration\": \"31\", \"goal\": \"AUC_weighted_max\", \"run_name\": \"StandardScalerWrapper, XGBoostClassifier\", \"run_properties\": \"<azureml.automl.runtime.shared.model_wrappers.StandardScalerWrapper object at 0x7fd97f876a58\", \"primary_metric\": 0.89383602, \"best_metric\": 0.90492424}, {\"run_id\": \"AutoML_d23e6bc6-b464-4dbb-bc48-754e8dbdad30_32\", \"run_number\": 37, \"metric\": null, \"status\": \"Canceled\", \"run_type\": \"azureml.scriptrun\", \"training_percent\": \"100\", \"start_time\": \"2021-05-04T14:19:30.034063Z\", \"end_time\": \"2021-05-04T14:19:55.243159Z\", \"created_time\": \"2021-05-04T14:19:20.70728Z\", \"created_time_dt\": \"2021-05-04T14:19:20.70728Z\", \"duration\": \"0:00:34\", \"iteration\": \"32\", \"goal\": null, \"run_name\": \"StandardScalerWrapper, XGBoostClassifier\", \"run_properties\": null}, {\"run_id\": \"AutoML_d23e6bc6-b464-4dbb-bc48-754e8dbdad30_33\", \"run_number\": 38, \"metric\": null, \"status\": \"Canceled\", \"run_type\": \"azureml.scriptrun\", \"training_percent\": \"100\", \"start_time\": \"2021-05-04T14:19:48.131995Z\", \"end_time\": \"2021-05-04T14:20:01.213537Z\", \"created_time\": \"2021-05-04T14:19:48.131995Z\", \"created_time_dt\": \"2021-05-04T14:19:48.131995Z\", \"duration\": \"0:00:13\", \"iteration\": \"33\", \"goal\": null, \"run_name\": \"Canceled\", \"run_properties\": null}, {\"run_id\": \"AutoML_d23e6bc6-b464-4dbb-bc48-754e8dbdad30_35\", \"run_number\": 39, \"metric\": null, \"status\": \"Completed\", \"run_type\": \"azureml.scriptrun\", \"training_percent\": \"100\", \"start_time\": \"2021-05-04T14:20:09.265981Z\", \"end_time\": \"2021-05-04T14:21:33.717533Z\", \"created_time\": \"2021-05-04T14:20:01.97321Z\", \"created_time_dt\": \"2021-05-04T14:20:01.97321Z\", \"duration\": \"0:01:31\", \"iteration\": \"35\", \"goal\": \"AUC_weighted_max\", \"run_name\": \"StackEnsemble\", \"run_properties\": \"base_learners=[('0',\\n                                        Pipeline(memory=None,\\n                                                 steps=[('maxabsscaler',\\n                                                         MaxAbsScaler(copy=True\", \"primary_metric\": 0.9042326, \"best_metric\": 0.90554157}, {\"run_id\": \"AutoML_d23e6bc6-b464-4dbb-bc48-754e8dbdad30_34\", \"run_number\": 40, \"metric\": null, \"status\": \"Completed\", \"run_type\": \"azureml.scriptrun\", \"training_percent\": \"100\", \"start_time\": \"2021-05-04T14:20:09.062989Z\", \"end_time\": \"2021-05-04T14:20:59.04874Z\", \"created_time\": \"2021-05-04T14:20:01.976542Z\", \"created_time_dt\": \"2021-05-04T14:20:01.976542Z\", \"duration\": \"0:00:57\", \"iteration\": \"34\", \"goal\": \"AUC_weighted_max\", \"run_name\": \"VotingEnsemble\", \"run_properties\": \"classification_labels=None,\\n                              estimators=[('0',\\n                                           Pipeline(memory=None,\\n                                                    steps=[('maxabsscaler',\\n                                                            MaxAbsScaler(copy=True\", \"primary_metric\": 0.90554157, \"best_metric\": 0.90554157}], \"children_metrics\": {\"categories\": [0], \"series\": {\"balanced_accuracy\": [{\"categories\": [\"0\", \"1\", \"2\", \"3\", \"4\", \"5\", \"6\", \"7\", \"8\", \"9\", \"10\", \"11\", \"12\", \"13\", \"14\", \"15\", \"16\", \"17\", \"18\", \"19\", \"20\", \"21\", \"22\", \"23\", \"24\", \"25\", \"26\", \"27\", \"28\", \"29\", \"30\", \"31\", \"34\", \"35\"], \"mode\": \"markers\", \"name\": \"balanced_accuracy\", \"stepped\": false, \"type\": \"scatter\", \"data\": [0.6652548453196148, 0.6376170277825941, 0.5, 0.7413055009143563, 0.5, 0.5, 0.5, 0.5, 0.5, 0.7257543973234686, 0.7360724019853617, 0.7144699338639817, 0.7014180423294434, 0.5586870680723525, 0.5, 0.5, 0.7330545137426768, 0.7315328642968852, 0.6976495790373678, 0.5585610825021844, 0.5, 0.6153325293033894, 0.6655540076650475, 0.6724503296551241, 0.6722980792965991, 0.5, 0.6013876349647111, 0.6639847399444296, 0.6742662301444606, 0.666225788349367, 0.6258134610670423, 0.6261388882008321, 0.6673961729427411, 0.5]}, {\"categories\": [\"0\", \"1\", \"2\", \"3\", \"4\", \"5\", \"6\", \"7\", \"8\", \"9\", \"10\", \"11\", \"12\", \"13\", \"14\", \"15\", \"16\", \"17\", \"18\", \"19\", \"20\", \"21\", \"22\", \"23\", \"24\", \"25\", \"26\", \"27\", \"28\", \"29\", \"30\", \"31\", \"34\", \"35\"], \"mode\": \"lines\", \"name\": \"balanced_accuracy_max\", \"stepped\": true, \"type\": \"scatter\", \"data\": [0.6652548453196148, 0.6652548453196148, 0.6652548453196148, 0.7413055009143563, 0.7413055009143563, 0.7413055009143563, 0.7413055009143563, 0.7413055009143563, 0.7413055009143563, 0.7413055009143563, 0.7413055009143563, 0.7413055009143563, 0.7413055009143563, 0.7413055009143563, 0.7413055009143563, 0.7413055009143563, 0.7413055009143563, 0.7413055009143563, 0.7413055009143563, 0.7413055009143563, 0.7413055009143563, 0.7413055009143563, 0.7413055009143563, 0.7413055009143563, 0.7413055009143563, 0.7413055009143563, 0.7413055009143563, 0.7413055009143563, 0.7413055009143563, 0.7413055009143563, 0.7413055009143563, 0.7413055009143563, 0.7413055009143563, 0.7413055009143563]}], \"AUC_weighted\": [{\"categories\": [\"0\", \"1\", \"2\", \"3\", \"4\", \"5\", \"6\", \"7\", \"8\", \"9\", \"10\", \"11\", \"12\", \"13\", \"14\", \"15\", \"16\", \"17\", \"18\", \"19\", \"20\", \"21\", \"22\", \"23\", \"24\", \"25\", \"26\", \"27\", \"28\", \"29\", \"30\", \"31\", \"34\", \"35\"], \"mode\": \"markers\", \"name\": \"AUC_weighted\", \"stepped\": false, \"type\": \"scatter\", \"data\": [0.9049242421007049, 0.897212643997236, 0.8117386948236586, 0.8151383834044121, 0.7724869295309322, 0.781847230324684, 0.8119304491321516, 0.7970566781320654, 0.8014885942487374, 0.7883758452777618, 0.7819757783132282, 0.7793544243142755, 0.7699913475672827, 0.8668689126548448, 0.7790196016464392, 0.7826721155069873, 0.7814773879390383, 0.7950940791906858, 0.764614326139486, 0.8408580172519087, 0.8266440689837194, 0.8849104733726294, 0.8977597203205757, 0.8988340142248386, 0.8956510635317472, 0.8201985190930063, 0.8782586488026244, 0.9000131537476649, 0.8966412428932246, 0.9040536604573577, 0.882818472303247, 0.8938360171818694, 0.905541571394528, 0.904232602673969]}, {\"categories\": [\"0\", \"1\", \"2\", \"3\", \"4\", \"5\", \"6\", \"7\", \"8\", \"9\", \"10\", \"11\", \"12\", \"13\", \"14\", \"15\", \"16\", \"17\", \"18\", \"19\", \"20\", \"21\", \"22\", \"23\", \"24\", \"25\", \"26\", \"27\", \"28\", \"29\", \"30\", \"31\", \"34\", \"35\"], \"mode\": \"lines\", \"name\": \"AUC_weighted_max\", \"stepped\": true, \"type\": \"scatter\", \"data\": [0.9049242421007049, 0.9049242421007049, 0.9049242421007049, 0.9049242421007049, 0.9049242421007049, 0.9049242421007049, 0.9049242421007049, 0.9049242421007049, 0.9049242421007049, 0.9049242421007049, 0.9049242421007049, 0.9049242421007049, 0.9049242421007049, 0.9049242421007049, 0.9049242421007049, 0.9049242421007049, 0.9049242421007049, 0.9049242421007049, 0.9049242421007049, 0.9049242421007049, 0.9049242421007049, 0.9049242421007049, 0.9049242421007049, 0.9049242421007049, 0.9049242421007049, 0.9049242421007049, 0.9049242421007049, 0.9049242421007049, 0.9049242421007049, 0.9049242421007049, 0.9049242421007049, 0.9049242421007049, 0.905541571394528, 0.905541571394528]}], \"matthews_correlation\": [{\"categories\": [\"0\", \"1\", \"2\", \"3\", \"4\", \"5\", \"6\", \"7\", \"8\", \"9\", \"10\", \"11\", \"12\", \"13\", \"14\", \"15\", \"16\", \"17\", \"18\", \"19\", \"20\", \"21\", \"22\", \"23\", \"24\", \"25\", \"26\", \"27\", \"28\", \"29\", \"30\", \"31\", \"34\", \"35\"], \"mode\": \"markers\", \"name\": \"matthews_correlation\", \"stepped\": false, \"type\": \"scatter\", \"data\": [0.5448316147788235, 0.4975597986001833, 0.0, 0.2827374726469427, 0.0, 0.0, 0.0, 0.0, 0.0, 0.26130055658260387, 0.26968660064044564, 0.24305374016420653, 0.23736973357439892, 0.3230172725493873, 0.0, 0.0, 0.2653761419281311, 0.26829551859045936, 0.23084157667820668, 0.2912070667580565, 0.0, 0.4571763804843377, 0.5507877871949189, 0.5522987286770695, 0.5168285773131334, 0.0, 0.40368412828871425, 0.5390338857934025, 0.5332772014692463, 0.5447832521223269, 0.4532380360822164, 0.48130023406911854, 0.548619034351689, 0.0]}, {\"categories\": [\"0\", \"1\", \"2\", \"3\", \"4\", \"5\", \"6\", \"7\", \"8\", \"9\", \"10\", \"11\", \"12\", \"13\", \"14\", \"15\", \"16\", \"17\", \"18\", \"19\", \"20\", \"21\", \"22\", \"23\", \"24\", \"25\", \"26\", \"27\", \"28\", \"29\", \"30\", \"31\", \"34\", \"35\"], \"mode\": \"lines\", \"name\": \"matthews_correlation_max\", \"stepped\": true, \"type\": \"scatter\", \"data\": [0.5448316147788235, 0.5448316147788235, 0.5448316147788235, 0.5448316147788235, 0.5448316147788235, 0.5448316147788235, 0.5448316147788235, 0.5448316147788235, 0.5448316147788235, 0.5448316147788235, 0.5448316147788235, 0.5448316147788235, 0.5448316147788235, 0.5448316147788235, 0.5448316147788235, 0.5448316147788235, 0.5448316147788235, 0.5448316147788235, 0.5448316147788235, 0.5448316147788235, 0.5448316147788235, 0.5448316147788235, 0.5507877871949189, 0.5522987286770695, 0.5522987286770695, 0.5522987286770695, 0.5522987286770695, 0.5522987286770695, 0.5522987286770695, 0.5522987286770695, 0.5522987286770695, 0.5522987286770695, 0.5522987286770695, 0.5522987286770695]}], \"f1_score_weighted\": [{\"categories\": [\"0\", \"1\", \"2\", \"3\", \"4\", \"5\", \"6\", \"7\", \"8\", \"9\", \"10\", \"11\", \"12\", \"13\", \"14\", \"15\", \"16\", \"17\", \"18\", \"19\", \"20\", \"21\", \"22\", \"23\", \"24\", \"25\", \"26\", \"27\", \"28\", \"29\", \"30\", \"31\", \"34\", \"35\"], \"mode\": \"markers\", \"name\": \"f1_score_weighted\", \"stepped\": false, \"type\": \"scatter\", \"data\": [0.9285471550743866, 0.9210888234812723, 0.8740905196425887, 0.7664642730041066, 0.8740905196425887, 0.8740905196425887, 0.8740905196425887, 0.8740905196425887, 0.8740905196425887, 0.7501543895979116, 0.735811171824033, 0.7171299233721113, 0.7619606150758544, 0.8963994196546998, 0.8740905196425887, 0.8740905196425887, 0.7300343324013654, 0.7528348409650212, 0.7527661078591351, 0.8952732527966736, 0.8740905196425887, 0.9147462775063743, 0.9290221100465309, 0.9300838540839167, 0.927037308113881, 0.8740905196425887, 0.9092345115027225, 0.9279416600040841, 0.9287211524700012, 0.9286786489932868, 0.9163401458509718, 0.9181033424152378, 0.9291258047989714, 0.8740905196425887]}, {\"categories\": [\"0\", \"1\", \"2\", \"3\", \"4\", \"5\", \"6\", \"7\", \"8\", \"9\", \"10\", \"11\", \"12\", \"13\", \"14\", \"15\", \"16\", \"17\", \"18\", \"19\", \"20\", \"21\", \"22\", \"23\", \"24\", \"25\", \"26\", \"27\", \"28\", \"29\", \"30\", \"31\", \"34\", \"35\"], \"mode\": \"lines\", \"name\": \"f1_score_weighted_max\", \"stepped\": true, \"type\": \"scatter\", \"data\": [0.9285471550743866, 0.9285471550743866, 0.9285471550743866, 0.9285471550743866, 0.9285471550743866, 0.9285471550743866, 0.9285471550743866, 0.9285471550743866, 0.9285471550743866, 0.9285471550743866, 0.9285471550743866, 0.9285471550743866, 0.9285471550743866, 0.9285471550743866, 0.9285471550743866, 0.9285471550743866, 0.9285471550743866, 0.9285471550743866, 0.9285471550743866, 0.9285471550743866, 0.9285471550743866, 0.9285471550743866, 0.9290221100465309, 0.9300838540839167, 0.9300838540839167, 0.9300838540839167, 0.9300838540839167, 0.9300838540839167, 0.9300838540839167, 0.9300838540839167, 0.9300838540839167, 0.9300838540839167, 0.9300838540839167, 0.9300838540839167]}], \"average_precision_score_micro\": [{\"categories\": [\"0\", \"1\", \"2\", \"3\", \"4\", \"5\", \"6\", \"7\", \"8\", \"9\", \"10\", \"11\", \"12\", \"13\", \"14\", \"15\", \"16\", \"17\", \"18\", \"19\", \"20\", \"21\", \"22\", \"23\", \"24\", \"25\", \"26\", \"27\", \"28\", \"29\", \"30\", \"31\", \"34\", \"35\"], \"mode\": \"markers\", \"name\": \"average_precision_score_micro\", \"stepped\": false, \"type\": \"scatter\", \"data\": [0.9820579327658705, 0.9796490797056334, 0.9631845947466305, 0.8061887425562213, 0.9549987284577564, 0.9582144309259981, 0.9640585520366115, 0.9611665611315129, 0.9613633343852623, 0.7948658488719028, 0.776165532757765, 0.7519886494513115, 0.7430693749421278, 0.9724028197457868, 0.9564594420345565, 0.9592498072682814, 0.7874230562565905, 0.7850654000461802, 0.7392749290057645, 0.9693238976392824, 0.9663380794790497, 0.9774964949842988, 0.9805909202373078, 0.981165758058774, 0.9807004627681699, 0.9651004022233464, 0.9757297894908834, 0.9811373366262154, 0.9808763027412162, 0.9812201865441726, 0.9769458397942204, 0.9785410221229403, 0.9815718057302717, 0.9786422150522938]}, {\"categories\": [\"0\", \"1\", \"2\", \"3\", \"4\", \"5\", \"6\", \"7\", \"8\", \"9\", \"10\", \"11\", \"12\", \"13\", \"14\", \"15\", \"16\", \"17\", \"18\", \"19\", \"20\", \"21\", \"22\", \"23\", \"24\", \"25\", \"26\", \"27\", \"28\", \"29\", \"30\", \"31\", \"34\", \"35\"], \"mode\": \"lines\", \"name\": \"average_precision_score_micro_max\", \"stepped\": true, \"type\": \"scatter\", \"data\": [0.9820579327658705, 0.9820579327658705, 0.9820579327658705, 0.9820579327658705, 0.9820579327658705, 0.9820579327658705, 0.9820579327658705, 0.9820579327658705, 0.9820579327658705, 0.9820579327658705, 0.9820579327658705, 0.9820579327658705, 0.9820579327658705, 0.9820579327658705, 0.9820579327658705, 0.9820579327658705, 0.9820579327658705, 0.9820579327658705, 0.9820579327658705, 0.9820579327658705, 0.9820579327658705, 0.9820579327658705, 0.9820579327658705, 0.9820579327658705, 0.9820579327658705, 0.9820579327658705, 0.9820579327658705, 0.9820579327658705, 0.9820579327658705, 0.9820579327658705, 0.9820579327658705, 0.9820579327658705, 0.9820579327658705, 0.9820579327658705]}], \"weighted_accuracy\": [{\"categories\": [\"0\", \"1\", \"2\", \"3\", \"4\", \"5\", \"6\", \"7\", \"8\", \"9\", \"10\", \"11\", \"12\", \"13\", \"14\", \"15\", \"16\", \"17\", \"18\", \"19\", \"20\", \"21\", \"22\", \"23\", \"24\", \"25\", \"26\", \"27\", \"28\", \"29\", \"30\", \"31\", \"34\", \"35\"], \"mode\": \"markers\", \"name\": \"weighted_accuracy\", \"stepped\": false, \"type\": \"scatter\", \"data\": [0.9928701014283892, 0.9927867361692638, 0.9913996944193979, 0.6933012622896225, 0.9913996944193979, 0.9913996944193979, 0.9913996944193979, 0.9913996944193979, 0.9913996944193979, 0.6708845255110905, 0.647148653783172, 0.6232557525084997, 0.6941832619989877, 0.9920171257638282, 0.9913996944193979, 0.9913996944193979, 0.6390602913406802, 0.6739240843771572, 0.6803976688486623, 0.9896628261729845, 0.9913996944193979, 0.9927954512696738, 0.9934632803440769, 0.992405835016051, 0.9878949621395925, 0.9913996944193979, 0.9903994690492673, 0.9924562327460237, 0.9896929149585627, 0.992690791195067, 0.9904275860926716, 0.9931773382939737, 0.9929069335722033, 0.9913996944193979]}, {\"categories\": [\"0\", \"1\", \"2\", \"3\", \"4\", \"5\", \"6\", \"7\", \"8\", \"9\", \"10\", \"11\", \"12\", \"13\", \"14\", \"15\", \"16\", \"17\", \"18\", \"19\", \"20\", \"21\", \"22\", \"23\", \"24\", \"25\", \"26\", \"27\", \"28\", \"29\", \"30\", \"31\", \"34\", \"35\"], \"mode\": \"lines\", \"name\": \"weighted_accuracy_max\", \"stepped\": true, \"type\": \"scatter\", \"data\": [0.9928701014283892, 0.9928701014283892, 0.9928701014283892, 0.9928701014283892, 0.9928701014283892, 0.9928701014283892, 0.9928701014283892, 0.9928701014283892, 0.9928701014283892, 0.9928701014283892, 0.9928701014283892, 0.9928701014283892, 0.9928701014283892, 0.9928701014283892, 0.9928701014283892, 0.9928701014283892, 0.9928701014283892, 0.9928701014283892, 0.9928701014283892, 0.9928701014283892, 0.9928701014283892, 0.9928701014283892, 0.9934632803440769, 0.9934632803440769, 0.9934632803440769, 0.9934632803440769, 0.9934632803440769, 0.9934632803440769, 0.9934632803440769, 0.9934632803440769, 0.9934632803440769, 0.9934632803440769, 0.9934632803440769, 0.9934632803440769]}], \"accuracy\": [{\"categories\": [\"0\", \"1\", \"2\", \"3\", \"4\", \"5\", \"6\", \"7\", \"8\", \"9\", \"10\", \"11\", \"12\", \"13\", \"14\", \"15\", \"16\", \"17\", \"18\", \"19\", \"20\", \"21\", \"22\", \"23\", \"24\", \"25\", \"26\", \"27\", \"28\", \"29\", \"30\", \"31\", \"34\", \"35\"], \"mode\": \"markers\", \"name\": \"accuracy\", \"stepped\": false, \"type\": \"scatter\", \"data\": [0.9417989417989417, 0.9374201787994891, 0.9147965699689837, 0.7007845283707352, 0.9147965699689837, 0.9147965699689837, 0.9147965699689837, 0.9147965699689837, 0.9147965699689837, 0.6794380587484036, 0.6610107644590403, 0.6374749133369823, 0.6953110746214195, 0.9244663382594417, 0.9147965699689837, 0.9147965699689837, 0.6537128261266192, 0.6829045794563036, 0.6830870279146142, 0.9224594052180259, 0.9147965699689837, 0.9339536580915891, 0.9423462871738734, 0.9425287356321839, 0.9386973180076629, 0.9147965699689837, 0.929757343550447, 0.9412515964240102, 0.9405218025907681, 0.9417989417989417, 0.933588761174968, 0.9359605911330049, 0.9421638387155629, 0.9147965699689837]}, {\"categories\": [\"0\", \"1\", \"2\", \"3\", \"4\", \"5\", \"6\", \"7\", \"8\", \"9\", \"10\", \"11\", \"12\", \"13\", \"14\", \"15\", \"16\", \"17\", \"18\", \"19\", \"20\", \"21\", \"22\", \"23\", \"24\", \"25\", \"26\", \"27\", \"28\", \"29\", \"30\", \"31\", \"34\", \"35\"], \"mode\": \"lines\", \"name\": \"accuracy_max\", \"stepped\": true, \"type\": \"scatter\", \"data\": [0.9417989417989417, 0.9417989417989417, 0.9417989417989417, 0.9417989417989417, 0.9417989417989417, 0.9417989417989417, 0.9417989417989417, 0.9417989417989417, 0.9417989417989417, 0.9417989417989417, 0.9417989417989417, 0.9417989417989417, 0.9417989417989417, 0.9417989417989417, 0.9417989417989417, 0.9417989417989417, 0.9417989417989417, 0.9417989417989417, 0.9417989417989417, 0.9417989417989417, 0.9417989417989417, 0.9417989417989417, 0.9423462871738734, 0.9425287356321839, 0.9425287356321839, 0.9425287356321839, 0.9425287356321839, 0.9425287356321839, 0.9425287356321839, 0.9425287356321839, 0.9425287356321839, 0.9425287356321839, 0.9425287356321839, 0.9425287356321839]}], \"precision_score_weighted\": [{\"categories\": [\"0\", \"1\", \"2\", \"3\", \"4\", \"5\", \"6\", \"7\", \"8\", \"9\", \"10\", \"11\", \"12\", \"13\", \"14\", \"15\", \"16\", \"17\", \"18\", \"19\", \"20\", \"21\", \"22\", \"23\", \"24\", \"25\", \"26\", \"27\", \"28\", \"29\", \"30\", \"31\", \"34\", \"35\"], \"mode\": \"markers\", \"name\": \"precision_score_weighted\", \"stepped\": false, \"type\": \"scatter\", \"data\": [0.9426585602245185, 0.9389937167320572, 0.8368527644270178, 0.9061366609434112, 0.8368527644270178, 0.8368527644270178, 0.8368527644270178, 0.8368527644270178, 0.8368527644270178, 0.9032320398528841, 0.9076693351962536, 0.9032497096394629, 0.8955123999091174, 0.9275236458555605, 0.8368527644270178, 0.8368527644270178, 0.9074112867841854, 0.9046253086399735, 0.8951403788009715, 0.9134746733992205, 0.8368527644270178, 0.936540413417059, 0.9442269553207151, 0.9424916024993544, 0.9332702358240883, 0.8368527644270178, 0.9259666648530215, 0.9414535969154508, 0.9369755727302578, 0.9423357920584947, 0.9303527684966595, 0.9390268738309183, 0.9430273764323046, 0.8368527644270178]}, {\"categories\": [\"0\", \"1\", \"2\", \"3\", \"4\", \"5\", \"6\", \"7\", \"8\", \"9\", \"10\", \"11\", \"12\", \"13\", \"14\", \"15\", \"16\", \"17\", \"18\", \"19\", \"20\", \"21\", \"22\", \"23\", \"24\", \"25\", \"26\", \"27\", \"28\", \"29\", \"30\", \"31\", \"34\", \"35\"], \"mode\": \"lines\", \"name\": \"precision_score_weighted_max\", \"stepped\": true, \"type\": \"scatter\", \"data\": [0.9426585602245185, 0.9426585602245185, 0.9426585602245185, 0.9426585602245185, 0.9426585602245185, 0.9426585602245185, 0.9426585602245185, 0.9426585602245185, 0.9426585602245185, 0.9426585602245185, 0.9426585602245185, 0.9426585602245185, 0.9426585602245185, 0.9426585602245185, 0.9426585602245185, 0.9426585602245185, 0.9426585602245185, 0.9426585602245185, 0.9426585602245185, 0.9426585602245185, 0.9426585602245185, 0.9426585602245185, 0.9442269553207151, 0.9442269553207151, 0.9442269553207151, 0.9442269553207151, 0.9442269553207151, 0.9442269553207151, 0.9442269553207151, 0.9442269553207151, 0.9442269553207151, 0.9442269553207151, 0.9442269553207151, 0.9442269553207151]}], \"precision_score_macro\": [{\"categories\": [\"0\", \"1\", \"2\", \"3\", \"4\", \"5\", \"6\", \"7\", \"8\", \"9\", \"10\", \"11\", \"12\", \"13\", \"14\", \"15\", \"16\", \"17\", \"18\", \"19\", \"20\", \"21\", \"22\", \"23\", \"24\", \"25\", \"26\", \"27\", \"28\", \"29\", \"30\", \"31\", \"34\", \"35\"], \"mode\": \"markers\", \"name\": \"precision_score_macro\", \"stepped\": false, \"type\": \"scatter\", \"data\": [0.9490662405214012, 0.9497367752596657, 0.45739828498449187, 0.5828208206359466, 0.45739828498449187, 0.45739828498449187, 0.45739828498449187, 0.45739828498449187, 0.45739828498449187, 0.5756109091117144, 0.5770217758972829, 0.5688617741697951, 0.5699346366461838, 0.9444767893184288, 0.45739828498449187, 0.45739828498449187, 0.5755450898308041, 0.5777238314680712, 0.5674019061700174, 0.8620218074293107, 0.45739828498449187, 0.953060043283507, 0.9581090950344955, 0.942205425626514, 0.8875721938079519, 0.45739828498449187, 0.9018263062575109, 0.9429642815118005, 0.9079743008314437, 0.946363940788176, 0.9081930415263748, 0.9591167692594664, 0.9495067592673294, 0.45739828498449187]}, {\"categories\": [\"0\", \"1\", \"2\", \"3\", \"4\", \"5\", \"6\", \"7\", \"8\", \"9\", \"10\", \"11\", \"12\", \"13\", \"14\", \"15\", \"16\", \"17\", \"18\", \"19\", \"20\", \"21\", \"22\", \"23\", \"24\", \"25\", \"26\", \"27\", \"28\", \"29\", \"30\", \"31\", \"34\", \"35\"], \"mode\": \"lines\", \"name\": \"precision_score_macro_max\", \"stepped\": true, \"type\": \"scatter\", \"data\": [0.9490662405214012, 0.9497367752596657, 0.9497367752596657, 0.9497367752596657, 0.9497367752596657, 0.9497367752596657, 0.9497367752596657, 0.9497367752596657, 0.9497367752596657, 0.9497367752596657, 0.9497367752596657, 0.9497367752596657, 0.9497367752596657, 0.9497367752596657, 0.9497367752596657, 0.9497367752596657, 0.9497367752596657, 0.9497367752596657, 0.9497367752596657, 0.9497367752596657, 0.9497367752596657, 0.953060043283507, 0.9581090950344955, 0.9581090950344955, 0.9581090950344955, 0.9581090950344955, 0.9581090950344955, 0.9581090950344955, 0.9581090950344955, 0.9581090950344955, 0.9581090950344955, 0.9591167692594664, 0.9591167692594664, 0.9591167692594664]}], \"f1_score_micro\": [{\"categories\": [\"0\", \"1\", \"2\", \"3\", \"4\", \"5\", \"6\", \"7\", \"8\", \"9\", \"10\", \"11\", \"12\", \"13\", \"14\", \"15\", \"16\", \"17\", \"18\", \"19\", \"20\", \"21\", \"22\", \"23\", \"24\", \"25\", \"26\", \"27\", \"28\", \"29\", \"30\", \"31\", \"34\", \"35\"], \"mode\": \"markers\", \"name\": \"f1_score_micro\", \"stepped\": false, \"type\": \"scatter\", \"data\": [0.9417989417989417, 0.9374201787994891, 0.9147965699689837, 0.7007845283707352, 0.9147965699689837, 0.9147965699689837, 0.9147965699689837, 0.9147965699689837, 0.9147965699689837, 0.6794380587484036, 0.6610107644590403, 0.6374749133369823, 0.6953110746214195, 0.9244663382594417, 0.9147965699689837, 0.9147965699689837, 0.6537128261266192, 0.6829045794563036, 0.6830870279146142, 0.9224594052180259, 0.9147965699689837, 0.9339536580915891, 0.9423462871738734, 0.9425287356321839, 0.9386973180076629, 0.9147965699689837, 0.929757343550447, 0.9412515964240102, 0.9405218025907681, 0.9417989417989417, 0.933588761174968, 0.9359605911330049, 0.9421638387155629, 0.9147965699689837]}, {\"categories\": [\"0\", \"1\", \"2\", \"3\", \"4\", \"5\", \"6\", \"7\", \"8\", \"9\", \"10\", \"11\", \"12\", \"13\", \"14\", \"15\", \"16\", \"17\", \"18\", \"19\", \"20\", \"21\", \"22\", \"23\", \"24\", \"25\", \"26\", \"27\", \"28\", \"29\", \"30\", \"31\", \"34\", \"35\"], \"mode\": \"lines\", \"name\": \"f1_score_micro_max\", \"stepped\": true, \"type\": \"scatter\", \"data\": [0.9417989417989417, 0.9417989417989417, 0.9417989417989417, 0.9417989417989417, 0.9417989417989417, 0.9417989417989417, 0.9417989417989417, 0.9417989417989417, 0.9417989417989417, 0.9417989417989417, 0.9417989417989417, 0.9417989417989417, 0.9417989417989417, 0.9417989417989417, 0.9417989417989417, 0.9417989417989417, 0.9417989417989417, 0.9417989417989417, 0.9417989417989417, 0.9417989417989417, 0.9417989417989417, 0.9417989417989417, 0.9423462871738734, 0.9425287356321839, 0.9425287356321839, 0.9425287356321839, 0.9425287356321839, 0.9425287356321839, 0.9425287356321839, 0.9425287356321839, 0.9425287356321839, 0.9425287356321839, 0.9425287356321839, 0.9425287356321839]}], \"AUC_macro\": [{\"categories\": [\"0\", \"1\", \"2\", \"3\", \"4\", \"5\", \"6\", \"7\", \"8\", \"9\", \"10\", \"11\", \"12\", \"13\", \"14\", \"15\", \"16\", \"17\", \"18\", \"19\", \"20\", \"21\", \"22\", \"23\", \"24\", \"25\", \"26\", \"27\", \"28\", \"29\", \"30\", \"31\", \"34\", \"35\"], \"mode\": \"markers\", \"name\": \"AUC_macro\", \"stepped\": false, \"type\": \"scatter\", \"data\": [0.9049242421007048, 0.8972126439972359, 0.8117386948236587, 0.815138383404412, 0.7724869295309322, 0.7818472303246841, 0.8119304491321517, 0.7970566781320654, 0.8014885942487373, 0.7883758452777618, 0.7819757783132283, 0.7793544243142754, 0.7699913475672827, 0.8668689126548448, 0.7790196016464392, 0.7826721155069873, 0.7814773879390383, 0.7950940791906859, 0.764614326139486, 0.8408580172519087, 0.8266440689837193, 0.8849104733726294, 0.8977597203205756, 0.8988340142248386, 0.8956510635317472, 0.8201985190930063, 0.8782586488026246, 0.900013153747665, 0.896641331466754, 0.9040536604573576, 0.8828184723032468, 0.8938360171818693, 0.9055415713945278, 0.9042326026739691]}, {\"categories\": [\"0\", \"1\", \"2\", \"3\", \"4\", \"5\", \"6\", \"7\", \"8\", \"9\", \"10\", \"11\", \"12\", \"13\", \"14\", \"15\", \"16\", \"17\", \"18\", \"19\", \"20\", \"21\", \"22\", \"23\", \"24\", \"25\", \"26\", \"27\", \"28\", \"29\", \"30\", \"31\", \"34\", \"35\"], \"mode\": \"lines\", \"name\": \"AUC_macro_max\", \"stepped\": true, \"type\": \"scatter\", \"data\": [0.9049242421007048, 0.9049242421007048, 0.9049242421007048, 0.9049242421007048, 0.9049242421007048, 0.9049242421007048, 0.9049242421007048, 0.9049242421007048, 0.9049242421007048, 0.9049242421007048, 0.9049242421007048, 0.9049242421007048, 0.9049242421007048, 0.9049242421007048, 0.9049242421007048, 0.9049242421007048, 0.9049242421007048, 0.9049242421007048, 0.9049242421007048, 0.9049242421007048, 0.9049242421007048, 0.9049242421007048, 0.9049242421007048, 0.9049242421007048, 0.9049242421007048, 0.9049242421007048, 0.9049242421007048, 0.9049242421007048, 0.9049242421007048, 0.9049242421007048, 0.9049242421007048, 0.9049242421007048, 0.9055415713945278, 0.9055415713945278]}], \"f1_score_macro\": [{\"categories\": [\"0\", \"1\", \"2\", \"3\", \"4\", \"5\", \"6\", \"7\", \"8\", \"9\", \"10\", \"11\", \"12\", \"13\", \"14\", \"15\", \"16\", \"17\", \"18\", \"19\", \"20\", \"21\", \"22\", \"23\", \"24\", \"25\", \"26\", \"27\", \"28\", \"29\", \"30\", \"31\", \"34\", \"35\"], \"mode\": \"markers\", \"name\": \"f1_score_macro\", \"stepped\": false, \"type\": \"scatter\", \"data\": [0.7309869116758523, 0.6980898065685652, 0.47775131014768935, 0.5596458527493009, 0.47775131014768935, 0.47775131014768935, 0.47775131014768935, 0.47775131014768935, 0.47775131014768935, 0.543105351366931, 0.5352702211821573, 0.5166919982864822, 0.5451827463731966, 0.5851304467382099, 0.47775131014768935, 0.47775131014768935, 0.5303600579299784, 0.5466267352061764, 0.5373814875275669, 0.5838993609581609, 0.47775131014768935, 0.6694205485148831, 0.7323174561568364, 0.7382639340840158, 0.7306741044582291, 0.47775131014768935, 0.6478414657856244, 0.7288617886178862, 0.7357083607465222, 0.7317876543156849, 0.6801068510370836, 0.6841064838570636, 0.7334692364202887, 0.47775131014768935]}, {\"categories\": [\"0\", \"1\", \"2\", \"3\", \"4\", \"5\", \"6\", \"7\", \"8\", \"9\", \"10\", \"11\", \"12\", \"13\", \"14\", \"15\", \"16\", \"17\", \"18\", \"19\", \"20\", \"21\", \"22\", \"23\", \"24\", \"25\", \"26\", \"27\", \"28\", \"29\", \"30\", \"31\", \"34\", \"35\"], \"mode\": \"lines\", \"name\": \"f1_score_macro_max\", \"stepped\": true, \"type\": \"scatter\", \"data\": [0.7309869116758523, 0.7309869116758523, 0.7309869116758523, 0.7309869116758523, 0.7309869116758523, 0.7309869116758523, 0.7309869116758523, 0.7309869116758523, 0.7309869116758523, 0.7309869116758523, 0.7309869116758523, 0.7309869116758523, 0.7309869116758523, 0.7309869116758523, 0.7309869116758523, 0.7309869116758523, 0.7309869116758523, 0.7309869116758523, 0.7309869116758523, 0.7309869116758523, 0.7309869116758523, 0.7309869116758523, 0.7323174561568364, 0.7382639340840158, 0.7382639340840158, 0.7382639340840158, 0.7382639340840158, 0.7382639340840158, 0.7382639340840158, 0.7382639340840158, 0.7382639340840158, 0.7382639340840158, 0.7382639340840158, 0.7382639340840158]}], \"recall_score_micro\": [{\"categories\": [\"0\", \"1\", \"2\", \"3\", \"4\", \"5\", \"6\", \"7\", \"8\", \"9\", \"10\", \"11\", \"12\", \"13\", \"14\", \"15\", \"16\", \"17\", \"18\", \"19\", \"20\", \"21\", \"22\", \"23\", \"24\", \"25\", \"26\", \"27\", \"28\", \"29\", \"30\", \"31\", \"34\", \"35\"], \"mode\": \"markers\", \"name\": \"recall_score_micro\", \"stepped\": false, \"type\": \"scatter\", \"data\": [0.9417989417989417, 0.9374201787994891, 0.9147965699689837, 0.7007845283707352, 0.9147965699689837, 0.9147965699689837, 0.9147965699689837, 0.9147965699689837, 0.9147965699689837, 0.6794380587484036, 0.6610107644590403, 0.6374749133369823, 0.6953110746214195, 0.9244663382594417, 0.9147965699689837, 0.9147965699689837, 0.6537128261266192, 0.6829045794563036, 0.6830870279146142, 0.9224594052180259, 0.9147965699689837, 0.9339536580915891, 0.9423462871738734, 0.9425287356321839, 0.9386973180076629, 0.9147965699689837, 0.929757343550447, 0.9412515964240102, 0.9405218025907681, 0.9417989417989417, 0.933588761174968, 0.9359605911330049, 0.9421638387155629, 0.9147965699689837]}, {\"categories\": [\"0\", \"1\", \"2\", \"3\", \"4\", \"5\", \"6\", \"7\", \"8\", \"9\", \"10\", \"11\", \"12\", \"13\", \"14\", \"15\", \"16\", \"17\", \"18\", \"19\", \"20\", \"21\", \"22\", \"23\", \"24\", \"25\", \"26\", \"27\", \"28\", \"29\", \"30\", \"31\", \"34\", \"35\"], \"mode\": \"lines\", \"name\": \"recall_score_micro_max\", \"stepped\": true, \"type\": \"scatter\", \"data\": [0.9417989417989417, 0.9417989417989417, 0.9417989417989417, 0.9417989417989417, 0.9417989417989417, 0.9417989417989417, 0.9417989417989417, 0.9417989417989417, 0.9417989417989417, 0.9417989417989417, 0.9417989417989417, 0.9417989417989417, 0.9417989417989417, 0.9417989417989417, 0.9417989417989417, 0.9417989417989417, 0.9417989417989417, 0.9417989417989417, 0.9417989417989417, 0.9417989417989417, 0.9417989417989417, 0.9417989417989417, 0.9423462871738734, 0.9425287356321839, 0.9425287356321839, 0.9425287356321839, 0.9425287356321839, 0.9425287356321839, 0.9425287356321839, 0.9425287356321839, 0.9425287356321839, 0.9425287356321839, 0.9425287356321839, 0.9425287356321839]}], \"precision_score_micro\": [{\"categories\": [\"0\", \"1\", \"2\", \"3\", \"4\", \"5\", \"6\", \"7\", \"8\", \"9\", \"10\", \"11\", \"12\", \"13\", \"14\", \"15\", \"16\", \"17\", \"18\", \"19\", \"20\", \"21\", \"22\", \"23\", \"24\", \"25\", \"26\", \"27\", \"28\", \"29\", \"30\", \"31\", \"34\", \"35\"], \"mode\": \"markers\", \"name\": \"precision_score_micro\", \"stepped\": false, \"type\": \"scatter\", \"data\": [0.9417989417989417, 0.9374201787994891, 0.9147965699689837, 0.7007845283707352, 0.9147965699689837, 0.9147965699689837, 0.9147965699689837, 0.9147965699689837, 0.9147965699689837, 0.6794380587484036, 0.6610107644590403, 0.6374749133369823, 0.6953110746214195, 0.9244663382594417, 0.9147965699689837, 0.9147965699689837, 0.6537128261266192, 0.6829045794563036, 0.6830870279146142, 0.9224594052180259, 0.9147965699689837, 0.9339536580915891, 0.9423462871738734, 0.9425287356321839, 0.9386973180076629, 0.9147965699689837, 0.929757343550447, 0.9412515964240102, 0.9405218025907681, 0.9417989417989417, 0.933588761174968, 0.9359605911330049, 0.9421638387155629, 0.9147965699689837]}, {\"categories\": [\"0\", \"1\", \"2\", \"3\", \"4\", \"5\", \"6\", \"7\", \"8\", \"9\", \"10\", \"11\", \"12\", \"13\", \"14\", \"15\", \"16\", \"17\", \"18\", \"19\", \"20\", \"21\", \"22\", \"23\", \"24\", \"25\", \"26\", \"27\", \"28\", \"29\", \"30\", \"31\", \"34\", \"35\"], \"mode\": \"lines\", \"name\": \"precision_score_micro_max\", \"stepped\": true, \"type\": \"scatter\", \"data\": [0.9417989417989417, 0.9417989417989417, 0.9417989417989417, 0.9417989417989417, 0.9417989417989417, 0.9417989417989417, 0.9417989417989417, 0.9417989417989417, 0.9417989417989417, 0.9417989417989417, 0.9417989417989417, 0.9417989417989417, 0.9417989417989417, 0.9417989417989417, 0.9417989417989417, 0.9417989417989417, 0.9417989417989417, 0.9417989417989417, 0.9417989417989417, 0.9417989417989417, 0.9417989417989417, 0.9417989417989417, 0.9423462871738734, 0.9425287356321839, 0.9425287356321839, 0.9425287356321839, 0.9425287356321839, 0.9425287356321839, 0.9425287356321839, 0.9425287356321839, 0.9425287356321839, 0.9425287356321839, 0.9425287356321839, 0.9425287356321839]}], \"average_precision_score_macro\": [{\"categories\": [\"0\", \"1\", \"2\", \"3\", \"4\", \"5\", \"6\", \"7\", \"8\", \"9\", \"10\", \"11\", \"12\", \"13\", \"14\", \"15\", \"16\", \"17\", \"18\", \"19\", \"20\", \"21\", \"22\", \"23\", \"24\", \"25\", \"26\", \"27\", \"28\", \"29\", \"30\", \"31\", \"34\", \"35\"], \"mode\": \"markers\", \"name\": \"average_precision_score_macro\", \"stepped\": false, \"type\": \"scatter\", \"data\": [0.7996648402344646, 0.7858334013727626, 0.6562584304494529, 0.640741383535137, 0.6013842337212053, 0.597258250993943, 0.6309856643952615, 0.6141044944985306, 0.6506963224553145, 0.6032387927489036, 0.6024277416781177, 0.5874897032333275, 0.5847670080320723, 0.7353922753060977, 0.6215919316438644, 0.5885198821590116, 0.608224225360828, 0.607093644842224, 0.5872232187046491, 0.6835325130353993, 0.6594133289728399, 0.7655848575807533, 0.7899478153475753, 0.7927135466102815, 0.7881791494218559, 0.6671295762893473, 0.74874680055313, 0.7916063393449424, 0.7901024385902052, 0.7986033573390897, 0.7632536705932236, 0.7819125593158893, 0.7995316082570598, 0.7978562956601187]}, {\"categories\": [\"0\", \"1\", \"2\", \"3\", \"4\", \"5\", \"6\", \"7\", \"8\", \"9\", \"10\", \"11\", \"12\", \"13\", \"14\", \"15\", \"16\", \"17\", \"18\", \"19\", \"20\", \"21\", \"22\", \"23\", \"24\", \"25\", \"26\", \"27\", \"28\", \"29\", \"30\", \"31\", \"34\", \"35\"], \"mode\": \"lines\", \"name\": \"average_precision_score_macro_max\", \"stepped\": true, \"type\": \"scatter\", \"data\": [0.7996648402344646, 0.7996648402344646, 0.7996648402344646, 0.7996648402344646, 0.7996648402344646, 0.7996648402344646, 0.7996648402344646, 0.7996648402344646, 0.7996648402344646, 0.7996648402344646, 0.7996648402344646, 0.7996648402344646, 0.7996648402344646, 0.7996648402344646, 0.7996648402344646, 0.7996648402344646, 0.7996648402344646, 0.7996648402344646, 0.7996648402344646, 0.7996648402344646, 0.7996648402344646, 0.7996648402344646, 0.7996648402344646, 0.7996648402344646, 0.7996648402344646, 0.7996648402344646, 0.7996648402344646, 0.7996648402344646, 0.7996648402344646, 0.7996648402344646, 0.7996648402344646, 0.7996648402344646, 0.7996648402344646, 0.7996648402344646]}], \"norm_macro_recall\": [{\"categories\": [\"0\", \"1\", \"2\", \"3\", \"4\", \"5\", \"6\", \"7\", \"8\", \"9\", \"10\", \"11\", \"12\", \"13\", \"14\", \"15\", \"16\", \"17\", \"18\", \"19\", \"20\", \"21\", \"22\", \"23\", \"24\", \"25\", \"26\", \"27\", \"28\", \"29\", \"30\", \"31\", \"34\", \"35\"], \"mode\": \"markers\", \"name\": \"norm_macro_recall\", \"stepped\": false, \"type\": \"scatter\", \"data\": [0.3305096906392295, 0.2752340555651882, 0.0, 0.48261100182871264, 0.0, 0.0, 0.0, 0.0, 0.0, 0.45150879464693716, 0.47214480397072345, 0.42893986772796344, 0.40283608465888676, 0.11737413614470493, 0.0, 0.0, 0.46610902748535366, 0.4630657285937705, 0.3952991580747356, 0.11712216500436878, 0.0, 0.23066505860677888, 0.33110801533009493, 0.34490065931024816, 0.34459615859319825, 0.0, 0.2027752699294223, 0.32796947988885927, 0.34853246028892126, 0.33245157669873393, 0.25162692213408455, 0.25227777640166416, 0.33479234588548223, 0.0]}, {\"categories\": [\"0\", \"1\", \"2\", \"3\", \"4\", \"5\", \"6\", \"7\", \"8\", \"9\", \"10\", \"11\", \"12\", \"13\", \"14\", \"15\", \"16\", \"17\", \"18\", \"19\", \"20\", \"21\", \"22\", \"23\", \"24\", \"25\", \"26\", \"27\", \"28\", \"29\", \"30\", \"31\", \"34\", \"35\"], \"mode\": \"lines\", \"name\": \"norm_macro_recall_max\", \"stepped\": true, \"type\": \"scatter\", \"data\": [0.3305096906392295, 0.3305096906392295, 0.3305096906392295, 0.48261100182871264, 0.48261100182871264, 0.48261100182871264, 0.48261100182871264, 0.48261100182871264, 0.48261100182871264, 0.48261100182871264, 0.48261100182871264, 0.48261100182871264, 0.48261100182871264, 0.48261100182871264, 0.48261100182871264, 0.48261100182871264, 0.48261100182871264, 0.48261100182871264, 0.48261100182871264, 0.48261100182871264, 0.48261100182871264, 0.48261100182871264, 0.48261100182871264, 0.48261100182871264, 0.48261100182871264, 0.48261100182871264, 0.48261100182871264, 0.48261100182871264, 0.48261100182871264, 0.48261100182871264, 0.48261100182871264, 0.48261100182871264, 0.48261100182871264, 0.48261100182871264]}], \"recall_score_weighted\": [{\"categories\": [\"0\", \"1\", \"2\", \"3\", \"4\", \"5\", \"6\", \"7\", \"8\", \"9\", \"10\", \"11\", \"12\", \"13\", \"14\", \"15\", \"16\", \"17\", \"18\", \"19\", \"20\", \"21\", \"22\", \"23\", \"24\", \"25\", \"26\", \"27\", \"28\", \"29\", \"30\", \"31\", \"34\", \"35\"], \"mode\": \"markers\", \"name\": \"recall_score_weighted\", \"stepped\": false, \"type\": \"scatter\", \"data\": [0.9417989417989417, 0.9374201787994891, 0.9147965699689837, 0.7007845283707352, 0.9147965699689837, 0.9147965699689837, 0.9147965699689837, 0.9147965699689837, 0.9147965699689837, 0.6794380587484036, 0.6610107644590403, 0.6374749133369823, 0.6953110746214195, 0.9244663382594417, 0.9147965699689837, 0.9147965699689837, 0.6537128261266192, 0.6829045794563036, 0.6830870279146142, 0.9224594052180259, 0.9147965699689837, 0.9339536580915891, 0.9423462871738734, 0.9425287356321839, 0.9386973180076629, 0.9147965699689837, 0.929757343550447, 0.9412515964240102, 0.9405218025907681, 0.9417989417989417, 0.933588761174968, 0.9359605911330049, 0.9421638387155629, 0.9147965699689837]}, {\"categories\": [\"0\", \"1\", \"2\", \"3\", \"4\", \"5\", \"6\", \"7\", \"8\", \"9\", \"10\", \"11\", \"12\", \"13\", \"14\", \"15\", \"16\", \"17\", \"18\", \"19\", \"20\", \"21\", \"22\", \"23\", \"24\", \"25\", \"26\", \"27\", \"28\", \"29\", \"30\", \"31\", \"34\", \"35\"], \"mode\": \"lines\", \"name\": \"recall_score_weighted_max\", \"stepped\": true, \"type\": \"scatter\", \"data\": [0.9417989417989417, 0.9417989417989417, 0.9417989417989417, 0.9417989417989417, 0.9417989417989417, 0.9417989417989417, 0.9417989417989417, 0.9417989417989417, 0.9417989417989417, 0.9417989417989417, 0.9417989417989417, 0.9417989417989417, 0.9417989417989417, 0.9417989417989417, 0.9417989417989417, 0.9417989417989417, 0.9417989417989417, 0.9417989417989417, 0.9417989417989417, 0.9417989417989417, 0.9417989417989417, 0.9417989417989417, 0.9423462871738734, 0.9425287356321839, 0.9425287356321839, 0.9425287356321839, 0.9425287356321839, 0.9425287356321839, 0.9425287356321839, 0.9425287356321839, 0.9425287356321839, 0.9425287356321839, 0.9425287356321839, 0.9425287356321839]}], \"recall_score_macro\": [{\"categories\": [\"0\", \"1\", \"2\", \"3\", \"4\", \"5\", \"6\", \"7\", \"8\", \"9\", \"10\", \"11\", \"12\", \"13\", \"14\", \"15\", \"16\", \"17\", \"18\", \"19\", \"20\", \"21\", \"22\", \"23\", \"24\", \"25\", \"26\", \"27\", \"28\", \"29\", \"30\", \"31\", \"34\", \"35\"], \"mode\": \"markers\", \"name\": \"recall_score_macro\", \"stepped\": false, \"type\": \"scatter\", \"data\": [0.6652548453196148, 0.6376170277825941, 0.5, 0.7413055009143563, 0.5, 0.5, 0.5, 0.5, 0.5, 0.7257543973234686, 0.7360724019853617, 0.7144699338639817, 0.7014180423294434, 0.5586870680723525, 0.5, 0.5, 0.7330545137426768, 0.7315328642968852, 0.6976495790373678, 0.5585610825021844, 0.5, 0.6153325293033894, 0.6655540076650475, 0.6724503296551241, 0.6722980792965991, 0.5, 0.6013876349647111, 0.6639847399444296, 0.6742662301444606, 0.666225788349367, 0.6258134610670423, 0.6261388882008321, 0.6673961729427411, 0.5]}, {\"categories\": [\"0\", \"1\", \"2\", \"3\", \"4\", \"5\", \"6\", \"7\", \"8\", \"9\", \"10\", \"11\", \"12\", \"13\", \"14\", \"15\", \"16\", \"17\", \"18\", \"19\", \"20\", \"21\", \"22\", \"23\", \"24\", \"25\", \"26\", \"27\", \"28\", \"29\", \"30\", \"31\", \"34\", \"35\"], \"mode\": \"lines\", \"name\": \"recall_score_macro_max\", \"stepped\": true, \"type\": \"scatter\", \"data\": [0.6652548453196148, 0.6652548453196148, 0.6652548453196148, 0.7413055009143563, 0.7413055009143563, 0.7413055009143563, 0.7413055009143563, 0.7413055009143563, 0.7413055009143563, 0.7413055009143563, 0.7413055009143563, 0.7413055009143563, 0.7413055009143563, 0.7413055009143563, 0.7413055009143563, 0.7413055009143563, 0.7413055009143563, 0.7413055009143563, 0.7413055009143563, 0.7413055009143563, 0.7413055009143563, 0.7413055009143563, 0.7413055009143563, 0.7413055009143563, 0.7413055009143563, 0.7413055009143563, 0.7413055009143563, 0.7413055009143563, 0.7413055009143563, 0.7413055009143563, 0.7413055009143563, 0.7413055009143563, 0.7413055009143563, 0.7413055009143563]}], \"average_precision_score_weighted\": [{\"categories\": [\"0\", \"1\", \"2\", \"3\", \"4\", \"5\", \"6\", \"7\", \"8\", \"9\", \"10\", \"11\", \"12\", \"13\", \"14\", \"15\", \"16\", \"17\", \"18\", \"19\", \"20\", \"21\", \"22\", \"23\", \"24\", \"25\", \"26\", \"27\", \"28\", \"29\", \"30\", \"31\", \"34\", \"35\"], \"mode\": \"markers\", \"name\": \"average_precision_score_weighted\", \"stepped\": false, \"type\": \"scatter\", \"data\": [0.9577516090320707, 0.9546555003373869, 0.9232867875675059, 0.92202130537717, 0.908100182761873, 0.9108493946191328, 0.9199317034717871, 0.9150194354748278, 0.9211054177107986, 0.912858989325598, 0.9117188917731213, 0.9094572946320808, 0.907167528621087, 0.9425617129918642, 0.9126377055062804, 0.9099912638565785, 0.9130248003051837, 0.9136017485146521, 0.9067183821775919, 0.9321290701753473, 0.9261852845439681, 0.9501111496468885, 0.9554018258736353, 0.9560129459059624, 0.9549266087004972, 0.9268179937909627, 0.9462439660639124, 0.9559927065905534, 0.95537862047694, 0.9574794663114577, 0.9493969865395647, 0.9536815075422053, 0.9578144292916585, 0.9574122917781197]}, {\"categories\": [\"0\", \"1\", \"2\", \"3\", \"4\", \"5\", \"6\", \"7\", \"8\", \"9\", \"10\", \"11\", \"12\", \"13\", \"14\", \"15\", \"16\", \"17\", \"18\", \"19\", \"20\", \"21\", \"22\", \"23\", \"24\", \"25\", \"26\", \"27\", \"28\", \"29\", \"30\", \"31\", \"34\", \"35\"], \"mode\": \"lines\", \"name\": \"average_precision_score_weighted_max\", \"stepped\": true, \"type\": \"scatter\", \"data\": [0.9577516090320707, 0.9577516090320707, 0.9577516090320707, 0.9577516090320707, 0.9577516090320707, 0.9577516090320707, 0.9577516090320707, 0.9577516090320707, 0.9577516090320707, 0.9577516090320707, 0.9577516090320707, 0.9577516090320707, 0.9577516090320707, 0.9577516090320707, 0.9577516090320707, 0.9577516090320707, 0.9577516090320707, 0.9577516090320707, 0.9577516090320707, 0.9577516090320707, 0.9577516090320707, 0.9577516090320707, 0.9577516090320707, 0.9577516090320707, 0.9577516090320707, 0.9577516090320707, 0.9577516090320707, 0.9577516090320707, 0.9577516090320707, 0.9577516090320707, 0.9577516090320707, 0.9577516090320707, 0.9578144292916585, 0.9578144292916585]}], \"AUC_micro\": [{\"categories\": [\"0\", \"1\", \"2\", \"3\", \"4\", \"5\", \"6\", \"7\", \"8\", \"9\", \"10\", \"11\", \"12\", \"13\", \"14\", \"15\", \"16\", \"17\", \"18\", \"19\", \"20\", \"21\", \"22\", \"23\", \"24\", \"25\", \"26\", \"27\", \"28\", \"29\", \"30\", \"31\", \"34\", \"35\"], \"mode\": \"markers\", \"name\": \"AUC_micro\", \"stepped\": false, \"type\": \"scatter\", \"data\": [0.9814193504748338, 0.9789913646056183, 0.9633927703874668, 0.8028041073105843, 0.9572739064651565, 0.9587330613949214, 0.9634226625085329, 0.9611040258795199, 0.9617949066954723, 0.7745413398547422, 0.7656654104319708, 0.7296708028640914, 0.750061989535028, 0.9723364397505159, 0.9582922691152376, 0.9588616507754094, 0.7603981390856427, 0.7732128048393014, 0.7486055974627781, 0.9683263018609577, 0.9657163335575909, 0.9767623377649235, 0.9799593300716303, 0.9804962564778607, 0.9800341269491751, 0.9647115521830053, 0.975235376320001, 0.9804406997406009, 0.9801916264712508, 0.980569155971329, 0.9762596641343912, 0.9778213443791711, 0.9809092870326348, 0.9778114247220692]}, {\"categories\": [\"0\", \"1\", \"2\", \"3\", \"4\", \"5\", \"6\", \"7\", \"8\", \"9\", \"10\", \"11\", \"12\", \"13\", \"14\", \"15\", \"16\", \"17\", \"18\", \"19\", \"20\", \"21\", \"22\", \"23\", \"24\", \"25\", \"26\", \"27\", \"28\", \"29\", \"30\", \"31\", \"34\", \"35\"], \"mode\": \"lines\", \"name\": \"AUC_micro_max\", \"stepped\": true, \"type\": \"scatter\", \"data\": [0.9814193504748338, 0.9814193504748338, 0.9814193504748338, 0.9814193504748338, 0.9814193504748338, 0.9814193504748338, 0.9814193504748338, 0.9814193504748338, 0.9814193504748338, 0.9814193504748338, 0.9814193504748338, 0.9814193504748338, 0.9814193504748338, 0.9814193504748338, 0.9814193504748338, 0.9814193504748338, 0.9814193504748338, 0.9814193504748338, 0.9814193504748338, 0.9814193504748338, 0.9814193504748338, 0.9814193504748338, 0.9814193504748338, 0.9814193504748338, 0.9814193504748338, 0.9814193504748338, 0.9814193504748338, 0.9814193504748338, 0.9814193504748338, 0.9814193504748338, 0.9814193504748338, 0.9814193504748338, 0.9814193504748338, 0.9814193504748338]}], \"log_loss\": [{\"categories\": [\"0\", \"1\", \"2\", \"3\", \"4\", \"5\", \"6\", \"7\", \"8\", \"9\", \"10\", \"11\", \"12\", \"13\", \"14\", \"15\", \"16\", \"17\", \"18\", \"19\", \"20\", \"21\", \"22\", \"23\", \"24\", \"25\", \"26\", \"27\", \"28\", \"29\", \"30\", \"31\", \"34\", \"35\"], \"mode\": \"markers\", \"name\": \"log_loss\", \"stepped\": false, \"type\": \"scatter\", \"data\": [0.16553463368413412, 0.18048291614757236, 0.24542354693719004, 0.6047491875092293, 0.2710243746568729, 0.24811010732841665, 0.24380143436173432, 0.255800575764172, 0.26545330155944896, 0.5973078134462215, 0.5923071070016591, 0.6014931480802108, 0.6641024724882076, 0.33571178207509905, 0.26537047509785977, 0.2469515267145955, 0.5736394314620658, 0.6314924402353336, 0.6659413674993337, 0.2251844528122292, 0.25245541792240606, 0.1895672548542006, 0.17144823506972243, 0.16889564540008692, 0.17869827077062944, 0.25878863230539967, 0.19987492198188378, 0.16893927897891312, 0.1746928139243496, 0.17065226047980742, 0.19191998004452382, 0.19052230872936943, 0.20725503179129035, 0.2598998215135635]}, {\"categories\": [\"0\", \"1\", \"2\", \"3\", \"4\", \"5\", \"6\", \"7\", \"8\", \"9\", \"10\", \"11\", \"12\", \"13\", \"14\", \"15\", \"16\", \"17\", \"18\", \"19\", \"20\", \"21\", \"22\", \"23\", \"24\", \"25\", \"26\", \"27\", \"28\", \"29\", \"30\", \"31\", \"34\", \"35\"], \"mode\": \"lines\", \"name\": \"log_loss_min\", \"stepped\": true, \"type\": \"scatter\", \"data\": [0.16553463368413412, 0.16553463368413412, 0.16553463368413412, 0.16553463368413412, 0.16553463368413412, 0.16553463368413412, 0.16553463368413412, 0.16553463368413412, 0.16553463368413412, 0.16553463368413412, 0.16553463368413412, 0.16553463368413412, 0.16553463368413412, 0.16553463368413412, 0.16553463368413412, 0.16553463368413412, 0.16553463368413412, 0.16553463368413412, 0.16553463368413412, 0.16553463368413412, 0.16553463368413412, 0.16553463368413412, 0.16553463368413412, 0.16553463368413412, 0.16553463368413412, 0.16553463368413412, 0.16553463368413412, 0.16553463368413412, 0.16553463368413412, 0.16553463368413412, 0.16553463368413412, 0.16553463368413412, 0.16553463368413412, 0.16553463368413412]}]}, \"metricName\": null, \"primaryMetricName\": \"AUC_weighted\", \"showLegend\": false}, \"run_metrics\": [{\"name\": \"experiment_status\", \"run_id\": \"AutoML_d23e6bc6-b464-4dbb-bc48-754e8dbdad30\", \"categories\": [0, 1, 2, 3, 4, 5, 6, 7, 8, 9, 10, 11, 12, 13], \"series\": [{\"data\": [\"DatasetEvaluation\", \"FeaturesGeneration\", \"DatasetFeaturization\", \"DatasetFeaturizationCompleted\", \"DatasetBalancing\", \"ModelSelection\", \"BestRunExplainModel\", \"ModelExplanationDataSetSetup\", \"PickSurrogateModel\", \"EngineeredFeatureExplanations\", \"EngineeredFeatureExplanations\", \"RawFeaturesExplanations\", \"RawFeaturesExplanations\", \"BestRunExplainModel\"]}]}, {\"name\": \"experiment_status_description\", \"run_id\": \"AutoML_d23e6bc6-b464-4dbb-bc48-754e8dbdad30\", \"categories\": [0, 1, 2, 3, 4, 5, 6, 7, 8, 9, 10, 11, 12, 13], \"series\": [{\"data\": [\"Gathering dataset statistics.\", \"Generating features for the dataset.\", \"Beginning to fit featurizers and featurize the dataset.\", \"Completed fit featurizers and featurizing the dataset.\", \"Performing class balancing sweeping\", \"Beginning model selection.\", \"Best run model explanations started\", \"Model explanations data setup completed\", \"Choosing LightGBM as the surrogate model for explanations\", \"Computation of engineered features started\", \"Computation of engineered features completed\", \"Computation of raw features started\", \"Computation of raw features completed\", \"Best run model explanations completed\"]}]}, {\"name\": \"norm_macro_recall\", \"run_id\": \"AutoML_d23e6bc6-b464-4dbb-bc48-754e8dbdad30\", \"categories\": [0], \"series\": [{\"data\": [0.33479234588548223]}]}, {\"name\": \"recall_score_macro\", \"run_id\": \"AutoML_d23e6bc6-b464-4dbb-bc48-754e8dbdad30\", \"categories\": [0], \"series\": [{\"data\": [0.6673961729427411]}]}, {\"name\": \"average_precision_score_macro\", \"run_id\": \"AutoML_d23e6bc6-b464-4dbb-bc48-754e8dbdad30\", \"categories\": [0], \"series\": [{\"data\": [0.7995316082570598]}]}, {\"name\": \"log_loss\", \"run_id\": \"AutoML_d23e6bc6-b464-4dbb-bc48-754e8dbdad30\", \"categories\": [0], \"series\": [{\"data\": [0.20725503179129035]}]}, {\"name\": \"recall_score_weighted\", \"run_id\": \"AutoML_d23e6bc6-b464-4dbb-bc48-754e8dbdad30\", \"categories\": [0], \"series\": [{\"data\": [0.9421638387155629]}]}, {\"name\": \"accuracy\", \"run_id\": \"AutoML_d23e6bc6-b464-4dbb-bc48-754e8dbdad30\", \"categories\": [0], \"series\": [{\"data\": [0.9421638387155629]}]}, {\"name\": \"f1_score_macro\", \"run_id\": \"AutoML_d23e6bc6-b464-4dbb-bc48-754e8dbdad30\", \"categories\": [0], \"series\": [{\"data\": [0.7334692364202887]}]}, {\"name\": \"average_precision_score_micro\", \"run_id\": \"AutoML_d23e6bc6-b464-4dbb-bc48-754e8dbdad30\", \"categories\": [0], \"series\": [{\"data\": [0.9815718057302717]}]}, {\"name\": \"balanced_accuracy\", \"run_id\": \"AutoML_d23e6bc6-b464-4dbb-bc48-754e8dbdad30\", \"categories\": [0], \"series\": [{\"data\": [0.6673961729427411]}]}, {\"name\": \"average_precision_score_weighted\", \"run_id\": \"AutoML_d23e6bc6-b464-4dbb-bc48-754e8dbdad30\", \"categories\": [0], \"series\": [{\"data\": [0.9578144292916585]}]}, {\"name\": \"f1_score_weighted\", \"run_id\": \"AutoML_d23e6bc6-b464-4dbb-bc48-754e8dbdad30\", \"categories\": [0], \"series\": [{\"data\": [0.9291258047989714]}]}, {\"name\": \"precision_score_macro\", \"run_id\": \"AutoML_d23e6bc6-b464-4dbb-bc48-754e8dbdad30\", \"categories\": [0], \"series\": [{\"data\": [0.9495067592673294]}]}, {\"name\": \"precision_score_weighted\", \"run_id\": \"AutoML_d23e6bc6-b464-4dbb-bc48-754e8dbdad30\", \"categories\": [0], \"series\": [{\"data\": [0.9430273764323046]}]}, {\"name\": \"matthews_correlation\", \"run_id\": \"AutoML_d23e6bc6-b464-4dbb-bc48-754e8dbdad30\", \"categories\": [0], \"series\": [{\"data\": [0.548619034351689]}]}, {\"name\": \"recall_score_micro\", \"run_id\": \"AutoML_d23e6bc6-b464-4dbb-bc48-754e8dbdad30\", \"categories\": [0], \"series\": [{\"data\": [0.9421638387155629]}]}, {\"name\": \"precision_score_micro\", \"run_id\": \"AutoML_d23e6bc6-b464-4dbb-bc48-754e8dbdad30\", \"categories\": [0], \"series\": [{\"data\": [0.9421638387155629]}]}, {\"name\": \"AUC_weighted\", \"run_id\": \"AutoML_d23e6bc6-b464-4dbb-bc48-754e8dbdad30\", \"categories\": [0], \"series\": [{\"data\": [0.905541571394528]}]}, {\"name\": \"f1_score_micro\", \"run_id\": \"AutoML_d23e6bc6-b464-4dbb-bc48-754e8dbdad30\", \"categories\": [0], \"series\": [{\"data\": [0.9421638387155629]}]}, {\"name\": \"AUC_micro\", \"run_id\": \"AutoML_d23e6bc6-b464-4dbb-bc48-754e8dbdad30\", \"categories\": [0], \"series\": [{\"data\": [0.9809092870326348]}]}, {\"name\": \"AUC_macro\", \"run_id\": \"AutoML_d23e6bc6-b464-4dbb-bc48-754e8dbdad30\", \"categories\": [0], \"series\": [{\"data\": [0.9055415713945278]}]}, {\"name\": \"weighted_accuracy\", \"run_id\": \"AutoML_d23e6bc6-b464-4dbb-bc48-754e8dbdad30\", \"categories\": [0], \"series\": [{\"data\": [0.9929069335722033]}]}], \"run_logs\": \"\\nRun is completed.\", \"graph\": {}, \"widget_settings\": {\"childWidgetDisplay\": \"popup\", \"send_telemetry\": false, \"log_level\": \"INFO\", \"sdk_version\": \"1.26.0\"}, \"loading\": false}"
     },
     "metadata": {},
     "output_type": "display_data"
    },
    {
     "data": {
      "application/vnd.jupyter.widget-view+json": {
       "model_id": "e28454f21bd34f98a314b1ad58b6be57",
       "version_major": 2,
       "version_minor": 0
      },
      "text/plain": [
       "_UserRunWidget(widget_settings={'childWidgetDisplay': 'popup', 'send_telemetry': False, 'log_level': 'INFO', '…"
      ]
     },
     "metadata": {},
     "output_type": "display_data"
    },
    {
     "data": {
      "application/aml.mini.widget.v1": "{\"loading\": true}"
     },
     "metadata": {},
     "output_type": "display_data"
    }
   ],
   "source": [
    "RunDetails(remote_run).show()"
   ]
  },
  {
   "cell_type": "markdown",
   "metadata": {},
   "source": [
    "## Best Model\n",
    "\n",
    "In this section we get the best run, then register the best model in case we want to deploy it. Additionally we download it to our local share\n"
   ]
  },
  {
   "cell_type": "code",
   "execution_count": 9,
   "metadata": {
    "gather": {
     "logged": 1619887555795
    },
    "jupyter": {
     "outputs_hidden": false,
     "source_hidden": false
    },
    "nteract": {
     "transient": {
      "deleting": false
     }
    }
   },
   "outputs": [
    {
     "data": {
      "text/html": [
       "<table style=\"width:100%\"><tr><th>Experiment</th><th>Id</th><th>Type</th><th>Status</th><th>Details Page</th><th>Docs Page</th></tr><tr><td>hr-automl</td><td>AutoML_d23e6bc6-b464-4dbb-bc48-754e8dbdad30_34</td><td>azureml.scriptrun</td><td>Completed</td><td><a href=\"https://ml.azure.com/runs/AutoML_d23e6bc6-b464-4dbb-bc48-754e8dbdad30_34?wsid=/subscriptions/81cefad3-d2c9-4f77-a466-99a7f541c7bb/resourcegroups/aml-quickstarts-143962/workspaces/quick-starts-ws-143962&amp;tid=660b3398-b80e-49d2-bc5b-ac1dc93b5254\" target=\"_blank\" rel=\"noopener\">Link to Azure Machine Learning studio</a></td><td><a href=\"https://docs.microsoft.com/en-us/python/api/azureml-core/azureml.core.run.Run?view=azure-ml-py\" target=\"_blank\" rel=\"noopener\">Link to Documentation</a></td></tr></table>"
      ],
      "text/plain": [
       "Run(Experiment: hr-automl,\n",
       "Id: AutoML_d23e6bc6-b464-4dbb-bc48-754e8dbdad30_34,\n",
       "Type: azureml.scriptrun,\n",
       "Status: Completed)"
      ]
     },
     "execution_count": 9,
     "metadata": {},
     "output_type": "execute_result"
    }
   ],
   "source": [
    "best_run = remote_run.get_best_child()\n",
    "best_run"
   ]
  },
  {
   "cell_type": "markdown",
   "metadata": {},
   "source": [
    "Here is our AUC"
   ]
  },
  {
   "cell_type": "code",
   "execution_count": 10,
   "metadata": {
    "gather": {
     "logged": 1619887566220
    },
    "jupyter": {
     "outputs_hidden": false,
     "source_hidden": false
    },
    "nteract": {
     "transient": {
      "deleting": false
     }
    }
   },
   "outputs": [
    {
     "data": {
      "text/plain": [
       "0.905541571394528"
      ]
     },
     "execution_count": 10,
     "metadata": {},
     "output_type": "execute_result"
    }
   ],
   "source": [
    "best_run.get_metrics()['AUC_weighted']"
   ]
  },
  {
   "cell_type": "markdown",
   "metadata": {},
   "source": [
    "And here we can see the parameters of the best model"
   ]
  },
  {
   "cell_type": "code",
   "execution_count": 38,
   "metadata": {},
   "outputs": [
    {
     "name": "stdout",
     "output_type": "stream",
     "text": [
      "ensembled_iterations: [0, 29, 27, 23, 22, 30, 26, 17, 18]\n",
      "ensembled_algorithms: ['LightGBM', 'XGBoostClassifier', 'LightGBM', 'XGBoostClassifier', 'XGBoostClassifier', 'LightGBM', 'LogisticRegression', 'ExtremeRandomTrees', 'RandomForest']\n",
      "ensemble_weights: [0.3333333333333333, 0.2, 0.06666666666666667, 0.06666666666666667, 0.06666666666666667, 0.06666666666666667, 0.06666666666666667, 0.06666666666666667, 0.06666666666666667]\n"
     ]
    }
   ],
   "source": [
    "print(f'ensembled_iterations: {best_run.tags[\"ensembled_iterations\"]}')\n",
    "print(f'ensembled_algorithms: {best_run.tags[\"ensembled_algorithms\"]}')\n",
    "print(f'ensemble_weights: {best_run.tags[\"ensemble_weights\"]}')\n"
   ]
  },
  {
   "cell_type": "code",
   "execution_count": 26,
   "metadata": {
    "gather": {
     "logged": 1619891513681
    },
    "jupyter": {
     "outputs_hidden": false,
     "source_hidden": false
    },
    "nteract": {
     "transient": {
      "deleting": false
     }
    }
   },
   "outputs": [],
   "source": [
    "best_run.download_file('outputs/model.pkl', output_file_path='outputs/model.pkl')"
   ]
  },
  {
   "cell_type": "markdown",
   "metadata": {},
   "source": [
    "## Model Deployment\n",
    "\n",
    "The  best model od autoML had better performance, therefore we proceed to deploy it.\n",
    "\n",
    "We fisrt have to registed the model"
   ]
  },
  {
   "cell_type": "code",
   "execution_count": 27,
   "metadata": {
    "gather": {
     "logged": 1619890372082
    },
    "jupyter": {
     "outputs_hidden": false,
     "source_hidden": false
    },
    "nteract": {
     "transient": {
      "deleting": false
     }
    }
   },
   "outputs": [],
   "source": [
    "# register model\n",
    "model = best_run.register_model('hr-auto-ml-model', \n",
    "                        description='best model found by automl for HR data', \n",
    "                        model_path='outputs/model.pkl')"
   ]
  },
  {
   "cell_type": "markdown",
   "metadata": {
    "nteract": {
     "transient": {
      "deleting": false
     }
    }
   },
   "source": [
    "To deploy an automl Model, the easies way is to do it from the Azure web interface. Howver, we will do it manually in this section.\n",
    "\n",
    "To deploy our model we need o specify an inference configuration.\n",
    "This must include an evironment and an scoring script used as entrypoint in our REST API. \n",
    "Automl stores for each run information about the evionment and a scoring script. \n",
    "We first will download tose files."
   ]
  },
  {
   "cell_type": "code",
   "execution_count": 28,
   "metadata": {
    "gather": {
     "logged": 1619891532641
    },
    "jupyter": {
     "outputs_hidden": false,
     "source_hidden": false
    },
    "nteract": {
     "transient": {
      "deleting": false
     }
    }
   },
   "outputs": [],
   "source": [
    "best_run.download_file('outputs/conda_env_v_1_0_0.yml', output_file_path='outputs/conda_env_v_1_0_0.yml')\n",
    "best_run.download_file('outputs/scoring_file_v_1_0_0.py', output_file_path='outputs/scoring_file_v_1_0_0.py')"
   ]
  },
  {
   "cell_type": "markdown",
   "metadata": {
    "nteract": {
     "transient": {
      "deleting": false
     }
    }
   },
   "source": [
    "We the must create an environment with the conda information we downloaded from the best run and then use it in put inference configuration. We also need a deployment configuration to specify that the mdoel will run in ACI."
   ]
  },
  {
   "cell_type": "code",
   "execution_count": 30,
   "metadata": {
    "gather": {
     "logged": 1619891911903
    },
    "jupyter": {
     "outputs_hidden": false,
     "source_hidden": false
    },
    "nteract": {
     "transient": {
      "deleting": false
     }
    }
   },
   "outputs": [],
   "source": [
    "env = Environment.from_conda_specification(name='auto-ml-env', file_path='outputs/conda_env_v_1_0_0.yml')\n",
    "inf_config = InferenceConfig(environment=env, \n",
    "                            source_directory='./outputs',\n",
    "                            entry_script='scoring_file_v_1_0_0.py')\n",
    "deployment_config = AciWebservice.deploy_configuration(cpu_cores=1, memory_gb=1)"
   ]
  },
  {
   "cell_type": "markdown",
   "metadata": {
    "nteract": {
     "transient": {
      "deleting": false
     }
    }
   },
   "source": [
    "Now we are able to deploy the model"
   ]
  },
  {
   "cell_type": "code",
   "execution_count": 31,
   "metadata": {
    "gather": {
     "logged": 1619893237396
    },
    "jupyter": {
     "outputs_hidden": false,
     "source_hidden": false
    },
    "nteract": {
     "transient": {
      "deleting": false
     }
    }
   },
   "outputs": [
    {
     "name": "stdout",
     "output_type": "stream",
     "text": [
      "Tips: You can try get_logs(): https://aka.ms/debugimage#dockerlog or local deployment: https://aka.ms/debugimage#debug-locally to debug if deployment takes longer than 10 minutes.\n",
      "Running\n",
      "2021-05-04 15:12:56+00:00 Creating Container Registry if not exists..\n",
      "2021-05-04 15:13:06+00:00 Registering the environment.\n",
      "2021-05-04 15:13:07+00:00 Building image..\n",
      "2021-05-04 15:26:39+00:00 Generating deployment configuration.\n",
      "2021-05-04 15:26:39+00:00 Submitting deployment to compute.\n",
      "2021-05-04 15:26:42+00:00 Checking the status of deployment hr-automl-model-service..\n",
      "2021-05-04 15:29:45+00:00 Checking the status of inference endpoint hr-automl-model-service.\n",
      "Succeeded\n",
      "ACI service creation operation finished, operation \"Succeeded\"\n"
     ]
    }
   ],
   "source": [
    "service = Model.deploy(ws, 'hr-automl-model-service', [model], inference_config=inf_config, deployment_config=deployment_config)\n",
    "service.wait_for_deployment(show_output=True)"
   ]
  },
  {
   "cell_type": "markdown",
   "metadata": {
    "collapsed": true,
    "gather": {
     "logged": 1598431657736
    },
    "jupyter": {
     "outputs_hidden": false,
     "source_hidden": false
    },
    "nteract": {
     "transient": {
      "deleting": false
     }
    }
   },
   "source": [
    "Now we test the servcice with the data of a ficticious employee"
   ]
  },
  {
   "cell_type": "code",
   "execution_count": 33,
   "metadata": {
    "gather": {
     "logged": 1619898111351
    },
    "jupyter": {
     "outputs_hidden": false,
     "source_hidden": false
    },
    "nteract": {
     "transient": {
      "deleting": false
     }
    }
   },
   "outputs": [
    {
     "name": "stdout",
     "output_type": "stream",
     "text": [
      "Response Code: 200\n",
      "Prediction: {\"result\": [1]}\n"
     ]
    }
   ],
   "source": [
    "import requests\n",
    "import json\n",
    "\n",
    "uri = service.scoring_uri\n",
    "headers = {\"Content-Type\": \"application/json\"}\n",
    "data = {\"data\": \n",
    "            [{\"department\": 'Finance',  \"region\": \"region_2\",  \"education\": \"Bachelor's\",  \"gender\": 'f', \n",
    "            \"recruitment_channel\": \"other\",  \"no_of_trainings\": 1,  \"age\": 35,  \"previous_year_rating\": 4, \n",
    "            \"length_of_service\": 7,  \"KPIs_met >80%\": 1, \"awards_won?\": 0,  \"avg_training_score\": 86}\n",
    "            ]\n",
    "}\n",
    "        \n",
    "        \n",
    "\n",
    "data = json.dumps(data)\n",
    "\n",
    "response = requests.post(uri, data=data,  headers=headers)\n",
    "\n",
    "print(f'Response Code: {response.status_code}')\n",
    "print(f'Prediction: {response.json()}')\n"
   ]
  },
  {
   "cell_type": "markdown",
   "metadata": {
    "collapsed": true,
    "gather": {
     "logged": 1598432765711
    },
    "jupyter": {
     "outputs_hidden": false,
     "source_hidden": false
    },
    "nteract": {
     "transient": {
      "deleting": false
     }
    }
   },
   "source": [
    "We can see the logs of the service"
   ]
  },
  {
   "cell_type": "code",
   "execution_count": 34,
   "metadata": {
    "gather": {
     "logged": 1619895182956
    },
    "jupyter": {
     "outputs_hidden": false,
     "source_hidden": false
    },
    "nteract": {
     "transient": {
      "deleting": false
     }
    }
   },
   "outputs": [
    {
     "name": "stdout",
     "output_type": "stream",
     "text": [
      "2021-05-04T15:29:38,611864000+00:00 - iot-server/run \n",
      "2021-05-04T15:29:38,618776400+00:00 - rsyslog/run \n",
      "2021-05-04T15:29:38,622641800+00:00 - gunicorn/run \n",
      "2021-05-04T15:29:38,639478500+00:00 - nginx/run \n",
      "/usr/sbin/nginx: /azureml-envs/azureml_f8f5ff2f983718fa04a09abf22f98303/lib/libcrypto.so.1.0.0: no version information available (required by /usr/sbin/nginx)\n",
      "/usr/sbin/nginx: /azureml-envs/azureml_f8f5ff2f983718fa04a09abf22f98303/lib/libcrypto.so.1.0.0: no version information available (required by /usr/sbin/nginx)\n",
      "/usr/sbin/nginx: /azureml-envs/azureml_f8f5ff2f983718fa04a09abf22f98303/lib/libssl.so.1.0.0: no version information available (required by /usr/sbin/nginx)\n",
      "/usr/sbin/nginx: /azureml-envs/azureml_f8f5ff2f983718fa04a09abf22f98303/lib/libssl.so.1.0.0: no version information available (required by /usr/sbin/nginx)\n",
      "/usr/sbin/nginx: /azureml-envs/azureml_f8f5ff2f983718fa04a09abf22f98303/lib/libssl.so.1.0.0: no version information available (required by /usr/sbin/nginx)\n",
      "rsyslogd: /azureml-envs/azureml_f8f5ff2f983718fa04a09abf22f98303/lib/libuuid.so.1: no version information available (required by rsyslogd)\n",
      "EdgeHubConnectionString and IOTEDGE_IOTHUBHOSTNAME are not set. Exiting...\n",
      "2021-05-04T15:29:38,956943400+00:00 - iot-server/finish 1 0\n",
      "2021-05-04T15:29:38,959698600+00:00 - Exit code 1 is normal. Not restarting iot-server.\n",
      "Starting gunicorn 19.9.0\n",
      "Listening at: http://127.0.0.1:31311 (71)\n",
      "Using worker: sync\n",
      "worker timeout is set to 300\n",
      "Booting worker with pid: 100\n",
      "SPARK_HOME not set. Skipping PySpark Initialization.\n",
      "Generating new fontManager, this may take some time...\n",
      "Initializing logger\n",
      "2021-05-04 15:29:41,359 | root | INFO | Starting up app insights client\n",
      "2021-05-04 15:29:41,360 | root | INFO | Starting up request id generator\n",
      "2021-05-04 15:29:41,360 | root | INFO | Starting up app insight hooks\n",
      "2021-05-04 15:29:41,360 | root | INFO | Invoking user's init function\n",
      "2021-05-04 15:29:45,785 | azureml.core | WARNING | Failure while loading azureml_run_type_providers. Failed to load entrypoint automl = azureml.train.automl.run:AutoMLRun._from_run_dto with exception cannot import name 'RunType'.\n",
      "Failure while loading azureml_run_type_providers. Failed to load entrypoint automl = azureml.train.automl.run:AutoMLRun._from_run_dto with exception cannot import name 'RunType'.\n",
      "2021-05-04 15:29:46,042 | root | INFO | Users's init has completed successfully\n",
      "2021-05-04 15:29:46,052 | root | INFO | Skipping middleware: dbg_model_info as it's not enabled.\n",
      "2021-05-04 15:29:46,052 | root | INFO | Skipping middleware: dbg_resource_usage as it's not enabled.\n",
      "2021-05-04 15:29:46,057 | root | INFO | Scoring timeout is found from os.environ: 60000 ms\n",
      "2021-05-04 15:29:51,885 | root | INFO | 200\n",
      "127.0.0.1 - - [04/May/2021:15:29:51 +0000] \"GET /swagger.json HTTP/1.0\" 200 3069 \"-\" \"Go-http-client/1.1\"\n",
      "2021-05-04 15:29:52,604 | root | INFO | 200\n",
      "127.0.0.1 - - [04/May/2021:15:29:52 +0000] \"GET /swagger.json HTTP/1.0\" 200 3069 \"-\" \"Go-http-client/1.1\"\n",
      "2021-05-04 15:30:37,298 | root | INFO | 200\n",
      "127.0.0.1 - - [04/May/2021:15:30:37 +0000] \"GET /swagger.json HTTP/1.0\" 200 3069 \"-\" \"Go-http-client/1.1\"\n",
      "2021-05-04 15:31:20,974 | root | INFO | Validation Request Content-Type\n",
      "2021-05-04 15:31:20,976 | root | INFO | Scoring Timer is set to 60.0 seconds\n",
      "2021-05-04 15:31:21,232 | root | INFO | 200\n",
      "127.0.0.1 - - [04/May/2021:15:31:21 +0000] \"POST /score HTTP/1.0\" 200 19 \"-\" \"python-requests/2.25.1\"\n",
      "\n"
     ]
    }
   ],
   "source": [
    "print(service.get_logs())"
   ]
  },
  {
   "cell_type": "code",
   "execution_count": null,
   "metadata": {},
   "outputs": [],
   "source": []
  }
 ],
 "metadata": {
  "kernel_info": {
   "name": "python3"
  },
  "kernelspec": {
   "display_name": "Python 3",
   "language": "python",
   "name": "python3"
  },
  "language_info": {
   "codemirror_mode": {
    "name": "ipython",
    "version": 3
   },
   "file_extension": ".py",
   "mimetype": "text/x-python",
   "name": "python",
   "nbconvert_exporter": "python",
   "pygments_lexer": "ipython3",
   "version": "3.6.9"
  },
  "microsoft": {
   "host": {
    "AzureML": {
     "notebookHasBeenCompleted": true
    }
   }
  },
  "nteract": {
   "version": "nteract-front-end@1.0.0"
  }
 },
 "nbformat": 4,
 "nbformat_minor": 2
}
