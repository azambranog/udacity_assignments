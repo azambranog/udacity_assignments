{
  "cells": [
    {
      "cell_type": "markdown",
      "source": [
        "# Automated ML\n"
      ],
      "metadata": {}
    },
    {
      "cell_type": "code",
      "source": [
        "from azureml.core.experiment import Experiment\r\n",
        "from azureml.core.workspace import Workspace\r\n",
        "from azureml.train.automl import AutoMLConfig\r\n",
        "from azureml.core.dataset import Dataset\r\n",
        "from azureml.core.compute import ComputeTarget\r\n",
        "from azureml.pipeline.steps import AutoMLStep\r\n",
        "from azureml.widgets import RunDetails\r\n",
        "from azureml.core.model import Model, InferenceConfig\r\n",
        "from azureml.core import Environment"
      ],
      "outputs": [],
      "execution_count": 47,
      "metadata": {
        "gather": {
          "logged": 1619367481163
        },
        "jupyter": {
          "outputs_hidden": false,
          "source_hidden": false
        },
        "nteract": {
          "transient": {
            "deleting": false
          }
        }
      }
    },
    {
      "cell_type": "markdown",
      "source": [
        "## Dataset\n",
        "\n",
        "### Overview\n",
        "In this project we will be using a dataset from an HR department in a company. The dataset contains entreis for employees, including personal information, curring position and work performance metrics. \n",
        "The objective is to determine if a given employee will receive a promotion. The datase is highly imbalanced, wth only around 5% of employees having received a promotion.\n",
        "\n",
        "The given dataset is available in Kaggle [https://www.kaggle.com/shivan118/hranalysis]. We have manually downloaded the dataset and registered in our workspaces's default store with the name \"hr-data\""
      ],
      "metadata": {}
    },
    {
      "cell_type": "code",
      "source": [
        "ws = Workspace.from_config()\n",
        "\n",
        "# choose a name for experiment\n",
        "experiment_name = 'hr-automl'\n",
        "\n",
        "experiment=Experiment(ws, experiment_name)"
      ],
      "outputs": [],
      "execution_count": 3,
      "metadata": {
        "gather": {
          "logged": 1619355279447
        },
        "jupyter": {
          "outputs_hidden": false,
          "source_hidden": false
        },
        "nteract": {
          "transient": {
            "deleting": false
          }
        }
      }
    },
    {
      "cell_type": "code",
      "source": [
        "# get dataset by name\r\n",
        "dataset = Dataset.get_by_name(ws, 'hr-data', version='latest')"
      ],
      "outputs": [],
      "execution_count": 5,
      "metadata": {
        "collapsed": true,
        "jupyter": {
          "source_hidden": false,
          "outputs_hidden": false
        },
        "nteract": {
          "transient": {
            "deleting": false
          }
        },
        "gather": {
          "logged": 1619355708451
        }
      }
    },
    {
      "cell_type": "code",
      "source": [
        "# view first rows\r\n",
        "dataset.take(5).to_pandas_dataframe()"
      ],
      "outputs": [
        {
          "output_type": "execute_result",
          "execution_count": 7,
          "data": {
            "text/plain": "          department     region         education gender recruitment_channel  \\\n0  Sales & Marketing   region_7  Master's & above      f            sourcing   \n1         Operations  region_22        Bachelor's      m               other   \n2  Sales & Marketing  region_19        Bachelor's      m            sourcing   \n3  Sales & Marketing  region_23        Bachelor's      m               other   \n4         Technology  region_26        Bachelor's      m               other   \n\n   no_of_trainings  age  previous_year_rating  length_of_service  \\\n0                1   35                     5                  8   \n1                1   30                     5                  4   \n2                1   34                     3                  7   \n3                2   39                     1                 10   \n4                1   45                     3                  2   \n\n   KPIs_met >80%  awards_won?  avg_training_score  is_promoted  \n0              1            0                  49            0  \n1              0            0                  60            0  \n2              0            0                  50            0  \n3              0            0                  50            0  \n4              0            0                  73            0  ",
            "text/html": "<div>\n<style scoped>\n    .dataframe tbody tr th:only-of-type {\n        vertical-align: middle;\n    }\n\n    .dataframe tbody tr th {\n        vertical-align: top;\n    }\n\n    .dataframe thead th {\n        text-align: right;\n    }\n</style>\n<table border=\"1\" class=\"dataframe\">\n  <thead>\n    <tr style=\"text-align: right;\">\n      <th></th>\n      <th>department</th>\n      <th>region</th>\n      <th>education</th>\n      <th>gender</th>\n      <th>recruitment_channel</th>\n      <th>no_of_trainings</th>\n      <th>age</th>\n      <th>previous_year_rating</th>\n      <th>length_of_service</th>\n      <th>KPIs_met &gt;80%</th>\n      <th>awards_won?</th>\n      <th>avg_training_score</th>\n      <th>is_promoted</th>\n    </tr>\n  </thead>\n  <tbody>\n    <tr>\n      <th>0</th>\n      <td>Sales &amp; Marketing</td>\n      <td>region_7</td>\n      <td>Master's &amp; above</td>\n      <td>f</td>\n      <td>sourcing</td>\n      <td>1</td>\n      <td>35</td>\n      <td>5</td>\n      <td>8</td>\n      <td>1</td>\n      <td>0</td>\n      <td>49</td>\n      <td>0</td>\n    </tr>\n    <tr>\n      <th>1</th>\n      <td>Operations</td>\n      <td>region_22</td>\n      <td>Bachelor's</td>\n      <td>m</td>\n      <td>other</td>\n      <td>1</td>\n      <td>30</td>\n      <td>5</td>\n      <td>4</td>\n      <td>0</td>\n      <td>0</td>\n      <td>60</td>\n      <td>0</td>\n    </tr>\n    <tr>\n      <th>2</th>\n      <td>Sales &amp; Marketing</td>\n      <td>region_19</td>\n      <td>Bachelor's</td>\n      <td>m</td>\n      <td>sourcing</td>\n      <td>1</td>\n      <td>34</td>\n      <td>3</td>\n      <td>7</td>\n      <td>0</td>\n      <td>0</td>\n      <td>50</td>\n      <td>0</td>\n    </tr>\n    <tr>\n      <th>3</th>\n      <td>Sales &amp; Marketing</td>\n      <td>region_23</td>\n      <td>Bachelor's</td>\n      <td>m</td>\n      <td>other</td>\n      <td>2</td>\n      <td>39</td>\n      <td>1</td>\n      <td>10</td>\n      <td>0</td>\n      <td>0</td>\n      <td>50</td>\n      <td>0</td>\n    </tr>\n    <tr>\n      <th>4</th>\n      <td>Technology</td>\n      <td>region_26</td>\n      <td>Bachelor's</td>\n      <td>m</td>\n      <td>other</td>\n      <td>1</td>\n      <td>45</td>\n      <td>3</td>\n      <td>2</td>\n      <td>0</td>\n      <td>0</td>\n      <td>73</td>\n      <td>0</td>\n    </tr>\n  </tbody>\n</table>\n</div>"
          },
          "metadata": {}
        }
      ],
      "execution_count": 7,
      "metadata": {
        "collapsed": true,
        "jupyter": {
          "source_hidden": false,
          "outputs_hidden": false
        },
        "nteract": {
          "transient": {
            "deleting": false
          }
        },
        "gather": {
          "logged": 1619355810949
        }
      }
    },
    {
      "cell_type": "markdown",
      "source": [
        "## AutoML Configuration\n",
        "\n",
        "We must ensure that we specify the target column is set to the same name it has in our dataset. \n",
        "The problem type is classificaton, and as metric we used the wheighted AUC since it is a good metric for inbalanced problems. \n",
        "\n",
        "\n",
        "We previously created a cluster with 4 nodes. For optimization of running time we allowed core minus 1 parallel runs. \n",
        "Additionally we allow AutoMl to stop early if a best score is found.\n",
        "We also set the maximum duration of the experiment to be 30 minutes given Lab limitations. \n",
        "\n",
        "\n"
      ],
      "metadata": {}
    },
    {
      "cell_type": "code",
      "source": [
        "# get previously created compute target\n",
        "cluster = ComputeTarget(workspace=ws, name='cluster-1')\n",
        "\n",
        "# automl settings here\n",
        "automl_settings = {\n",
        "    \"experiment_timeout_minutes\": 30,\n",
        "    \"max_concurrent_iterations\": 3,\n",
        "    \"primary_metric\": \"AUC_weighted\"\n",
        "}\n",
        "\n",
        "# TAutoml config here\n",
        "automl_config = AutoMLConfig(compute_target=cluster,\n",
        "                            training_data=dataset,\n",
        "                            task=\"classification\",\n",
        "                            label_column_name='is_promoted', \n",
        "                            enable_early_stopping=True,\n",
        "                            featurization='auto',\n",
        "                            debug_log='automl_errors.log',\n",
        "                            **automl_settings\n",
        "                            )"
      ],
      "outputs": [],
      "execution_count": 20,
      "metadata": {
        "gather": {
          "logged": 1619357591703
        },
        "jupyter": {
          "outputs_hidden": false,
          "source_hidden": false
        },
        "nteract": {
          "transient": {
            "deleting": false
          }
        }
      }
    },
    {
      "cell_type": "code",
      "source": [
        "# Submit your experiment\n",
        "remote_run = experiment.submit(automl_config)"
      ],
      "outputs": [
        {
          "output_type": "stream",
          "name": "stdout",
          "text": [
            "Submitting remote run.\n"
          ]
        },
        {
          "output_type": "display_data",
          "data": {
            "text/plain": "<IPython.core.display.HTML object>",
            "text/html": "<table style=\"width:100%\"><tr><th>Experiment</th><th>Id</th><th>Type</th><th>Status</th><th>Details Page</th><th>Docs Page</th></tr><tr><td>hr-automl</td><td>AutoML_5af789a9-4d2b-4ffe-9175-43d8c6294b72</td><td>automl</td><td>NotStarted</td><td><a href=\"https://ml.azure.com/runs/AutoML_5af789a9-4d2b-4ffe-9175-43d8c6294b72?wsid=/subscriptions/f9d5a085-54dc-4215-9ba6-dad5d86e60a0/resourcegroups/aml-quickstarts-143540/workspaces/quick-starts-ws-143540&amp;tid=660b3398-b80e-49d2-bc5b-ac1dc93b5254\" target=\"_blank\" rel=\"noopener\">Link to Azure Machine Learning studio</a></td><td><a href=\"https://docs.microsoft.com/en-us/python/api/overview/azure/ml/intro?view=azure-ml-py\" target=\"_blank\" rel=\"noopener\">Link to Documentation</a></td></tr></table>"
          },
          "metadata": {}
        }
      ],
      "execution_count": 21,
      "metadata": {
        "gather": {
          "logged": 1619357603080
        },
        "jupyter": {
          "outputs_hidden": false,
          "source_hidden": false
        },
        "nteract": {
          "transient": {
            "deleting": false
          }
        }
      }
    },
    {
      "cell_type": "markdown",
      "source": [
        "## Run Details"
      ],
      "metadata": {}
    },
    {
      "cell_type": "code",
      "source": [
        "RunDetails(remote_run).show()"
      ],
      "outputs": [
        {
          "output_type": "display_data",
          "data": {
            "text/plain": "_AutoMLWidget(widget_settings={'childWidgetDisplay': 'popup', 'send_telemetry': False, 'log_level': 'INFO', 's…",
            "application/vnd.jupyter.widget-view+json": {
              "version_major": 2,
              "version_minor": 0,
              "model_id": "667c4a558c764f5c8ba868b39fa31d6c"
            }
          },
          "metadata": {}
        },
        {
          "output_type": "display_data",
          "data": {
            "application/aml.mini.widget.v1": "{\"status\": \"Completed\", \"workbench_run_details_uri\": \"https://ml.azure.com/runs/AutoML_5af789a9-4d2b-4ffe-9175-43d8c6294b72?wsid=/subscriptions/f9d5a085-54dc-4215-9ba6-dad5d86e60a0/resourcegroups/aml-quickstarts-143540/workspaces/quick-starts-ws-143540&tid=660b3398-b80e-49d2-bc5b-ac1dc93b5254\", \"run_id\": \"AutoML_5af789a9-4d2b-4ffe-9175-43d8c6294b72\", \"run_properties\": {\"run_id\": \"AutoML_5af789a9-4d2b-4ffe-9175-43d8c6294b72\", \"created_utc\": \"2021-04-25T13:33:19.999267Z\", \"properties\": {\"num_iterations\": \"1000\", \"training_type\": \"TrainFull\", \"acquisition_function\": \"EI\", \"primary_metric\": \"AUC_weighted\", \"train_split\": \"0\", \"acquisition_parameter\": \"0\", \"num_cross_validation\": null, \"target\": \"cluster-1\", \"AMLSettingsJsonString\": \"{\\\"path\\\":null,\\\"name\\\":\\\"hr-automl\\\",\\\"subscription_id\\\":\\\"f9d5a085-54dc-4215-9ba6-dad5d86e60a0\\\",\\\"resource_group\\\":\\\"aml-quickstarts-143540\\\",\\\"workspace_name\\\":\\\"quick-starts-ws-143540\\\",\\\"region\\\":\\\"southcentralus\\\",\\\"compute_target\\\":\\\"cluster-1\\\",\\\"spark_service\\\":null,\\\"azure_service\\\":\\\"remote\\\",\\\"many_models\\\":false,\\\"pipeline_fetch_max_batch_size\\\":1,\\\"enable_batch_run\\\":false,\\\"enable_run_restructure\\\":false,\\\"iterations\\\":1000,\\\"primary_metric\\\":\\\"AUC_weighted\\\",\\\"task_type\\\":\\\"classification\\\",\\\"data_script\\\":null,\\\"test_size\\\":0.0,\\\"validation_size\\\":0.0,\\\"n_cross_validations\\\":null,\\\"y_min\\\":null,\\\"y_max\\\":null,\\\"num_classes\\\":null,\\\"featurization\\\":\\\"auto\\\",\\\"_ignore_package_version_incompatibilities\\\":false,\\\"is_timeseries\\\":false,\\\"max_cores_per_iteration\\\":1,\\\"max_concurrent_iterations\\\":3,\\\"iteration_timeout_minutes\\\":null,\\\"mem_in_mb\\\":null,\\\"enforce_time_on_windows\\\":false,\\\"experiment_timeout_minutes\\\":30,\\\"experiment_exit_score\\\":null,\\\"whitelist_models\\\":null,\\\"blacklist_algos\\\":[\\\"TensorFlowLinearClassifier\\\",\\\"TensorFlowDNN\\\"],\\\"supported_models\\\":[\\\"LightGBM\\\",\\\"RandomForest\\\",\\\"TensorFlowLinearClassifier\\\",\\\"MultinomialNaiveBayes\\\",\\\"LogisticRegression\\\",\\\"ExtremeRandomTrees\\\",\\\"LinearSVM\\\",\\\"KNN\\\",\\\"BernoulliNaiveBayes\\\",\\\"GradientBoosting\\\",\\\"TensorFlowDNN\\\",\\\"AveragedPerceptronClassifier\\\",\\\"SVM\\\",\\\"SGD\\\",\\\"XGBoostClassifier\\\",\\\"DecisionTree\\\"],\\\"private_models\\\":[],\\\"auto_blacklist\\\":true,\\\"blacklist_samples_reached\\\":false,\\\"exclude_nan_labels\\\":true,\\\"verbosity\\\":20,\\\"_debug_log\\\":\\\"azureml_automl.log\\\",\\\"show_warnings\\\":false,\\\"model_explainability\\\":true,\\\"service_url\\\":null,\\\"sdk_url\\\":null,\\\"sdk_packages\\\":null,\\\"enable_onnx_compatible_models\\\":false,\\\"enable_split_onnx_featurizer_estimator_models\\\":false,\\\"vm_type\\\":\\\"STANDARD_DS3_V2\\\",\\\"telemetry_verbosity\\\":20,\\\"send_telemetry\\\":true,\\\"enable_dnn\\\":false,\\\"scenario\\\":\\\"SDK-1.13.0\\\",\\\"environment_label\\\":null,\\\"save_mlflow\\\":false,\\\"force_text_dnn\\\":false,\\\"enable_feature_sweeping\\\":true,\\\"enable_early_stopping\\\":true,\\\"early_stopping_n_iters\\\":10,\\\"metrics\\\":null,\\\"enable_metric_confidence\\\":false,\\\"enable_ensembling\\\":true,\\\"enable_stack_ensembling\\\":true,\\\"ensemble_iterations\\\":15,\\\"enable_tf\\\":false,\\\"enable_subsampling\\\":null,\\\"subsample_seed\\\":null,\\\"enable_nimbusml\\\":false,\\\"enable_streaming\\\":false,\\\"force_streaming\\\":false,\\\"track_child_runs\\\":true,\\\"allowed_private_models\\\":[],\\\"label_column_name\\\":\\\"is_promoted\\\",\\\"weight_column_name\\\":null,\\\"cv_split_column_names\\\":null,\\\"enable_local_managed\\\":false,\\\"_local_managed_run_id\\\":null,\\\"cost_mode\\\":1,\\\"lag_length\\\":0,\\\"metric_operation\\\":\\\"maximize\\\",\\\"preprocess\\\":true}\", \"DataPrepJsonString\": \"{\\\\\\\"training_data\\\\\\\": {\\\\\\\"datasetId\\\\\\\": \\\\\\\"b18adf46-94e3-4945-a07e-3c64b7f7fb3e\\\\\\\"}, \\\\\\\"datasets\\\\\\\": 0}\", \"EnableSubsampling\": null, \"runTemplate\": \"AutoML\", \"azureml.runsource\": \"automl\", \"display_task_type\": \"classification\", \"dependencies_versions\": \"{\\\"azureml-widgets\\\": \\\"1.26.0\\\", \\\"azureml-train\\\": \\\"1.26.0\\\", \\\"azureml-train-restclients-hyperdrive\\\": \\\"1.26.0\\\", \\\"azureml-train-core\\\": \\\"1.26.0\\\", \\\"azureml-train-automl\\\": \\\"1.26.0\\\", \\\"azureml-train-automl-runtime\\\": \\\"1.26.0\\\", \\\"azureml-train-automl-client\\\": \\\"1.26.0\\\", \\\"azureml-tensorboard\\\": \\\"1.26.0\\\", \\\"azureml-telemetry\\\": \\\"1.26.0\\\", \\\"azureml-sdk\\\": \\\"1.26.0\\\", \\\"azureml-samples\\\": \\\"0+unknown\\\", \\\"azureml-pipeline\\\": \\\"1.26.0\\\", \\\"azureml-pipeline-steps\\\": \\\"1.26.0\\\", \\\"azureml-pipeline-core\\\": \\\"1.26.0\\\", \\\"azureml-opendatasets\\\": \\\"1.26.0\\\", \\\"azureml-model-management-sdk\\\": \\\"1.0.1b6.post1\\\", \\\"azureml-mlflow\\\": \\\"1.26.0\\\", \\\"azureml-interpret\\\": \\\"1.26.0\\\", \\\"azureml-explain-model\\\": \\\"1.26.0\\\", \\\"azureml-defaults\\\": \\\"1.26.0\\\", \\\"azureml-dataset-runtime\\\": \\\"1.26.0\\\", \\\"azureml-dataprep\\\": \\\"2.13.2\\\", \\\"azureml-dataprep-rslex\\\": \\\"1.11.2\\\", \\\"azureml-dataprep-native\\\": \\\"32.0.0\\\", \\\"azureml-datadrift\\\": \\\"1.26.0\\\", \\\"azureml-core\\\": \\\"1.26.0\\\", \\\"azureml-contrib-services\\\": \\\"1.26.0\\\", \\\"azureml-contrib-server\\\": \\\"1.26.0\\\", \\\"azureml-contrib-reinforcementlearning\\\": \\\"1.26.0\\\", \\\"azureml-contrib-pipeline-steps\\\": \\\"1.26.0\\\", \\\"azureml-contrib-notebook\\\": \\\"1.26.0\\\", \\\"azureml-contrib-gbdt\\\": \\\"1.26.0\\\", \\\"azureml-contrib-fairness\\\": \\\"1.26.0\\\", \\\"azureml-contrib-dataset\\\": \\\"1.26.0\\\", \\\"azureml-cli-common\\\": \\\"1.26.0\\\", \\\"azureml-automl-runtime\\\": \\\"1.26.0\\\", \\\"azureml-automl-dnn-nlp\\\": \\\"1.26.0\\\", \\\"azureml-automl-core\\\": \\\"1.26.0\\\", \\\"azureml-accel-models\\\": \\\"1.26.0\\\"}\", \"_aml_system_scenario_identification\": \"Remote.Parent\", \"ClientType\": \"SDK\", \"environment_cpu_name\": \"AzureML-AutoML\", \"environment_cpu_label\": \"prod\", \"environment_gpu_name\": \"AzureML-AutoML-GPU\", \"environment_gpu_label\": \"prod\", \"root_attribution\": \"automl\", \"attribution\": \"AutoML\", \"Orchestrator\": \"AutoML\", \"CancelUri\": \"https://southcentralus.api.azureml.ms/jasmine/v1.0/subscriptions/f9d5a085-54dc-4215-9ba6-dad5d86e60a0/resourceGroups/aml-quickstarts-143540/providers/Microsoft.MachineLearningServices/workspaces/quick-starts-ws-143540/experimentids/2b28b264-8892-4522-959d-3945113537b5/cancel/AutoML_5af789a9-4d2b-4ffe-9175-43d8c6294b72\", \"ClientSdkVersion\": \"1.26.0\", \"snapshotId\": \"00000000-0000-0000-0000-000000000000\", \"SetupRunId\": \"AutoML_5af789a9-4d2b-4ffe-9175-43d8c6294b72_setup\", \"SetupRunContainerId\": \"dcid.AutoML_5af789a9-4d2b-4ffe-9175-43d8c6294b72_setup\", \"FeaturizationRunJsonPath\": \"featurizer_container.json\", \"FeaturizationRunId\": \"AutoML_5af789a9-4d2b-4ffe-9175-43d8c6294b72_featurize\", \"ProblemInfoJsonString\": \"{\\\"dataset_num_categorical\\\": 0, \\\"is_sparse\\\": true, \\\"subsampling\\\": false, \\\"dataset_classes\\\": 2, \\\"dataset_features\\\": 141, \\\"dataset_samples\\\": 49327, \\\"single_frequency_class_detected\\\": false}\", \"ModelExplainRunId\": \"AutoML_5af789a9-4d2b-4ffe-9175-43d8c6294b72_ModelExplain\"}, \"tags\": {\"model_explain_run\": \"best_run\", \"_aml_system_azureml.automlComponent\": \"AutoML\", \"pipeline_id\": \"\", \"score\": \"\", \"predicted_cost\": \"\", \"fit_time\": \"\", \"training_percent\": \"\", \"iteration\": \"\", \"run_preprocessor\": \"\", \"run_algorithm\": \"\", \"dynamic_whitelisting_iterations\": \"<25>;<30>;\", \"automl_best_child_run_id\": \"AutoML_5af789a9-4d2b-4ffe-9175-43d8c6294b72_34\", \"model_explain_best_run_child_id\": \"AutoML_5af789a9-4d2b-4ffe-9175-43d8c6294b72_34\"}, \"end_time_utc\": \"2021-04-25T13:54:57.932506Z\", \"status\": \"Completed\", \"log_files\": {}, \"log_groups\": [], \"run_duration\": \"0:21:37\", \"run_number\": \"1\", \"run_queued_details\": {\"status\": \"Completed\", \"details\": null}}, \"child_runs\": [{\"run_id\": \"AutoML_5af789a9-4d2b-4ffe-9175-43d8c6294b72_2\", \"run_number\": 5, \"metric\": null, \"status\": \"Completed\", \"run_type\": \"azureml.scriptrun\", \"training_percent\": \"100\", \"start_time\": \"2021-04-25T13:38:06.656849Z\", \"end_time\": \"2021-04-25T13:39:08.59109Z\", \"created_time\": \"2021-04-25T13:37:49.918596Z\", \"created_time_dt\": \"2021-04-25T13:37:49.918596Z\", \"duration\": \"0:01:18\", \"iteration\": \"2\", \"goal\": \"AUC_weighted_max\", \"run_name\": \"MaxAbsScaler, RandomForest\", \"run_properties\": \"copy=True\", \"primary_metric\": 0.83203198, \"best_metric\": 0.90492424}, {\"run_id\": \"AutoML_5af789a9-4d2b-4ffe-9175-43d8c6294b72_0\", \"run_number\": 6, \"metric\": null, \"status\": \"Completed\", \"run_type\": \"azureml.scriptrun\", \"training_percent\": \"100\", \"start_time\": \"2021-04-25T13:40:28.260118Z\", \"end_time\": \"2021-04-25T13:41:11.09776Z\", \"created_time\": \"2021-04-25T13:37:49.925901Z\", \"created_time_dt\": \"2021-04-25T13:37:49.925901Z\", \"duration\": \"0:03:21\", \"iteration\": \"0\", \"goal\": \"AUC_weighted_max\", \"run_name\": \"MaxAbsScaler, LightGBM\", \"run_properties\": \"copy=True\", \"primary_metric\": 0.90492424, \"best_metric\": 0.90492424}, {\"run_id\": \"AutoML_5af789a9-4d2b-4ffe-9175-43d8c6294b72_1\", \"run_number\": 7, \"metric\": null, \"status\": \"Completed\", \"run_type\": \"azureml.scriptrun\", \"training_percent\": \"100\", \"start_time\": \"2021-04-25T13:39:22.174643Z\", \"end_time\": \"2021-04-25T13:40:11.023471Z\", \"created_time\": \"2021-04-25T13:37:49.96018Z\", \"created_time_dt\": \"2021-04-25T13:37:49.96018Z\", \"duration\": \"0:02:21\", \"iteration\": \"1\", \"goal\": \"AUC_weighted_max\", \"run_name\": \"MaxAbsScaler, XGBoostClassifier\", \"run_properties\": \"copy=True\", \"primary_metric\": 0.89721264, \"best_metric\": 0.90492424}, {\"run_id\": \"AutoML_5af789a9-4d2b-4ffe-9175-43d8c6294b72_3\", \"run_number\": 8, \"metric\": null, \"status\": \"Completed\", \"run_type\": \"azureml.scriptrun\", \"training_percent\": \"100\", \"start_time\": \"2021-04-25T13:41:04.731772Z\", \"end_time\": \"2021-04-25T13:42:51.651582Z\", \"created_time\": \"2021-04-25T13:39:12.065883Z\", \"created_time_dt\": \"2021-04-25T13:39:12.065883Z\", \"duration\": \"0:03:39\", \"iteration\": \"3\", \"goal\": \"AUC_weighted_max\", \"run_name\": \"MaxAbsScaler, RandomForest\", \"run_properties\": \"copy=True\", \"primary_metric\": 0.79674534, \"best_metric\": 0.90492424}, {\"run_id\": \"AutoML_5af789a9-4d2b-4ffe-9175-43d8c6294b72_4\", \"run_number\": 9, \"metric\": null, \"status\": \"Completed\", \"run_type\": \"azureml.scriptrun\", \"training_percent\": \"100\", \"start_time\": \"2021-04-25T13:41:02.507478Z\", \"end_time\": \"2021-04-25T13:43:03.369364Z\", \"created_time\": \"2021-04-25T13:40:14.863041Z\", \"created_time_dt\": \"2021-04-25T13:40:14.863041Z\", \"duration\": \"0:02:48\", \"iteration\": \"4\", \"goal\": \"AUC_weighted_max\", \"run_name\": \"MaxAbsScaler, RandomForest\", \"run_properties\": \"copy=True\", \"primary_metric\": 0.76558377, \"best_metric\": 0.90492424}, {\"run_id\": \"AutoML_5af789a9-4d2b-4ffe-9175-43d8c6294b72_5\", \"run_number\": 10, \"metric\": null, \"status\": \"Completed\", \"run_type\": \"azureml.scriptrun\", \"training_percent\": \"100\", \"start_time\": \"2021-04-25T13:41:26.592874Z\", \"end_time\": \"2021-04-25T13:42:11.49875Z\", \"created_time\": \"2021-04-25T13:41:14.618422Z\", \"created_time_dt\": \"2021-04-25T13:41:14.618422Z\", \"duration\": \"0:00:56\", \"iteration\": \"5\", \"goal\": \"AUC_weighted_max\", \"run_name\": \"MaxAbsScaler, ExtremeRandomTrees\", \"run_properties\": \"copy=True\", \"primary_metric\": 0.79317803, \"best_metric\": 0.90492424}, {\"run_id\": \"AutoML_5af789a9-4d2b-4ffe-9175-43d8c6294b72_6\", \"run_number\": 11, \"metric\": null, \"status\": \"Completed\", \"run_type\": \"azureml.scriptrun\", \"training_percent\": \"100\", \"start_time\": \"2021-04-25T13:42:28.483122Z\", \"end_time\": \"2021-04-25T13:43:15.657588Z\", \"created_time\": \"2021-04-25T13:42:14.853133Z\", \"created_time_dt\": \"2021-04-25T13:42:14.853133Z\", \"duration\": \"0:01:00\", \"iteration\": \"6\", \"goal\": \"AUC_weighted_max\", \"run_name\": \"MaxAbsScaler, ExtremeRandomTrees\", \"run_properties\": \"copy=True\", \"primary_metric\": 0.80586905, \"best_metric\": 0.90492424}, {\"run_id\": \"AutoML_5af789a9-4d2b-4ffe-9175-43d8c6294b72_7\", \"run_number\": 12, \"metric\": null, \"status\": \"Completed\", \"run_type\": \"azureml.scriptrun\", \"training_percent\": \"100\", \"start_time\": \"2021-04-25T13:43:06.802975Z\", \"end_time\": \"2021-04-25T13:43:47.218157Z\", \"created_time\": \"2021-04-25T13:42:55.55745Z\", \"created_time_dt\": \"2021-04-25T13:42:55.55745Z\", \"duration\": \"0:00:51\", \"iteration\": \"7\", \"goal\": \"AUC_weighted_max\", \"run_name\": \"MaxAbsScaler, ExtremeRandomTrees\", \"run_properties\": \"copy=True\", \"primary_metric\": 0.81653148, \"best_metric\": 0.90492424}, {\"run_id\": \"AutoML_5af789a9-4d2b-4ffe-9175-43d8c6294b72_8\", \"run_number\": 13, \"metric\": null, \"status\": \"Completed\", \"run_type\": \"azureml.scriptrun\", \"training_percent\": \"100\", \"start_time\": \"2021-04-25T13:43:18.437724Z\", \"end_time\": \"2021-04-25T13:44:09.207069Z\", \"created_time\": \"2021-04-25T13:43:07.498255Z\", \"created_time_dt\": \"2021-04-25T13:43:07.498255Z\", \"duration\": \"0:01:01\", \"iteration\": \"8\", \"goal\": \"AUC_weighted_max\", \"run_name\": \"MaxAbsScaler, RandomForest\", \"run_properties\": \"copy=True\", \"primary_metric\": 0.80286547, \"best_metric\": 0.90492424}, {\"run_id\": \"AutoML_5af789a9-4d2b-4ffe-9175-43d8c6294b72_9\", \"run_number\": 14, \"metric\": null, \"status\": \"Completed\", \"run_type\": \"azureml.scriptrun\", \"training_percent\": \"100\", \"start_time\": \"2021-04-25T13:43:34.121816Z\", \"end_time\": \"2021-04-25T13:44:20.75289Z\", \"created_time\": \"2021-04-25T13:43:18.533431Z\", \"created_time_dt\": \"2021-04-25T13:43:18.533431Z\", \"duration\": \"0:01:02\", \"iteration\": \"9\", \"goal\": \"AUC_weighted_max\", \"run_name\": \"MaxAbsScaler, ExtremeRandomTrees\", \"run_properties\": \"copy=True\", \"primary_metric\": 0.78862419, \"best_metric\": 0.90492424}, {\"run_id\": \"AutoML_5af789a9-4d2b-4ffe-9175-43d8c6294b72_10\", \"run_number\": 15, \"metric\": null, \"status\": \"Completed\", \"run_type\": \"azureml.scriptrun\", \"training_percent\": \"100\", \"start_time\": \"2021-04-25T13:44:03.338454Z\", \"end_time\": \"2021-04-25T13:44:47.457664Z\", \"created_time\": \"2021-04-25T13:43:50.458462Z\", \"created_time_dt\": \"2021-04-25T13:43:50.458462Z\", \"duration\": \"0:00:56\", \"iteration\": \"10\", \"goal\": \"AUC_weighted_max\", \"run_name\": \"MaxAbsScaler, RandomForest\", \"run_properties\": \"copy=True\", \"primary_metric\": 0.80354451, \"best_metric\": 0.90492424}, {\"run_id\": \"AutoML_5af789a9-4d2b-4ffe-9175-43d8c6294b72_11\", \"run_number\": 16, \"metric\": null, \"status\": \"Completed\", \"run_type\": \"azureml.scriptrun\", \"training_percent\": \"100\", \"start_time\": \"2021-04-25T13:44:23.617632Z\", \"end_time\": \"2021-04-25T13:45:12.625581Z\", \"created_time\": \"2021-04-25T13:44:12.114448Z\", \"created_time_dt\": \"2021-04-25T13:44:12.114448Z\", \"duration\": \"0:01:00\", \"iteration\": \"11\", \"goal\": \"AUC_weighted_max\", \"run_name\": \"MaxAbsScaler, RandomForest\", \"run_properties\": \"copy=True\", \"primary_metric\": 0.76693182, \"best_metric\": 0.90492424}, {\"run_id\": \"AutoML_5af789a9-4d2b-4ffe-9175-43d8c6294b72_12\", \"run_number\": 17, \"metric\": null, \"status\": \"Completed\", \"run_type\": \"azureml.scriptrun\", \"training_percent\": \"100\", \"start_time\": \"2021-04-25T13:44:35.452141Z\", \"end_time\": \"2021-04-25T13:45:24.507048Z\", \"created_time\": \"2021-04-25T13:44:23.696755Z\", \"created_time_dt\": \"2021-04-25T13:44:23.696755Z\", \"duration\": \"0:01:00\", \"iteration\": \"12\", \"goal\": \"AUC_weighted_max\", \"run_name\": \"MaxAbsScaler, RandomForest\", \"run_properties\": \"copy=True\", \"primary_metric\": 0.77073957, \"best_metric\": 0.90492424}, {\"run_id\": \"AutoML_5af789a9-4d2b-4ffe-9175-43d8c6294b72_13\", \"run_number\": 18, \"metric\": null, \"status\": \"Completed\", \"run_type\": \"azureml.scriptrun\", \"training_percent\": \"100\", \"start_time\": \"2021-04-25T13:45:02.919971Z\", \"end_time\": \"2021-04-25T13:45:42.264949Z\", \"created_time\": \"2021-04-25T13:44:51.093319Z\", \"created_time_dt\": \"2021-04-25T13:44:51.093319Z\", \"duration\": \"0:00:51\", \"iteration\": \"13\", \"goal\": \"AUC_weighted_max\", \"run_name\": \"StandardScalerWrapper, XGBoostClassifier\", \"run_properties\": \"<azureml.automl.runtime.shared.model_wrappers.StandardScalerWrapper object at 0x7f28a2763a90\", \"primary_metric\": 0.86686891, \"best_metric\": 0.90492424}, {\"run_id\": \"AutoML_5af789a9-4d2b-4ffe-9175-43d8c6294b72_14\", \"run_number\": 19, \"metric\": null, \"status\": \"Completed\", \"run_type\": \"azureml.scriptrun\", \"training_percent\": \"100\", \"start_time\": \"2021-04-25T13:45:26.896209Z\", \"end_time\": \"2021-04-25T13:46:14.633081Z\", \"created_time\": \"2021-04-25T13:45:16.759459Z\", \"created_time_dt\": \"2021-04-25T13:45:16.759459Z\", \"duration\": \"0:00:57\", \"iteration\": \"14\", \"goal\": \"AUC_weighted_max\", \"run_name\": \"MaxAbsScaler, RandomForest\", \"run_properties\": \"copy=True\", \"primary_metric\": 0.80447253, \"best_metric\": 0.90492424}, {\"run_id\": \"AutoML_5af789a9-4d2b-4ffe-9175-43d8c6294b72_15\", \"run_number\": 20, \"metric\": null, \"status\": \"Completed\", \"run_type\": \"azureml.scriptrun\", \"training_percent\": \"100\", \"start_time\": \"2021-04-25T13:45:41.150927Z\", \"end_time\": \"2021-04-25T13:46:27.184786Z\", \"created_time\": \"2021-04-25T13:45:28.184953Z\", \"created_time_dt\": \"2021-04-25T13:45:28.184953Z\", \"duration\": \"0:00:58\", \"iteration\": \"15\", \"goal\": \"AUC_weighted_max\", \"run_name\": \"StandardScalerWrapper, ExtremeRandomTrees\", \"run_properties\": \"<azureml.automl.runtime.shared.model_wrappers.StandardScalerWrapper object at 0x7fe33cc2d048\", \"primary_metric\": 0.78073151, \"best_metric\": 0.90492424}, {\"run_id\": \"AutoML_5af789a9-4d2b-4ffe-9175-43d8c6294b72_16\", \"run_number\": 21, \"metric\": null, \"status\": \"Completed\", \"run_type\": \"azureml.scriptrun\", \"training_percent\": \"100\", \"start_time\": \"2021-04-25T13:46:01.197511Z\", \"end_time\": \"2021-04-25T13:46:48.40344Z\", \"created_time\": \"2021-04-25T13:45:45.240634Z\", \"created_time_dt\": \"2021-04-25T13:45:45.240634Z\", \"duration\": \"0:01:03\", \"iteration\": \"16\", \"goal\": \"AUC_weighted_max\", \"run_name\": \"MaxAbsScaler, ExtremeRandomTrees\", \"run_properties\": \"copy=True\", \"primary_metric\": 0.81552317, \"best_metric\": 0.90492424}, {\"run_id\": \"AutoML_5af789a9-4d2b-4ffe-9175-43d8c6294b72_17\", \"run_number\": 22, \"metric\": null, \"status\": \"Completed\", \"run_type\": \"azureml.scriptrun\", \"training_percent\": \"100\", \"start_time\": \"2021-04-25T13:46:28.041243Z\", \"end_time\": \"2021-04-25T13:47:13.06242Z\", \"created_time\": \"2021-04-25T13:46:17.921153Z\", \"created_time_dt\": \"2021-04-25T13:46:17.921153Z\", \"duration\": \"0:00:55\", \"iteration\": \"17\", \"goal\": \"AUC_weighted_max\", \"run_name\": \"MaxAbsScaler, ExtremeRandomTrees\", \"run_properties\": \"copy=True\", \"primary_metric\": 0.79680513, \"best_metric\": 0.90492424}, {\"run_id\": \"AutoML_5af789a9-4d2b-4ffe-9175-43d8c6294b72_18\", \"run_number\": 23, \"metric\": null, \"status\": \"Completed\", \"run_type\": \"azureml.scriptrun\", \"training_percent\": \"100\", \"start_time\": \"2021-04-25T13:46:41.314875Z\", \"end_time\": \"2021-04-25T13:47:29.66517Z\", \"created_time\": \"2021-04-25T13:46:30.554578Z\", \"created_time_dt\": \"2021-04-25T13:46:30.554578Z\", \"duration\": \"0:00:59\", \"iteration\": \"18\", \"goal\": \"AUC_weighted_max\", \"run_name\": \"MaxAbsScaler, RandomForest\", \"run_properties\": \"copy=True\", \"primary_metric\": 0.77086599, \"best_metric\": 0.90492424}, {\"run_id\": \"AutoML_5af789a9-4d2b-4ffe-9175-43d8c6294b72_19\", \"run_number\": 24, \"metric\": null, \"status\": \"Completed\", \"run_type\": \"azureml.scriptrun\", \"training_percent\": \"100\", \"start_time\": \"2021-04-25T13:47:03.018829Z\", \"end_time\": \"2021-04-25T13:47:45.20857Z\", \"created_time\": \"2021-04-25T13:46:52.056602Z\", \"created_time_dt\": \"2021-04-25T13:46:52.056602Z\", \"duration\": \"0:00:53\", \"iteration\": \"19\", \"goal\": \"AUC_weighted_max\", \"run_name\": \"MaxAbsScaler, LightGBM\", \"run_properties\": \"copy=True\", \"primary_metric\": 0.84085802, \"best_metric\": 0.90492424}, {\"run_id\": \"AutoML_5af789a9-4d2b-4ffe-9175-43d8c6294b72_20\", \"run_number\": 25, \"metric\": null, \"status\": \"Completed\", \"run_type\": \"azureml.scriptrun\", \"training_percent\": \"100\", \"start_time\": \"2021-04-25T13:47:27.766118Z\", \"end_time\": \"2021-04-25T13:48:16.926363Z\", \"created_time\": \"2021-04-25T13:47:16.217961Z\", \"created_time_dt\": \"2021-04-25T13:47:16.217961Z\", \"duration\": \"0:01:00\", \"iteration\": \"20\", \"goal\": \"AUC_weighted_max\", \"run_name\": \"MaxAbsScaler, LightGBM\", \"run_properties\": \"copy=True\", \"primary_metric\": 0.87125663, \"best_metric\": 0.90492424}, {\"run_id\": \"AutoML_5af789a9-4d2b-4ffe-9175-43d8c6294b72_21\", \"run_number\": 26, \"metric\": null, \"status\": \"Completed\", \"run_type\": \"azureml.scriptrun\", \"training_percent\": \"100\", \"start_time\": \"2021-04-25T13:47:44.605676Z\", \"end_time\": \"2021-04-25T13:48:42.705754Z\", \"created_time\": \"2021-04-25T13:47:32.058411Z\", \"created_time_dt\": \"2021-04-25T13:47:32.058411Z\", \"duration\": \"0:01:10\", \"iteration\": \"21\", \"goal\": \"AUC_weighted_max\", \"run_name\": \"StandardScalerWrapper, XGBoostClassifier\", \"run_properties\": \"<azureml.automl.runtime.shared.model_wrappers.StandardScalerWrapper object at 0x7fde92ce49b0\", \"primary_metric\": 0.89883401, \"best_metric\": 0.90492424}, {\"run_id\": \"AutoML_5af789a9-4d2b-4ffe-9175-43d8c6294b72_22\", \"run_number\": 27, \"metric\": null, \"status\": \"Completed\", \"run_type\": \"azureml.scriptrun\", \"training_percent\": \"100\", \"start_time\": \"2021-04-25T13:48:00.44924Z\", \"end_time\": \"2021-04-25T13:48:51.634447Z\", \"created_time\": \"2021-04-25T13:47:47.647339Z\", \"created_time_dt\": \"2021-04-25T13:47:47.647339Z\", \"duration\": \"0:01:03\", \"iteration\": \"22\", \"goal\": \"AUC_weighted_max\", \"run_name\": \"StandardScalerWrapper, XGBoostClassifier\", \"run_properties\": \"<azureml.automl.runtime.shared.model_wrappers.StandardScalerWrapper object at 0x7f804f8b1c50\", \"primary_metric\": 0.89775972, \"best_metric\": 0.90492424}, {\"run_id\": \"AutoML_5af789a9-4d2b-4ffe-9175-43d8c6294b72_23\", \"run_number\": 28, \"metric\": null, \"status\": \"Completed\", \"run_type\": \"azureml.scriptrun\", \"training_percent\": \"100\", \"start_time\": \"2021-04-25T13:48:31.615097Z\", \"end_time\": \"2021-04-25T13:49:23.38267Z\", \"created_time\": \"2021-04-25T13:48:20.1381Z\", \"created_time_dt\": \"2021-04-25T13:48:20.1381Z\", \"duration\": \"0:01:03\", \"iteration\": \"23\", \"goal\": \"AUC_weighted_max\", \"run_name\": \"StandardScalerWrapper, LogisticRegression\", \"run_properties\": \"<azureml.automl.runtime.shared.model_wrappers.StandardScalerWrapper object at 0x7fac142c79b0\", \"primary_metric\": 0.87804981, \"best_metric\": 0.90492424}, {\"run_id\": \"AutoML_5af789a9-4d2b-4ffe-9175-43d8c6294b72_24\", \"run_number\": 29, \"metric\": null, \"status\": \"Completed\", \"run_type\": \"azureml.scriptrun\", \"training_percent\": \"100\", \"start_time\": \"2021-04-25T13:48:58.29177Z\", \"end_time\": \"2021-04-25T13:49:59.925192Z\", \"created_time\": \"2021-04-25T13:48:45.325166Z\", \"created_time_dt\": \"2021-04-25T13:48:45.325166Z\", \"duration\": \"0:01:14\", \"iteration\": \"24\", \"goal\": \"AUC_weighted_max\", \"run_name\": \"StandardScalerWrapper, LogisticRegression\", \"run_properties\": \"<azureml.automl.runtime.shared.model_wrappers.StandardScalerWrapper object at 0x7eff802ff518\", \"primary_metric\": 0.87828598, \"best_metric\": 0.90492424}, {\"run_id\": \"AutoML_5af789a9-4d2b-4ffe-9175-43d8c6294b72_25\", \"run_number\": 30, \"metric\": null, \"status\": \"Completed\", \"run_type\": \"azureml.scriptrun\", \"training_percent\": \"100\", \"start_time\": \"2021-04-25T13:49:04.82586Z\", \"end_time\": \"2021-04-25T13:49:57.699665Z\", \"created_time\": \"2021-04-25T13:48:55.780313Z\", \"created_time_dt\": \"2021-04-25T13:48:55.780313Z\", \"duration\": \"0:01:01\", \"iteration\": \"25\", \"goal\": \"AUC_weighted_max\", \"run_name\": \"TruncatedSVDWrapper, LightGBM\", \"run_properties\": \"n_components=0.7026315789473684, random_state=None\", \"primary_metric\": 0.88355431, \"best_metric\": 0.90492424}, {\"run_id\": \"AutoML_5af789a9-4d2b-4ffe-9175-43d8c6294b72_26\", \"run_number\": 31, \"metric\": null, \"status\": \"Completed\", \"run_type\": \"azureml.scriptrun\", \"training_percent\": \"100\", \"start_time\": \"2021-04-25T13:49:37.098927Z\", \"end_time\": \"2021-04-25T13:50:19.299524Z\", \"created_time\": \"2021-04-25T13:49:26.288621Z\", \"created_time_dt\": \"2021-04-25T13:49:26.288621Z\", \"duration\": \"0:00:53\", \"iteration\": \"26\", \"goal\": \"AUC_weighted_max\", \"run_name\": \"MaxAbsScaler, LightGBM\", \"run_properties\": \"copy=True\", \"primary_metric\": 0.78702118, \"best_metric\": 0.90492424}, {\"run_id\": \"AutoML_5af789a9-4d2b-4ffe-9175-43d8c6294b72_27\", \"run_number\": 32, \"metric\": null, \"status\": \"Completed\", \"run_type\": \"azureml.scriptrun\", \"training_percent\": \"100\", \"start_time\": \"2021-04-25T13:50:10.826181Z\", \"end_time\": \"2021-04-25T13:51:04.677121Z\", \"created_time\": \"2021-04-25T13:50:00.227967Z\", \"created_time_dt\": \"2021-04-25T13:50:00.227967Z\", \"duration\": \"0:01:04\", \"iteration\": \"27\", \"goal\": \"AUC_weighted_max\", \"run_name\": \"StandardScalerWrapper, XGBoostClassifier\", \"run_properties\": \"<azureml.automl.runtime.shared.model_wrappers.StandardScalerWrapper object at 0x7f5987da9c50\", \"primary_metric\": 0.8985656, \"best_metric\": 0.90492424}, {\"run_id\": \"AutoML_5af789a9-4d2b-4ffe-9175-43d8c6294b72_28\", \"run_number\": 33, \"metric\": null, \"status\": \"Completed\", \"run_type\": \"azureml.scriptrun\", \"training_percent\": \"100\", \"start_time\": \"2021-04-25T13:50:15.131785Z\", \"end_time\": \"2021-04-25T13:51:21.280625Z\", \"created_time\": \"2021-04-25T13:50:04.545127Z\", \"created_time_dt\": \"2021-04-25T13:50:04.545127Z\", \"duration\": \"0:01:16\", \"iteration\": \"28\", \"goal\": \"AUC_weighted_max\", \"run_name\": \"StandardScalerWrapper, XGBoostClassifier\", \"run_properties\": \"<azureml.automl.runtime.shared.model_wrappers.StandardScalerWrapper object at 0x7f31d2b1d0f0\", \"primary_metric\": 0.89927347, \"best_metric\": 0.90492424}, {\"run_id\": \"AutoML_5af789a9-4d2b-4ffe-9175-43d8c6294b72_29\", \"run_number\": 34, \"metric\": null, \"status\": \"Completed\", \"run_type\": \"azureml.scriptrun\", \"training_percent\": \"100\", \"start_time\": \"2021-04-25T13:50:32.097088Z\", \"end_time\": \"2021-04-25T13:51:27.642827Z\", \"created_time\": \"2021-04-25T13:50:22.258331Z\", \"created_time_dt\": \"2021-04-25T13:50:22.258331Z\", \"duration\": \"0:01:05\", \"iteration\": \"29\", \"goal\": \"AUC_weighted_max\", \"run_name\": \"StandardScalerWrapper, XGBoostClassifier\", \"run_properties\": \"<azureml.automl.runtime.shared.model_wrappers.StandardScalerWrapper object at 0x7f238c7d6ef0\", \"primary_metric\": 0.90207974, \"best_metric\": 0.90492424}, {\"run_id\": \"AutoML_5af789a9-4d2b-4ffe-9175-43d8c6294b72_30\", \"run_number\": 35, \"metric\": null, \"status\": \"Completed\", \"run_type\": \"azureml.scriptrun\", \"training_percent\": \"100\", \"start_time\": \"2021-04-25T13:51:18.947046Z\", \"end_time\": \"2021-04-25T13:52:08.412462Z\", \"created_time\": \"2021-04-25T13:51:08.045202Z\", \"created_time_dt\": \"2021-04-25T13:51:08.045202Z\", \"duration\": \"0:01:00\", \"iteration\": \"30\", \"goal\": \"AUC_weighted_max\", \"run_name\": \"StandardScalerWrapper, LightGBM\", \"run_properties\": \"<azureml.automl.runtime.shared.model_wrappers.StandardScalerWrapper object at 0x7feddfe8f9e8\", \"primary_metric\": 0.86568956, \"best_metric\": 0.90492424}, {\"run_id\": \"AutoML_5af789a9-4d2b-4ffe-9175-43d8c6294b72_31\", \"run_number\": 36, \"metric\": null, \"status\": \"Completed\", \"run_type\": \"azureml.scriptrun\", \"training_percent\": \"100\", \"start_time\": \"2021-04-25T13:51:36.774983Z\", \"end_time\": \"2021-04-25T13:52:28.537491Z\", \"created_time\": \"2021-04-25T13:51:23.566801Z\", \"created_time_dt\": \"2021-04-25T13:51:23.566801Z\", \"duration\": \"0:01:04\", \"iteration\": \"31\", \"goal\": \"AUC_weighted_max\", \"run_name\": \"StandardScalerWrapper, XGBoostClassifier\", \"run_properties\": \"<azureml.automl.runtime.shared.model_wrappers.StandardScalerWrapper object at 0x7f051dee2cf8\", \"primary_metric\": 0.89973257, \"best_metric\": 0.90492424}, {\"run_id\": \"AutoML_5af789a9-4d2b-4ffe-9175-43d8c6294b72_32\", \"run_number\": 37, \"metric\": null, \"status\": \"Canceled\", \"run_type\": \"azureml.scriptrun\", \"training_percent\": \"100\", \"start_time\": \"2021-04-25T13:51:41.514121Z\", \"end_time\": \"2021-04-25T13:52:36.638332Z\", \"created_time\": \"2021-04-25T13:51:30.09933Z\", \"created_time_dt\": \"2021-04-25T13:51:30.09933Z\", \"duration\": \"0:01:06\", \"iteration\": \"32\", \"goal\": \"AUC_weighted_max\", \"run_name\": \"StandardScalerWrapper, XGBoostClassifier\", \"run_properties\": \"<azureml.automl.runtime.shared.model_wrappers.StandardScalerWrapper object at 0x7fc027a6f9e8\", \"primary_metric\": 0.88945129, \"best_metric\": 0.90492424}, {\"run_id\": \"AutoML_5af789a9-4d2b-4ffe-9175-43d8c6294b72_33\", \"run_number\": 38, \"metric\": null, \"status\": \"Canceled\", \"run_type\": \"azureml.scriptrun\", \"training_percent\": \"100\", \"start_time\": \"2021-04-25T13:52:24.068515Z\", \"end_time\": \"2021-04-25T13:52:37.468793Z\", \"created_time\": \"2021-04-25T13:52:10.688315Z\", \"created_time_dt\": \"2021-04-25T13:52:10.688315Z\", \"duration\": \"0:00:26\", \"iteration\": \"33\", \"goal\": null, \"run_name\": \"Canceled\", \"run_properties\": null}, {\"run_id\": \"AutoML_5af789a9-4d2b-4ffe-9175-43d8c6294b72_34\", \"run_number\": 39, \"metric\": null, \"status\": \"Completed\", \"run_type\": \"azureml.scriptrun\", \"training_percent\": \"100\", \"start_time\": \"2021-04-25T13:52:50.784551Z\", \"end_time\": \"2021-04-25T13:53:51.454297Z\", \"created_time\": \"2021-04-25T13:52:38.650211Z\", \"created_time_dt\": \"2021-04-25T13:52:38.650211Z\", \"duration\": \"0:01:12\", \"iteration\": \"34\", \"goal\": \"AUC_weighted_max\", \"run_name\": \"VotingEnsemble\", \"run_properties\": \"classification_labels=None,\\n                              estimators=[('0',\\n                                           Pipeline(memory=None,\\n                                                    steps=[('maxabsscaler',\\n                                                            MaxAbsScaler(copy=True\", \"primary_metric\": 0.90546982, \"best_metric\": 0.90546982}, {\"run_id\": \"AutoML_5af789a9-4d2b-4ffe-9175-43d8c6294b72_35\", \"run_number\": 40, \"metric\": null, \"status\": \"Completed\", \"run_type\": \"azureml.scriptrun\", \"training_percent\": \"100\", \"start_time\": \"2021-04-25T13:52:49.8253Z\", \"end_time\": \"2021-04-25T13:54:55.058608Z\", \"created_time\": \"2021-04-25T13:52:38.796038Z\", \"created_time_dt\": \"2021-04-25T13:52:38.796038Z\", \"duration\": \"0:02:16\", \"iteration\": \"35\", \"goal\": \"AUC_weighted_max\", \"run_name\": \"StackEnsemble\", \"run_properties\": \"base_learners=[('0',\\n                                        Pipeline(memory=None,\\n                                                 steps=[('maxabsscaler',\\n                                                         MaxAbsScaler(copy=True\", \"primary_metric\": 0.90402334, \"best_metric\": 0.90546982}], \"children_metrics\": {\"categories\": [0], \"series\": {\"average_precision_score_micro\": [{\"categories\": [\"0\", \"1\", \"2\", \"3\", \"4\", \"5\", \"6\", \"7\", \"8\", \"9\", \"10\", \"11\", \"12\", \"13\", \"14\", \"15\", \"16\", \"17\", \"18\", \"19\", \"20\", \"21\", \"22\", \"23\", \"24\", \"25\", \"26\", \"27\", \"28\", \"29\", \"30\", \"31\", \"32\", \"34\", \"35\"], \"mode\": \"markers\", \"name\": \"average_precision_score_micro\", \"stepped\": false, \"type\": \"scatter\", \"data\": [0.9820579327658705, 0.9796490797056334, 0.9671560496081285, 0.7903311491108533, 0.9546484888288024, 0.960339067957703, 0.9631681910522472, 0.9647237052301706, 0.961250879042648, 0.7929345074708845, 0.7963324213969145, 0.7691155338369198, 0.7566196070236775, 0.9724028197457868, 0.9620336475134211, 0.958918783488578, 0.81133957074531, 0.7791105168492394, 0.7716944473811347, 0.9693238976392824, 0.9743630070716046, 0.981165758058774, 0.9805909202373078, 0.9757079116122577, 0.8738517456650532, 0.9770730134266336, 0.959170769733775, 0.9799172131302702, 0.9811587133517049, 0.9811254153459676, 0.9733522084644053, 0.9810292828541652, 0.9781314180561341, 0.9805269239437198, 0.9786091828019392]}, {\"categories\": [\"0\", \"1\", \"2\", \"3\", \"4\", \"5\", \"6\", \"7\", \"8\", \"9\", \"10\", \"11\", \"12\", \"13\", \"14\", \"15\", \"16\", \"17\", \"18\", \"19\", \"20\", \"21\", \"22\", \"23\", \"24\", \"25\", \"26\", \"27\", \"28\", \"29\", \"30\", \"31\", \"32\", \"34\", \"35\"], \"mode\": \"lines\", \"name\": \"average_precision_score_micro_max\", \"stepped\": true, \"type\": \"scatter\", \"data\": [0.9820579327658705, 0.9820579327658705, 0.9820579327658705, 0.9820579327658705, 0.9820579327658705, 0.9820579327658705, 0.9820579327658705, 0.9820579327658705, 0.9820579327658705, 0.9820579327658705, 0.9820579327658705, 0.9820579327658705, 0.9820579327658705, 0.9820579327658705, 0.9820579327658705, 0.9820579327658705, 0.9820579327658705, 0.9820579327658705, 0.9820579327658705, 0.9820579327658705, 0.9820579327658705, 0.9820579327658705, 0.9820579327658705, 0.9820579327658705, 0.9820579327658705, 0.9820579327658705, 0.9820579327658705, 0.9820579327658705, 0.9820579327658705, 0.9820579327658705, 0.9820579327658705, 0.9820579327658705, 0.9820579327658705, 0.9820579327658705, 0.9820579327658705]}], \"norm_macro_recall\": [{\"categories\": [\"0\", \"1\", \"2\", \"3\", \"4\", \"5\", \"6\", \"7\", \"8\", \"9\", \"10\", \"11\", \"12\", \"13\", \"14\", \"15\", \"16\", \"17\", \"18\", \"19\", \"20\", \"21\", \"22\", \"23\", \"24\", \"25\", \"26\", \"27\", \"28\", \"29\", \"30\", \"31\", \"32\", \"34\", \"35\"], \"mode\": \"markers\", \"name\": \"norm_macro_recall\", \"stepped\": false, \"type\": \"scatter\", \"data\": [0.3305096906392295, 0.2752340555651882, 0.0, 0.4780968747891343, 0.0, 0.0, 0.0, 0.0, 0.0, 0.44528425334118005, 0.4813823222172777, 0.44621825483934074, 0.40230993475228694, 0.11737413614470493, 0.0, 0.0, 0.4959095261319697, 0.46909082833590565, 0.431544138937741, 0.11712216500436878, 0.18215975995264655, 0.34490065931024816, 0.33110801533009493, 0.20919925279880136, 0.5837376971887709, 0.2385795148317047, 0.0, 0.27115084188255745, 0.3444492466062905, 0.3266259185202205, 0.2253851955424171, 0.33479234588548223, 0.2283242894200308, 0.32876724614334685, 0.0]}, {\"categories\": [\"0\", \"1\", \"2\", \"3\", \"4\", \"5\", \"6\", \"7\", \"8\", \"9\", \"10\", \"11\", \"12\", \"13\", \"14\", \"15\", \"16\", \"17\", \"18\", \"19\", \"20\", \"21\", \"22\", \"23\", \"24\", \"25\", \"26\", \"27\", \"28\", \"29\", \"30\", \"31\", \"32\", \"34\", \"35\"], \"mode\": \"lines\", \"name\": \"norm_macro_recall_max\", \"stepped\": true, \"type\": \"scatter\", \"data\": [0.3305096906392295, 0.3305096906392295, 0.3305096906392295, 0.4780968747891343, 0.4780968747891343, 0.4780968747891343, 0.4780968747891343, 0.4780968747891343, 0.4780968747891343, 0.4780968747891343, 0.4813823222172777, 0.4813823222172777, 0.4813823222172777, 0.4813823222172777, 0.4813823222172777, 0.4813823222172777, 0.4959095261319697, 0.4959095261319697, 0.4959095261319697, 0.4959095261319697, 0.4959095261319697, 0.4959095261319697, 0.4959095261319697, 0.4959095261319697, 0.5837376971887709, 0.5837376971887709, 0.5837376971887709, 0.5837376971887709, 0.5837376971887709, 0.5837376971887709, 0.5837376971887709, 0.5837376971887709, 0.5837376971887709, 0.5837376971887709, 0.5837376971887709]}], \"AUC_micro\": [{\"categories\": [\"0\", \"1\", \"2\", \"3\", \"4\", \"5\", \"6\", \"7\", \"8\", \"9\", \"10\", \"11\", \"12\", \"13\", \"14\", \"15\", \"16\", \"17\", \"18\", \"19\", \"20\", \"21\", \"22\", \"23\", \"24\", \"25\", \"26\", \"27\", \"28\", \"29\", \"30\", \"31\", \"32\", \"34\", \"35\"], \"mode\": \"markers\", \"name\": \"AUC_micro\", \"stepped\": false, \"type\": \"scatter\", \"data\": [0.9814193504748338, 0.9789913646056183, 0.9665562422421541, 0.7826927681472221, 0.9561977901067799, 0.9604993928204517, 0.9624777652383991, 0.9641399069769174, 0.9620095441082047, 0.7717021542399493, 0.7896504422685776, 0.7519743862470145, 0.7441025058751499, 0.9723364397505159, 0.9622600653811925, 0.9585591345212356, 0.7850030163413702, 0.7663195752016695, 0.7590452709516057, 0.9683263018609577, 0.9735089232475187, 0.9804962564778607, 0.9799593300716303, 0.9752242916025009, 0.8699842859982275, 0.9763420505482423, 0.959539616064665, 0.9792438498375624, 0.9804977877000979, 0.9804473905160288, 0.972924562239374, 0.9803661691625757, 0.9776864303850948, 0.9798254147007521, 0.977778803030928]}, {\"categories\": [\"0\", \"1\", \"2\", \"3\", \"4\", \"5\", \"6\", \"7\", \"8\", \"9\", \"10\", \"11\", \"12\", \"13\", \"14\", \"15\", \"16\", \"17\", \"18\", \"19\", \"20\", \"21\", \"22\", \"23\", \"24\", \"25\", \"26\", \"27\", \"28\", \"29\", \"30\", \"31\", \"32\", \"34\", \"35\"], \"mode\": \"lines\", \"name\": \"AUC_micro_max\", \"stepped\": true, \"type\": \"scatter\", \"data\": [0.9814193504748338, 0.9814193504748338, 0.9814193504748338, 0.9814193504748338, 0.9814193504748338, 0.9814193504748338, 0.9814193504748338, 0.9814193504748338, 0.9814193504748338, 0.9814193504748338, 0.9814193504748338, 0.9814193504748338, 0.9814193504748338, 0.9814193504748338, 0.9814193504748338, 0.9814193504748338, 0.9814193504748338, 0.9814193504748338, 0.9814193504748338, 0.9814193504748338, 0.9814193504748338, 0.9814193504748338, 0.9814193504748338, 0.9814193504748338, 0.9814193504748338, 0.9814193504748338, 0.9814193504748338, 0.9814193504748338, 0.9814193504748338, 0.9814193504748338, 0.9814193504748338, 0.9814193504748338, 0.9814193504748338, 0.9814193504748338, 0.9814193504748338]}], \"weighted_accuracy\": [{\"categories\": [\"0\", \"1\", \"2\", \"3\", \"4\", \"5\", \"6\", \"7\", \"8\", \"9\", \"10\", \"11\", \"12\", \"13\", \"14\", \"15\", \"16\", \"17\", \"18\", \"19\", \"20\", \"21\", \"22\", \"23\", \"24\", \"25\", \"26\", \"27\", \"28\", \"29\", \"30\", \"31\", \"32\", \"34\", \"35\"], \"mode\": \"markers\", \"name\": \"weighted_accuracy\", \"stepped\": false, \"type\": \"scatter\", \"data\": [0.9928701014283892, 0.9927867361692638, 0.9913996944193979, 0.6677810033288925, 0.9913996944193979, 0.9913996944193979, 0.9913996944193979, 0.9913996944193979, 0.9913996944193979, 0.6710270036005985, 0.6668292039465604, 0.6614304950039012, 0.6326312682423122, 0.9920171257638282, 0.9913996944193979, 0.9913996944193979, 0.6559775237166079, 0.6735838799824201, 0.6742410222142389, 0.9896628261729845, 0.9910062135511135, 0.992405835016051, 0.9934632803440769, 0.9904547172649885, 0.7619908049775449, 0.9901193633559998, 0.9913996944193979, 0.992947630330679, 0.9898538091199779, 0.9932287218950335, 0.9917699875997135, 0.9929069335722033, 0.9925793088925375, 0.9932471379669406, 0.9913996944193979]}, {\"categories\": [\"0\", \"1\", \"2\", \"3\", \"4\", \"5\", \"6\", \"7\", \"8\", \"9\", \"10\", \"11\", \"12\", \"13\", \"14\", \"15\", \"16\", \"17\", \"18\", \"19\", \"20\", \"21\", \"22\", \"23\", \"24\", \"25\", \"26\", \"27\", \"28\", \"29\", \"30\", \"31\", \"32\", \"34\", \"35\"], \"mode\": \"lines\", \"name\": \"weighted_accuracy_max\", \"stepped\": true, \"type\": \"scatter\", \"data\": [0.9928701014283892, 0.9928701014283892, 0.9928701014283892, 0.9928701014283892, 0.9928701014283892, 0.9928701014283892, 0.9928701014283892, 0.9928701014283892, 0.9928701014283892, 0.9928701014283892, 0.9928701014283892, 0.9928701014283892, 0.9928701014283892, 0.9928701014283892, 0.9928701014283892, 0.9928701014283892, 0.9928701014283892, 0.9928701014283892, 0.9928701014283892, 0.9928701014283892, 0.9928701014283892, 0.9928701014283892, 0.9934632803440769, 0.9934632803440769, 0.9934632803440769, 0.9934632803440769, 0.9934632803440769, 0.9934632803440769, 0.9934632803440769, 0.9934632803440769, 0.9934632803440769, 0.9934632803440769, 0.9934632803440769, 0.9934632803440769, 0.9934632803440769]}], \"average_precision_score_weighted\": [{\"categories\": [\"0\", \"1\", \"2\", \"3\", \"4\", \"5\", \"6\", \"7\", \"8\", \"9\", \"10\", \"11\", \"12\", \"13\", \"14\", \"15\", \"16\", \"17\", \"18\", \"19\", \"20\", \"21\", \"22\", \"23\", \"24\", \"25\", \"26\", \"27\", \"28\", \"29\", \"30\", \"31\", \"32\", \"34\", \"35\"], \"mode\": \"markers\", \"name\": \"average_precision_score_weighted\", \"stepped\": false, \"type\": \"scatter\", \"data\": [0.9577516090320707, 0.9546555003373869, 0.9279645251182639, 0.9152655057017894, 0.9084464523827049, 0.9154518547457181, 0.9174170680266034, 0.9211668334667831, 0.9205900466450637, 0.9138065672929022, 0.9172446399745149, 0.9066503802369635, 0.9084907623175174, 0.9425617129918642, 0.9208644434687526, 0.9096694600482004, 0.9213683793183222, 0.9153779481377816, 0.9089908161663766, 0.9321290701753473, 0.9428108178072803, 0.9560129459059624, 0.9554018258736353, 0.9463161118471303, 0.942853780701037, 0.9493002245999949, 0.9135033475712975, 0.9552258704699537, 0.9555353186104673, 0.956832014980158, 0.9441327264930927, 0.9559181740469195, 0.9513070904416036, 0.9578283420192721, 0.9572777060959754]}, {\"categories\": [\"0\", \"1\", \"2\", \"3\", \"4\", \"5\", \"6\", \"7\", \"8\", \"9\", \"10\", \"11\", \"12\", \"13\", \"14\", \"15\", \"16\", \"17\", \"18\", \"19\", \"20\", \"21\", \"22\", \"23\", \"24\", \"25\", \"26\", \"27\", \"28\", \"29\", \"30\", \"31\", \"32\", \"34\", \"35\"], \"mode\": \"lines\", \"name\": \"average_precision_score_weighted_max\", \"stepped\": true, \"type\": \"scatter\", \"data\": [0.9577516090320707, 0.9577516090320707, 0.9577516090320707, 0.9577516090320707, 0.9577516090320707, 0.9577516090320707, 0.9577516090320707, 0.9577516090320707, 0.9577516090320707, 0.9577516090320707, 0.9577516090320707, 0.9577516090320707, 0.9577516090320707, 0.9577516090320707, 0.9577516090320707, 0.9577516090320707, 0.9577516090320707, 0.9577516090320707, 0.9577516090320707, 0.9577516090320707, 0.9577516090320707, 0.9577516090320707, 0.9577516090320707, 0.9577516090320707, 0.9577516090320707, 0.9577516090320707, 0.9577516090320707, 0.9577516090320707, 0.9577516090320707, 0.9577516090320707, 0.9577516090320707, 0.9577516090320707, 0.9577516090320707, 0.9578283420192721, 0.9578283420192721]}], \"precision_score_micro\": [{\"categories\": [\"0\", \"1\", \"2\", \"3\", \"4\", \"5\", \"6\", \"7\", \"8\", \"9\", \"10\", \"11\", \"12\", \"13\", \"14\", \"15\", \"16\", \"17\", \"18\", \"19\", \"20\", \"21\", \"22\", \"23\", \"24\", \"25\", \"26\", \"27\", \"28\", \"29\", \"30\", \"31\", \"32\", \"34\", \"35\"], \"mode\": \"markers\", \"name\": \"precision_score_micro\", \"stepped\": false, \"type\": \"scatter\", \"data\": [0.9417989417989417, 0.9374201787994891, 0.9147965699689837, 0.678890713373472, 0.9147965699689837, 0.9147965699689837, 0.9147965699689837, 0.9147965699689837, 0.9147965699689837, 0.6790731618317826, 0.6783433679985404, 0.6710454296661194, 0.6433132640029192, 0.9244663382594417, 0.9147965699689837, 0.9147965699689837, 0.6703156358328772, 0.6830870279146142, 0.6807151979565773, 0.9224594052180259, 0.9286626528005838, 0.9425287356321839, 0.9423462871738734, 0.9303046889253785, 0.7666484218208356, 0.9323116219667944, 0.9147965699689837, 0.9372377303411786, 0.9403393541324576, 0.9417989417989417, 0.9326765188834154, 0.9421638387155629, 0.933588761174968, 0.9419813902572524, 0.9147965699689837]}, {\"categories\": [\"0\", \"1\", \"2\", \"3\", \"4\", \"5\", \"6\", \"7\", \"8\", \"9\", \"10\", \"11\", \"12\", \"13\", \"14\", \"15\", \"16\", \"17\", \"18\", \"19\", \"20\", \"21\", \"22\", \"23\", \"24\", \"25\", \"26\", \"27\", \"28\", \"29\", \"30\", \"31\", \"32\", \"34\", \"35\"], \"mode\": \"lines\", \"name\": \"precision_score_micro_max\", \"stepped\": true, \"type\": \"scatter\", \"data\": [0.9417989417989417, 0.9417989417989417, 0.9417989417989417, 0.9417989417989417, 0.9417989417989417, 0.9417989417989417, 0.9417989417989417, 0.9417989417989417, 0.9417989417989417, 0.9417989417989417, 0.9417989417989417, 0.9417989417989417, 0.9417989417989417, 0.9417989417989417, 0.9417989417989417, 0.9417989417989417, 0.9417989417989417, 0.9417989417989417, 0.9417989417989417, 0.9417989417989417, 0.9417989417989417, 0.9425287356321839, 0.9425287356321839, 0.9425287356321839, 0.9425287356321839, 0.9425287356321839, 0.9425287356321839, 0.9425287356321839, 0.9425287356321839, 0.9425287356321839, 0.9425287356321839, 0.9425287356321839, 0.9425287356321839, 0.9425287356321839, 0.9425287356321839]}], \"matthews_correlation\": [{\"categories\": [\"0\", \"1\", \"2\", \"3\", \"4\", \"5\", \"6\", \"7\", \"8\", \"9\", \"10\", \"11\", \"12\", \"13\", \"14\", \"15\", \"16\", \"17\", \"18\", \"19\", \"20\", \"21\", \"22\", \"23\", \"24\", \"25\", \"26\", \"27\", \"28\", \"29\", \"30\", \"31\", \"32\", \"34\", \"35\"], \"mode\": \"markers\", \"name\": \"matthews_correlation\", \"stepped\": false, \"type\": \"scatter\", \"data\": [0.5448316147788235, 0.4975597986001833, 0.0, 0.27582690080245564, 0.0, 0.0, 0.0, 0.0, 0.0, 0.25780483561866513, 0.2775329857797006, 0.25696377632338596, 0.22900176267158395, 0.3230172725493873, 0.0, 0.0, 0.28413528123827636, 0.2716444853543466, 0.250511394299402, 0.2912070667580565, 0.38768105626188115, 0.5522987286770695, 0.5507877871949189, 0.4110221804158363, 0.3597922687707152, 0.4377181998999492, 0.0, 0.4956202283438436, 0.5311123374321292, 0.5449974529062531, 0.44091793801512114, 0.548619034351689, 0.4525369938741137, 0.5468939911494872, 0.0]}, {\"categories\": [\"0\", \"1\", \"2\", \"3\", \"4\", \"5\", \"6\", \"7\", \"8\", \"9\", \"10\", \"11\", \"12\", \"13\", \"14\", \"15\", \"16\", \"17\", \"18\", \"19\", \"20\", \"21\", \"22\", \"23\", \"24\", \"25\", \"26\", \"27\", \"28\", \"29\", \"30\", \"31\", \"32\", \"34\", \"35\"], \"mode\": \"lines\", \"name\": \"matthews_correlation_max\", \"stepped\": true, \"type\": \"scatter\", \"data\": [0.5448316147788235, 0.5448316147788235, 0.5448316147788235, 0.5448316147788235, 0.5448316147788235, 0.5448316147788235, 0.5448316147788235, 0.5448316147788235, 0.5448316147788235, 0.5448316147788235, 0.5448316147788235, 0.5448316147788235, 0.5448316147788235, 0.5448316147788235, 0.5448316147788235, 0.5448316147788235, 0.5448316147788235, 0.5448316147788235, 0.5448316147788235, 0.5448316147788235, 0.5448316147788235, 0.5522987286770695, 0.5522987286770695, 0.5522987286770695, 0.5522987286770695, 0.5522987286770695, 0.5522987286770695, 0.5522987286770695, 0.5522987286770695, 0.5522987286770695, 0.5522987286770695, 0.5522987286770695, 0.5522987286770695, 0.5522987286770695, 0.5522987286770695]}], \"AUC_macro\": [{\"categories\": [\"0\", \"1\", \"2\", \"3\", \"4\", \"5\", \"6\", \"7\", \"8\", \"9\", \"10\", \"11\", \"12\", \"13\", \"14\", \"15\", \"16\", \"17\", \"18\", \"19\", \"20\", \"21\", \"22\", \"23\", \"24\", \"25\", \"26\", \"27\", \"28\", \"29\", \"30\", \"31\", \"32\", \"34\", \"35\"], \"mode\": \"markers\", \"name\": \"AUC_macro\", \"stepped\": false, \"type\": \"scatter\", \"data\": [0.9049242421007048, 0.8972126439972359, 0.832031980689615, 0.7967453442993453, 0.7655837744251854, 0.7931780308498089, 0.8058690484630187, 0.8165314848616594, 0.802865467056268, 0.788624186325398, 0.8035445079259871, 0.7669318200259829, 0.7707395737331617, 0.8668689126548448, 0.8044725304479363, 0.780731510656671, 0.8155231732305861, 0.7968051340614588, 0.7708659863730591, 0.8408580172519087, 0.8712566270545258, 0.8988340142248386, 0.8977597203205756, 0.8780498117049563, 0.878285981265305, 0.8835543134469737, 0.7870211800961591, 0.8985656008999213, 0.8992734689763737, 0.9020797441681492, 0.8656895595971537, 0.8997325689354604, 0.8894512922702942, 0.9054698236799915, 0.9040233385065712]}, {\"categories\": [\"0\", \"1\", \"2\", \"3\", \"4\", \"5\", \"6\", \"7\", \"8\", \"9\", \"10\", \"11\", \"12\", \"13\", \"14\", \"15\", \"16\", \"17\", \"18\", \"19\", \"20\", \"21\", \"22\", \"23\", \"24\", \"25\", \"26\", \"27\", \"28\", \"29\", \"30\", \"31\", \"32\", \"34\", \"35\"], \"mode\": \"lines\", \"name\": \"AUC_macro_max\", \"stepped\": true, \"type\": \"scatter\", \"data\": [0.9049242421007048, 0.9049242421007048, 0.9049242421007048, 0.9049242421007048, 0.9049242421007048, 0.9049242421007048, 0.9049242421007048, 0.9049242421007048, 0.9049242421007048, 0.9049242421007048, 0.9049242421007048, 0.9049242421007048, 0.9049242421007048, 0.9049242421007048, 0.9049242421007048, 0.9049242421007048, 0.9049242421007048, 0.9049242421007048, 0.9049242421007048, 0.9049242421007048, 0.9049242421007048, 0.9049242421007048, 0.9049242421007048, 0.9049242421007048, 0.9049242421007048, 0.9049242421007048, 0.9049242421007048, 0.9049242421007048, 0.9049242421007048, 0.9049242421007048, 0.9049242421007048, 0.9049242421007048, 0.9049242421007048, 0.9054698236799915, 0.9054698236799915]}], \"recall_score_micro\": [{\"categories\": [\"0\", \"1\", \"2\", \"3\", \"4\", \"5\", \"6\", \"7\", \"8\", \"9\", \"10\", \"11\", \"12\", \"13\", \"14\", \"15\", \"16\", \"17\", \"18\", \"19\", \"20\", \"21\", \"22\", \"23\", \"24\", \"25\", \"26\", \"27\", \"28\", \"29\", \"30\", \"31\", \"32\", \"34\", \"35\"], \"mode\": \"markers\", \"name\": \"recall_score_micro\", \"stepped\": false, \"type\": \"scatter\", \"data\": [0.9417989417989417, 0.9374201787994891, 0.9147965699689837, 0.678890713373472, 0.9147965699689837, 0.9147965699689837, 0.9147965699689837, 0.9147965699689837, 0.9147965699689837, 0.6790731618317826, 0.6783433679985404, 0.6710454296661194, 0.6433132640029192, 0.9244663382594417, 0.9147965699689837, 0.9147965699689837, 0.6703156358328772, 0.6830870279146142, 0.6807151979565773, 0.9224594052180259, 0.9286626528005838, 0.9425287356321839, 0.9423462871738734, 0.9303046889253785, 0.7666484218208356, 0.9323116219667944, 0.9147965699689837, 0.9372377303411786, 0.9403393541324576, 0.9417989417989417, 0.9326765188834154, 0.9421638387155629, 0.933588761174968, 0.9419813902572524, 0.9147965699689837]}, {\"categories\": [\"0\", \"1\", \"2\", \"3\", \"4\", \"5\", \"6\", \"7\", \"8\", \"9\", \"10\", \"11\", \"12\", \"13\", \"14\", \"15\", \"16\", \"17\", \"18\", \"19\", \"20\", \"21\", \"22\", \"23\", \"24\", \"25\", \"26\", \"27\", \"28\", \"29\", \"30\", \"31\", \"32\", \"34\", \"35\"], \"mode\": \"lines\", \"name\": \"recall_score_micro_max\", \"stepped\": true, \"type\": \"scatter\", \"data\": [0.9417989417989417, 0.9417989417989417, 0.9417989417989417, 0.9417989417989417, 0.9417989417989417, 0.9417989417989417, 0.9417989417989417, 0.9417989417989417, 0.9417989417989417, 0.9417989417989417, 0.9417989417989417, 0.9417989417989417, 0.9417989417989417, 0.9417989417989417, 0.9417989417989417, 0.9417989417989417, 0.9417989417989417, 0.9417989417989417, 0.9417989417989417, 0.9417989417989417, 0.9417989417989417, 0.9425287356321839, 0.9425287356321839, 0.9425287356321839, 0.9425287356321839, 0.9425287356321839, 0.9425287356321839, 0.9425287356321839, 0.9425287356321839, 0.9425287356321839, 0.9425287356321839, 0.9425287356321839, 0.9425287356321839, 0.9425287356321839, 0.9425287356321839]}], \"average_precision_score_macro\": [{\"categories\": [\"0\", \"1\", \"2\", \"3\", \"4\", \"5\", \"6\", \"7\", \"8\", \"9\", \"10\", \"11\", \"12\", \"13\", \"14\", \"15\", \"16\", \"17\", \"18\", \"19\", \"20\", \"21\", \"22\", \"23\", \"24\", \"25\", \"26\", \"27\", \"28\", \"29\", \"30\", \"31\", \"32\", \"34\", \"35\"], \"mode\": \"markers\", \"name\": \"average_precision_score_macro\", \"stepped\": false, \"type\": \"scatter\", \"data\": [0.7996648402344646, 0.7858334013727626, 0.6669876877681771, 0.6137433734517871, 0.6031996044293215, 0.6175211891055226, 0.6189456089498292, 0.6359292959228058, 0.6485068545280148, 0.6100375591559135, 0.6211777049163155, 0.5814359959743965, 0.5911624438144617, 0.7353922753060977, 0.6461272572095953, 0.5882015316807035, 0.634514312099818, 0.61469269214885, 0.5929446707338923, 0.6835325130353993, 0.7300470983530382, 0.7927135466102815, 0.7899478153475753, 0.749375740291907, 0.7259448893247883, 0.7619079236062619, 0.6128810214038098, 0.7883670682171678, 0.789622706292618, 0.7957362424394964, 0.7439075210990511, 0.7916903587065665, 0.7710674317117534, 0.7996588135103, 0.7971733820515787]}, {\"categories\": [\"0\", \"1\", \"2\", \"3\", \"4\", \"5\", \"6\", \"7\", \"8\", \"9\", \"10\", \"11\", \"12\", \"13\", \"14\", \"15\", \"16\", \"17\", \"18\", \"19\", \"20\", \"21\", \"22\", \"23\", \"24\", \"25\", \"26\", \"27\", \"28\", \"29\", \"30\", \"31\", \"32\", \"34\", \"35\"], \"mode\": \"lines\", \"name\": \"average_precision_score_macro_max\", \"stepped\": true, \"type\": \"scatter\", \"data\": [0.7996648402344646, 0.7996648402344646, 0.7996648402344646, 0.7996648402344646, 0.7996648402344646, 0.7996648402344646, 0.7996648402344646, 0.7996648402344646, 0.7996648402344646, 0.7996648402344646, 0.7996648402344646, 0.7996648402344646, 0.7996648402344646, 0.7996648402344646, 0.7996648402344646, 0.7996648402344646, 0.7996648402344646, 0.7996648402344646, 0.7996648402344646, 0.7996648402344646, 0.7996648402344646, 0.7996648402344646, 0.7996648402344646, 0.7996648402344646, 0.7996648402344646, 0.7996648402344646, 0.7996648402344646, 0.7996648402344646, 0.7996648402344646, 0.7996648402344646, 0.7996648402344646, 0.7996648402344646, 0.7996648402344646, 0.7996648402344646, 0.7996648402344646]}], \"f1_score_weighted\": [{\"categories\": [\"0\", \"1\", \"2\", \"3\", \"4\", \"5\", \"6\", \"7\", \"8\", \"9\", \"10\", \"11\", \"12\", \"13\", \"14\", \"15\", \"16\", \"17\", \"18\", \"19\", \"20\", \"21\", \"22\", \"23\", \"24\", \"25\", \"26\", \"27\", \"28\", \"29\", \"30\", \"31\", \"32\", \"34\", \"35\"], \"mode\": \"markers\", \"name\": \"f1_score_weighted\", \"stepped\": false, \"type\": \"scatter\", \"data\": [0.9285471550743866, 0.9210888234812723, 0.8740905196425887, 0.7497726776305677, 0.8740905196425887, 0.8740905196425887, 0.8740905196425887, 0.8740905196425887, 0.8740905196425887, 0.7498624799259499, 0.7493530696627722, 0.7436755687643042, 0.7219186441347457, 0.8963994196546998, 0.8740905196425887, 0.8740905196425887, 0.7431046505562678, 0.7529871215182681, 0.7510866043680987, 0.8952732527966736, 0.9064306076236724, 0.9300838540839167, 0.9290221100465309, 0.910223819727005, 0.8155211977648966, 0.914307330867969, 0.8740905196425887, 0.9206228945315402, 0.9283158291244505, 0.928281531233413, 0.9133691974865771, 0.9291258047989714, 0.9142752624649731, 0.9285728828949266, 0.8740905196425887]}, {\"categories\": [\"0\", \"1\", \"2\", \"3\", \"4\", \"5\", \"6\", \"7\", \"8\", \"9\", \"10\", \"11\", \"12\", \"13\", \"14\", \"15\", \"16\", \"17\", \"18\", \"19\", \"20\", \"21\", \"22\", \"23\", \"24\", \"25\", \"26\", \"27\", \"28\", \"29\", \"30\", \"31\", \"32\", \"34\", \"35\"], \"mode\": \"lines\", \"name\": \"f1_score_weighted_max\", \"stepped\": true, \"type\": \"scatter\", \"data\": [0.9285471550743866, 0.9285471550743866, 0.9285471550743866, 0.9285471550743866, 0.9285471550743866, 0.9285471550743866, 0.9285471550743866, 0.9285471550743866, 0.9285471550743866, 0.9285471550743866, 0.9285471550743866, 0.9285471550743866, 0.9285471550743866, 0.9285471550743866, 0.9285471550743866, 0.9285471550743866, 0.9285471550743866, 0.9285471550743866, 0.9285471550743866, 0.9285471550743866, 0.9285471550743866, 0.9300838540839167, 0.9300838540839167, 0.9300838540839167, 0.9300838540839167, 0.9300838540839167, 0.9300838540839167, 0.9300838540839167, 0.9300838540839167, 0.9300838540839167, 0.9300838540839167, 0.9300838540839167, 0.9300838540839167, 0.9300838540839167, 0.9300838540839167]}], \"balanced_accuracy\": [{\"categories\": [\"0\", \"1\", \"2\", \"3\", \"4\", \"5\", \"6\", \"7\", \"8\", \"9\", \"10\", \"11\", \"12\", \"13\", \"14\", \"15\", \"16\", \"17\", \"18\", \"19\", \"20\", \"21\", \"22\", \"23\", \"24\", \"25\", \"26\", \"27\", \"28\", \"29\", \"30\", \"31\", \"32\", \"34\", \"35\"], \"mode\": \"markers\", \"name\": \"balanced_accuracy\", \"stepped\": false, \"type\": \"scatter\", \"data\": [0.6652548453196148, 0.6376170277825941, 0.5, 0.7390484373945672, 0.5, 0.5, 0.5, 0.5, 0.5, 0.72264212667059, 0.7406911611086389, 0.7231091274196704, 0.7011549673761435, 0.5586870680723525, 0.5, 0.5, 0.7479547630659849, 0.7345454141679528, 0.7157720694688705, 0.5585610825021844, 0.5910798799763233, 0.6724503296551241, 0.6655540076650475, 0.6045996263994007, 0.7918688485943854, 0.6192897574158523, 0.5, 0.6355754209412787, 0.6722246233031453, 0.6633129592601102, 0.6126925977712085, 0.6673961729427411, 0.6141621447100154, 0.6643836230716734, 0.5]}, {\"categories\": [\"0\", \"1\", \"2\", \"3\", \"4\", \"5\", \"6\", \"7\", \"8\", \"9\", \"10\", \"11\", \"12\", \"13\", \"14\", \"15\", \"16\", \"17\", \"18\", \"19\", \"20\", \"21\", \"22\", \"23\", \"24\", \"25\", \"26\", \"27\", \"28\", \"29\", \"30\", \"31\", \"32\", \"34\", \"35\"], \"mode\": \"lines\", \"name\": \"balanced_accuracy_max\", \"stepped\": true, \"type\": \"scatter\", \"data\": [0.6652548453196148, 0.6652548453196148, 0.6652548453196148, 0.7390484373945672, 0.7390484373945672, 0.7390484373945672, 0.7390484373945672, 0.7390484373945672, 0.7390484373945672, 0.7390484373945672, 0.7406911611086389, 0.7406911611086389, 0.7406911611086389, 0.7406911611086389, 0.7406911611086389, 0.7406911611086389, 0.7479547630659849, 0.7479547630659849, 0.7479547630659849, 0.7479547630659849, 0.7479547630659849, 0.7479547630659849, 0.7479547630659849, 0.7479547630659849, 0.7918688485943854, 0.7918688485943854, 0.7918688485943854, 0.7918688485943854, 0.7918688485943854, 0.7918688485943854, 0.7918688485943854, 0.7918688485943854, 0.7918688485943854, 0.7918688485943854, 0.7918688485943854]}], \"AUC_weighted\": [{\"categories\": [\"0\", \"1\", \"2\", \"3\", \"4\", \"5\", \"6\", \"7\", \"8\", \"9\", \"10\", \"11\", \"12\", \"13\", \"14\", \"15\", \"16\", \"17\", \"18\", \"19\", \"20\", \"21\", \"22\", \"23\", \"24\", \"25\", \"26\", \"27\", \"28\", \"29\", \"30\", \"31\", \"32\", \"34\", \"35\"], \"mode\": \"markers\", \"name\": \"AUC_weighted\", \"stepped\": false, \"type\": \"scatter\", \"data\": [0.9049242421007049, 0.897212643997236, 0.832031980689615, 0.7967453442993453, 0.7655837744251855, 0.7931780308498088, 0.8058690484630187, 0.8165314848616593, 0.8028654670562682, 0.788624186325398, 0.8035445079259872, 0.766931820025983, 0.7707395737331616, 0.8668689126548448, 0.8044725304479364, 0.7807315106566709, 0.8155231732305862, 0.7968051340614588, 0.770865986373059, 0.8408580172519087, 0.8712566270545258, 0.8988340142248386, 0.8977597203205757, 0.8780498117049563, 0.878285981265305, 0.8835543134469738, 0.7870211800961591, 0.8985656008999212, 0.8992734689763737, 0.9020797441681492, 0.8656895595971538, 0.8997325689354604, 0.8894512922702941, 0.9054698236799915, 0.9040233385065715]}, {\"categories\": [\"0\", \"1\", \"2\", \"3\", \"4\", \"5\", \"6\", \"7\", \"8\", \"9\", \"10\", \"11\", \"12\", \"13\", \"14\", \"15\", \"16\", \"17\", \"18\", \"19\", \"20\", \"21\", \"22\", \"23\", \"24\", \"25\", \"26\", \"27\", \"28\", \"29\", \"30\", \"31\", \"32\", \"34\", \"35\"], \"mode\": \"lines\", \"name\": \"AUC_weighted_max\", \"stepped\": true, \"type\": \"scatter\", \"data\": [0.9049242421007049, 0.9049242421007049, 0.9049242421007049, 0.9049242421007049, 0.9049242421007049, 0.9049242421007049, 0.9049242421007049, 0.9049242421007049, 0.9049242421007049, 0.9049242421007049, 0.9049242421007049, 0.9049242421007049, 0.9049242421007049, 0.9049242421007049, 0.9049242421007049, 0.9049242421007049, 0.9049242421007049, 0.9049242421007049, 0.9049242421007049, 0.9049242421007049, 0.9049242421007049, 0.9049242421007049, 0.9049242421007049, 0.9049242421007049, 0.9049242421007049, 0.9049242421007049, 0.9049242421007049, 0.9049242421007049, 0.9049242421007049, 0.9049242421007049, 0.9049242421007049, 0.9049242421007049, 0.9049242421007049, 0.9054698236799915, 0.9054698236799915]}], \"f1_score_micro\": [{\"categories\": [\"0\", \"1\", \"2\", \"3\", \"4\", \"5\", \"6\", \"7\", \"8\", \"9\", \"10\", \"11\", \"12\", \"13\", \"14\", \"15\", \"16\", \"17\", \"18\", \"19\", \"20\", \"21\", \"22\", \"23\", \"24\", \"25\", \"26\", \"27\", \"28\", \"29\", \"30\", \"31\", \"32\", \"34\", \"35\"], \"mode\": \"markers\", \"name\": \"f1_score_micro\", \"stepped\": false, \"type\": \"scatter\", \"data\": [0.9417989417989417, 0.9374201787994891, 0.9147965699689837, 0.678890713373472, 0.9147965699689837, 0.9147965699689837, 0.9147965699689837, 0.9147965699689837, 0.9147965699689837, 0.6790731618317826, 0.6783433679985404, 0.6710454296661194, 0.6433132640029192, 0.9244663382594417, 0.9147965699689837, 0.9147965699689837, 0.6703156358328772, 0.6830870279146142, 0.6807151979565773, 0.9224594052180259, 0.9286626528005838, 0.9425287356321839, 0.9423462871738734, 0.9303046889253785, 0.7666484218208357, 0.9323116219667944, 0.9147965699689837, 0.9372377303411785, 0.9403393541324576, 0.9417989417989417, 0.9326765188834154, 0.9421638387155629, 0.933588761174968, 0.9419813902572524, 0.9147965699689837]}, {\"categories\": [\"0\", \"1\", \"2\", \"3\", \"4\", \"5\", \"6\", \"7\", \"8\", \"9\", \"10\", \"11\", \"12\", \"13\", \"14\", \"15\", \"16\", \"17\", \"18\", \"19\", \"20\", \"21\", \"22\", \"23\", \"24\", \"25\", \"26\", \"27\", \"28\", \"29\", \"30\", \"31\", \"32\", \"34\", \"35\"], \"mode\": \"lines\", \"name\": \"f1_score_micro_max\", \"stepped\": true, \"type\": \"scatter\", \"data\": [0.9417989417989417, 0.9417989417989417, 0.9417989417989417, 0.9417989417989417, 0.9417989417989417, 0.9417989417989417, 0.9417989417989417, 0.9417989417989417, 0.9417989417989417, 0.9417989417989417, 0.9417989417989417, 0.9417989417989417, 0.9417989417989417, 0.9417989417989417, 0.9417989417989417, 0.9417989417989417, 0.9417989417989417, 0.9417989417989417, 0.9417989417989417, 0.9417989417989417, 0.9417989417989417, 0.9425287356321839, 0.9425287356321839, 0.9425287356321839, 0.9425287356321839, 0.9425287356321839, 0.9425287356321839, 0.9425287356321839, 0.9425287356321839, 0.9425287356321839, 0.9425287356321839, 0.9425287356321839, 0.9425287356321839, 0.9425287356321839, 0.9425287356321839]}], \"precision_score_weighted\": [{\"categories\": [\"0\", \"1\", \"2\", \"3\", \"4\", \"5\", \"6\", \"7\", \"8\", \"9\", \"10\", \"11\", \"12\", \"13\", \"14\", \"15\", \"16\", \"17\", \"18\", \"19\", \"20\", \"21\", \"22\", \"23\", \"24\", \"25\", \"26\", \"27\", \"28\", \"29\", \"30\", \"31\", \"32\", \"34\", \"35\"], \"mode\": \"markers\", \"name\": \"precision_score_weighted\", \"stepped\": false, \"type\": \"scatter\", \"data\": [0.9426585602245185, 0.9389937167320572, 0.8368527644270178, 0.9070711341248258, 0.8368527644270178, 0.8368527644270178, 0.8368527644270178, 0.8368527644270178, 0.8368527644270178, 0.9023748872202622, 0.9075868873404195, 0.9030836712704222, 0.8987821601156317, 0.9275236458555605, 0.8368527644270178, 0.8368527644270178, 0.9103694494938706, 0.9054677100130705, 0.9003262605917989, 0.9134746733992205, 0.9264008742449015, 0.9424916024993544, 0.9442269553207151, 0.9267304961237337, 0.9160404822319621, 0.928338860357368, 0.8368527644270178, 0.9392617641020443, 0.9369431935396008, 0.9433404871627346, 0.9324889390454413, 0.9430273764323046, 0.9356024617695459, 0.9435191950692725, 0.8368527644270178]}, {\"categories\": [\"0\", \"1\", \"2\", \"3\", \"4\", \"5\", \"6\", \"7\", \"8\", \"9\", \"10\", \"11\", \"12\", \"13\", \"14\", \"15\", \"16\", \"17\", \"18\", \"19\", \"20\", \"21\", \"22\", \"23\", \"24\", \"25\", \"26\", \"27\", \"28\", \"29\", \"30\", \"31\", \"32\", \"34\", \"35\"], \"mode\": \"lines\", \"name\": \"precision_score_weighted_max\", \"stepped\": true, \"type\": \"scatter\", \"data\": [0.9426585602245185, 0.9426585602245185, 0.9426585602245185, 0.9426585602245185, 0.9426585602245185, 0.9426585602245185, 0.9426585602245185, 0.9426585602245185, 0.9426585602245185, 0.9426585602245185, 0.9426585602245185, 0.9426585602245185, 0.9426585602245185, 0.9426585602245185, 0.9426585602245185, 0.9426585602245185, 0.9426585602245185, 0.9426585602245185, 0.9426585602245185, 0.9426585602245185, 0.9426585602245185, 0.9426585602245185, 0.9442269553207151, 0.9442269553207151, 0.9442269553207151, 0.9442269553207151, 0.9442269553207151, 0.9442269553207151, 0.9442269553207151, 0.9442269553207151, 0.9442269553207151, 0.9442269553207151, 0.9442269553207151, 0.9442269553207151, 0.9442269553207151]}], \"log_loss\": [{\"categories\": [\"0\", \"1\", \"2\", \"3\", \"4\", \"5\", \"6\", \"7\", \"8\", \"9\", \"10\", \"11\", \"12\", \"13\", \"14\", \"15\", \"16\", \"17\", \"18\", \"19\", \"20\", \"21\", \"22\", \"23\", \"24\", \"25\", \"26\", \"27\", \"28\", \"29\", \"30\", \"31\", \"32\", \"34\", \"35\"], \"mode\": \"markers\", \"name\": \"log_loss\", \"stepped\": false, \"type\": \"scatter\", \"data\": [0.16553463368413412, 0.18048291614757236, 0.24250347662764568, 0.6157057159058033, 0.27077423451900595, 0.24563328698405706, 0.2459349053646389, 0.2579429714861388, 0.26148176180465577, 0.6023591476784771, 0.6027061711198062, 0.6073462956062715, 0.667721046111595, 0.33571178207509905, 0.25708345210786354, 0.24840228785840804, 0.5488423912261561, 0.6338268929931257, 0.6524415104226374, 0.2251844528122292, 0.20336405543856154, 0.16889564540008692, 0.17144823506972243, 0.19960632634566047, 0.45280430522155846, 0.19151869213922482, 0.2603303953162003, 0.17940591738077222, 0.17298623513286862, 0.1690676271987861, 0.2013083889479769, 0.16916387038025185, 0.18795689347324576, 0.19196708913108695, 0.2593518227964334]}, {\"categories\": [\"0\", \"1\", \"2\", \"3\", \"4\", \"5\", \"6\", \"7\", \"8\", \"9\", \"10\", \"11\", \"12\", \"13\", \"14\", \"15\", \"16\", \"17\", \"18\", \"19\", \"20\", \"21\", \"22\", \"23\", \"24\", \"25\", \"26\", \"27\", \"28\", \"29\", \"30\", \"31\", \"32\", \"34\", \"35\"], \"mode\": \"lines\", \"name\": \"log_loss_min\", \"stepped\": true, \"type\": \"scatter\", \"data\": [0.16553463368413412, 0.16553463368413412, 0.16553463368413412, 0.16553463368413412, 0.16553463368413412, 0.16553463368413412, 0.16553463368413412, 0.16553463368413412, 0.16553463368413412, 0.16553463368413412, 0.16553463368413412, 0.16553463368413412, 0.16553463368413412, 0.16553463368413412, 0.16553463368413412, 0.16553463368413412, 0.16553463368413412, 0.16553463368413412, 0.16553463368413412, 0.16553463368413412, 0.16553463368413412, 0.16553463368413412, 0.16553463368413412, 0.16553463368413412, 0.16553463368413412, 0.16553463368413412, 0.16553463368413412, 0.16553463368413412, 0.16553463368413412, 0.16553463368413412, 0.16553463368413412, 0.16553463368413412, 0.16553463368413412, 0.16553463368413412, 0.16553463368413412]}], \"accuracy\": [{\"categories\": [\"0\", \"1\", \"2\", \"3\", \"4\", \"5\", \"6\", \"7\", \"8\", \"9\", \"10\", \"11\", \"12\", \"13\", \"14\", \"15\", \"16\", \"17\", \"18\", \"19\", \"20\", \"21\", \"22\", \"23\", \"24\", \"25\", \"26\", \"27\", \"28\", \"29\", \"30\", \"31\", \"32\", \"34\", \"35\"], \"mode\": \"markers\", \"name\": \"accuracy\", \"stepped\": false, \"type\": \"scatter\", \"data\": [0.9417989417989417, 0.9374201787994891, 0.9147965699689837, 0.678890713373472, 0.9147965699689837, 0.9147965699689837, 0.9147965699689837, 0.9147965699689837, 0.9147965699689837, 0.6790731618317826, 0.6783433679985404, 0.6710454296661194, 0.6433132640029192, 0.9244663382594417, 0.9147965699689837, 0.9147965699689837, 0.6703156358328772, 0.6830870279146142, 0.6807151979565773, 0.9224594052180259, 0.9286626528005838, 0.9425287356321839, 0.9423462871738734, 0.9303046889253785, 0.7666484218208356, 0.9323116219667944, 0.9147965699689837, 0.9372377303411786, 0.9403393541324576, 0.9417989417989417, 0.9326765188834154, 0.9421638387155629, 0.933588761174968, 0.9419813902572524, 0.9147965699689837]}, {\"categories\": [\"0\", \"1\", \"2\", \"3\", \"4\", \"5\", \"6\", \"7\", \"8\", \"9\", \"10\", \"11\", \"12\", \"13\", \"14\", \"15\", \"16\", \"17\", \"18\", \"19\", \"20\", \"21\", \"22\", \"23\", \"24\", \"25\", \"26\", \"27\", \"28\", \"29\", \"30\", \"31\", \"32\", \"34\", \"35\"], \"mode\": \"lines\", \"name\": \"accuracy_max\", \"stepped\": true, \"type\": \"scatter\", \"data\": [0.9417989417989417, 0.9417989417989417, 0.9417989417989417, 0.9417989417989417, 0.9417989417989417, 0.9417989417989417, 0.9417989417989417, 0.9417989417989417, 0.9417989417989417, 0.9417989417989417, 0.9417989417989417, 0.9417989417989417, 0.9417989417989417, 0.9417989417989417, 0.9417989417989417, 0.9417989417989417, 0.9417989417989417, 0.9417989417989417, 0.9417989417989417, 0.9417989417989417, 0.9417989417989417, 0.9425287356321839, 0.9425287356321839, 0.9425287356321839, 0.9425287356321839, 0.9425287356321839, 0.9425287356321839, 0.9425287356321839, 0.9425287356321839, 0.9425287356321839, 0.9425287356321839, 0.9425287356321839, 0.9425287356321839, 0.9425287356321839, 0.9425287356321839]}], \"recall_score_weighted\": [{\"categories\": [\"0\", \"1\", \"2\", \"3\", \"4\", \"5\", \"6\", \"7\", \"8\", \"9\", \"10\", \"11\", \"12\", \"13\", \"14\", \"15\", \"16\", \"17\", \"18\", \"19\", \"20\", \"21\", \"22\", \"23\", \"24\", \"25\", \"26\", \"27\", \"28\", \"29\", \"30\", \"31\", \"32\", \"34\", \"35\"], \"mode\": \"markers\", \"name\": \"recall_score_weighted\", \"stepped\": false, \"type\": \"scatter\", \"data\": [0.9417989417989417, 0.9374201787994891, 0.9147965699689837, 0.678890713373472, 0.9147965699689837, 0.9147965699689837, 0.9147965699689837, 0.9147965699689837, 0.9147965699689837, 0.6790731618317826, 0.6783433679985404, 0.6710454296661192, 0.6433132640029192, 0.9244663382594417, 0.9147965699689837, 0.9147965699689837, 0.6703156358328772, 0.6830870279146142, 0.6807151979565773, 0.9224594052180259, 0.9286626528005838, 0.9425287356321839, 0.9423462871738734, 0.9303046889253785, 0.7666484218208356, 0.9323116219667944, 0.9147965699689837, 0.9372377303411786, 0.9403393541324576, 0.9417989417989417, 0.9326765188834154, 0.9421638387155629, 0.933588761174968, 0.9419813902572524, 0.9147965699689837]}, {\"categories\": [\"0\", \"1\", \"2\", \"3\", \"4\", \"5\", \"6\", \"7\", \"8\", \"9\", \"10\", \"11\", \"12\", \"13\", \"14\", \"15\", \"16\", \"17\", \"18\", \"19\", \"20\", \"21\", \"22\", \"23\", \"24\", \"25\", \"26\", \"27\", \"28\", \"29\", \"30\", \"31\", \"32\", \"34\", \"35\"], \"mode\": \"lines\", \"name\": \"recall_score_weighted_max\", \"stepped\": true, \"type\": \"scatter\", \"data\": [0.9417989417989417, 0.9417989417989417, 0.9417989417989417, 0.9417989417989417, 0.9417989417989417, 0.9417989417989417, 0.9417989417989417, 0.9417989417989417, 0.9417989417989417, 0.9417989417989417, 0.9417989417989417, 0.9417989417989417, 0.9417989417989417, 0.9417989417989417, 0.9417989417989417, 0.9417989417989417, 0.9417989417989417, 0.9417989417989417, 0.9417989417989417, 0.9417989417989417, 0.9417989417989417, 0.9425287356321839, 0.9425287356321839, 0.9425287356321839, 0.9425287356321839, 0.9425287356321839, 0.9425287356321839, 0.9425287356321839, 0.9425287356321839, 0.9425287356321839, 0.9425287356321839, 0.9425287356321839, 0.9425287356321839, 0.9425287356321839, 0.9425287356321839]}], \"precision_score_macro\": [{\"categories\": [\"0\", \"1\", \"2\", \"3\", \"4\", \"5\", \"6\", \"7\", \"8\", \"9\", \"10\", \"11\", \"12\", \"13\", \"14\", \"15\", \"16\", \"17\", \"18\", \"19\", \"20\", \"21\", \"22\", \"23\", \"24\", \"25\", \"26\", \"27\", \"28\", \"29\", \"30\", \"31\", \"32\", \"34\", \"35\"], \"mode\": \"markers\", \"name\": \"precision_score_macro\", \"stepped\": false, \"type\": \"scatter\", \"data\": [0.9490662405214012, 0.9497367752596657, 0.45739828498449187, 0.5795659658305058, 0.45739828498449187, 0.45739828498449187, 0.45739828498449187, 0.45739828498449187, 0.45739828498449187, 0.5746302308802309, 0.5800035176208959, 0.5739888850649433, 0.5651758790632182, 0.9444767893184288, 0.45739828498449187, 0.45739828498449187, 0.5813987771862947, 0.5786529196117515, 0.5727109384781661, 0.8620218074293107, 0.9125406220984216, 0.942205425626514, 0.9581090950344955, 0.9037758991335083, 0.6108806894694317, 0.9015374552563863, 0.45739828498449187, 0.9529571234929015, 0.9094657162874288, 0.9546825693134879, 0.9312808292391124, 0.9495067592673294, 0.9484624289093563, 0.9548704913034538, 0.45739828498449187]}, {\"categories\": [\"0\", \"1\", \"2\", \"3\", \"4\", \"5\", \"6\", \"7\", \"8\", \"9\", \"10\", \"11\", \"12\", \"13\", \"14\", \"15\", \"16\", \"17\", \"18\", \"19\", \"20\", \"21\", \"22\", \"23\", \"24\", \"25\", \"26\", \"27\", \"28\", \"29\", \"30\", \"31\", \"32\", \"34\", \"35\"], \"mode\": \"lines\", \"name\": \"precision_score_macro_max\", \"stepped\": true, \"type\": \"scatter\", \"data\": [0.9490662405214012, 0.9497367752596657, 0.9497367752596657, 0.9497367752596657, 0.9497367752596657, 0.9497367752596657, 0.9497367752596657, 0.9497367752596657, 0.9497367752596657, 0.9497367752596657, 0.9497367752596657, 0.9497367752596657, 0.9497367752596657, 0.9497367752596657, 0.9497367752596657, 0.9497367752596657, 0.9497367752596657, 0.9497367752596657, 0.9497367752596657, 0.9497367752596657, 0.9497367752596657, 0.9497367752596657, 0.9581090950344955, 0.9581090950344955, 0.9581090950344955, 0.9581090950344955, 0.9581090950344955, 0.9581090950344955, 0.9581090950344955, 0.9581090950344955, 0.9581090950344955, 0.9581090950344955, 0.9581090950344955, 0.9581090950344955, 0.9581090950344955]}], \"f1_score_macro\": [{\"categories\": [\"0\", \"1\", \"2\", \"3\", \"4\", \"5\", \"6\", \"7\", \"8\", \"9\", \"10\", \"11\", \"12\", \"13\", \"14\", \"15\", \"16\", \"17\", \"18\", \"19\", \"20\", \"21\", \"22\", \"23\", \"24\", \"25\", \"26\", \"27\", \"28\", \"29\", \"30\", \"31\", \"32\", \"34\", \"35\"], \"mode\": \"markers\", \"name\": \"f1_score_macro\", \"stepped\": false, \"type\": \"scatter\", \"data\": [0.7309869116758523, 0.6980898065685652, 0.47775131014768935, 0.5463002713950791, 0.47775131014768935, 0.47775131014768935, 0.47775131014768935, 0.47775131014768935, 0.47775131014768935, 0.5420645268115675, 0.5464108236116962, 0.537656078758411, 0.5166236048128529, 0.5851304467382099, 0.47775131014768935, 0.47775131014768935, 0.5436039573993919, 0.5475341637834168, 0.5411267717216499, 0.5838993609581609, 0.6339532237438461, 0.7382639340840158, 0.7323174561568364, 0.6522924292043922, 0.615858563247695, 0.671382964024173, 0.47775131014768935, 0.6957786730243227, 0.7337572233899013, 0.729369991293412, 0.6646712077091721, 0.7334692364202887, 0.6675941427055732, 0.7306232628413732, 0.47775131014768935]}, {\"categories\": [\"0\", \"1\", \"2\", \"3\", \"4\", \"5\", \"6\", \"7\", \"8\", \"9\", \"10\", \"11\", \"12\", \"13\", \"14\", \"15\", \"16\", \"17\", \"18\", \"19\", \"20\", \"21\", \"22\", \"23\", \"24\", \"25\", \"26\", \"27\", \"28\", \"29\", \"30\", \"31\", \"32\", \"34\", \"35\"], \"mode\": \"lines\", \"name\": \"f1_score_macro_max\", \"stepped\": true, \"type\": \"scatter\", \"data\": [0.7309869116758523, 0.7309869116758523, 0.7309869116758523, 0.7309869116758523, 0.7309869116758523, 0.7309869116758523, 0.7309869116758523, 0.7309869116758523, 0.7309869116758523, 0.7309869116758523, 0.7309869116758523, 0.7309869116758523, 0.7309869116758523, 0.7309869116758523, 0.7309869116758523, 0.7309869116758523, 0.7309869116758523, 0.7309869116758523, 0.7309869116758523, 0.7309869116758523, 0.7309869116758523, 0.7382639340840158, 0.7382639340840158, 0.7382639340840158, 0.7382639340840158, 0.7382639340840158, 0.7382639340840158, 0.7382639340840158, 0.7382639340840158, 0.7382639340840158, 0.7382639340840158, 0.7382639340840158, 0.7382639340840158, 0.7382639340840158, 0.7382639340840158]}], \"recall_score_macro\": [{\"categories\": [\"0\", \"1\", \"2\", \"3\", \"4\", \"5\", \"6\", \"7\", \"8\", \"9\", \"10\", \"11\", \"12\", \"13\", \"14\", \"15\", \"16\", \"17\", \"18\", \"19\", \"20\", \"21\", \"22\", \"23\", \"24\", \"25\", \"26\", \"27\", \"28\", \"29\", \"30\", \"31\", \"32\", \"34\", \"35\"], \"mode\": \"markers\", \"name\": \"recall_score_macro\", \"stepped\": false, \"type\": \"scatter\", \"data\": [0.6652548453196148, 0.6376170277825941, 0.5, 0.7390484373945672, 0.5, 0.5, 0.5, 0.5, 0.5, 0.72264212667059, 0.7406911611086389, 0.7231091274196704, 0.7011549673761435, 0.5586870680723525, 0.5, 0.5, 0.7479547630659849, 0.7345454141679528, 0.7157720694688705, 0.5585610825021844, 0.5910798799763233, 0.6724503296551241, 0.6655540076650475, 0.6045996263994007, 0.7918688485943854, 0.6192897574158523, 0.5, 0.6355754209412787, 0.6722246233031453, 0.6633129592601102, 0.6126925977712085, 0.6673961729427411, 0.6141621447100154, 0.6643836230716734, 0.5]}, {\"categories\": [\"0\", \"1\", \"2\", \"3\", \"4\", \"5\", \"6\", \"7\", \"8\", \"9\", \"10\", \"11\", \"12\", \"13\", \"14\", \"15\", \"16\", \"17\", \"18\", \"19\", \"20\", \"21\", \"22\", \"23\", \"24\", \"25\", \"26\", \"27\", \"28\", \"29\", \"30\", \"31\", \"32\", \"34\", \"35\"], \"mode\": \"lines\", \"name\": \"recall_score_macro_max\", \"stepped\": true, \"type\": \"scatter\", \"data\": [0.6652548453196148, 0.6652548453196148, 0.6652548453196148, 0.7390484373945672, 0.7390484373945672, 0.7390484373945672, 0.7390484373945672, 0.7390484373945672, 0.7390484373945672, 0.7390484373945672, 0.7406911611086389, 0.7406911611086389, 0.7406911611086389, 0.7406911611086389, 0.7406911611086389, 0.7406911611086389, 0.7479547630659849, 0.7479547630659849, 0.7479547630659849, 0.7479547630659849, 0.7479547630659849, 0.7479547630659849, 0.7479547630659849, 0.7479547630659849, 0.7918688485943854, 0.7918688485943854, 0.7918688485943854, 0.7918688485943854, 0.7918688485943854, 0.7918688485943854, 0.7918688485943854, 0.7918688485943854, 0.7918688485943854, 0.7918688485943854, 0.7918688485943854]}]}, \"metricName\": null, \"primaryMetricName\": \"AUC_weighted\", \"showLegend\": false}, \"run_metrics\": [{\"name\": \"experiment_status\", \"run_id\": \"AutoML_5af789a9-4d2b-4ffe-9175-43d8c6294b72\", \"categories\": [0, 1, 2, 3, 4, 5, 6, 7, 8, 9, 10, 11, 12, 13], \"series\": [{\"data\": [\"DatasetEvaluation\", \"FeaturesGeneration\", \"DatasetFeaturization\", \"DatasetFeaturizationCompleted\", \"DatasetBalancing\", \"ModelSelection\", \"BestRunExplainModel\", \"ModelExplanationDataSetSetup\", \"PickSurrogateModel\", \"EngineeredFeatureExplanations\", \"EngineeredFeatureExplanations\", \"RawFeaturesExplanations\", \"RawFeaturesExplanations\", \"BestRunExplainModel\"]}]}, {\"name\": \"experiment_status_description\", \"run_id\": \"AutoML_5af789a9-4d2b-4ffe-9175-43d8c6294b72\", \"categories\": [0, 1, 2, 3, 4, 5, 6, 7, 8, 9, 10, 11, 12, 13], \"series\": [{\"data\": [\"Gathering dataset statistics.\", \"Generating features for the dataset.\", \"Beginning to fit featurizers and featurize the dataset.\", \"Completed fit featurizers and featurizing the dataset.\", \"Performing class balancing sweeping\", \"Beginning model selection.\", \"Best run model explanations started\", \"Model explanations data setup completed\", \"Choosing LightGBM as the surrogate model for explanations\", \"Computation of engineered features started\", \"Computation of engineered features completed\", \"Computation of raw features started\", \"Computation of raw features completed\", \"Best run model explanations completed\"]}]}, {\"name\": \"f1_score_micro\", \"run_id\": \"AutoML_5af789a9-4d2b-4ffe-9175-43d8c6294b72\", \"categories\": [0], \"series\": [{\"data\": [0.9419813902572524]}]}, {\"name\": \"average_precision_score_macro\", \"run_id\": \"AutoML_5af789a9-4d2b-4ffe-9175-43d8c6294b72\", \"categories\": [0], \"series\": [{\"data\": [0.7996588135103]}]}, {\"name\": \"f1_score_weighted\", \"run_id\": \"AutoML_5af789a9-4d2b-4ffe-9175-43d8c6294b72\", \"categories\": [0], \"series\": [{\"data\": [0.9285728828949266]}]}, {\"name\": \"weighted_accuracy\", \"run_id\": \"AutoML_5af789a9-4d2b-4ffe-9175-43d8c6294b72\", \"categories\": [0], \"series\": [{\"data\": [0.9932471379669406]}]}, {\"name\": \"precision_score_macro\", \"run_id\": \"AutoML_5af789a9-4d2b-4ffe-9175-43d8c6294b72\", \"categories\": [0], \"series\": [{\"data\": [0.9548704913034538]}]}, {\"name\": \"f1_score_macro\", \"run_id\": \"AutoML_5af789a9-4d2b-4ffe-9175-43d8c6294b72\", \"categories\": [0], \"series\": [{\"data\": [0.7306232628413732]}]}, {\"name\": \"AUC_weighted\", \"run_id\": \"AutoML_5af789a9-4d2b-4ffe-9175-43d8c6294b72\", \"categories\": [0], \"series\": [{\"data\": [0.9054698236799915]}]}, {\"name\": \"AUC_micro\", \"run_id\": \"AutoML_5af789a9-4d2b-4ffe-9175-43d8c6294b72\", \"categories\": [0], \"series\": [{\"data\": [0.9798254147007521]}]}, {\"name\": \"log_loss\", \"run_id\": \"AutoML_5af789a9-4d2b-4ffe-9175-43d8c6294b72\", \"categories\": [0], \"series\": [{\"data\": [0.19196708913108695]}]}, {\"name\": \"recall_score_micro\", \"run_id\": \"AutoML_5af789a9-4d2b-4ffe-9175-43d8c6294b72\", \"categories\": [0], \"series\": [{\"data\": [0.9419813902572524]}]}, {\"name\": \"balanced_accuracy\", \"run_id\": \"AutoML_5af789a9-4d2b-4ffe-9175-43d8c6294b72\", \"categories\": [0], \"series\": [{\"data\": [0.6643836230716734]}]}, {\"name\": \"recall_score_macro\", \"run_id\": \"AutoML_5af789a9-4d2b-4ffe-9175-43d8c6294b72\", \"categories\": [0], \"series\": [{\"data\": [0.6643836230716734]}]}, {\"name\": \"AUC_macro\", \"run_id\": \"AutoML_5af789a9-4d2b-4ffe-9175-43d8c6294b72\", \"categories\": [0], \"series\": [{\"data\": [0.9054698236799915]}]}, {\"name\": \"recall_score_weighted\", \"run_id\": \"AutoML_5af789a9-4d2b-4ffe-9175-43d8c6294b72\", \"categories\": [0], \"series\": [{\"data\": [0.9419813902572524]}]}, {\"name\": \"average_precision_score_weighted\", \"run_id\": \"AutoML_5af789a9-4d2b-4ffe-9175-43d8c6294b72\", \"categories\": [0], \"series\": [{\"data\": [0.9578283420192721]}]}, {\"name\": \"precision_score_weighted\", \"run_id\": \"AutoML_5af789a9-4d2b-4ffe-9175-43d8c6294b72\", \"categories\": [0], \"series\": [{\"data\": [0.9435191950692725]}]}, {\"name\": \"matthews_correlation\", \"run_id\": \"AutoML_5af789a9-4d2b-4ffe-9175-43d8c6294b72\", \"categories\": [0], \"series\": [{\"data\": [0.5468939911494872]}]}, {\"name\": \"accuracy\", \"run_id\": \"AutoML_5af789a9-4d2b-4ffe-9175-43d8c6294b72\", \"categories\": [0], \"series\": [{\"data\": [0.9419813902572524]}]}, {\"name\": \"precision_score_micro\", \"run_id\": \"AutoML_5af789a9-4d2b-4ffe-9175-43d8c6294b72\", \"categories\": [0], \"series\": [{\"data\": [0.9419813902572524]}]}, {\"name\": \"average_precision_score_micro\", \"run_id\": \"AutoML_5af789a9-4d2b-4ffe-9175-43d8c6294b72\", \"categories\": [0], \"series\": [{\"data\": [0.9805269239437198]}]}, {\"name\": \"norm_macro_recall\", \"run_id\": \"AutoML_5af789a9-4d2b-4ffe-9175-43d8c6294b72\", \"categories\": [0], \"series\": [{\"data\": [0.32876724614334685]}]}], \"run_logs\": \"\\nRun is completed.\", \"graph\": {}, \"widget_settings\": {\"childWidgetDisplay\": \"popup\", \"send_telemetry\": false, \"log_level\": \"INFO\", \"sdk_version\": \"1.26.0\"}, \"loading\": false}"
          },
          "metadata": {}
        }
      ],
      "execution_count": 23,
      "metadata": {
        "gather": {
          "logged": 1619357671588
        },
        "jupyter": {
          "outputs_hidden": false,
          "source_hidden": false
        },
        "nteract": {
          "transient": {
            "deleting": false
          }
        }
      }
    },
    {
      "cell_type": "markdown",
      "source": [
        "## Best Model\n",
        "\n",
        "In this section we get the best run, then register the best model in case we want to deploy it. Additionally we download it to our local share\n"
      ],
      "metadata": {}
    },
    {
      "cell_type": "code",
      "source": [
        "best_run = remote_run.get_best_child()\r\n",
        "best_run"
      ],
      "outputs": [
        {
          "output_type": "execute_result",
          "execution_count": 26,
          "data": {
            "text/plain": "Run(Experiment: hr-automl,\nId: AutoML_5af789a9-4d2b-4ffe-9175-43d8c6294b72_34,\nType: azureml.scriptrun,\nStatus: Completed)",
            "text/html": "<table style=\"width:100%\"><tr><th>Experiment</th><th>Id</th><th>Type</th><th>Status</th><th>Details Page</th><th>Docs Page</th></tr><tr><td>hr-automl</td><td>AutoML_5af789a9-4d2b-4ffe-9175-43d8c6294b72_34</td><td>azureml.scriptrun</td><td>Completed</td><td><a href=\"https://ml.azure.com/runs/AutoML_5af789a9-4d2b-4ffe-9175-43d8c6294b72_34?wsid=/subscriptions/f9d5a085-54dc-4215-9ba6-dad5d86e60a0/resourcegroups/aml-quickstarts-143540/workspaces/quick-starts-ws-143540&amp;tid=660b3398-b80e-49d2-bc5b-ac1dc93b5254\" target=\"_blank\" rel=\"noopener\">Link to Azure Machine Learning studio</a></td><td><a href=\"https://docs.microsoft.com/en-us/python/api/azureml-core/azureml.core.run.Run?view=azure-ml-py\" target=\"_blank\" rel=\"noopener\">Link to Documentation</a></td></tr></table>"
          },
          "metadata": {}
        }
      ],
      "execution_count": 26,
      "metadata": {
        "gather": {
          "logged": 1619361314270
        },
        "jupyter": {
          "outputs_hidden": false,
          "source_hidden": false
        },
        "nteract": {
          "transient": {
            "deleting": false
          }
        }
      }
    },
    {
      "cell_type": "code",
      "source": [
        "best_run.get_metrics()['AUC_weighted']"
      ],
      "outputs": [
        {
          "output_type": "execute_result",
          "execution_count": 42,
          "data": {
            "text/plain": "0.9054698236799915"
          },
          "metadata": {}
        }
      ],
      "execution_count": 42,
      "metadata": {
        "collapsed": true,
        "jupyter": {
          "source_hidden": false,
          "outputs_hidden": false
        },
        "nteract": {
          "transient": {
            "deleting": false
          }
        },
        "gather": {
          "logged": 1619366405691
        }
      }
    },
    {
      "cell_type": "code",
      "source": [
        "best_run.download_file('outputs/model.pkl', output_file_path='./hr-auto-ml-model.pkl')"
      ],
      "outputs": [],
      "execution_count": 32,
      "metadata": {
        "gather": {
          "logged": 1619362206429
        },
        "jupyter": {
          "outputs_hidden": false,
          "source_hidden": false
        },
        "nteract": {
          "transient": {
            "deleting": false
          }
        }
      }
    },
    {
      "cell_type": "markdown",
      "source": [
        "## Model Deployment\n",
        "\n",
        "The  best model od autoML had better performance, therefore we proceed to deploy it"
      ],
      "metadata": {}
    },
    {
      "cell_type": "code",
      "source": [
        "# register model\r\n",
        "model = best_run.register_model('hr-auto-ml-model', \r\n",
        "                        description='best model found by automl for HR data', \r\n",
        "                        model_path='outputs/model.pkl')"
      ],
      "outputs": [
        {
          "output_type": "execute_result",
          "execution_count": 43,
          "data": {
            "text/plain": "Model(workspace=Workspace.create(name='quick-starts-ws-143540', subscription_id='f9d5a085-54dc-4215-9ba6-dad5d86e60a0', resource_group='aml-quickstarts-143540'), name=hr-auto-ml-model, id=hr-auto-ml-model:2, version=2, tags={}, properties={})"
          },
          "metadata": {}
        }
      ],
      "execution_count": 43,
      "metadata": {
        "gather": {
          "logged": 1619367187711
        },
        "jupyter": {
          "outputs_hidden": false,
          "source_hidden": false
        },
        "nteract": {
          "transient": {
            "deleting": false
          }
        }
      }
    },
    {
      "cell_type": "code",
      "source": [
        "env = Environment(name='project_environment')"
      ],
      "outputs": [],
      "execution_count": null,
      "metadata": {
        "collapsed": true,
        "jupyter": {
          "source_hidden": false,
          "outputs_hidden": false
        },
        "nteract": {
          "transient": {
            "deleting": false
          }
        }
      }
    },
    {
      "cell_type": "markdown",
      "source": [
        "TODO: In the cell below, send a request to the web service you deployed to test it."
      ],
      "metadata": {
        "collapsed": true,
        "gather": {
          "logged": 1598431657736
        },
        "jupyter": {
          "outputs_hidden": false,
          "source_hidden": false
        },
        "nteract": {
          "transient": {
            "deleting": false
          }
        }
      }
    },
    {
      "cell_type": "code",
      "source": [],
      "outputs": [],
      "execution_count": null,
      "metadata": {
        "gather": {
          "logged": 1598432707604
        },
        "jupyter": {
          "outputs_hidden": false,
          "source_hidden": false
        },
        "nteract": {
          "transient": {
            "deleting": false
          }
        }
      }
    },
    {
      "cell_type": "markdown",
      "source": [
        "TODO: In the cell below, print the logs of the web service and delete the service"
      ],
      "metadata": {
        "collapsed": true,
        "gather": {
          "logged": 1598432765711
        },
        "jupyter": {
          "outputs_hidden": false,
          "source_hidden": false
        },
        "nteract": {
          "transient": {
            "deleting": false
          }
        }
      }
    },
    {
      "cell_type": "code",
      "source": [],
      "outputs": [],
      "execution_count": null,
      "metadata": {
        "jupyter": {
          "outputs_hidden": false,
          "source_hidden": false
        },
        "nteract": {
          "transient": {
            "deleting": false
          }
        }
      }
    }
  ],
  "metadata": {
    "kernel_info": {
      "name": "python3"
    },
    "kernelspec": {
      "name": "python3",
      "language": "python",
      "display_name": "Python 3"
    },
    "language_info": {
      "name": "python",
      "version": "3.6.9",
      "mimetype": "text/x-python",
      "codemirror_mode": {
        "name": "ipython",
        "version": 3
      },
      "pygments_lexer": "ipython3",
      "nbconvert_exporter": "python",
      "file_extension": ".py"
    },
    "nteract": {
      "version": "nteract-front-end@1.0.0"
    },
    "microsoft": {
      "host": {
        "AzureML": {
          "notebookHasBeenCompleted": true
        }
      }
    }
  },
  "nbformat": 4,
  "nbformat_minor": 2
}